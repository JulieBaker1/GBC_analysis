{
 "cells": [
  {
   "cell_type": "code",
   "execution_count": 3,
   "id": "de7dcdf0-0a80-4df5-b1ec-719aa3d55535",
   "metadata": {
    "tags": []
   },
   "outputs": [],
   "source": [
    "getDefaultColors <- function (n = NULL, type = 1) \n",
    "{\n",
    "  if (type == 1) {\n",
    "    colors <- c(\"#cb7c77\", \"#68d359\", \"#6a7dc9\", \"#c9d73d\", \n",
    "      \"#c555cb\", \"#d7652d\", \"#7cd5c8\", \"#c49a3f\", \"#507d41\", \n",
    "      \"#5d8d9c\", \"#90353b\", \"#674c2a\", \"#1B9E77\", \"#c5383c\", \n",
    "      \"#0081d1\", \"#ffd900\", \"#502e71\", \"#c8b693\", \"#aed688\", \n",
    "      \"#f6a97a\", \"#c6a5cc\", \"#798234\", \"#6b42c8\", \"#cf4c8b\", \n",
    "      \"#666666\", \"#feb308\", \"#ff1a1a\", \"#1aff1a\", \"#1a1aff\", \n",
    "      \"#ffff1a\")\n",
    "  }\n",
    "  else if (type == 2) {\n",
    "    if (n <= 8) {\n",
    "      colors <- c(\"#66C2A5\", \"#FC8D62\", \"#8DA0CB\", \"#E78AC3\", \n",
    "        \"#A6D854\", \"#FFD92F\", \"#E5C494\", \"#B3B3B3\")\n",
    "    }\n",
    "    else if (n <= 14) {\n",
    "      colors <- c(\"#437BFE\", \"#FEC643\", \"#43FE69\", \"#FE6943\", \n",
    "        \"#C643FE\", \"#43D9FE\", \"#B87A3D\", \"#679966\", \n",
    "        \"#993333\", \"#7F6699\", \"#E78AC3\", \"#333399\", \n",
    "        \"#A6D854\", \"#E5C494\")\n",
    "    }\n",
    "    else if (n <= 20) {\n",
    "      colors <- c(\"#87b3d4\", \"#d5492f\", \"#6bd155\", \"#683ec2\", \n",
    "        \"#c9d754\", \"#d04dc7\", \"#81d8ae\", \"#d34a76\", \n",
    "        \"#607d3a\", \"#6d76cb\", \"#ce9d3f\", \"#81357a\", \n",
    "        \"#d3c3a4\", \"#3c2f5a\", \"#b96f49\", \"#4e857e\", \n",
    "        \"#6e282c\", \"#d293c8\", \"#393a2a\", \"#997579\")\n",
    "    }\n",
    "    else if (n <= 30) {\n",
    "      colors <- c(\"#628bac\", \"#ceda3f\", \"#7e39c9\", \"#72d852\", \n",
    "        \"#d849cc\", \"#5e8f37\", \"#5956c8\", \"#cfa53f\", \n",
    "        \"#392766\", \"#c7da8b\", \"#8d378c\", \"#68d9a3\", \n",
    "        \"#dd3e34\", \"#8ed4d5\", \"#d84787\", \"#498770\", \n",
    "        \"#c581d3\", \"#d27333\", \"#6680cb\", \"#83662e\", \n",
    "        \"#cab7da\", \"#364627\", \"#d16263\", \"#2d384d\", \n",
    "        \"#e0b495\", \"#4b272a\", \"#919071\", \"#7b3860\", \n",
    "        \"#843028\", \"#bb7d91\")\n",
    "    }\n",
    "    else {\n",
    "      colors <- c(\"#982f29\", \"#5ddb53\", \"#8b35d6\", \"#a9e047\", \n",
    "        \"#4836be\", \"#e0dc33\", \"#d248d5\", \"#61a338\", \n",
    "        \"#9765e5\", \"#69df96\", \"#7f3095\", \"#d0d56a\", \n",
    "        \"#371c6b\", \"#cfa738\", \"#5066d1\", \"#e08930\", \n",
    "        \"#6a8bd3\", \"#da4f1e\", \"#83e6d6\", \"#df4341\", \n",
    "        \"#6ebad4\", \"#e34c75\", \"#50975f\", \"#d548a4\", \n",
    "        \"#badb97\", \"#b377cf\", \"#899140\", \"#564d8b\", \n",
    "        \"#ddb67f\", \"#292344\", \"#d0cdb8\", \"#421b28\", \n",
    "        \"#5eae99\", \"#a03259\", \"#406024\", \"#e598d7\", \n",
    "        \"#343b20\", \"#bbb5d9\", \"#975223\", \"#576e8b\", \n",
    "        \"#d97f5e\", \"#253e44\", \"#de959b\", \"#417265\", \n",
    "        \"#712b5b\", \"#8c6d30\", \"#a56c95\", \"#5f3121\", \n",
    "        \"#8f846e\", \"#8f5b5c\")\n",
    "    }\n",
    "  }\n",
    "  else if (type == 3) {\n",
    "    colors <- c(\"#c14089\", \"#6f5553\", \"#E5C494\", \"#738f4c\", \n",
    "      \"#bb6240\", \"#66C2A5\", \"#2dfd29\", \"#0c0fdc\")\n",
    "  }\n",
    "  if (!is.null(n)) {\n",
    "    if (n <= length(colors)) {\n",
    "      colors <- colors[1:n]\n",
    "    }\n",
    "    else {\n",
    "      step <- 16777200%/%(n - length(colors)) - 2\n",
    "      add.colors <- paste0(\"#\", as.hexmode(seq(from = sample(1:step, \n",
    "        1), by = step, length.out = (n - length(colors)))))\n",
    "      colors <- c(colors, add.colors)\n",
    "    }\n",
    "  }\n",
    "  return(colors)\n",
    "}\n"
   ]
  },
  {
   "cell_type": "code",
   "execution_count": 4,
   "id": "4e70c6a6-389a-486a-b3e2-bbd870eaaa57",
   "metadata": {},
   "outputs": [],
   "source": [
    "seurat_pipline <- function(obj,PCS = 10,resolution = 0.5,k.param = 20){\n",
    "  require(dplyr)\n",
    "  obj = NormalizeData(obj, normalization.method = \"LogNormalize\", scale.factor = 10000,verbose = FALSE)\n",
    "  obj = FindVariableFeatures(obj,verbose = FALSE) \n",
    "  obj = ScaleData(obj,features = VariableFeatures(obj),verbose = FALSE,vars.to.regress = c(\"nCount_RNA\", \"nFeature_RNA\"))\n",
    "  obj = RunPCA(obj,features = VariableFeatures(obj),verbose = FALSE) %>%\n",
    "    FindNeighbors(dims = 1:PCS,verbose = FALSE,k.param = k.param) %>% RunUMAP(dims = 1:PCS,verbose = FALSE) %>% FindClusters(resolution = resolution,verbose = FALSE)\n",
    "}"
   ]
  },
  {
   "cell_type": "code",
   "execution_count": 5,
   "id": "d580924c-8a16-432f-8454-4c1518b3b144",
   "metadata": {
    "tags": []
   },
   "outputs": [
    {
     "name": "stderr",
     "output_type": "stream",
     "text": [
      "Warning message:\n",
      "“package ‘reshape2’ was built under R version 4.0.5”\n",
      "Warning message:\n",
      "“package ‘RColorBrewer’ was built under R version 4.0.5”\n",
      "\n",
      "Attaching package: ‘data.table’\n",
      "\n",
      "\n",
      "The following objects are masked from ‘package:reshape2’:\n",
      "\n",
      "    dcast, melt\n",
      "\n",
      "\n",
      "The following objects are masked from ‘package:dplyr’:\n",
      "\n",
      "    between, first, last\n",
      "\n",
      "\n",
      "Attaching SeuratObject\n",
      "\n",
      "Attaching sp\n",
      "\n"
     ]
    }
   ],
   "source": [
    "library(ggplot2)\n",
    "library(ggpubr)\n",
    "library(reshape2)\n",
    "library(RColorBrewer)\n",
    "library(dplyr)\n",
    "library(data.table)\n",
    "library(Seurat)\n",
    "setwd(\"/home/wyh/scdata/combined_data/fibroblast/\")"
   ]
  },
  {
   "cell_type": "markdown",
   "id": "615edc94-9919-4a15-b5a0-3b7b79edd405",
   "metadata": {},
   "source": [
    "# patient info"
   ]
  },
  {
   "cell_type": "code",
   "execution_count": 56,
   "id": "bbdfcf5e-08b8-4699-bada-31e8dd8edacd",
   "metadata": {},
   "outputs": [],
   "source": [
    "patient_info = read.csv(\"/home/wyh/scdata/patient_info/xzh_220109_final_wyh_220426.csv\",row.names = 1)\n",
    "patient_info$orig.ident = patient_info$NewSample.ID"
   ]
  },
  {
   "cell_type": "code",
   "execution_count": 57,
   "id": "035fa5fe-16d4-4534-8b0d-45277e7dd0f5",
   "metadata": {},
   "outputs": [],
   "source": [
    "patient_info$sample.type = \"Tumor\"\n",
    "patient_info$sample.type[patient_info$Tumors.for.scRNA.seq.short %in% c(\"CC\",\"XGC\")] = \"Normal\"\n",
    "patient_info$sample.type[patient_info$histological.type.short %in% c(\"LG\",\"HG\")] = \"Normal\""
   ]
  },
  {
   "cell_type": "code",
   "execution_count": 61,
   "id": "161c852c-5243-4fbd-a06c-471b6fcddfd3",
   "metadata": {},
   "outputs": [],
   "source": [
    "patient_info$metastasis.type[patient_info$metastasis.type %in% c(\"P\",\"P_LI\")] = \"P\"\n",
    "patient_info$metastasis.type = factor(patient_info$metastasis.type, levels = c(\"P\",\"P_LN\",\"P_LM\"))\n",
    "patient_info$progression.type.short = factor(patient_info$progression.type.short, levels = c(\"Inflam\",\"Proli\",\"Mix\",\"None\"))"
   ]
  },
  {
   "cell_type": "markdown",
   "id": "03d92fe4-c9e2-4359-9262-24745a13155e",
   "metadata": {},
   "source": [
    "# figureS7A marker"
   ]
  },
  {
   "cell_type": "code",
   "execution_count": 991,
   "id": "e1ba6ebc-0dfd-4759-9c03-58ac15fbe6b2",
   "metadata": {},
   "outputs": [],
   "source": [
    "Fibroblast_new2.markers = readRDS(\"Fibroblast_new2_PC30_res0.3.fineture.markers.RDS\")"
   ]
  },
  {
   "cell_type": "code",
   "execution_count": 1064,
   "id": "42c2eea8-f0aa-42a9-8184-1c5db004dbd0",
   "metadata": {},
   "outputs": [],
   "source": [
    "original_name = c(\"C0-MMP11\",\"C1-CFD\",\"C2-RGS5\",\"C3-PDGFRA\",\"C4-WYH11\",\"C5-IGFBP2\",\"C6-CFD\",\"C7-KRT19\",\"C8-MMP1\",\"C9-COL4A2\",\"C10-MMP11\",\n",
    "       \"C11-S100B\",\"C12-ACTG2\",\"C13-TAC1\",\"C14-VCAN\",\"C15-STEAP4\")\n",
    "\n",
    "# new_name = c(\"F_C0_MMP11\",\"F_C1_CFD\",\"Per_C0_RGS5\",\"F_C2_COLEC11\",\"Per_C1_MYH11\",\"F_C3_IGFBP2\",\"F_C4_CCN5\",\"F_C5_KRT19\",\"F_C6_MMP1\",\n",
    "#                  \"F_C7_COL4A2\",\"F_C8_MT1X\",\"F_C9_S100B\",\"VSMC\",\"F_C10_APOD\",\"Per_C2_VCAN\",\"Per_C3_STEAP4\")\n",
    "# new_name_level = c(\"F_C0_MMP11\",\"F_C1_CFD\",\"F_C2_COLEC11\",\"F_C3_IGFBP2\",\"F_C4_CCN5\",\"F_C5_KRT19\",\"F_C6_MMP1\",\n",
    "#                  \"F_C7_COL4A2\",\"F_C8_MT1X\",\"F_C9_S100B\",\"F_C10_APOD\",\"Per_C0_RGS5\",\"Per_C1_MYH11\",\"Per_C2_VCAN\",\"Per_C3_STEAP4\",\"VSMC\")\n",
    "\n",
    "\n",
    "new_name = c(\"F_C0_MMP11\",\"F_C1_CFD\",\"Per_C0_RGS5\",\"F_C2_COLEC11\",\"Per_C1_MYH11\",\"F_C3_IGFBP2\",\"F_C4_CCN5\",\"F_C5_KRT19\",\"F_C6_MMP1\",\n",
    "                 \"F_C7_COL4A2\",\"F_C8_MT1X\",\"F_C9_S100B\",\"F_C10_ACTG2\",\"F_C11_APOD\",\"Per_C2_VCAN\",\"Per_C3_STEAP4\")\n",
    "new_name_level = c(\"F_C0_MMP11\",\"F_C1_CFD\",\"F_C2_COLEC11\",\"F_C3_IGFBP2\",\"F_C4_CCN5\",\"F_C5_KRT19\",\"F_C6_MMP1\",\n",
    "                 \"F_C7_COL4A2\",\"F_C8_MT1X\",\"F_C9_S100B\",\"F_C10_ACTG2\",\"F_C11_APOD\",\"Per_C0_RGS5\",\"Per_C1_MYH11\",\"Per_C2_VCAN\",\"Per_C3_STEAP4\")"
   ]
  },
  {
   "cell_type": "code",
   "execution_count": 1065,
   "id": "ac3a8541-04c8-466f-8548-1975a88d76ce",
   "metadata": {},
   "outputs": [],
   "source": [
    "Fibroblast_new2.markers$cluster = plyr::mapvalues(Fibroblast_new2.markers$cluster,from = original_name,to = new_name)\n",
    "Fibroblast_new2.markers$cluster = factor(Fibroblast_new2.markers$cluster,levels = new_name_level)"
   ]
  },
  {
   "cell_type": "code",
   "execution_count": 1066,
   "id": "d4b79214-399e-4d12-a7d8-bf23edf822aa",
   "metadata": {},
   "outputs": [],
   "source": [
    "Fibroblast_new2.markers = Fibroblast_new2.markers[order(Fibroblast_new2.markers$cluster),]"
   ]
  },
  {
   "cell_type": "code",
   "execution_count": 43,
   "id": "c1697747-0ade-4387-8886-cdaa4e5214f0",
   "metadata": {},
   "outputs": [],
   "source": [
    "Fibroblast_new2 = readRDS(\"./Fibroblast_new2.RDS\")"
   ]
  },
  {
   "cell_type": "code",
   "execution_count": 1067,
   "id": "52dcfa0c-0597-4d96-a507-2297d443c8f1",
   "metadata": {},
   "outputs": [],
   "source": [
    "high_entropy_cluster = c(\"F_C1_CFD\",\"F_C1_MMP11\",\"F_C2_COLEC11\",\"Per_C0_RGS5\",\"Per_C1_MYH11\",\"Per_C3_STEAP4\")"
   ]
  },
  {
   "cell_type": "code",
   "execution_count": 1069,
   "id": "766ce1b9-8659-46b0-b134-ef2d5f85fb58",
   "metadata": {},
   "outputs": [],
   "source": [
    "Fibroblast_new2.markers_high_entropy = Fibroblast_new2.markers[Fibroblast_new2.markers$cluster %in% high_entropy_cluster,]"
   ]
  },
  {
   "cell_type": "code",
   "execution_count": 1074,
   "id": "28aa8013-5e9b-40b8-8116-237314419959",
   "metadata": {
    "tags": []
   },
   "outputs": [
    {
     "data": {
      "text/html": [
       "<table class=\"dataframe\">\n",
       "<caption>A grouped_df: 6 × 7</caption>\n",
       "<thead>\n",
       "\t<tr><th scope=col>p_val</th><th scope=col>avg_log2FC</th><th scope=col>pct.1</th><th scope=col>pct.2</th><th scope=col>p_val_adj</th><th scope=col>cluster</th><th scope=col>gene</th></tr>\n",
       "\t<tr><th scope=col>&lt;dbl&gt;</th><th scope=col>&lt;dbl&gt;</th><th scope=col>&lt;dbl&gt;</th><th scope=col>&lt;dbl&gt;</th><th scope=col>&lt;dbl&gt;</th><th scope=col>&lt;fct&gt;</th><th scope=col>&lt;chr&gt;</th></tr>\n",
       "</thead>\n",
       "<tbody>\n",
       "\t<tr><td>0</td><td>3.274840</td><td>0.758</td><td>0.251</td><td>0</td><td>F_C0_MMP11</td><td>MMP11  </td></tr>\n",
       "\t<tr><td>0</td><td>2.338860</td><td>0.715</td><td>0.179</td><td>0</td><td>F_C0_MMP11</td><td>COL11A1</td></tr>\n",
       "\t<tr><td>0</td><td>2.063701</td><td>0.715</td><td>0.159</td><td>0</td><td>F_C0_MMP11</td><td>COL10A1</td></tr>\n",
       "\t<tr><td>0</td><td>1.959739</td><td>0.648</td><td>0.185</td><td>0</td><td>F_C0_MMP11</td><td>TMEM158</td></tr>\n",
       "\t<tr><td>0</td><td>1.908627</td><td>0.451</td><td>0.057</td><td>0</td><td>F_C0_MMP11</td><td>IGFL2  </td></tr>\n",
       "\t<tr><td>0</td><td>2.288265</td><td>0.786</td><td>0.244</td><td>0</td><td>F_C1_CFD  </td><td>C7     </td></tr>\n",
       "</tbody>\n",
       "</table>\n"
      ],
      "text/latex": [
       "A grouped\\_df: 6 × 7\n",
       "\\begin{tabular}{lllllll}\n",
       " p\\_val & avg\\_log2FC & pct.1 & pct.2 & p\\_val\\_adj & cluster & gene\\\\\n",
       " <dbl> & <dbl> & <dbl> & <dbl> & <dbl> & <fct> & <chr>\\\\\n",
       "\\hline\n",
       "\t 0 & 3.274840 & 0.758 & 0.251 & 0 & F\\_C0\\_MMP11 & MMP11  \\\\\n",
       "\t 0 & 2.338860 & 0.715 & 0.179 & 0 & F\\_C0\\_MMP11 & COL11A1\\\\\n",
       "\t 0 & 2.063701 & 0.715 & 0.159 & 0 & F\\_C0\\_MMP11 & COL10A1\\\\\n",
       "\t 0 & 1.959739 & 0.648 & 0.185 & 0 & F\\_C0\\_MMP11 & TMEM158\\\\\n",
       "\t 0 & 1.908627 & 0.451 & 0.057 & 0 & F\\_C0\\_MMP11 & IGFL2  \\\\\n",
       "\t 0 & 2.288265 & 0.786 & 0.244 & 0 & F\\_C1\\_CFD   & C7     \\\\\n",
       "\\end{tabular}\n"
      ],
      "text/markdown": [
       "\n",
       "A grouped_df: 6 × 7\n",
       "\n",
       "| p_val &lt;dbl&gt; | avg_log2FC &lt;dbl&gt; | pct.1 &lt;dbl&gt; | pct.2 &lt;dbl&gt; | p_val_adj &lt;dbl&gt; | cluster &lt;fct&gt; | gene &lt;chr&gt; |\n",
       "|---|---|---|---|---|---|---|\n",
       "| 0 | 3.274840 | 0.758 | 0.251 | 0 | F_C0_MMP11 | MMP11   |\n",
       "| 0 | 2.338860 | 0.715 | 0.179 | 0 | F_C0_MMP11 | COL11A1 |\n",
       "| 0 | 2.063701 | 0.715 | 0.159 | 0 | F_C0_MMP11 | COL10A1 |\n",
       "| 0 | 1.959739 | 0.648 | 0.185 | 0 | F_C0_MMP11 | TMEM158 |\n",
       "| 0 | 1.908627 | 0.451 | 0.057 | 0 | F_C0_MMP11 | IGFL2   |\n",
       "| 0 | 2.288265 | 0.786 | 0.244 | 0 | F_C1_CFD   | C7      |\n",
       "\n"
      ],
      "text/plain": [
       "  p_val avg_log2FC pct.1 pct.2 p_val_adj cluster    gene   \n",
       "1 0     3.274840   0.758 0.251 0         F_C0_MMP11 MMP11  \n",
       "2 0     2.338860   0.715 0.179 0         F_C0_MMP11 COL11A1\n",
       "3 0     2.063701   0.715 0.159 0         F_C0_MMP11 COL10A1\n",
       "4 0     1.959739   0.648 0.185 0         F_C0_MMP11 TMEM158\n",
       "5 0     1.908627   0.451 0.057 0         F_C0_MMP11 IGFL2  \n",
       "6 0     2.288265   0.786 0.244 0         F_C1_CFD   C7     "
      ]
     },
     "metadata": {},
     "output_type": "display_data"
    }
   ],
   "source": [
    "top5 <- Fibroblast_new2.markers_high_entropy %>% group_by(cluster) %>% top_n(n = 5, wt = avg_log2FC)\n",
    "head(top5)"
   ]
  },
  {
   "cell_type": "code",
   "execution_count": 125,
   "id": "3df9c0d0-b8e7-4be6-a499-cf1cdaf9ca1d",
   "metadata": {},
   "outputs": [
    {
     "data": {
      "text/html": [
       "<strong>png:</strong> 2"
      ],
      "text/latex": [
       "\\textbf{png:} 2"
      ],
      "text/markdown": [
       "**png:** 2"
      ],
      "text/plain": [
       "png \n",
       "  2 "
      ]
     },
     "metadata": {},
     "output_type": "display_data"
    }
   ],
   "source": [
    "pdf(file = \"./figures/Fibro_SubtypeDEGs_Top5V3.pdf\", width = 15, height = 4)\n",
    "DotPlot(Fibroblast_new2[,Fibroblast_new2$subtype3 %in% high_entropy_cluster], features = unique(top5$gene))  +\n",
    "  #coord_flip() +\n",
    "  theme(axis.text.x = element_text(angle = -90,hjust = 0,vjust = 0.5)) +\n",
    "  theme(axis.title.x = element_blank()) +\n",
    "  theme(axis.title.y = element_blank())\n",
    "dev.off()"
   ]
  },
  {
   "cell_type": "code",
   "execution_count": 1078,
   "id": "f1a9d6b6-dd45-4591-aea3-0daa6c753fbe",
   "metadata": {},
   "outputs": [
    {
     "data": {
      "text/html": [
       "<strong>png:</strong> 2"
      ],
      "text/latex": [
       "\\textbf{png:} 2"
      ],
      "text/markdown": [
       "**png:** 2"
      ],
      "text/plain": [
       "png \n",
       "  2 "
      ]
     },
     "metadata": {},
     "output_type": "display_data"
    }
   ],
   "source": [
    "pdf(file = \"./figures/Fibro_SubtypeDEGs_Top5V4.pdf\", width = 2.7*5, height = 1*5)\n",
    "DotPlot(Fibroblast_new2[,Fibroblast_new2$subtype3 %in% high_entropy_cluster], features = unique(top5$gene))  +\n",
    "  #coord_flip() +\n",
    "  theme(axis.text.x = element_text(angle = -90,hjust = 0,vjust = 0.5)) +\n",
    "  theme(axis.title.x = element_blank()) +\n",
    "  theme(axis.title.y = element_blank())\n",
    "dev.off()"
   ]
  },
  {
   "cell_type": "markdown",
   "id": "9bea0737-2fc9-4b91-97af-4ba030d87c15",
   "metadata": {},
   "source": [
    "# subtype ratio in different groups"
   ]
  },
  {
   "cell_type": "code",
   "execution_count": 98,
   "id": "e86e9d6f-dd08-47b7-95a0-d7e83b2d077a",
   "metadata": {},
   "outputs": [
    {
     "data": {
      "text/html": [
       "<style>\n",
       ".list-inline {list-style: none; margin:0; padding: 0}\n",
       ".list-inline>li {display: inline-block}\n",
       ".list-inline>li:not(:last-child)::after {content: \"\\00b7\"; padding: 0 .5ex}\n",
       "</style>\n",
       "<ol class=list-inline><li>78485</li><li>3</li></ol>\n"
      ],
      "text/latex": [
       "\\begin{enumerate*}\n",
       "\\item 78485\n",
       "\\item 3\n",
       "\\end{enumerate*}\n"
      ],
      "text/markdown": [
       "1. 78485\n",
       "2. 3\n",
       "\n",
       "\n"
      ],
      "text/plain": [
       "[1] 78485     3"
      ]
     },
     "metadata": {},
     "output_type": "display_data"
    }
   ],
   "source": [
    "celltype_info = read.csv(\"/home/wyh/scdata/combined_data/meta_data/celltype20230312/celltype_fibroblast20230312.csv\",row.names = 1)\n",
    "dim(celltype_info)\n",
    "#celltype_info = celltype_info[!(celltype_info$celltype %in% c(\"vSMC\",\"pericytes\",\"EMT_associated\")),]\n",
    "#celltype_info$subtype =  gsub(\"-\",\".\",celltype_info$subtype)"
   ]
  },
  {
   "cell_type": "code",
   "execution_count": 104,
   "id": "e92b8c26-5e44-4d1d-9205-a2dbbe9cdbb3",
   "metadata": {
    "tags": []
   },
   "outputs": [],
   "source": [
    "# 根据细胞的barcode取出病人的ID\n",
    "orig.ident = lapply(celltype_info$cellid,\n",
    "    FUN = function(i){\n",
    "    data_split = unlist(strsplit(i,split = \"_\"))\n",
    "    name = paste(data_split[1:(length(data_split)-1)],collapse = '_')\n",
    "    #name = do.call(data_split[paste,args = data_split[1:(length(data_split)-1)]])\n",
    "        return(name)\n",
    "                      })\n",
    "orig.ident = unlist(orig.ident)\n",
    "celltype_info$orig.ident = orig.ident"
   ]
  },
  {
   "cell_type": "code",
   "execution_count": 105,
   "id": "10ae7d80-a749-466c-ad58-1412f0b765c2",
   "metadata": {},
   "outputs": [
    {
     "data": {
      "text/html": [
       "<style>\n",
       ".list-inline {list-style: none; margin:0; padding: 0}\n",
       ".list-inline>li {display: inline-block}\n",
       ".list-inline>li:not(:last-child)::after {content: \"\\00b7\"; padding: 0 .5ex}\n",
       "</style>\n",
       "<ol class=list-inline><li>'GBC_047_PO'</li><li>'GBC_048_P'</li><li>'GBC_049_P'</li><li>'GBC_054_LI'</li><li>'GBC_058_LN'</li><li>'GBC_062_LN'</li><li>'GBC_069_LI'</li><li>'GBC_069_LM'</li><li>'GBC_071_LI'</li><li>'GBC_071_LN'</li><li>'GBC_074_P'</li><li>'GBC_078_LN'</li></ol>\n"
      ],
      "text/latex": [
       "\\begin{enumerate*}\n",
       "\\item 'GBC\\_047\\_PO'\n",
       "\\item 'GBC\\_048\\_P'\n",
       "\\item 'GBC\\_049\\_P'\n",
       "\\item 'GBC\\_054\\_LI'\n",
       "\\item 'GBC\\_058\\_LN'\n",
       "\\item 'GBC\\_062\\_LN'\n",
       "\\item 'GBC\\_069\\_LI'\n",
       "\\item 'GBC\\_069\\_LM'\n",
       "\\item 'GBC\\_071\\_LI'\n",
       "\\item 'GBC\\_071\\_LN'\n",
       "\\item 'GBC\\_074\\_P'\n",
       "\\item 'GBC\\_078\\_LN'\n",
       "\\end{enumerate*}\n"
      ],
      "text/markdown": [
       "1. 'GBC_047_PO'\n",
       "2. 'GBC_048_P'\n",
       "3. 'GBC_049_P'\n",
       "4. 'GBC_054_LI'\n",
       "5. 'GBC_058_LN'\n",
       "6. 'GBC_062_LN'\n",
       "7. 'GBC_069_LI'\n",
       "8. 'GBC_069_LM'\n",
       "9. 'GBC_071_LI'\n",
       "10. 'GBC_071_LN'\n",
       "11. 'GBC_074_P'\n",
       "12. 'GBC_078_LN'\n",
       "\n",
       "\n"
      ],
      "text/plain": [
       " [1] \"GBC_047_PO\" \"GBC_048_P\"  \"GBC_049_P\"  \"GBC_054_LI\" \"GBC_058_LN\"\n",
       " [6] \"GBC_062_LN\" \"GBC_069_LI\" \"GBC_069_LM\" \"GBC_071_LI\" \"GBC_071_LN\"\n",
       "[11] \"GBC_074_P\"  \"GBC_078_LN\""
      ]
     },
     "metadata": {},
     "output_type": "display_data"
    }
   ],
   "source": [
    "fibroblast_num = as.data.frame.array(table(orig.ident))\n",
    "fibroblast_little_patient = rownames(fibroblast_num)[fibroblast_num<20]\n",
    "fibroblast_little_patient"
   ]
  },
  {
   "cell_type": "code",
   "execution_count": 106,
   "id": "835a3c57-3291-4c3c-b5e7-c134d2f93754",
   "metadata": {},
   "outputs": [],
   "source": [
    "celltype_info = celltype_info[!celltype_info$orig.ident %in% fibroblast_little_patient,]"
   ]
  },
  {
   "cell_type": "code",
   "execution_count": 107,
   "id": "1f38df52-a184-4242-99b9-47185eef402b",
   "metadata": {
    "tags": []
   },
   "outputs": [],
   "source": [
    "cluster_num = length(unique(celltype_info$subtype))"
   ]
  },
  {
   "cell_type": "code",
   "execution_count": 108,
   "id": "b8afdac1-b47a-4596-8e28-055d947f5ba2",
   "metadata": {},
   "outputs": [],
   "source": [
    "fibroblast_ratio_all = as.data.frame.array(table(celltype_info[,c(\"orig.ident\",\"subtype\")]))\n",
    "# write.csv(fibroblast_ratio_all,\"./group_compare/sample_fibroblast_subtype_number.csv\")\n",
    "fibroblast_ratio_all = fibroblast_ratio_all/rowSums(fibroblast_ratio_all)\n",
    "fibroblast_ratio_all = cbind(fibroblast_ratio_all,patient_info[rownames(fibroblast_ratio_all),])\n",
    "\n",
    "fibroblast_ratio_all$number =  rowSums(as.data.frame.array(table(celltype_info[,c(\"orig.ident\",\"subtype\")])))"
   ]
  },
  {
   "cell_type": "code",
   "execution_count": 26,
   "id": "cf97145a-7144-48b4-810c-ca5fda748604",
   "metadata": {},
   "outputs": [],
   "source": [
    "write.csv(fibroblast_ratio_all,\"./group_compare/fibroblast_ratio_all0816.csv\")"
   ]
  },
  {
   "cell_type": "code",
   "execution_count": 118,
   "id": "d6cb0b50-9f74-4bd8-bbcc-e040f4e2e15b",
   "metadata": {},
   "outputs": [],
   "source": [
    "fibroblast_ratio_all = read.csv(\"./group_compare/fibroblast_ratio_all0816.csv\",row.names = 1)"
   ]
  },
  {
   "cell_type": "markdown",
   "id": "40b772f0-9ddb-4fab-8cdf-4220def46960",
   "metadata": {},
   "source": [
    "# figure S7J"
   ]
  },
  {
   "cell_type": "code",
   "execution_count": 291,
   "id": "501109c3-f17b-4d6c-bf14-1d4b7a572fc0",
   "metadata": {},
   "outputs": [
    {
     "data": {
      "text/html": [
       "<strong>png:</strong> 2"
      ],
      "text/latex": [
       "\\textbf{png:} 2"
      ],
      "text/markdown": [
       "**png:** 2"
      ],
      "text/plain": [
       "png \n",
       "  2 "
      ]
     },
     "metadata": {},
     "output_type": "display_data"
    }
   ],
   "source": [
    "Fibroblast_new2 = readRDS(\"./Fibroblast_new2.RDS\")\n",
    "pdf(\"./submit/VEGFB_expression.pdf\")\n",
    "DotPlot(Fibroblast_new2[,Fibroblast_new2$subtype3 %in% c(\"F_C1_CFD\",\"F_C0_MMP11\",'F_C2_COLEC11',\"Per_C0_RGS5\",\"Per_C1_MYH11\",\"Per_C3_STEAP4\")],features = \"VEGFB\")\n",
    "dev.off()"
   ]
  },
  {
   "cell_type": "markdown",
   "id": "7903bc22-3404-496e-bb58-a2a6b044ca8f",
   "metadata": {},
   "source": [
    "# figureS7E F_C7_COL4A2_metastasis.location"
   ]
  },
  {
   "cell_type": "code",
   "execution_count": 7,
   "id": "c07689f9-e2b2-4e45-b9cd-106aa5fdc4bf",
   "metadata": {},
   "outputs": [],
   "source": [
    "fibroblast_ratio_all = read.csv(\"./group_compare/fibroblast_ratio_all0816.csv\",row.names = 1)"
   ]
  },
  {
   "cell_type": "code",
   "execution_count": 14,
   "id": "97f38be0-b315-4e05-aca4-4a684b014bda",
   "metadata": {},
   "outputs": [],
   "source": [
    "cluster_num = 16"
   ]
  },
  {
   "cell_type": "code",
   "execution_count": 20,
   "id": "2c9de9ad-8160-4009-8eab-f854662c2015",
   "metadata": {},
   "outputs": [
    {
     "name": "stderr",
     "output_type": "stream",
     "text": [
      "Warning message in melt(data_plot):\n",
      "“The melt generic in data.table has been passed a data.frame and will attempt to redirect to the relevant reshape2 method; please note that reshape2 is deprecated, and this redirection is now deprecated as well. To continue using melt methods from reshape2 while both libraries are attached, e.g. melt.list, you can prepend the namespace like reshape2::melt(data_plot). In the next version, this warning will become an error.”\n",
      "Using Tumors.for.scRNA.seq.short as id variables\n",
      "\n"
     ]
    }
   ],
   "source": [
    "fibroblast_ratio = fibroblast_ratio_all\n",
    "data_plot = fibroblast_ratio[,c(colnames(fibroblast_ratio)[1:cluster_num],\"Tumors.for.scRNA.seq.short\")]\n",
    "data_plot_melt = melt(data_plot)\n",
    "colnames(data_plot_melt) = c(\"Tumors.for.scRNA.seq.short\",\"variable\",\"Freq\")"
   ]
  },
  {
   "cell_type": "code",
   "execution_count": 21,
   "id": "5be2e1e3-85ca-483e-9f45-a411a554090c",
   "metadata": {},
   "outputs": [],
   "source": [
    "data_plot_melt_C2 = data_plot_melt[data_plot_melt$variable==\"F_C7_COL4A2\",]"
   ]
  },
  {
   "cell_type": "code",
   "execution_count": 24,
   "id": "16c71952-8408-4cca-835f-68ba351bf36e",
   "metadata": {},
   "outputs": [],
   "source": [
    "data_plot_melt_C2 = data_plot_melt_C2[data_plot_melt_C2$Tumors.for.scRNA.seq.short %in% c(\"P\",\"PO\",\"LN\",\"LI\",\"LM\",\"OM\"),]"
   ]
  },
  {
   "cell_type": "code",
   "execution_count": 25,
   "id": "ffe21002-9764-49ff-9036-ea9c379d5825",
   "metadata": {},
   "outputs": [],
   "source": [
    "data_plot_melt_C2$Tumors.for.scRNA.seq.short = factor(data_plot_melt_C2$Tumors.for.scRNA.seq.short,levels = c(\"P\",\"PO\",\"LN\",\"LI\",\"LM\",\"OM\"))"
   ]
  },
  {
   "cell_type": "code",
   "execution_count": 26,
   "id": "0b80522e-e30b-49a9-b09c-d753f17c2b9f",
   "metadata": {},
   "outputs": [],
   "source": [
    "get_adj_p <- function(data, .col, .grp = \"Sample\", comparisons = NULL,\n",
    "                      method = \"wilcox.test\", p.adjust.method = \"fdr\", p.digits = 3L,symnum.args = NULL, ...) {\n",
    "  # Compute p-values\n",
    "  comparison.formula <- paste0(.col, \"~\", .grp) %>%\n",
    "    as.formula()\n",
    "  pvalues <- ggpubr::compare_means(\n",
    "    formula = comparison.formula, data = data,\n",
    "    method = method,\n",
    "    p.adjust.method = p.adjust.method,\n",
    "    ...\n",
    "  )\n",
    "  \n",
    "  # If a comparison list is provided, extract the comparisons of interest for plotting\n",
    "  if (!is.null(comparisons)) {\n",
    "    pvalues <- purrr::map_df(comparisons, ~ pvalues %>% dplyr::filter(group1 == .x[1] & group2 == .x[2]))\n",
    "  }\n",
    "  \n",
    "  # P-value y coordinates\n",
    "  y.max <- data %>%\n",
    "    dplyr::pull(.col) %>%\n",
    "    max(na.rm = TRUE)\n",
    "  p.value.y.coord <- rep(y.max, nrow(pvalues))\n",
    "  \n",
    "  step.increase <- (1:nrow(pvalues)) * (y.max / 10)\n",
    "  p.value.y.coord <- p.value.y.coord + step.increase\n",
    "  if (is.null(symnum.args)){\n",
    "    symnum.args <- list(cutpoints = c(0, 1e-04, 0.001, 0.01, \n",
    "                                      0.05, 1), symbols = c(\"****\", \"***\", \"**\", \"*\", \n",
    "                                                            \"ns\"))\n",
    "  } \n",
    "    \n",
    "  symnum.args$x <- as.numeric(pvalues$p.adj)\n",
    "  p.adj.signif <- do.call(stats::symnum, symnum.args) %>% \n",
    "    as.character()\n",
    "  pvalues$p.adj.signif = p.adj.signif\n",
    "  pvalues <- pvalues %>%\n",
    "    dplyr::mutate(\n",
    "      y.position = p.value.y.coord,\n",
    "      p.adj = format.pval(.data$p.adj, digits = p.digits)\n",
    "\n",
    "    )\n",
    "  \n",
    "  pvalues\n",
    "}"
   ]
  },
  {
   "cell_type": "code",
   "execution_count": 28,
   "id": "9980eb76-73db-478e-b0fc-1bd9d9e5688e",
   "metadata": {},
   "outputs": [
    {
     "data": {
      "image/png": "[encoded data removed]",
      "text/plain": [
       "plot without title"
      ]
     },
     "metadata": {
      "image/png": {
       "height": 420,
       "width": 420
      }
     },
     "output_type": "display_data"
    }
   ],
   "source": [
    "p_adj <- get_adj_p(data_plot_melt_C2,\n",
    "                     .col = \"Freq\", .grp = \"Tumors.for.scRNA.seq.short\", p.adjust.method = \"BH\",\n",
    "                     comparisons = list(c(\"P\",\"PO\"),c(\"P\",\"LN\"),c(\"P\",\"LI\"),c(\"P\",\"LM\"),c(\"P\",\"OM\")))\n",
    "p <- ggboxplot(data_plot_melt_C2, x = \"Tumors.for.scRNA.seq.short\", y = \"Freq\", color = \"Tumors.for.scRNA.seq.short\", palette = \"jco\",add = \"jitter\") + \n",
    "    stat_pvalue_manual(p_adj, label = \"p.adj\", hide.ns = T)+\n",
    "    theme(legend.position = \"top\") +\n",
    "    theme(axis.title.x = element_blank(),\n",
    "         legend.position = \"none\") \n",
    "p"
   ]
  },
  {
   "cell_type": "code",
   "execution_count": 137,
   "id": "27e8c16a-1c16-4a89-9fa4-d7e95a1dd537",
   "metadata": {},
   "outputs": [
    {
     "data": {
      "text/html": [
       "<strong>png:</strong> 2"
      ],
      "text/latex": [
       "\\textbf{png:} 2"
      ],
      "text/markdown": [
       "**png:** 2"
      ],
      "text/plain": [
       "png \n",
       "  2 "
      ]
     },
     "metadata": {},
     "output_type": "display_data"
    }
   ],
   "source": [
    "pdf(\"./group_compare/F_C7_COL4A2_metastasis.location.pdf\",width = 3,height = 3)\n",
    "print(p)\n",
    "dev.off()"
   ]
  },
  {
   "cell_type": "markdown",
   "id": "1ea8d728-7100-4cb4-9680-77b12a476431",
   "metadata": {},
   "source": [
    "## the relationship between proportion of endothelial cells and gene expression "
   ]
  },
  {
   "cell_type": "code",
   "execution_count": 1439,
   "id": "39eb6031-d24e-4012-bc9f-431f4ab66c8c",
   "metadata": {},
   "outputs": [],
   "source": [
    "data_plot = data.frame(expr = GetAssayData(Fibroblast_iCAFs,slot = \"data\")[\"C3\",],ident = Fibroblast_iCAFs$NewSample.ID)"
   ]
  },
  {
   "cell_type": "code",
   "execution_count": 1440,
   "id": "a33b93f5-6bde-4da1-9c23-03f13e0767bf",
   "metadata": {
    "collapsed": true,
    "jupyter": {
     "outputs_hidden": true
    },
    "tags": []
   },
   "outputs": [
    {
     "name": "stderr",
     "output_type": "stream",
     "text": [
      "The following object is masked from data_plot (pos = 4):\n",
      "\n",
      "    expr\n",
      "\n",
      "\n",
      "The following object is masked from data_plot (pos = 5):\n",
      "\n",
      "    expr\n",
      "\n",
      "\n",
      "The following object is masked from data_plot (pos = 6):\n",
      "\n",
      "    expr\n",
      "\n",
      "\n",
      "The following object is masked from data_plot (pos = 7):\n",
      "\n",
      "    expr\n",
      "\n",
      "\n",
      "The following object is masked from data_plot (pos = 8):\n",
      "\n",
      "    expr\n",
      "\n",
      "\n",
      "The following object is masked from data_plot (pos = 9):\n",
      "\n",
      "    expr\n",
      "\n",
      "\n",
      "The following object is masked from data_plot (pos = 10):\n",
      "\n",
      "    expr\n",
      "\n",
      "\n",
      "The following object is masked from data_plot (pos = 12):\n",
      "\n",
      "    expr\n",
      "\n",
      "\n",
      "The following object is masked from data_plot (pos = 13):\n",
      "\n",
      "    expr\n",
      "\n",
      "\n",
      "The following objects are masked from data_plot (pos = 14):\n",
      "\n",
      "    expr, ident\n",
      "\n",
      "\n",
      "The following objects are masked from data_plot (pos = 15):\n",
      "\n",
      "    expr, ident\n",
      "\n",
      "\n",
      "The following objects are masked from data_plot (pos = 16):\n",
      "\n",
      "    expr, ident\n",
      "\n",
      "\n",
      "The following objects are masked from data_plot (pos = 17):\n",
      "\n",
      "    expr, ident\n",
      "\n",
      "\n",
      "The following objects are masked from data_plot (pos = 18):\n",
      "\n",
      "    expr, ident\n",
      "\n",
      "\n",
      "Warning message in mean.default(X[[i]], ...):\n",
      "“argument is not numeric or logical: returning NA”\n",
      "Warning message in mean.default(X[[i]], ...):\n",
      "“argument is not numeric or logical: returning NA”\n",
      "Warning message in mean.default(X[[i]], ...):\n",
      "“argument is not numeric or logical: returning NA”\n",
      "Warning message in mean.default(X[[i]], ...):\n",
      "“argument is not numeric or logical: returning NA”\n",
      "Warning message in mean.default(X[[i]], ...):\n",
      "“argument is not numeric or logical: returning NA”\n",
      "Warning message in mean.default(X[[i]], ...):\n",
      "“argument is not numeric or logical: returning NA”\n",
      "Warning message in mean.default(X[[i]], ...):\n",
      "“argument is not numeric or logical: returning NA”\n",
      "Warning message in mean.default(X[[i]], ...):\n",
      "“argument is not numeric or logical: returning NA”\n",
      "Warning message in mean.default(X[[i]], ...):\n",
      "“argument is not numeric or logical: returning NA”\n",
      "Warning message in mean.default(X[[i]], ...):\n",
      "“argument is not numeric or logical: returning NA”\n",
      "Warning message in mean.default(X[[i]], ...):\n",
      "“argument is not numeric or logical: returning NA”\n",
      "Warning message in mean.default(X[[i]], ...):\n",
      "“argument is not numeric or logical: returning NA”\n",
      "Warning message in mean.default(X[[i]], ...):\n",
      "“argument is not numeric or logical: returning NA”\n",
      "Warning message in mean.default(X[[i]], ...):\n",
      "“argument is not numeric or logical: returning NA”\n",
      "Warning message in mean.default(X[[i]], ...):\n",
      "“argument is not numeric or logical: returning NA”\n",
      "Warning message in mean.default(X[[i]], ...):\n",
      "“argument is not numeric or logical: returning NA”\n",
      "Warning message in mean.default(X[[i]], ...):\n",
      "“argument is not numeric or logical: returning NA”\n",
      "Warning message in mean.default(X[[i]], ...):\n",
      "“argument is not numeric or logical: returning NA”\n",
      "Warning message in mean.default(X[[i]], ...):\n",
      "“argument is not numeric or logical: returning NA”\n",
      "Warning message in mean.default(X[[i]], ...):\n",
      "“argument is not numeric or logical: returning NA”\n",
      "Warning message in mean.default(X[[i]], ...):\n",
      "“argument is not numeric or logical: returning NA”\n",
      "Warning message in mean.default(X[[i]], ...):\n",
      "“argument is not numeric or logical: returning NA”\n",
      "Warning message in mean.default(X[[i]], ...):\n",
      "“argument is not numeric or logical: returning NA”\n",
      "Warning message in mean.default(X[[i]], ...):\n",
      "“argument is not numeric or logical: returning NA”\n",
      "Warning message in mean.default(X[[i]], ...):\n",
      "“argument is not numeric or logical: returning NA”\n",
      "Warning message in mean.default(X[[i]], ...):\n",
      "“argument is not numeric or logical: returning NA”\n",
      "Warning message in mean.default(X[[i]], ...):\n",
      "“argument is not numeric or logical: returning NA”\n",
      "Warning message in mean.default(X[[i]], ...):\n",
      "“argument is not numeric or logical: returning NA”\n",
      "Warning message in mean.default(X[[i]], ...):\n",
      "“argument is not numeric or logical: returning NA”\n",
      "Warning message in mean.default(X[[i]], ...):\n",
      "“argument is not numeric or logical: returning NA”\n",
      "Warning message in mean.default(X[[i]], ...):\n",
      "“argument is not numeric or logical: returning NA”\n",
      "Warning message in mean.default(X[[i]], ...):\n",
      "“argument is not numeric or logical: returning NA”\n",
      "Warning message in mean.default(X[[i]], ...):\n",
      "“argument is not numeric or logical: returning NA”\n",
      "Warning message in mean.default(X[[i]], ...):\n",
      "“argument is not numeric or logical: returning NA”\n",
      "Warning message in mean.default(X[[i]], ...):\n",
      "“argument is not numeric or logical: returning NA”\n",
      "Warning message in mean.default(X[[i]], ...):\n",
      "“argument is not numeric or logical: returning NA”\n",
      "Warning message in mean.default(X[[i]], ...):\n",
      "“argument is not numeric or logical: returning NA”\n",
      "Warning message in mean.default(X[[i]], ...):\n",
      "“argument is not numeric or logical: returning NA”\n",
      "Warning message in mean.default(X[[i]], ...):\n",
      "“argument is not numeric or logical: returning NA”\n",
      "Warning message in mean.default(X[[i]], ...):\n",
      "“argument is not numeric or logical: returning NA”\n",
      "Warning message in mean.default(X[[i]], ...):\n",
      "“argument is not numeric or logical: returning NA”\n",
      "Warning message in mean.default(X[[i]], ...):\n",
      "“argument is not numeric or logical: returning NA”\n",
      "Warning message in mean.default(X[[i]], ...):\n",
      "“argument is not numeric or logical: returning NA”\n",
      "Warning message in mean.default(X[[i]], ...):\n",
      "“argument is not numeric or logical: returning NA”\n",
      "Warning message in mean.default(X[[i]], ...):\n",
      "“argument is not numeric or logical: returning NA”\n",
      "Warning message in mean.default(X[[i]], ...):\n",
      "“argument is not numeric or logical: returning NA”\n",
      "Warning message in mean.default(X[[i]], ...):\n",
      "“argument is not numeric or logical: returning NA”\n",
      "Warning message in mean.default(X[[i]], ...):\n",
      "“argument is not numeric or logical: returning NA”\n",
      "Warning message in mean.default(X[[i]], ...):\n",
      "“argument is not numeric or logical: returning NA”\n",
      "Warning message in mean.default(X[[i]], ...):\n",
      "“argument is not numeric or logical: returning NA”\n",
      "Warning message in mean.default(X[[i]], ...):\n",
      "“argument is not numeric or logical: returning NA”\n",
      "Warning message in mean.default(X[[i]], ...):\n",
      "“argument is not numeric or logical: returning NA”\n",
      "Warning message in mean.default(X[[i]], ...):\n",
      "“argument is not numeric or logical: returning NA”\n",
      "Warning message in mean.default(X[[i]], ...):\n",
      "“argument is not numeric or logical: returning NA”\n",
      "Warning message in mean.default(X[[i]], ...):\n",
      "“argument is not numeric or logical: returning NA”\n",
      "Warning message in mean.default(X[[i]], ...):\n",
      "“argument is not numeric or logical: returning NA”\n",
      "Warning message in mean.default(X[[i]], ...):\n",
      "“argument is not numeric or logical: returning NA”\n",
      "Warning message in mean.default(X[[i]], ...):\n",
      "“argument is not numeric or logical: returning NA”\n",
      "Warning message in mean.default(X[[i]], ...):\n",
      "“argument is not numeric or logical: returning NA”\n",
      "Warning message in mean.default(X[[i]], ...):\n",
      "“argument is not numeric or logical: returning NA”\n",
      "Warning message in mean.default(X[[i]], ...):\n",
      "“argument is not numeric or logical: returning NA”\n",
      "Warning message in mean.default(X[[i]], ...):\n",
      "“argument is not numeric or logical: returning NA”\n",
      "Warning message in mean.default(X[[i]], ...):\n",
      "“argument is not numeric or logical: returning NA”\n",
      "Warning message in mean.default(X[[i]], ...):\n",
      "“argument is not numeric or logical: returning NA”\n",
      "Warning message in mean.default(X[[i]], ...):\n",
      "“argument is not numeric or logical: returning NA”\n",
      "Warning message in mean.default(X[[i]], ...):\n",
      "“argument is not numeric or logical: returning NA”\n",
      "Warning message in mean.default(X[[i]], ...):\n",
      "“argument is not numeric or logical: returning NA”\n",
      "Warning message in mean.default(X[[i]], ...):\n",
      "“argument is not numeric or logical: returning NA”\n",
      "Warning message in mean.default(X[[i]], ...):\n",
      "“argument is not numeric or logical: returning NA”\n",
      "Warning message in mean.default(X[[i]], ...):\n",
      "“argument is not numeric or logical: returning NA”\n",
      "Warning message in mean.default(X[[i]], ...):\n",
      "“argument is not numeric or logical: returning NA”\n",
      "Warning message in mean.default(X[[i]], ...):\n",
      "“argument is not numeric or logical: returning NA”\n",
      "Warning message in mean.default(X[[i]], ...):\n",
      "“argument is not numeric or logical: returning NA”\n",
      "Warning message in mean.default(X[[i]], ...):\n",
      "“argument is not numeric or logical: returning NA”\n",
      "Warning message in mean.default(X[[i]], ...):\n",
      "“argument is not numeric or logical: returning NA”\n",
      "Warning message in mean.default(X[[i]], ...):\n",
      "“argument is not numeric or logical: returning NA”\n",
      "Warning message in mean.default(X[[i]], ...):\n",
      "“argument is not numeric or logical: returning NA”\n",
      "Warning message in mean.default(X[[i]], ...):\n",
      "“argument is not numeric or logical: returning NA”\n",
      "Warning message in mean.default(X[[i]], ...):\n",
      "“argument is not numeric or logical: returning NA”\n",
      "Warning message in mean.default(X[[i]], ...):\n",
      "“argument is not numeric or logical: returning NA”\n",
      "Warning message in mean.default(X[[i]], ...):\n",
      "“argument is not numeric or logical: returning NA”\n",
      "Warning message in mean.default(X[[i]], ...):\n",
      "“argument is not numeric or logical: returning NA”\n",
      "Warning message in mean.default(X[[i]], ...):\n",
      "“argument is not numeric or logical: returning NA”\n",
      "Warning message in mean.default(X[[i]], ...):\n",
      "“argument is not numeric or logical: returning NA”\n",
      "Warning message in mean.default(X[[i]], ...):\n",
      "“argument is not numeric or logical: returning NA”\n",
      "Warning message in mean.default(X[[i]], ...):\n",
      "“argument is not numeric or logical: returning NA”\n",
      "Warning message in mean.default(X[[i]], ...):\n",
      "“argument is not numeric or logical: returning NA”\n",
      "Warning message in mean.default(X[[i]], ...):\n",
      "“argument is not numeric or logical: returning NA”\n",
      "Warning message in mean.default(X[[i]], ...):\n",
      "“argument is not numeric or logical: returning NA”\n",
      "Warning message in mean.default(X[[i]], ...):\n",
      "“argument is not numeric or logical: returning NA”\n",
      "Warning message in mean.default(X[[i]], ...):\n",
      "“argument is not numeric or logical: returning NA”\n",
      "Warning message in mean.default(X[[i]], ...):\n",
      "“argument is not numeric or logical: returning NA”\n",
      "Warning message in mean.default(X[[i]], ...):\n",
      "“argument is not numeric or logical: returning NA”\n",
      "Warning message in mean.default(X[[i]], ...):\n",
      "“argument is not numeric or logical: returning NA”\n",
      "Warning message in mean.default(X[[i]], ...):\n",
      "“argument is not numeric or logical: returning NA”\n",
      "Warning message in mean.default(X[[i]], ...):\n",
      "“argument is not numeric or logical: returning NA”\n"
     ]
    }
   ],
   "source": [
    "attach(data_plot)\n",
    "expr_mean = aggregate(data_plot, by = list(ident), FUN = mean)"
   ]
  },
  {
   "cell_type": "code",
   "execution_count": 825,
   "id": "7a6abf18-8e83-48bb-beab-659efa16ce91",
   "metadata": {},
   "outputs": [],
   "source": [
    "celltype_info = read.csv(\"/home/wyh/scdata/combined_data/meta_data/celltype_upload.txt\",sep = \"\\t\")"
   ]
  },
  {
   "cell_type": "code",
   "execution_count": 842,
   "id": "39b0aff7-c1a7-49a2-9d80-3465e6cf13b4",
   "metadata": {},
   "outputs": [],
   "source": [
    "rownames(celltype_info) = celltype_info$name"
   ]
  },
  {
   "cell_type": "code",
   "execution_count": 838,
   "id": "2fa8d5f6-ae92-4ab1-be59-f0b2724be3c5",
   "metadata": {},
   "outputs": [],
   "source": [
    "orig.ident = lapply(celltype_info$name,\n",
    "        FUN = function(i){\n",
    "        data_split = unlist(strsplit(i,split = \"_\"))\n",
    "        name = paste(data_split[1:(length(data_split)-1)],collapse = '_')\n",
    "        #name = do.call(data_split[paste,args = data_split[1:(length(data_split)-1)]])\n",
    "            return(name)\n",
    "                          })\n",
    "orig.ident = unlist(orig.ident)\n",
    "celltype_info$orig.ident = orig.ident\n",
    "celltype_info = as.data.frame(celltype_info)\n",
    "celltype_info$barcode = celltype_info$name"
   ]
  },
  {
   "cell_type": "code",
   "execution_count": 846,
   "id": "e6635f84-5356-4c5a-afea-49c2abd4c524",
   "metadata": {},
   "outputs": [],
   "source": [
    "celltype_info_immune = celltype_info[celltype_info$celltype!=\"Epithelial cells\",]"
   ]
  },
  {
   "cell_type": "code",
   "execution_count": 848,
   "id": "6a4f69d7-98ee-4b9f-ac08-c54593ac7917",
   "metadata": {},
   "outputs": [],
   "source": [
    "ratio_all = as.data.frame.array(table(celltype_info_immune[,c(\"orig.ident\",\"subtype\")]))"
   ]
  },
  {
   "cell_type": "code",
   "execution_count": 851,
   "id": "e91e057d-e9fd-466f-b30c-4f5910504cd8",
   "metadata": {},
   "outputs": [],
   "source": [
    "ratio_all = ratio_all/rowSums(ratio_all)"
   ]
  },
  {
   "cell_type": "code",
   "execution_count": 996,
   "id": "60b78a2d-2594-45f3-a0ce-9ba330b29613",
   "metadata": {
    "tags": []
   },
   "outputs": [],
   "source": [
    "iCAF_markers = Fibroblast_new2.markers[Fibroblast_new2.markers$cluster==\"C1-CFD\",]"
   ]
  },
  {
   "cell_type": "code",
   "execution_count": 1482,
   "id": "2610901d-19d9-4da5-9c51-3166e25046d0",
   "metadata": {},
   "outputs": [
    {
     "name": "stderr",
     "output_type": "stream",
     "text": [
      "Warning message in readLines(gmtfile):\n",
      "“incomplete final line found on '/home/wyh/database/msigdb/KEGG_COMPLEMENT_AND_COAGULATION_CASCADES.v2023.1.Hs.gmt'”\n"
     ]
    }
   ],
   "source": [
    "complement_KEGG = read.gmt(\"/home/wyh/database/msigdb/KEGG_COMPLEMENT_AND_COAGULATION_CASCADES.v2023.1.Hs.gmt\")"
   ]
  },
  {
   "cell_type": "code",
   "execution_count": 1484,
   "id": "22e8741d-e592-4729-b46d-957adf72fe3c",
   "metadata": {},
   "outputs": [
    {
     "name": "stderr",
     "output_type": "stream",
     "text": [
      "Warning message in readLines(gmtfile):\n",
      "“incomplete final line found on '/home/wyh/database/msigdb/HALLMARK_COMPLEMENT.v2023.1.Hs.gmt'”\n"
     ]
    }
   ],
   "source": [
    "complement_hallmarks = read.gmt(\"/home/wyh/database/msigdb/HALLMARK_COMPLEMENT.v2023.1.Hs.gmt\")"
   ]
  },
  {
   "cell_type": "code",
   "execution_count": 1485,
   "id": "2a61eb7b-157b-4662-98f1-0bbefd96b4a9",
   "metadata": {},
   "outputs": [
    {
     "name": "stderr",
     "output_type": "stream",
     "text": [
      "Warning message:\n",
      "“The following features are not present in the object: SERPINE1, not searching for symbol synonyms”\n",
      "Warning message:\n",
      "“The following features are not present in the object: CEBPB, CXCL1, HSPA1A, HSPA5, IL6, IRF1, MAFF, SERPINE1, TNFAIP3, not searching for symbol synonyms”\n"
     ]
    }
   ],
   "source": [
    "Fibroblast_iCAFs = AddModuleScore(Fibroblast_iCAFs,features = list(KEGG = c(complement_KEGG$gene),hallmarks = complement_hallmarks$gene),name = \"complement\")"
   ]
  },
  {
   "cell_type": "code",
   "execution_count": 1446,
   "id": "3602ff94-030c-48b5-8164-8662096097a1",
   "metadata": {},
   "outputs": [],
   "source": [
    "library(\"plotrix\")"
   ]
  },
  {
   "cell_type": "code",
   "execution_count": 1486,
   "id": "c1e4c976-8391-44a3-a276-b8c7599ae1da",
   "metadata": {
    "tags": []
   },
   "outputs": [],
   "source": [
    "expr_mean_list = list()"
   ]
  },
  {
   "cell_type": "code",
   "execution_count": 1511,
   "id": "cef6d228-b47a-406e-890c-6855fb46976c",
   "metadata": {},
   "outputs": [],
   "source": [
    "Clinical.stage = Fibroblast_iCAFs$Clinical.stage"
   ]
  },
  {
   "cell_type": "code",
   "execution_count": 1514,
   "id": "58837018-fdb4-4a4c-94a0-5e214914442b",
   "metadata": {},
   "outputs": [
    {
     "data": {
      "text/html": [
       "<table class=\"dataframe\">\n",
       "<caption>A data.frame: 6 × 6</caption>\n",
       "<thead>\n",
       "\t<tr><th></th><th scope=col>Group.1</th><th scope=col>expr</th><th scope=col>se</th><th scope=col>mean</th><th scope=col>group</th><th scope=col>Clinical.stage</th></tr>\n",
       "\t<tr><th></th><th scope=col>&lt;chr&gt;</th><th scope=col>&lt;dbl&gt;</th><th scope=col>&lt;dbl&gt;</th><th scope=col>&lt;dbl&gt;</th><th scope=col>&lt;chr&gt;</th><th scope=col>&lt;chr&gt;</th></tr>\n",
       "</thead>\n",
       "<tbody>\n",
       "\t<tr><th scope=row>I</th><td>I   </td><td>2.965389</td><td>0.26728351</td><td>2.965389</td><td>C3</td><td>I   </td></tr>\n",
       "\t<tr><th scope=row>IIB</th><td>IIB </td><td>2.777070</td><td>0.55646346</td><td>2.777070</td><td>C3</td><td>IIB </td></tr>\n",
       "\t<tr><th scope=row>IIIA</th><td>IIIA</td><td>3.500264</td><td>0.09814732</td><td>3.500264</td><td>C3</td><td>IIIA</td></tr>\n",
       "\t<tr><th scope=row>IIIB</th><td>IIIB</td><td>3.376990</td><td>0.06967922</td><td>3.376990</td><td>C3</td><td>IIIB</td></tr>\n",
       "\t<tr><th scope=row>IVA</th><td>IVA </td><td>3.189511</td><td>0.14954139</td><td>3.189511</td><td>C3</td><td>IVA </td></tr>\n",
       "\t<tr><th scope=row>IVB</th><td>IVB </td><td>2.855229</td><td>0.05679599</td><td>2.855229</td><td>C3</td><td>IVB </td></tr>\n",
       "</tbody>\n",
       "</table>\n"
      ],
      "text/latex": [
       "A data.frame: 6 × 6\n",
       "\\begin{tabular}{r|llllll}\n",
       "  & Group.1 & expr & se & mean & group & Clinical.stage\\\\\n",
       "  & <chr> & <dbl> & <dbl> & <dbl> & <chr> & <chr>\\\\\n",
       "\\hline\n",
       "\tI & I    & 2.965389 & 0.26728351 & 2.965389 & C3 & I   \\\\\n",
       "\tIIB & IIB  & 2.777070 & 0.55646346 & 2.777070 & C3 & IIB \\\\\n",
       "\tIIIA & IIIA & 3.500264 & 0.09814732 & 3.500264 & C3 & IIIA\\\\\n",
       "\tIIIB & IIIB & 3.376990 & 0.06967922 & 3.376990 & C3 & IIIB\\\\\n",
       "\tIVA & IVA  & 3.189511 & 0.14954139 & 3.189511 & C3 & IVA \\\\\n",
       "\tIVB & IVB  & 2.855229 & 0.05679599 & 2.855229 & C3 & IVB \\\\\n",
       "\\end{tabular}\n"
      ],
      "text/markdown": [
       "\n",
       "A data.frame: 6 × 6\n",
       "\n",
       "| <!--/--> | Group.1 &lt;chr&gt; | expr &lt;dbl&gt; | se &lt;dbl&gt; | mean &lt;dbl&gt; | group &lt;chr&gt; | Clinical.stage &lt;chr&gt; |\n",
       "|---|---|---|---|---|---|---|\n",
       "| I | I    | 2.965389 | 0.26728351 | 2.965389 | C3 | I    |\n",
       "| IIB | IIB  | 2.777070 | 0.55646346 | 2.777070 | C3 | IIB  |\n",
       "| IIIA | IIIA | 3.500264 | 0.09814732 | 3.500264 | C3 | IIIA |\n",
       "| IIIB | IIIB | 3.376990 | 0.06967922 | 3.376990 | C3 | IIIB |\n",
       "| IVA | IVA  | 3.189511 | 0.14954139 | 3.189511 | C3 | IVA  |\n",
       "| IVB | IVB  | 2.855229 | 0.05679599 | 2.855229 | C3 | IVB  |\n",
       "\n"
      ],
      "text/plain": [
       "     Group.1 expr     se         mean     group Clinical.stage\n",
       "I    I       2.965389 0.26728351 2.965389 C3    I             \n",
       "IIB  IIB     2.777070 0.55646346 2.777070 C3    IIB           \n",
       "IIIA IIIA    3.500264 0.09814732 3.500264 C3    IIIA          \n",
       "IIIB IIIB    3.376990 0.06967922 3.376990 C3    IIIB          \n",
       "IVA  IVA     3.189511 0.14954139 3.189511 C3    IVA           \n",
       "IVB  IVB     2.855229 0.05679599 2.855229 C3    IVB           "
      ]
     },
     "metadata": {},
     "output_type": "display_data"
    }
   ],
   "source": [
    "data_plot1 = data.frame(expr = GetAssayData(Fibroblast_iCAFs,slot = \"data\")[\"C3\",])\n",
    "expr_mean = aggregate(data_plot1, by = list(Clinical.stage), FUN = mean)\n",
    "expr_se = aggregate(data_plot1, by = list(Clinical.stage), FUN = std.error)\n",
    "expr_mean$se = expr_se$expr\n",
    "rownames(expr_mean) = expr_mean$`Group.1`\n",
    "expr_mean$mean = expr_mean$expr\n",
    "expr_mean$group = \"C3\"\n",
    "expr_mean$Clinical.stage = expr_mean$`Group.1`\n",
    "head(expr_mean)\n",
    "expr_mean_list[[1]] = expr_mean"
   ]
  },
  {
   "cell_type": "code",
   "execution_count": 1515,
   "id": "48f5b3ac-a090-4499-9ac1-f0bf21fd4c74",
   "metadata": {},
   "outputs": [
    {
     "data": {
      "text/html": [
       "<table class=\"dataframe\">\n",
       "<caption>A data.frame: 6 × 6</caption>\n",
       "<thead>\n",
       "\t<tr><th></th><th scope=col>Group.1</th><th scope=col>expr</th><th scope=col>se</th><th scope=col>mean</th><th scope=col>group</th><th scope=col>Clinical.stage</th></tr>\n",
       "\t<tr><th></th><th scope=col>&lt;chr&gt;</th><th scope=col>&lt;dbl&gt;</th><th scope=col>&lt;dbl&gt;</th><th scope=col>&lt;dbl&gt;</th><th scope=col>&lt;chr&gt;</th><th scope=col>&lt;chr&gt;</th></tr>\n",
       "</thead>\n",
       "<tbody>\n",
       "\t<tr><th scope=row>I</th><td>I   </td><td>1.487066</td><td>0.24448800</td><td>1.487066</td><td>CXCL12</td><td>I   </td></tr>\n",
       "\t<tr><th scope=row>IIB</th><td>IIB </td><td>2.119868</td><td>0.38650158</td><td>2.119868</td><td>CXCL12</td><td>IIB </td></tr>\n",
       "\t<tr><th scope=row>IIIA</th><td>IIIA</td><td>2.125140</td><td>0.10912654</td><td>2.125140</td><td>CXCL12</td><td>IIIA</td></tr>\n",
       "\t<tr><th scope=row>IIIB</th><td>IIIB</td><td>1.678185</td><td>0.05512369</td><td>1.678185</td><td>CXCL12</td><td>IIIB</td></tr>\n",
       "\t<tr><th scope=row>IVA</th><td>IVA </td><td>1.595540</td><td>0.10839971</td><td>1.595540</td><td>CXCL12</td><td>IVA </td></tr>\n",
       "\t<tr><th scope=row>IVB</th><td>IVB </td><td>1.481899</td><td>0.04331418</td><td>1.481899</td><td>CXCL12</td><td>IVB </td></tr>\n",
       "</tbody>\n",
       "</table>\n"
      ],
      "text/latex": [
       "A data.frame: 6 × 6\n",
       "\\begin{tabular}{r|llllll}\n",
       "  & Group.1 & expr & se & mean & group & Clinical.stage\\\\\n",
       "  & <chr> & <dbl> & <dbl> & <dbl> & <chr> & <chr>\\\\\n",
       "\\hline\n",
       "\tI & I    & 1.487066 & 0.24448800 & 1.487066 & CXCL12 & I   \\\\\n",
       "\tIIB & IIB  & 2.119868 & 0.38650158 & 2.119868 & CXCL12 & IIB \\\\\n",
       "\tIIIA & IIIA & 2.125140 & 0.10912654 & 2.125140 & CXCL12 & IIIA\\\\\n",
       "\tIIIB & IIIB & 1.678185 & 0.05512369 & 1.678185 & CXCL12 & IIIB\\\\\n",
       "\tIVA & IVA  & 1.595540 & 0.10839971 & 1.595540 & CXCL12 & IVA \\\\\n",
       "\tIVB & IVB  & 1.481899 & 0.04331418 & 1.481899 & CXCL12 & IVB \\\\\n",
       "\\end{tabular}\n"
      ],
      "text/markdown": [
       "\n",
       "A data.frame: 6 × 6\n",
       "\n",
       "| <!--/--> | Group.1 &lt;chr&gt; | expr &lt;dbl&gt; | se &lt;dbl&gt; | mean &lt;dbl&gt; | group &lt;chr&gt; | Clinical.stage &lt;chr&gt; |\n",
       "|---|---|---|---|---|---|---|\n",
       "| I | I    | 1.487066 | 0.24448800 | 1.487066 | CXCL12 | I    |\n",
       "| IIB | IIB  | 2.119868 | 0.38650158 | 2.119868 | CXCL12 | IIB  |\n",
       "| IIIA | IIIA | 2.125140 | 0.10912654 | 2.125140 | CXCL12 | IIIA |\n",
       "| IIIB | IIIB | 1.678185 | 0.05512369 | 1.678185 | CXCL12 | IIIB |\n",
       "| IVA | IVA  | 1.595540 | 0.10839971 | 1.595540 | CXCL12 | IVA  |\n",
       "| IVB | IVB  | 1.481899 | 0.04331418 | 1.481899 | CXCL12 | IVB  |\n",
       "\n"
      ],
      "text/plain": [
       "     Group.1 expr     se         mean     group  Clinical.stage\n",
       "I    I       1.487066 0.24448800 1.487066 CXCL12 I             \n",
       "IIB  IIB     2.119868 0.38650158 2.119868 CXCL12 IIB           \n",
       "IIIA IIIA    2.125140 0.10912654 2.125140 CXCL12 IIIA          \n",
       "IIIB IIIB    1.678185 0.05512369 1.678185 CXCL12 IIIB          \n",
       "IVA  IVA     1.595540 0.10839971 1.595540 CXCL12 IVA           \n",
       "IVB  IVB     1.481899 0.04331418 1.481899 CXCL12 IVB           "
      ]
     },
     "metadata": {},
     "output_type": "display_data"
    }
   ],
   "source": [
    "data_plot1 = data.frame(expr = GetAssayData(Fibroblast_iCAFs,slot = \"data\")[\"CXCL12\",])\n",
    "expr_mean = aggregate(data_plot1, by = list(Clinical.stage), FUN = mean)\n",
    "expr_se = aggregate(data_plot1, by = list(Clinical.stage), FUN = std.error)\n",
    "expr_mean$se = expr_se$expr\n",
    "rownames(expr_mean) = expr_mean$`Group.1`\n",
    "expr_mean$mean = expr_mean$expr\n",
    "expr_mean$group = \"CXCL12\"\n",
    "expr_mean$Clinical.stage = expr_mean$`Group.1`\n",
    "head(expr_mean)\n",
    "expr_mean_list[[2]] = expr_mean"
   ]
  },
  {
   "cell_type": "code",
   "execution_count": 1516,
   "id": "b8a07b44-2d4a-4c27-a536-60112b279ba3",
   "metadata": {},
   "outputs": [
    {
     "data": {
      "text/html": [
       "<table class=\"dataframe\">\n",
       "<caption>A data.frame: 6 × 6</caption>\n",
       "<thead>\n",
       "\t<tr><th></th><th scope=col>Group.1</th><th scope=col>expr</th><th scope=col>se</th><th scope=col>mean</th><th scope=col>group</th><th scope=col>Clinical.stage</th></tr>\n",
       "\t<tr><th></th><th scope=col>&lt;chr&gt;</th><th scope=col>&lt;dbl&gt;</th><th scope=col>&lt;dbl&gt;</th><th scope=col>&lt;dbl&gt;</th><th scope=col>&lt;chr&gt;</th><th scope=col>&lt;chr&gt;</th></tr>\n",
       "</thead>\n",
       "<tbody>\n",
       "\t<tr><th scope=row>I</th><td>I   </td><td>1.3477766</td><td>0.25572914</td><td>1.3477766</td><td>VEGFB</td><td>I   </td></tr>\n",
       "\t<tr><th scope=row>IIB</th><td>IIB </td><td>1.2145548</td><td>0.32599396</td><td>1.2145548</td><td>VEGFB</td><td>IIB </td></tr>\n",
       "\t<tr><th scope=row>IIIA</th><td>IIIA</td><td>0.6474047</td><td>0.07111329</td><td>0.6474047</td><td>VEGFB</td><td>IIIA</td></tr>\n",
       "\t<tr><th scope=row>IIIB</th><td>IIIB</td><td>1.2948003</td><td>0.04865888</td><td>1.2948003</td><td>VEGFB</td><td>IIIB</td></tr>\n",
       "\t<tr><th scope=row>IVA</th><td>IVA </td><td>1.3939614</td><td>0.08706542</td><td>1.3939614</td><td>VEGFB</td><td>IVA </td></tr>\n",
       "\t<tr><th scope=row>IVB</th><td>IVB </td><td>1.2154186</td><td>0.03956221</td><td>1.2154186</td><td>VEGFB</td><td>IVB </td></tr>\n",
       "</tbody>\n",
       "</table>\n"
      ],
      "text/latex": [
       "A data.frame: 6 × 6\n",
       "\\begin{tabular}{r|llllll}\n",
       "  & Group.1 & expr & se & mean & group & Clinical.stage\\\\\n",
       "  & <chr> & <dbl> & <dbl> & <dbl> & <chr> & <chr>\\\\\n",
       "\\hline\n",
       "\tI & I    & 1.3477766 & 0.25572914 & 1.3477766 & VEGFB & I   \\\\\n",
       "\tIIB & IIB  & 1.2145548 & 0.32599396 & 1.2145548 & VEGFB & IIB \\\\\n",
       "\tIIIA & IIIA & 0.6474047 & 0.07111329 & 0.6474047 & VEGFB & IIIA\\\\\n",
       "\tIIIB & IIIB & 1.2948003 & 0.04865888 & 1.2948003 & VEGFB & IIIB\\\\\n",
       "\tIVA & IVA  & 1.3939614 & 0.08706542 & 1.3939614 & VEGFB & IVA \\\\\n",
       "\tIVB & IVB  & 1.2154186 & 0.03956221 & 1.2154186 & VEGFB & IVB \\\\\n",
       "\\end{tabular}\n"
      ],
      "text/markdown": [
       "\n",
       "A data.frame: 6 × 6\n",
       "\n",
       "| <!--/--> | Group.1 &lt;chr&gt; | expr &lt;dbl&gt; | se &lt;dbl&gt; | mean &lt;dbl&gt; | group &lt;chr&gt; | Clinical.stage &lt;chr&gt; |\n",
       "|---|---|---|---|---|---|---|\n",
       "| I | I    | 1.3477766 | 0.25572914 | 1.3477766 | VEGFB | I    |\n",
       "| IIB | IIB  | 1.2145548 | 0.32599396 | 1.2145548 | VEGFB | IIB  |\n",
       "| IIIA | IIIA | 0.6474047 | 0.07111329 | 0.6474047 | VEGFB | IIIA |\n",
       "| IIIB | IIIB | 1.2948003 | 0.04865888 | 1.2948003 | VEGFB | IIIB |\n",
       "| IVA | IVA  | 1.3939614 | 0.08706542 | 1.3939614 | VEGFB | IVA  |\n",
       "| IVB | IVB  | 1.2154186 | 0.03956221 | 1.2154186 | VEGFB | IVB  |\n",
       "\n"
      ],
      "text/plain": [
       "     Group.1 expr      se         mean      group Clinical.stage\n",
       "I    I       1.3477766 0.25572914 1.3477766 VEGFB I             \n",
       "IIB  IIB     1.2145548 0.32599396 1.2145548 VEGFB IIB           \n",
       "IIIA IIIA    0.6474047 0.07111329 0.6474047 VEGFB IIIA          \n",
       "IIIB IIIB    1.2948003 0.04865888 1.2948003 VEGFB IIIB          \n",
       "IVA  IVA     1.3939614 0.08706542 1.3939614 VEGFB IVA           \n",
       "IVB  IVB     1.2154186 0.03956221 1.2154186 VEGFB IVB           "
      ]
     },
     "metadata": {},
     "output_type": "display_data"
    }
   ],
   "source": [
    "data_plot1 = data.frame(expr = GetAssayData(Fibroblast_iCAFs,slot = \"data\")[\"VEGFB\",])\n",
    "expr_mean = aggregate(data_plot1, by = list(Clinical.stage), FUN = mean)\n",
    "expr_se = aggregate(data_plot1, by = list(Clinical.stage), FUN = std.error)\n",
    "expr_mean$se = expr_se$expr\n",
    "rownames(expr_mean) = expr_mean$`Group.1`\n",
    "expr_mean$mean = expr_mean$expr\n",
    "expr_mean$group = \"VEGFB\"\n",
    "expr_mean$Clinical.stage = expr_mean$`Group.1`\n",
    "head(expr_mean)\n",
    "expr_mean_list[[3]] = expr_mean"
   ]
  },
  {
   "cell_type": "code",
   "execution_count": 1494,
   "id": "3a10d0d7-9440-4fa0-b20a-9f09600b51bb",
   "metadata": {},
   "outputs": [
    {
     "data": {
      "text/html": [
       "<table class=\"dataframe\">\n",
       "<caption>A data.frame: 6 × 6</caption>\n",
       "<thead>\n",
       "\t<tr><th></th><th scope=col>Group.1</th><th scope=col>expr</th><th scope=col>se</th><th scope=col>mean</th><th scope=col>group</th><th scope=col>Clinical.stage</th></tr>\n",
       "\t<tr><th></th><th scope=col>&lt;chr&gt;</th><th scope=col>&lt;dbl&gt;</th><th scope=col>&lt;dbl&gt;</th><th scope=col>&lt;dbl&gt;</th><th scope=col>&lt;chr&gt;</th><th scope=col>&lt;chr&gt;</th></tr>\n",
       "</thead>\n",
       "<tbody>\n",
       "\t<tr><th scope=row>I</th><td>I   </td><td>0.1492142</td><td>0.008617089</td><td>0.1492142</td><td>hallmarks_complement</td><td>I   </td></tr>\n",
       "\t<tr><th scope=row>IIB</th><td>IIB </td><td>0.1563351</td><td>0.023111801</td><td>0.1563351</td><td>hallmarks_complement</td><td>IIB </td></tr>\n",
       "\t<tr><th scope=row>IIIA</th><td>IIIA</td><td>0.1696217</td><td>0.003709209</td><td>0.1696217</td><td>hallmarks_complement</td><td>IIIA</td></tr>\n",
       "\t<tr><th scope=row>IIIB</th><td>IIIB</td><td>0.1674165</td><td>0.002619912</td><td>0.1674165</td><td>hallmarks_complement</td><td>IIIB</td></tr>\n",
       "\t<tr><th scope=row>IVA</th><td>IVA </td><td>0.1684194</td><td>0.001645365</td><td>0.1684194</td><td>hallmarks_complement</td><td>IVA </td></tr>\n",
       "\t<tr><th scope=row>IVB</th><td>IVB </td><td>0.1475060</td><td>0.001002042</td><td>0.1475060</td><td>hallmarks_complement</td><td>IVB </td></tr>\n",
       "</tbody>\n",
       "</table>\n"
      ],
      "text/latex": [
       "A data.frame: 6 × 6\n",
       "\\begin{tabular}{r|llllll}\n",
       "  & Group.1 & expr & se & mean & group & Clinical.stage\\\\\n",
       "  & <chr> & <dbl> & <dbl> & <dbl> & <chr> & <chr>\\\\\n",
       "\\hline\n",
       "\tI & I    & 0.1492142 & 0.008617089 & 0.1492142 & hallmarks\\_complement & I   \\\\\n",
       "\tIIB & IIB  & 0.1563351 & 0.023111801 & 0.1563351 & hallmarks\\_complement & IIB \\\\\n",
       "\tIIIA & IIIA & 0.1696217 & 0.003709209 & 0.1696217 & hallmarks\\_complement & IIIA\\\\\n",
       "\tIIIB & IIIB & 0.1674165 & 0.002619912 & 0.1674165 & hallmarks\\_complement & IIIB\\\\\n",
       "\tIVA & IVA  & 0.1684194 & 0.001645365 & 0.1684194 & hallmarks\\_complement & IVA \\\\\n",
       "\tIVB & IVB  & 0.1475060 & 0.001002042 & 0.1475060 & hallmarks\\_complement & IVB \\\\\n",
       "\\end{tabular}\n"
      ],
      "text/markdown": [
       "\n",
       "A data.frame: 6 × 6\n",
       "\n",
       "| <!--/--> | Group.1 &lt;chr&gt; | expr &lt;dbl&gt; | se &lt;dbl&gt; | mean &lt;dbl&gt; | group &lt;chr&gt; | Clinical.stage &lt;chr&gt; |\n",
       "|---|---|---|---|---|---|---|\n",
       "| I | I    | 0.1492142 | 0.008617089 | 0.1492142 | hallmarks_complement | I    |\n",
       "| IIB | IIB  | 0.1563351 | 0.023111801 | 0.1563351 | hallmarks_complement | IIB  |\n",
       "| IIIA | IIIA | 0.1696217 | 0.003709209 | 0.1696217 | hallmarks_complement | IIIA |\n",
       "| IIIB | IIIB | 0.1674165 | 0.002619912 | 0.1674165 | hallmarks_complement | IIIB |\n",
       "| IVA | IVA  | 0.1684194 | 0.001645365 | 0.1684194 | hallmarks_complement | IVA  |\n",
       "| IVB | IVB  | 0.1475060 | 0.001002042 | 0.1475060 | hallmarks_complement | IVB  |\n",
       "\n"
      ],
      "text/plain": [
       "     Group.1 expr      se          mean      group               \n",
       "I    I       0.1492142 0.008617089 0.1492142 hallmarks_complement\n",
       "IIB  IIB     0.1563351 0.023111801 0.1563351 hallmarks_complement\n",
       "IIIA IIIA    0.1696217 0.003709209 0.1696217 hallmarks_complement\n",
       "IIIB IIIB    0.1674165 0.002619912 0.1674165 hallmarks_complement\n",
       "IVA  IVA     0.1684194 0.001645365 0.1684194 hallmarks_complement\n",
       "IVB  IVB     0.1475060 0.001002042 0.1475060 hallmarks_complement\n",
       "     Clinical.stage\n",
       "I    I             \n",
       "IIB  IIB           \n",
       "IIIA IIIA          \n",
       "IIIB IIIB          \n",
       "IVA  IVA           \n",
       "IVB  IVB           "
      ]
     },
     "metadata": {},
     "output_type": "display_data"
    }
   ],
   "source": [
    "data_plot1 = data.frame(expr = Fibroblast_iCAFs$complement2)\n",
    "expr_mean = aggregate(data_plot1, by = list(Clinical.stage), FUN = mean)\n",
    "expr_se = aggregate(data_plot1, by = list(Clinical.stage), FUN = std.error)\n",
    "expr_mean$se = expr_se$expr\n",
    "rownames(expr_mean) = expr_mean$`Group.1`\n",
    "expr_mean$mean = expr_mean$expr\n",
    "expr_mean$group = \"hallmarks_complement\"\n",
    "expr_mean$Clinical.stage = expr_mean$`Group.1`\n",
    "head(expr_mean)\n",
    "expr_mean_list[[5]] = expr_mean"
   ]
  },
  {
   "cell_type": "code",
   "execution_count": 1497,
   "id": "a8981783-41c0-4a1b-ab21-2e50d24d2861",
   "metadata": {},
   "outputs": [],
   "source": [
    "data_plot2 = data.frame(expr = GetAssayData(Fibroblast_iCAFs,slot = \"data\")[\"VEGFB\",],complement = Fibroblast_iCAFs$complement2)"
   ]
  },
  {
   "cell_type": "code",
   "execution_count": 1498,
   "id": "9834ebab-fa1c-478d-855b-32b6ec87554c",
   "metadata": {},
   "outputs": [
    {
     "data": {
      "text/plain": [
       "\n",
       "\tPearson's product-moment correlation\n",
       "\n",
       "data:  data_plot2$expr and data_plot2$complement\n",
       "t = 4.7174, df = 3094, p-value = 2.494e-06\n",
       "alternative hypothesis: true correlation is not equal to 0\n",
       "95 percent confidence interval:\n",
       " 0.04942583 0.11937776\n",
       "sample estimates:\n",
       "       cor \n",
       "0.08450592 \n"
      ]
     },
     "metadata": {},
     "output_type": "display_data"
    }
   ],
   "source": [
    "cor.test(data_plot2$expr,data_plot2$complement)"
   ]
  },
  {
   "cell_type": "code",
   "execution_count": 1499,
   "id": "7944e3f7-03a4-4b90-9b82-51d6252c7bf4",
   "metadata": {
    "tags": []
   },
   "outputs": [],
   "source": [
    "expr_mean_df = do.call(rbind,expr_mean_list)"
   ]
  },
  {
   "cell_type": "code",
   "execution_count": 1500,
   "id": "d1ecee7b-f2cb-416a-894b-acb8b28835f3",
   "metadata": {},
   "outputs": [
    {
     "data": {
      "image/png": "[encoded data removed]",
      "text/plain": [
       "plot without title"
      ]
     },
     "metadata": {
      "image/png": {
       "height": 420,
       "width": 420
      }
     },
     "output_type": "display_data"
    }
   ],
   "source": [
    "ggplot(expr_mean_df,aes(Clinical.stage,mean,group = group))+\n",
    "  geom_ribbon(aes(ymin=mean-se,ymax=mean+se),fill='#e3e3e3')+\n",
    "  #geom_line(color=c('#B7916C'),size=1)+\n",
    "  #geom_point(color='#B7916C',size=2)+\n",
    "  geom_line(aes(color=group),size=1)+\n",
    "  geom_point(color='#B7916C',size=2)+\n",
    "  facet_grid(.~group)+\n",
    "  theme(panel.background = element_blank(),\n",
    "        panel.grid = element_line(color=\"white\"),\n",
    "        # axis.title = element_blank(),\n",
    "        #axis.ticks = element_blank(),\n",
    "        axis.text.x=element_text(colour='black',size=12,angle = 45,hjust = 1))+\n",
    "  ggtitle('complement')+theme(axis.line=element_line(colour='black',size=1,lineend = 'square'))+\n",
    "  theme (axis.text.x = element_text (colour='black', size=12, angle=45), \n",
    "         axis.text.y = element_text (colour='black',size=12, angle=45))+\n",
    "  labs(x='Stage',y='C3')"
   ]
  },
  {
   "cell_type": "code",
   "execution_count": 1518,
   "id": "515dfb50-a423-424b-bb2b-4e0f86836f08",
   "metadata": {},
   "outputs": [
    {
     "data": {
      "image/png": "[encoded data removed]",
      "text/plain": [
       "plot without title"
      ]
     },
     "metadata": {
      "image/png": {
       "height": 420,
       "width": 420
      }
     },
     "output_type": "display_data"
    }
   ],
   "source": [
    "ggplot(expr_mean_list[[3]],aes(Clinical.stage,mean,group = group))+\n",
    "  geom_ribbon(aes(ymin=mean-se,ymax=mean+se),fill='#e3e3e3')+\n",
    "  #geom_line(color=c('#B7916C'),size=1)+\n",
    "  #geom_point(color='#B7916C',size=2)+\n",
    "  geom_line(aes(color=group),size=1)+\n",
    "  geom_point(color='#B7916C',size=2)+\n",
    "  theme(panel.background = element_blank(),\n",
    "        panel.grid = element_line(color=\"white\"),\n",
    "        # axis.title = element_blank(),\n",
    "        #axis.ticks = element_blank(),\n",
    "        axis.text.x=element_text(colour='black',size=12,angle = 45,hjust = 1))+\n",
    "  ggtitle('VEGFB')+theme(axis.line=element_line(colour='black',size=1,lineend = 'square'))+\n",
    "  theme (axis.text.x = element_text (colour='black', size=12, angle=45), \n",
    "         axis.text.y = element_text (colour='black',size=12, angle=45))+\n",
    "  labs(x='Stage',y='C3')"
   ]
  },
  {
   "cell_type": "code",
   "execution_count": 1501,
   "id": "bfba516b-3572-410d-8d9d-9213ac295fe2",
   "metadata": {},
   "outputs": [
    {
     "data": {
      "image/png": "[encoded data removed]",
      "text/plain": [
       "plot without title"
      ]
     },
     "metadata": {
      "image/png": {
       "height": 420,
       "width": 420
      }
     },
     "output_type": "display_data"
    }
   ],
   "source": [
    "ggplot(expr_mean_df[expr_mean_df$group %in% c(\"KEGG_complement\",'hallmarks_complement'),],aes(Clinical.stage,mean,group = group))+\n",
    "  geom_ribbon(aes(ymin=mean-se,ymax=mean+se),fill='#e3e3e3')+\n",
    "  #geom_line(color=c('#B7916C'),size=1)+\n",
    "  #geom_point(color='#B7916C',size=2)+\n",
    "  geom_line(aes(color=group),size=1)+\n",
    "  geom_point(color='#B7916C',size=2)+\n",
    "  facet_grid(.~group)+\n",
    "  theme(panel.background = element_blank(),\n",
    "        panel.grid = element_line(color=\"white\"),\n",
    "        # axis.title = element_blank(),\n",
    "        #axis.ticks = element_blank(),\n",
    "        axis.text.x=element_text(colour='black',size=12,angle = 45,hjust = 1))+\n",
    "  ggtitle('complement')+theme(axis.line=element_line(colour='black',size=1,lineend = 'square'))+\n",
    "  theme (axis.text.x = element_text (colour='black', size=12, angle=45), \n",
    "         axis.text.y = element_text (colour='black',size=12, angle=45))+\n",
    "  labs(x='Stage',y='C3')"
   ]
  },
  {
   "cell_type": "code",
   "execution_count": 1036,
   "id": "a005ae30-535b-4020-9529-f894ab6292a9",
   "metadata": {},
   "outputs": [
    {
     "data": {
      "text/html": [
       "<strong>png:</strong> 2"
      ],
      "text/latex": [
       "\\textbf{png:} 2"
      ],
      "text/markdown": [
       "**png:** 2"
      ],
      "text/plain": [
       "png \n",
       "  2 "
      ]
     },
     "metadata": {},
     "output_type": "display_data"
    }
   ],
   "source": [
    "pdf(\"./figures/complement.pdf\",width = 10,height = 3)\n",
    "ggplot(expr_mean_df,aes(Clinical.stage,mean,group = group))+\n",
    "  geom_ribbon(aes(ymin=mean-se,ymax=mean+se),fill='#e3e3e3')+\n",
    "  #geom_line(color=c('#B7916C'),size=1)+\n",
    "  #geom_point(color='#B7916C',size=2)+\n",
    "  geom_line(aes(color=group),size=1)+\n",
    "  geom_point(color='#B7916C',size=2)+\n",
    "  facet_grid(.~group)+\n",
    "  theme(panel.background = element_blank(),\n",
    "        panel.grid = element_line(color=\"white\"),\n",
    "        # axis.title = element_blank(),\n",
    "        #axis.ticks = element_blank(),\n",
    "        axis.text.x=element_text(colour='black',size=12,angle = 45,hjust = 1))+\n",
    "  ggtitle('complement')+theme(axis.line=element_line(colour='black',size=1,lineend = 'square'))+\n",
    "  theme (axis.text.x = element_text (colour='black', size=12, angle=45), \n",
    "         axis.text.y = element_text (colour='black',size=12, angle=45))+\n",
    "  labs(x='Stage',y='C3')\n",
    "dev.off()"
   ]
  },
  {
   "cell_type": "code",
   "execution_count": 1037,
   "id": "6edfcf06-8a10-40e6-9a85-6077a9e3f798",
   "metadata": {},
   "outputs": [
    {
     "data": {
      "text/html": [
       "<strong>png:</strong> 2"
      ],
      "text/latex": [
       "\\textbf{png:} 2"
      ],
      "text/markdown": [
       "**png:** 2"
      ],
      "text/plain": [
       "png \n",
       "  2 "
      ]
     },
     "metadata": {},
     "output_type": "display_data"
    }
   ],
   "source": [
    "pdf(\"./figures/complementV2.pdf\",width = 6,height = 3)\n",
    "ggplot(expr_mean_df[expr_mean_df$group %in% c(\"KEGG_complement\",'hallmarks_complement'),],aes(Clinical.stage,mean,group = group))+\n",
    "  geom_ribbon(aes(ymin=mean-se,ymax=mean+se),fill='#e3e3e3')+\n",
    "  #geom_line(color=c('#B7916C'),size=1)+\n",
    "  #geom_point(color='#B7916C',size=2)+\n",
    "  geom_line(aes(color=group),size=1)+\n",
    "  geom_point(color='#B7916C',size=2)+\n",
    "  facet_grid(.~group)+\n",
    "  theme(panel.background = element_blank(),\n",
    "        panel.grid = element_line(color=\"white\"),\n",
    "        # axis.title = element_blank(),\n",
    "        #axis.ticks = element_blank(),\n",
    "        axis.text.x=element_text(colour='black',size=12,angle = 45,hjust = 1))+\n",
    "  ggtitle('complement')+theme(axis.line=element_line(colour='black',size=1,lineend = 'square'))+\n",
    "  theme (axis.text.x = element_text (colour='black', size=12, angle=45), \n",
    "         axis.text.y = element_text (colour='black',size=12, angle=45))+\n",
    "  labs(x='Stage',y='C3')\n",
    "dev.off()"
   ]
  },
  {
   "cell_type": "markdown",
   "id": "e87d276b-823e-4e96-9d34-9ec0006feadb",
   "metadata": {},
   "source": [
    "## figureS7H difference between P_Mets and P"
   ]
  },
  {
   "cell_type": "code",
   "execution_count": 1099,
   "id": "4fb2bf27-de69-41de-8911-2868c34027a5",
   "metadata": {},
   "outputs": [],
   "source": [
    "Fibroblast_iCAFs$metastasis.type[Fibroblast_iCAFs$metastasis.type %in% c(\"P_LN\",\"P_LM\")] = \"P_Metas\""
   ]
  },
  {
   "cell_type": "code",
   "execution_count": 1107,
   "id": "80423b1c-6984-4e8d-a79b-89a7eb7c1f18",
   "metadata": {},
   "outputs": [],
   "source": [
    "markers_P_metas = FindMarkers(Fibroblast_iCAFs,group.by = \"metastasis.type\",ident.1 = \"P_Metas\",ident.2 = \"P\",min.pct = 0.20)"
   ]
  },
  {
   "cell_type": "code",
   "execution_count": 1102,
   "id": "f9d442b9-01c3-4593-8811-2f0bd9f5e6f9",
   "metadata": {},
   "outputs": [],
   "source": [
    "write.csv(markers_P_metas,\"./group_compare/Fibroblast_iCAFs.markers.csv\")"
   ]
  },
  {
   "cell_type": "code",
   "execution_count": 4,
   "id": "c9715d06-b26c-40e1-a1e9-f20e7f44b89e",
   "metadata": {},
   "outputs": [],
   "source": [
    "markers_P_metas = read.csv(\"./group_compare/Fibroblast_iCAFs.markers.csv\",row.name = 1)"
   ]
  },
  {
   "cell_type": "code",
   "execution_count": 5,
   "id": "d7c52845-3f75-4c71-a0de-e824e4584226",
   "metadata": {},
   "outputs": [
    {
     "data": {
      "text/html": [
       "<table class=\"dataframe\">\n",
       "<caption>A data.frame: 6 × 5</caption>\n",
       "<thead>\n",
       "\t<tr><th></th><th scope=col>p_val</th><th scope=col>avg_log2FC</th><th scope=col>pct.1</th><th scope=col>pct.2</th><th scope=col>p_val_adj</th></tr>\n",
       "\t<tr><th></th><th scope=col>&lt;dbl&gt;</th><th scope=col>&lt;dbl&gt;</th><th scope=col>&lt;dbl&gt;</th><th scope=col>&lt;dbl&gt;</th><th scope=col>&lt;dbl&gt;</th></tr>\n",
       "</thead>\n",
       "<tbody>\n",
       "\t<tr><th scope=row>AC005343.4</th><td>3.267587e-159</td><td>-0.4278258</td><td>0.000</td><td>0.168</td><td>1.043177e-154</td></tr>\n",
       "\t<tr><th scope=row>C11orf96</th><td> 2.479083e-29</td><td> 1.2640175</td><td>0.837</td><td>0.751</td><td> 7.914472e-25</td></tr>\n",
       "\t<tr><th scope=row>GATD3A</th><td> 6.824323e-28</td><td>-0.3342447</td><td>0.040</td><td>0.168</td><td> 2.178665e-23</td></tr>\n",
       "\t<tr><th scope=row>COL4A4</th><td> 6.588656e-19</td><td>-0.5341989</td><td>0.153</td><td>0.327</td><td> 2.103428e-14</td></tr>\n",
       "\t<tr><th scope=row>MT1G</th><td> 1.127850e-17</td><td>-0.7844910</td><td>0.045</td><td>0.147</td><td> 3.600660e-13</td></tr>\n",
       "\t<tr><th scope=row>CRLF1</th><td> 3.358351e-17</td><td>-0.5753393</td><td>0.084</td><td>0.215</td><td> 1.072154e-12</td></tr>\n",
       "</tbody>\n",
       "</table>\n"
      ],
      "text/latex": [
       "A data.frame: 6 × 5\n",
       "\\begin{tabular}{r|lllll}\n",
       "  & p\\_val & avg\\_log2FC & pct.1 & pct.2 & p\\_val\\_adj\\\\\n",
       "  & <dbl> & <dbl> & <dbl> & <dbl> & <dbl>\\\\\n",
       "\\hline\n",
       "\tAC005343.4 & 3.267587e-159 & -0.4278258 & 0.000 & 0.168 & 1.043177e-154\\\\\n",
       "\tC11orf96 &  2.479083e-29 &  1.2640175 & 0.837 & 0.751 &  7.914472e-25\\\\\n",
       "\tGATD3A &  6.824323e-28 & -0.3342447 & 0.040 & 0.168 &  2.178665e-23\\\\\n",
       "\tCOL4A4 &  6.588656e-19 & -0.5341989 & 0.153 & 0.327 &  2.103428e-14\\\\\n",
       "\tMT1G &  1.127850e-17 & -0.7844910 & 0.045 & 0.147 &  3.600660e-13\\\\\n",
       "\tCRLF1 &  3.358351e-17 & -0.5753393 & 0.084 & 0.215 &  1.072154e-12\\\\\n",
       "\\end{tabular}\n"
      ],
      "text/markdown": [
       "\n",
       "A data.frame: 6 × 5\n",
       "\n",
       "| <!--/--> | p_val &lt;dbl&gt; | avg_log2FC &lt;dbl&gt; | pct.1 &lt;dbl&gt; | pct.2 &lt;dbl&gt; | p_val_adj &lt;dbl&gt; |\n",
       "|---|---|---|---|---|---|\n",
       "| AC005343.4 | 3.267587e-159 | -0.4278258 | 0.000 | 0.168 | 1.043177e-154 |\n",
       "| C11orf96 |  2.479083e-29 |  1.2640175 | 0.837 | 0.751 |  7.914472e-25 |\n",
       "| GATD3A |  6.824323e-28 | -0.3342447 | 0.040 | 0.168 |  2.178665e-23 |\n",
       "| COL4A4 |  6.588656e-19 | -0.5341989 | 0.153 | 0.327 |  2.103428e-14 |\n",
       "| MT1G |  1.127850e-17 | -0.7844910 | 0.045 | 0.147 |  3.600660e-13 |\n",
       "| CRLF1 |  3.358351e-17 | -0.5753393 | 0.084 | 0.215 |  1.072154e-12 |\n",
       "\n"
      ],
      "text/plain": [
       "           p_val         avg_log2FC pct.1 pct.2 p_val_adj    \n",
       "AC005343.4 3.267587e-159 -0.4278258 0.000 0.168 1.043177e-154\n",
       "C11orf96    2.479083e-29  1.2640175 0.837 0.751  7.914472e-25\n",
       "GATD3A      6.824323e-28 -0.3342447 0.040 0.168  2.178665e-23\n",
       "COL4A4      6.588656e-19 -0.5341989 0.153 0.327  2.103428e-14\n",
       "MT1G        1.127850e-17 -0.7844910 0.045 0.147  3.600660e-13\n",
       "CRLF1       3.358351e-17 -0.5753393 0.084 0.215  1.072154e-12"
      ]
     },
     "metadata": {},
     "output_type": "display_data"
    }
   ],
   "source": [
    "head(markers_P_metas)"
   ]
  },
  {
   "cell_type": "code",
   "execution_count": 6,
   "id": "66da7d4d-7311-41be-b895-5e3f42464d4d",
   "metadata": {
    "tags": []
   },
   "outputs": [],
   "source": [
    "markers_P_metas$gene = rownames(markers_P_metas)"
   ]
  },
  {
   "cell_type": "code",
   "execution_count": 673,
   "id": "81ffa720-8fe2-42ae-b599-76dfbb4626d4",
   "metadata": {
    "tags": []
   },
   "outputs": [
    {
     "data": {
      "text/html": [
       "<strong>png:</strong> 2"
      ],
      "text/latex": [
       "\\textbf{png:} 2"
      ],
      "text/markdown": [
       "**png:** 2"
      ],
      "text/plain": [
       "png \n",
       "  2 "
      ]
     },
     "metadata": {},
     "output_type": "display_data"
    }
   ],
   "source": [
    "markers_P_metas_plot = markers_P_metas[markers_P_metas$gene!=\"AC005343.4\",]\n",
    "colnames(markers_P_metas_plot) = c(\"Pvalue\",\"logFC\",\"pct.1\",\"pct.2\",\"qvalue\",\"gene\")\n",
    "pdf(\"/home/wyh/scdata/combined_data/fibroblast/submit/markers_P_metas_plot.pdf\",height = 5,width = 4)\n",
    "EnhancedVolcano::EnhancedVolcano(markers_P_metas_plot,\n",
    "                title = \"Differential expression\", subtitle = \"\",\n",
    "                selectLab = c(\"VEGFB\",'HIF1A','CFD','CLU'),\n",
    "                drawConnectors = TRUE, widthConnectors = 0.5, colConnectors = 'black', boxedLabels = TRUE,\n",
    "                lab = markers_P_metas_plot$gene,\n",
    "                col = c(\"grey30\", \"forestgreen\", '#5956c8', '#dd3e34'),\n",
    "                x = 'logFC',\n",
    "                y = 'qvalue',\n",
    "                xlim = c(-2, 2),\n",
    "                FCcutoff = 0.25,\n",
    "                pCutoff = 10e-2,\n",
    "                legendLabSize = 10)+xlab(expression(paste(\"logFC\",frac(\"P_Metas\",\"P\"))))\n",
    "dev.off()"
   ]
  },
  {
   "cell_type": "code",
   "execution_count": 250,
   "id": "5a5c4c34-b09f-432e-b5d1-6500ecb6001c",
   "metadata": {
    "tags": []
   },
   "outputs": [
    {
     "data": {
      "text/html": [
       "<table class=\"dataframe\">\n",
       "<caption>A data.frame: 6 × 6</caption>\n",
       "<thead>\n",
       "\t<tr><th></th><th scope=col>p_val</th><th scope=col>avg_log2FC</th><th scope=col>pct.1</th><th scope=col>pct.2</th><th scope=col>p_val_adj</th><th scope=col>gene</th></tr>\n",
       "\t<tr><th></th><th scope=col>&lt;dbl&gt;</th><th scope=col>&lt;dbl&gt;</th><th scope=col>&lt;dbl&gt;</th><th scope=col>&lt;dbl&gt;</th><th scope=col>&lt;dbl&gt;</th><th scope=col>&lt;chr&gt;</th></tr>\n",
       "</thead>\n",
       "<tbody>\n",
       "\t<tr><th scope=row>AC005343.4</th><td>3.267587e-159</td><td>-0.4278258</td><td>0.000</td><td>0.168</td><td>1.043177e-154</td><td>AC005343.4</td></tr>\n",
       "\t<tr><th scope=row>C11orf96</th><td> 2.479083e-29</td><td> 1.2640175</td><td>0.837</td><td>0.751</td><td> 7.914472e-25</td><td>C11orf96  </td></tr>\n",
       "\t<tr><th scope=row>GATD3A</th><td> 6.824323e-28</td><td>-0.3342447</td><td>0.040</td><td>0.168</td><td> 2.178665e-23</td><td>GATD3A    </td></tr>\n",
       "\t<tr><th scope=row>COL4A4</th><td> 6.588656e-19</td><td>-0.5341989</td><td>0.153</td><td>0.327</td><td> 2.103428e-14</td><td>COL4A4    </td></tr>\n",
       "\t<tr><th scope=row>MT1G</th><td> 1.127850e-17</td><td>-0.7844910</td><td>0.045</td><td>0.147</td><td> 3.600660e-13</td><td>MT1G      </td></tr>\n",
       "\t<tr><th scope=row>CRLF1</th><td> 3.358351e-17</td><td>-0.5753393</td><td>0.084</td><td>0.215</td><td> 1.072154e-12</td><td>CRLF1     </td></tr>\n",
       "</tbody>\n",
       "</table>\n"
      ],
      "text/latex": [
       "A data.frame: 6 × 6\n",
       "\\begin{tabular}{r|llllll}\n",
       "  & p\\_val & avg\\_log2FC & pct.1 & pct.2 & p\\_val\\_adj & gene\\\\\n",
       "  & <dbl> & <dbl> & <dbl> & <dbl> & <dbl> & <chr>\\\\\n",
       "\\hline\n",
       "\tAC005343.4 & 3.267587e-159 & -0.4278258 & 0.000 & 0.168 & 1.043177e-154 & AC005343.4\\\\\n",
       "\tC11orf96 &  2.479083e-29 &  1.2640175 & 0.837 & 0.751 &  7.914472e-25 & C11orf96  \\\\\n",
       "\tGATD3A &  6.824323e-28 & -0.3342447 & 0.040 & 0.168 &  2.178665e-23 & GATD3A    \\\\\n",
       "\tCOL4A4 &  6.588656e-19 & -0.5341989 & 0.153 & 0.327 &  2.103428e-14 & COL4A4    \\\\\n",
       "\tMT1G &  1.127850e-17 & -0.7844910 & 0.045 & 0.147 &  3.600660e-13 & MT1G      \\\\\n",
       "\tCRLF1 &  3.358351e-17 & -0.5753393 & 0.084 & 0.215 &  1.072154e-12 & CRLF1     \\\\\n",
       "\\end{tabular}\n"
      ],
      "text/markdown": [
       "\n",
       "A data.frame: 6 × 6\n",
       "\n",
       "| <!--/--> | p_val &lt;dbl&gt; | avg_log2FC &lt;dbl&gt; | pct.1 &lt;dbl&gt; | pct.2 &lt;dbl&gt; | p_val_adj &lt;dbl&gt; | gene &lt;chr&gt; |\n",
       "|---|---|---|---|---|---|---|\n",
       "| AC005343.4 | 3.267587e-159 | -0.4278258 | 0.000 | 0.168 | 1.043177e-154 | AC005343.4 |\n",
       "| C11orf96 |  2.479083e-29 |  1.2640175 | 0.837 | 0.751 |  7.914472e-25 | C11orf96   |\n",
       "| GATD3A |  6.824323e-28 | -0.3342447 | 0.040 | 0.168 |  2.178665e-23 | GATD3A     |\n",
       "| COL4A4 |  6.588656e-19 | -0.5341989 | 0.153 | 0.327 |  2.103428e-14 | COL4A4     |\n",
       "| MT1G |  1.127850e-17 | -0.7844910 | 0.045 | 0.147 |  3.600660e-13 | MT1G       |\n",
       "| CRLF1 |  3.358351e-17 | -0.5753393 | 0.084 | 0.215 |  1.072154e-12 | CRLF1      |\n",
       "\n"
      ],
      "text/plain": [
       "           p_val         avg_log2FC pct.1 pct.2 p_val_adj     gene      \n",
       "AC005343.4 3.267587e-159 -0.4278258 0.000 0.168 1.043177e-154 AC005343.4\n",
       "C11orf96    2.479083e-29  1.2640175 0.837 0.751  7.914472e-25 C11orf96  \n",
       "GATD3A      6.824323e-28 -0.3342447 0.040 0.168  2.178665e-23 GATD3A    \n",
       "COL4A4      6.588656e-19 -0.5341989 0.153 0.327  2.103428e-14 COL4A4    \n",
       "MT1G        1.127850e-17 -0.7844910 0.045 0.147  3.600660e-13 MT1G      \n",
       "CRLF1       3.358351e-17 -0.5753393 0.084 0.215  1.072154e-12 CRLF1     "
      ]
     },
     "metadata": {},
     "output_type": "display_data"
    }
   ],
   "source": [
    "head(markers_P_metas)"
   ]
  },
  {
   "cell_type": "code",
   "execution_count": 7,
   "id": "9f889ae7-2407-4d12-9dcd-d6060110b4b9",
   "metadata": {},
   "outputs": [],
   "source": [
    "markers_P_metas_plotV2 = markers_P_metas\n",
    "markers_P_metas_plotV2 = markers_P_metas_plotV2[markers_P_metas_plotV2$gene!=\"AC005343.4\",]"
   ]
  },
  {
   "cell_type": "code",
   "execution_count": 262,
   "id": "ffcb2d70-240c-45aa-a46b-05283d1d7c59",
   "metadata": {
    "collapsed": true,
    "jupyter": {
     "outputs_hidden": true
    },
    "tags": []
   },
   "outputs": [
    {
     "data": {
      "text/html": [
       "<table class=\"dataframe\">\n",
       "<caption>A data.frame: 343 × 7</caption>\n",
       "<thead>\n",
       "\t<tr><th></th><th scope=col>p_val</th><th scope=col>avg_log2FC</th><th scope=col>pct.1</th><th scope=col>pct.2</th><th scope=col>p_val_adj</th><th scope=col>gene</th><th scope=col>threshold</th></tr>\n",
       "\t<tr><th></th><th scope=col>&lt;dbl&gt;</th><th scope=col>&lt;dbl&gt;</th><th scope=col>&lt;dbl&gt;</th><th scope=col>&lt;dbl&gt;</th><th scope=col>&lt;dbl&gt;</th><th scope=col>&lt;chr&gt;</th><th scope=col>&lt;chr&gt;</th></tr>\n",
       "</thead>\n",
       "<tbody>\n",
       "\t<tr><th scope=row>C11orf96</th><td>2.479083e-29</td><td>1.2640175</td><td>0.837</td><td>0.751</td><td>7.914472e-25</td><td>C11orf96</td><td>UP</td></tr>\n",
       "\t<tr><th scope=row>MT2A</th><td>4.815803e-11</td><td>0.9372720</td><td>0.915</td><td>0.869</td><td>1.537445e-06</td><td>MT2A    </td><td>UP</td></tr>\n",
       "\t<tr><th scope=row>AGT</th><td>2.903350e-08</td><td>0.8758205</td><td>0.262</td><td>0.136</td><td>9.268946e-04</td><td>AGT     </td><td>UP</td></tr>\n",
       "\t<tr><th scope=row>RGCC</th><td>7.125593e-08</td><td>0.8739314</td><td>0.225</td><td>0.110</td><td>2.274846e-03</td><td>RGCC    </td><td>UP</td></tr>\n",
       "\t<tr><th scope=row>GREM1</th><td>1.424433e-16</td><td>0.8410206</td><td>0.386</td><td>0.168</td><td>4.547502e-12</td><td>GREM1   </td><td>UP</td></tr>\n",
       "\t<tr><th scope=row>CHI3L1</th><td>2.459778e-03</td><td>0.8259243</td><td>0.125</td><td>0.073</td><td>1.000000e+00</td><td>CHI3L1  </td><td>UP</td></tr>\n",
       "\t<tr><th scope=row>SOD2</th><td>7.985230e-12</td><td>0.7617469</td><td>0.721</td><td>0.634</td><td>2.549285e-07</td><td>SOD2    </td><td>UP</td></tr>\n",
       "\t<tr><th scope=row>PTX3</th><td>2.311518e-02</td><td>0.7583088</td><td>0.119</td><td>0.084</td><td>1.000000e+00</td><td>PTX3    </td><td>UP</td></tr>\n",
       "\t<tr><th scope=row>MMP14</th><td>1.500640e-10</td><td>0.6755431</td><td>0.471</td><td>0.330</td><td>4.790795e-06</td><td>MMP14   </td><td>UP</td></tr>\n",
       "\t<tr><th scope=row>HSPA6</th><td>8.719475e-04</td><td>0.6620528</td><td>0.144</td><td>0.084</td><td>1.000000e+00</td><td>HSPA6   </td><td>UP</td></tr>\n",
       "\t<tr><th scope=row>SGK1</th><td>5.449423e-08</td><td>0.6599761</td><td>0.267</td><td>0.147</td><td>1.739728e-03</td><td>SGK1    </td><td>UP</td></tr>\n",
       "\t<tr><th scope=row>RRAD</th><td>6.864656e-04</td><td>0.6570685</td><td>0.271</td><td>0.202</td><td>1.000000e+00</td><td>RRAD    </td><td>UP</td></tr>\n",
       "\t<tr><th scope=row>THBS1</th><td>2.083215e-06</td><td>0.6446813</td><td>0.609</td><td>0.545</td><td>6.650663e-02</td><td>THBS1   </td><td>UP</td></tr>\n",
       "\t<tr><th scope=row>UBE2S</th><td>1.029668e-08</td><td>0.6402370</td><td>0.467</td><td>0.346</td><td>3.287216e-04</td><td>UBE2S   </td><td>UP</td></tr>\n",
       "\t<tr><th scope=row>HAS2</th><td>7.175509e-02</td><td>0.6091968</td><td>0.208</td><td>0.181</td><td>1.000000e+00</td><td>HAS2    </td><td>UP</td></tr>\n",
       "\t<tr><th scope=row>VEGFB</th><td>2.677766e-14</td><td>0.5676470</td><td>0.715</td><td>0.558</td><td>8.548767e-10</td><td>VEGFB   </td><td>UP</td></tr>\n",
       "\t<tr><th scope=row>GDF15</th><td>8.605332e-03</td><td>0.5669254</td><td>0.148</td><td>0.102</td><td>1.000000e+00</td><td>GDF15   </td><td>UP</td></tr>\n",
       "\t<tr><th scope=row>HIF1A</th><td>4.195427e-11</td><td>0.5615803</td><td>0.449</td><td>0.293</td><td>1.339390e-06</td><td>HIF1A   </td><td>UP</td></tr>\n",
       "\t<tr><th scope=row>GADD45B</th><td>8.520815e-06</td><td>0.5584069</td><td>0.733</td><td>0.688</td><td>2.720270e-01</td><td>GADD45B </td><td>UP</td></tr>\n",
       "\t<tr><th scope=row>CXCL2</th><td>3.592765e-03</td><td>0.5441907</td><td>0.240</td><td>0.181</td><td>1.000000e+00</td><td>CXCL2   </td><td>UP</td></tr>\n",
       "\t<tr><th scope=row>IL1R1</th><td>5.771963e-09</td><td>0.5359489</td><td>0.668</td><td>0.586</td><td>1.842699e-04</td><td>IL1R1   </td><td>UP</td></tr>\n",
       "\t<tr><th scope=row>COL3A1</th><td>6.759055e-05</td><td>0.5142973</td><td>0.924</td><td>0.924</td><td>1.000000e+00</td><td>COL3A1  </td><td>UP</td></tr>\n",
       "\t<tr><th scope=row>TSC22D1</th><td>9.994154e-09</td><td>0.5083737</td><td>0.628</td><td>0.513</td><td>3.190634e-04</td><td>TSC22D1 </td><td>UP</td></tr>\n",
       "\t<tr><th scope=row>COL6A3</th><td>8.931812e-11</td><td>0.5032797</td><td>0.875</td><td>0.885</td><td>2.851481e-06</td><td>COL6A3  </td><td>UP</td></tr>\n",
       "\t<tr><th scope=row>SERTAD1</th><td>1.619042e-03</td><td>0.5027203</td><td>0.493</td><td>0.450</td><td>1.000000e+00</td><td>SERTAD1 </td><td>UP</td></tr>\n",
       "\t<tr><th scope=row>TMEM158</th><td>5.230506e-07</td><td>0.5019178</td><td>0.223</td><td>0.118</td><td>1.669839e-02</td><td>TMEM158 </td><td>UP</td></tr>\n",
       "\t<tr><th scope=row>ZFAND2A</th><td>2.761282e-03</td><td>0.4972403</td><td>0.297</td><td>0.236</td><td>1.000000e+00</td><td>ZFAND2A </td><td>UP</td></tr>\n",
       "\t<tr><th scope=row>MT1X</th><td>7.164567e-01</td><td>0.4649871</td><td>0.469</td><td>0.458</td><td>1.000000e+00</td><td>MT1X    </td><td>UP</td></tr>\n",
       "\t<tr><th scope=row>HAS1</th><td>1.885460e-03</td><td>0.4586302</td><td>0.112</td><td>0.063</td><td>1.000000e+00</td><td>HAS1    </td><td>UP</td></tr>\n",
       "\t<tr><th scope=row>CTHRC1</th><td>9.598120e-10</td><td>0.4536415</td><td>0.732</td><td>0.626</td><td>3.064200e-05</td><td>CTHRC1  </td><td>UP</td></tr>\n",
       "\t<tr><th scope=row>⋮</th><td>⋮</td><td>⋮</td><td>⋮</td><td>⋮</td><td>⋮</td><td>⋮</td><td>⋮</td></tr>\n",
       "\t<tr><th scope=row>CAVIN2</th><td>3.947143e-11</td><td>-0.5212855</td><td>0.156</td><td>0.283</td><td>1.260125e-06</td><td>CAVIN2</td><td>DOWN</td></tr>\n",
       "\t<tr><th scope=row>DHRS3</th><td>1.880850e-09</td><td>-0.5312376</td><td>0.265</td><td>0.393</td><td>6.004612e-05</td><td>DHRS3 </td><td>DOWN</td></tr>\n",
       "\t<tr><th scope=row>PLAC9</th><td>4.071941e-11</td><td>-0.5321660</td><td>0.729</td><td>0.801</td><td>1.299967e-06</td><td>PLAC9 </td><td>DOWN</td></tr>\n",
       "\t<tr><th scope=row>COL4A4</th><td>6.588656e-19</td><td>-0.5341989</td><td>0.153</td><td>0.327</td><td>2.103428e-14</td><td>COL4A4</td><td>DOWN</td></tr>\n",
       "\t<tr><th scope=row>TSPAN8</th><td>1.348302e-10</td><td>-0.5345120</td><td>0.095</td><td>0.199</td><td>4.304454e-06</td><td>TSPAN8</td><td>DOWN</td></tr>\n",
       "\t<tr><th scope=row>STMN2</th><td>3.183783e-16</td><td>-0.5437499</td><td>0.044</td><td>0.141</td><td>1.016423e-11</td><td>STMN2 </td><td>DOWN</td></tr>\n",
       "\t<tr><th scope=row>IFITM1</th><td>2.643055e-11</td><td>-0.5614340</td><td>0.426</td><td>0.565</td><td>8.437954e-07</td><td>IFITM1</td><td>DOWN</td></tr>\n",
       "\t<tr><th scope=row>IGFBP5</th><td>1.477486e-06</td><td>-0.5639557</td><td>0.533</td><td>0.636</td><td>4.716874e-02</td><td>IGFBP5</td><td>DOWN</td></tr>\n",
       "\t<tr><th scope=row>CRLF1</th><td>3.358351e-17</td><td>-0.5753393</td><td>0.084</td><td>0.215</td><td>1.072154e-12</td><td>CRLF1 </td><td>DOWN</td></tr>\n",
       "\t<tr><th scope=row>SCARA5</th><td>1.700323e-15</td><td>-0.5773304</td><td>0.146</td><td>0.298</td><td>5.428280e-11</td><td>SCARA5</td><td>DOWN</td></tr>\n",
       "\t<tr><th scope=row>OGN</th><td>1.277838e-08</td><td>-0.5788375</td><td>0.583</td><td>0.641</td><td>4.079498e-04</td><td>OGN   </td><td>DOWN</td></tr>\n",
       "\t<tr><th scope=row>MFAP5</th><td>1.213643e-06</td><td>-0.5927953</td><td>0.307</td><td>0.419</td><td>3.874556e-02</td><td>MFAP5 </td><td>DOWN</td></tr>\n",
       "\t<tr><th scope=row>GPX3</th><td>5.846586e-07</td><td>-0.5980896</td><td>0.342</td><td>0.442</td><td>1.866523e-02</td><td>GPX3  </td><td>DOWN</td></tr>\n",
       "\t<tr><th scope=row>CCL11</th><td>1.701467e-01</td><td>-0.6224280</td><td>0.269</td><td>0.298</td><td>1.000000e+00</td><td>CCL11 </td><td>DOWN</td></tr>\n",
       "\t<tr><th scope=row>IGFBP6</th><td>8.007664e-12</td><td>-0.6319609</td><td>0.632</td><td>0.751</td><td>2.556447e-07</td><td>IGFBP6</td><td>DOWN</td></tr>\n",
       "\t<tr><th scope=row>S100A4</th><td>1.948579e-09</td><td>-0.6408872</td><td>0.432</td><td>0.560</td><td>6.220839e-05</td><td>S100A4</td><td>DOWN</td></tr>\n",
       "\t<tr><th scope=row>PLPP3</th><td>6.323884e-09</td><td>-0.6547187</td><td>0.399</td><td>0.505</td><td>2.018900e-04</td><td>PLPP3 </td><td>DOWN</td></tr>\n",
       "\t<tr><th scope=row>ADH1B</th><td>1.844618e-11</td><td>-0.6682869</td><td>0.481</td><td>0.599</td><td>5.888941e-07</td><td>ADH1B </td><td>DOWN</td></tr>\n",
       "\t<tr><th scope=row>DPT</th><td>2.817742e-09</td><td>-0.6942422</td><td>0.367</td><td>0.495</td><td>8.995642e-05</td><td>DPT   </td><td>DOWN</td></tr>\n",
       "\t<tr><th scope=row>CCN5</th><td>4.883292e-10</td><td>-0.7450541</td><td>0.126</td><td>0.236</td><td>1.558991e-05</td><td>CCN5  </td><td>DOWN</td></tr>\n",
       "\t<tr><th scope=row>TIMP3</th><td>1.476836e-16</td><td>-0.7603907</td><td>0.627</td><td>0.793</td><td>4.714799e-12</td><td>TIMP3 </td><td>DOWN</td></tr>\n",
       "\t<tr><th scope=row>MT1G</th><td>1.127850e-17</td><td>-0.7844910</td><td>0.045</td><td>0.147</td><td>3.600660e-13</td><td>MT1G  </td><td>DOWN</td></tr>\n",
       "\t<tr><th scope=row>CST1</th><td>2.146002e-03</td><td>-0.8188795</td><td>0.128</td><td>0.178</td><td>1.000000e+00</td><td>CST1  </td><td>DOWN</td></tr>\n",
       "\t<tr><th scope=row>IFI27</th><td>1.433781e-09</td><td>-0.8444811</td><td>0.393</td><td>0.531</td><td>4.577346e-05</td><td>IFI27 </td><td>DOWN</td></tr>\n",
       "\t<tr><th scope=row>PI16</th><td>7.246834e-15</td><td>-0.8498883</td><td>0.224</td><td>0.393</td><td>2.313552e-10</td><td>PI16  </td><td>DOWN</td></tr>\n",
       "\t<tr><th scope=row>CLU</th><td>1.155413e-08</td><td>-0.8856395</td><td>0.652</td><td>0.738</td><td>3.688657e-04</td><td>CLU   </td><td>DOWN</td></tr>\n",
       "\t<tr><th scope=row>PENK</th><td>9.403797e-14</td><td>-0.9876453</td><td>0.055</td><td>0.149</td><td>3.002162e-09</td><td>PENK  </td><td>DOWN</td></tr>\n",
       "\t<tr><th scope=row>CXCL14</th><td>4.974127e-09</td><td>-1.1544002</td><td>0.168</td><td>0.280</td><td>1.587990e-04</td><td>CXCL14</td><td>DOWN</td></tr>\n",
       "\t<tr><th scope=row>CFD</th><td>1.260510e-10</td><td>-1.2036548</td><td>0.756</td><td>0.775</td><td>4.024178e-06</td><td>CFD   </td><td>DOWN</td></tr>\n",
       "\t<tr><th scope=row>SLPI</th><td>3.857328e-08</td><td>-1.2465048</td><td>0.092</td><td>0.173</td><td>1.231452e-03</td><td>SLPI  </td><td>DOWN</td></tr>\n",
       "</tbody>\n",
       "</table>\n"
      ],
      "text/latex": [
       "A data.frame: 343 × 7\n",
       "\\begin{tabular}{r|lllllll}\n",
       "  & p\\_val & avg\\_log2FC & pct.1 & pct.2 & p\\_val\\_adj & gene & threshold\\\\\n",
       "  & <dbl> & <dbl> & <dbl> & <dbl> & <dbl> & <chr> & <chr>\\\\\n",
       "\\hline\n",
       "\tC11orf96 & 2.479083e-29 & 1.2640175 & 0.837 & 0.751 & 7.914472e-25 & C11orf96 & UP\\\\\n",
       "\tMT2A & 4.815803e-11 & 0.9372720 & 0.915 & 0.869 & 1.537445e-06 & MT2A     & UP\\\\\n",
       "\tAGT & 2.903350e-08 & 0.8758205 & 0.262 & 0.136 & 9.268946e-04 & AGT      & UP\\\\\n",
       "\tRGCC & 7.125593e-08 & 0.8739314 & 0.225 & 0.110 & 2.274846e-03 & RGCC     & UP\\\\\n",
       "\tGREM1 & 1.424433e-16 & 0.8410206 & 0.386 & 0.168 & 4.547502e-12 & GREM1    & UP\\\\\n",
       "\tCHI3L1 & 2.459778e-03 & 0.8259243 & 0.125 & 0.073 & 1.000000e+00 & CHI3L1   & UP\\\\\n",
       "\tSOD2 & 7.985230e-12 & 0.7617469 & 0.721 & 0.634 & 2.549285e-07 & SOD2     & UP\\\\\n",
       "\tPTX3 & 2.311518e-02 & 0.7583088 & 0.119 & 0.084 & 1.000000e+00 & PTX3     & UP\\\\\n",
       "\tMMP14 & 1.500640e-10 & 0.6755431 & 0.471 & 0.330 & 4.790795e-06 & MMP14    & UP\\\\\n",
       "\tHSPA6 & 8.719475e-04 & 0.6620528 & 0.144 & 0.084 & 1.000000e+00 & HSPA6    & UP\\\\\n",
       "\tSGK1 & 5.449423e-08 & 0.6599761 & 0.267 & 0.147 & 1.739728e-03 & SGK1     & UP\\\\\n",
       "\tRRAD & 6.864656e-04 & 0.6570685 & 0.271 & 0.202 & 1.000000e+00 & RRAD     & UP\\\\\n",
       "\tTHBS1 & 2.083215e-06 & 0.6446813 & 0.609 & 0.545 & 6.650663e-02 & THBS1    & UP\\\\\n",
       "\tUBE2S & 1.029668e-08 & 0.6402370 & 0.467 & 0.346 & 3.287216e-04 & UBE2S    & UP\\\\\n",
       "\tHAS2 & 7.175509e-02 & 0.6091968 & 0.208 & 0.181 & 1.000000e+00 & HAS2     & UP\\\\\n",
       "\tVEGFB & 2.677766e-14 & 0.5676470 & 0.715 & 0.558 & 8.548767e-10 & VEGFB    & UP\\\\\n",
       "\tGDF15 & 8.605332e-03 & 0.5669254 & 0.148 & 0.102 & 1.000000e+00 & GDF15    & UP\\\\\n",
       "\tHIF1A & 4.195427e-11 & 0.5615803 & 0.449 & 0.293 & 1.339390e-06 & HIF1A    & UP\\\\\n",
       "\tGADD45B & 8.520815e-06 & 0.5584069 & 0.733 & 0.688 & 2.720270e-01 & GADD45B  & UP\\\\\n",
       "\tCXCL2 & 3.592765e-03 & 0.5441907 & 0.240 & 0.181 & 1.000000e+00 & CXCL2    & UP\\\\\n",
       "\tIL1R1 & 5.771963e-09 & 0.5359489 & 0.668 & 0.586 & 1.842699e-04 & IL1R1    & UP\\\\\n",
       "\tCOL3A1 & 6.759055e-05 & 0.5142973 & 0.924 & 0.924 & 1.000000e+00 & COL3A1   & UP\\\\\n",
       "\tTSC22D1 & 9.994154e-09 & 0.5083737 & 0.628 & 0.513 & 3.190634e-04 & TSC22D1  & UP\\\\\n",
       "\tCOL6A3 & 8.931812e-11 & 0.5032797 & 0.875 & 0.885 & 2.851481e-06 & COL6A3   & UP\\\\\n",
       "\tSERTAD1 & 1.619042e-03 & 0.5027203 & 0.493 & 0.450 & 1.000000e+00 & SERTAD1  & UP\\\\\n",
       "\tTMEM158 & 5.230506e-07 & 0.5019178 & 0.223 & 0.118 & 1.669839e-02 & TMEM158  & UP\\\\\n",
       "\tZFAND2A & 2.761282e-03 & 0.4972403 & 0.297 & 0.236 & 1.000000e+00 & ZFAND2A  & UP\\\\\n",
       "\tMT1X & 7.164567e-01 & 0.4649871 & 0.469 & 0.458 & 1.000000e+00 & MT1X     & UP\\\\\n",
       "\tHAS1 & 1.885460e-03 & 0.4586302 & 0.112 & 0.063 & 1.000000e+00 & HAS1     & UP\\\\\n",
       "\tCTHRC1 & 9.598120e-10 & 0.4536415 & 0.732 & 0.626 & 3.064200e-05 & CTHRC1   & UP\\\\\n",
       "\t⋮ & ⋮ & ⋮ & ⋮ & ⋮ & ⋮ & ⋮ & ⋮\\\\\n",
       "\tCAVIN2 & 3.947143e-11 & -0.5212855 & 0.156 & 0.283 & 1.260125e-06 & CAVIN2 & DOWN\\\\\n",
       "\tDHRS3 & 1.880850e-09 & -0.5312376 & 0.265 & 0.393 & 6.004612e-05 & DHRS3  & DOWN\\\\\n",
       "\tPLAC9 & 4.071941e-11 & -0.5321660 & 0.729 & 0.801 & 1.299967e-06 & PLAC9  & DOWN\\\\\n",
       "\tCOL4A4 & 6.588656e-19 & -0.5341989 & 0.153 & 0.327 & 2.103428e-14 & COL4A4 & DOWN\\\\\n",
       "\tTSPAN8 & 1.348302e-10 & -0.5345120 & 0.095 & 0.199 & 4.304454e-06 & TSPAN8 & DOWN\\\\\n",
       "\tSTMN2 & 3.183783e-16 & -0.5437499 & 0.044 & 0.141 & 1.016423e-11 & STMN2  & DOWN\\\\\n",
       "\tIFITM1 & 2.643055e-11 & -0.5614340 & 0.426 & 0.565 & 8.437954e-07 & IFITM1 & DOWN\\\\\n",
       "\tIGFBP5 & 1.477486e-06 & -0.5639557 & 0.533 & 0.636 & 4.716874e-02 & IGFBP5 & DOWN\\\\\n",
       "\tCRLF1 & 3.358351e-17 & -0.5753393 & 0.084 & 0.215 & 1.072154e-12 & CRLF1  & DOWN\\\\\n",
       "\tSCARA5 & 1.700323e-15 & -0.5773304 & 0.146 & 0.298 & 5.428280e-11 & SCARA5 & DOWN\\\\\n",
       "\tOGN & 1.277838e-08 & -0.5788375 & 0.583 & 0.641 & 4.079498e-04 & OGN    & DOWN\\\\\n",
       "\tMFAP5 & 1.213643e-06 & -0.5927953 & 0.307 & 0.419 & 3.874556e-02 & MFAP5  & DOWN\\\\\n",
       "\tGPX3 & 5.846586e-07 & -0.5980896 & 0.342 & 0.442 & 1.866523e-02 & GPX3   & DOWN\\\\\n",
       "\tCCL11 & 1.701467e-01 & -0.6224280 & 0.269 & 0.298 & 1.000000e+00 & CCL11  & DOWN\\\\\n",
       "\tIGFBP6 & 8.007664e-12 & -0.6319609 & 0.632 & 0.751 & 2.556447e-07 & IGFBP6 & DOWN\\\\\n",
       "\tS100A4 & 1.948579e-09 & -0.6408872 & 0.432 & 0.560 & 6.220839e-05 & S100A4 & DOWN\\\\\n",
       "\tPLPP3 & 6.323884e-09 & -0.6547187 & 0.399 & 0.505 & 2.018900e-04 & PLPP3  & DOWN\\\\\n",
       "\tADH1B & 1.844618e-11 & -0.6682869 & 0.481 & 0.599 & 5.888941e-07 & ADH1B  & DOWN\\\\\n",
       "\tDPT & 2.817742e-09 & -0.6942422 & 0.367 & 0.495 & 8.995642e-05 & DPT    & DOWN\\\\\n",
       "\tCCN5 & 4.883292e-10 & -0.7450541 & 0.126 & 0.236 & 1.558991e-05 & CCN5   & DOWN\\\\\n",
       "\tTIMP3 & 1.476836e-16 & -0.7603907 & 0.627 & 0.793 & 4.714799e-12 & TIMP3  & DOWN\\\\\n",
       "\tMT1G & 1.127850e-17 & -0.7844910 & 0.045 & 0.147 & 3.600660e-13 & MT1G   & DOWN\\\\\n",
       "\tCST1 & 2.146002e-03 & -0.8188795 & 0.128 & 0.178 & 1.000000e+00 & CST1   & DOWN\\\\\n",
       "\tIFI27 & 1.433781e-09 & -0.8444811 & 0.393 & 0.531 & 4.577346e-05 & IFI27  & DOWN\\\\\n",
       "\tPI16 & 7.246834e-15 & -0.8498883 & 0.224 & 0.393 & 2.313552e-10 & PI16   & DOWN\\\\\n",
       "\tCLU & 1.155413e-08 & -0.8856395 & 0.652 & 0.738 & 3.688657e-04 & CLU    & DOWN\\\\\n",
       "\tPENK & 9.403797e-14 & -0.9876453 & 0.055 & 0.149 & 3.002162e-09 & PENK   & DOWN\\\\\n",
       "\tCXCL14 & 4.974127e-09 & -1.1544002 & 0.168 & 0.280 & 1.587990e-04 & CXCL14 & DOWN\\\\\n",
       "\tCFD & 1.260510e-10 & -1.2036548 & 0.756 & 0.775 & 4.024178e-06 & CFD    & DOWN\\\\\n",
       "\tSLPI & 3.857328e-08 & -1.2465048 & 0.092 & 0.173 & 1.231452e-03 & SLPI   & DOWN\\\\\n",
       "\\end{tabular}\n"
      ],
      "text/markdown": [
       "\n",
       "A data.frame: 343 × 7\n",
       "\n",
       "| <!--/--> | p_val &lt;dbl&gt; | avg_log2FC &lt;dbl&gt; | pct.1 &lt;dbl&gt; | pct.2 &lt;dbl&gt; | p_val_adj &lt;dbl&gt; | gene &lt;chr&gt; | threshold &lt;chr&gt; |\n",
       "|---|---|---|---|---|---|---|---|\n",
       "| C11orf96 | 2.479083e-29 | 1.2640175 | 0.837 | 0.751 | 7.914472e-25 | C11orf96 | UP |\n",
       "| MT2A | 4.815803e-11 | 0.9372720 | 0.915 | 0.869 | 1.537445e-06 | MT2A     | UP |\n",
       "| AGT | 2.903350e-08 | 0.8758205 | 0.262 | 0.136 | 9.268946e-04 | AGT      | UP |\n",
       "| RGCC | 7.125593e-08 | 0.8739314 | 0.225 | 0.110 | 2.274846e-03 | RGCC     | UP |\n",
       "| GREM1 | 1.424433e-16 | 0.8410206 | 0.386 | 0.168 | 4.547502e-12 | GREM1    | UP |\n",
       "| CHI3L1 | 2.459778e-03 | 0.8259243 | 0.125 | 0.073 | 1.000000e+00 | CHI3L1   | UP |\n",
       "| SOD2 | 7.985230e-12 | 0.7617469 | 0.721 | 0.634 | 2.549285e-07 | SOD2     | UP |\n",
       "| PTX3 | 2.311518e-02 | 0.7583088 | 0.119 | 0.084 | 1.000000e+00 | PTX3     | UP |\n",
       "| MMP14 | 1.500640e-10 | 0.6755431 | 0.471 | 0.330 | 4.790795e-06 | MMP14    | UP |\n",
       "| HSPA6 | 8.719475e-04 | 0.6620528 | 0.144 | 0.084 | 1.000000e+00 | HSPA6    | UP |\n",
       "| SGK1 | 5.449423e-08 | 0.6599761 | 0.267 | 0.147 | 1.739728e-03 | SGK1     | UP |\n",
       "| RRAD | 6.864656e-04 | 0.6570685 | 0.271 | 0.202 | 1.000000e+00 | RRAD     | UP |\n",
       "| THBS1 | 2.083215e-06 | 0.6446813 | 0.609 | 0.545 | 6.650663e-02 | THBS1    | UP |\n",
       "| UBE2S | 1.029668e-08 | 0.6402370 | 0.467 | 0.346 | 3.287216e-04 | UBE2S    | UP |\n",
       "| HAS2 | 7.175509e-02 | 0.6091968 | 0.208 | 0.181 | 1.000000e+00 | HAS2     | UP |\n",
       "| VEGFB | 2.677766e-14 | 0.5676470 | 0.715 | 0.558 | 8.548767e-10 | VEGFB    | UP |\n",
       "| GDF15 | 8.605332e-03 | 0.5669254 | 0.148 | 0.102 | 1.000000e+00 | GDF15    | UP |\n",
       "| HIF1A | 4.195427e-11 | 0.5615803 | 0.449 | 0.293 | 1.339390e-06 | HIF1A    | UP |\n",
       "| GADD45B | 8.520815e-06 | 0.5584069 | 0.733 | 0.688 | 2.720270e-01 | GADD45B  | UP |\n",
       "| CXCL2 | 3.592765e-03 | 0.5441907 | 0.240 | 0.181 | 1.000000e+00 | CXCL2    | UP |\n",
       "| IL1R1 | 5.771963e-09 | 0.5359489 | 0.668 | 0.586 | 1.842699e-04 | IL1R1    | UP |\n",
       "| COL3A1 | 6.759055e-05 | 0.5142973 | 0.924 | 0.924 | 1.000000e+00 | COL3A1   | UP |\n",
       "| TSC22D1 | 9.994154e-09 | 0.5083737 | 0.628 | 0.513 | 3.190634e-04 | TSC22D1  | UP |\n",
       "| COL6A3 | 8.931812e-11 | 0.5032797 | 0.875 | 0.885 | 2.851481e-06 | COL6A3   | UP |\n",
       "| SERTAD1 | 1.619042e-03 | 0.5027203 | 0.493 | 0.450 | 1.000000e+00 | SERTAD1  | UP |\n",
       "| TMEM158 | 5.230506e-07 | 0.5019178 | 0.223 | 0.118 | 1.669839e-02 | TMEM158  | UP |\n",
       "| ZFAND2A | 2.761282e-03 | 0.4972403 | 0.297 | 0.236 | 1.000000e+00 | ZFAND2A  | UP |\n",
       "| MT1X | 7.164567e-01 | 0.4649871 | 0.469 | 0.458 | 1.000000e+00 | MT1X     | UP |\n",
       "| HAS1 | 1.885460e-03 | 0.4586302 | 0.112 | 0.063 | 1.000000e+00 | HAS1     | UP |\n",
       "| CTHRC1 | 9.598120e-10 | 0.4536415 | 0.732 | 0.626 | 3.064200e-05 | CTHRC1   | UP |\n",
       "| ⋮ | ⋮ | ⋮ | ⋮ | ⋮ | ⋮ | ⋮ | ⋮ |\n",
       "| CAVIN2 | 3.947143e-11 | -0.5212855 | 0.156 | 0.283 | 1.260125e-06 | CAVIN2 | DOWN |\n",
       "| DHRS3 | 1.880850e-09 | -0.5312376 | 0.265 | 0.393 | 6.004612e-05 | DHRS3  | DOWN |\n",
       "| PLAC9 | 4.071941e-11 | -0.5321660 | 0.729 | 0.801 | 1.299967e-06 | PLAC9  | DOWN |\n",
       "| COL4A4 | 6.588656e-19 | -0.5341989 | 0.153 | 0.327 | 2.103428e-14 | COL4A4 | DOWN |\n",
       "| TSPAN8 | 1.348302e-10 | -0.5345120 | 0.095 | 0.199 | 4.304454e-06 | TSPAN8 | DOWN |\n",
       "| STMN2 | 3.183783e-16 | -0.5437499 | 0.044 | 0.141 | 1.016423e-11 | STMN2  | DOWN |\n",
       "| IFITM1 | 2.643055e-11 | -0.5614340 | 0.426 | 0.565 | 8.437954e-07 | IFITM1 | DOWN |\n",
       "| IGFBP5 | 1.477486e-06 | -0.5639557 | 0.533 | 0.636 | 4.716874e-02 | IGFBP5 | DOWN |\n",
       "| CRLF1 | 3.358351e-17 | -0.5753393 | 0.084 | 0.215 | 1.072154e-12 | CRLF1  | DOWN |\n",
       "| SCARA5 | 1.700323e-15 | -0.5773304 | 0.146 | 0.298 | 5.428280e-11 | SCARA5 | DOWN |\n",
       "| OGN | 1.277838e-08 | -0.5788375 | 0.583 | 0.641 | 4.079498e-04 | OGN    | DOWN |\n",
       "| MFAP5 | 1.213643e-06 | -0.5927953 | 0.307 | 0.419 | 3.874556e-02 | MFAP5  | DOWN |\n",
       "| GPX3 | 5.846586e-07 | -0.5980896 | 0.342 | 0.442 | 1.866523e-02 | GPX3   | DOWN |\n",
       "| CCL11 | 1.701467e-01 | -0.6224280 | 0.269 | 0.298 | 1.000000e+00 | CCL11  | DOWN |\n",
       "| IGFBP6 | 8.007664e-12 | -0.6319609 | 0.632 | 0.751 | 2.556447e-07 | IGFBP6 | DOWN |\n",
       "| S100A4 | 1.948579e-09 | -0.6408872 | 0.432 | 0.560 | 6.220839e-05 | S100A4 | DOWN |\n",
       "| PLPP3 | 6.323884e-09 | -0.6547187 | 0.399 | 0.505 | 2.018900e-04 | PLPP3  | DOWN |\n",
       "| ADH1B | 1.844618e-11 | -0.6682869 | 0.481 | 0.599 | 5.888941e-07 | ADH1B  | DOWN |\n",
       "| DPT | 2.817742e-09 | -0.6942422 | 0.367 | 0.495 | 8.995642e-05 | DPT    | DOWN |\n",
       "| CCN5 | 4.883292e-10 | -0.7450541 | 0.126 | 0.236 | 1.558991e-05 | CCN5   | DOWN |\n",
       "| TIMP3 | 1.476836e-16 | -0.7603907 | 0.627 | 0.793 | 4.714799e-12 | TIMP3  | DOWN |\n",
       "| MT1G | 1.127850e-17 | -0.7844910 | 0.045 | 0.147 | 3.600660e-13 | MT1G   | DOWN |\n",
       "| CST1 | 2.146002e-03 | -0.8188795 | 0.128 | 0.178 | 1.000000e+00 | CST1   | DOWN |\n",
       "| IFI27 | 1.433781e-09 | -0.8444811 | 0.393 | 0.531 | 4.577346e-05 | IFI27  | DOWN |\n",
       "| PI16 | 7.246834e-15 | -0.8498883 | 0.224 | 0.393 | 2.313552e-10 | PI16   | DOWN |\n",
       "| CLU | 1.155413e-08 | -0.8856395 | 0.652 | 0.738 | 3.688657e-04 | CLU    | DOWN |\n",
       "| PENK | 9.403797e-14 | -0.9876453 | 0.055 | 0.149 | 3.002162e-09 | PENK   | DOWN |\n",
       "| CXCL14 | 4.974127e-09 | -1.1544002 | 0.168 | 0.280 | 1.587990e-04 | CXCL14 | DOWN |\n",
       "| CFD | 1.260510e-10 | -1.2036548 | 0.756 | 0.775 | 4.024178e-06 | CFD    | DOWN |\n",
       "| SLPI | 3.857328e-08 | -1.2465048 | 0.092 | 0.173 | 1.231452e-03 | SLPI   | DOWN |\n",
       "\n"
      ],
      "text/plain": [
       "         p_val        avg_log2FC pct.1 pct.2 p_val_adj    gene     threshold\n",
       "C11orf96 2.479083e-29 1.2640175  0.837 0.751 7.914472e-25 C11orf96 UP       \n",
       "MT2A     4.815803e-11 0.9372720  0.915 0.869 1.537445e-06 MT2A     UP       \n",
       "AGT      2.903350e-08 0.8758205  0.262 0.136 9.268946e-04 AGT      UP       \n",
       "RGCC     7.125593e-08 0.8739314  0.225 0.110 2.274846e-03 RGCC     UP       \n",
       "GREM1    1.424433e-16 0.8410206  0.386 0.168 4.547502e-12 GREM1    UP       \n",
       "CHI3L1   2.459778e-03 0.8259243  0.125 0.073 1.000000e+00 CHI3L1   UP       \n",
       "SOD2     7.985230e-12 0.7617469  0.721 0.634 2.549285e-07 SOD2     UP       \n",
       "PTX3     2.311518e-02 0.7583088  0.119 0.084 1.000000e+00 PTX3     UP       \n",
       "MMP14    1.500640e-10 0.6755431  0.471 0.330 4.790795e-06 MMP14    UP       \n",
       "HSPA6    8.719475e-04 0.6620528  0.144 0.084 1.000000e+00 HSPA6    UP       \n",
       "SGK1     5.449423e-08 0.6599761  0.267 0.147 1.739728e-03 SGK1     UP       \n",
       "RRAD     6.864656e-04 0.6570685  0.271 0.202 1.000000e+00 RRAD     UP       \n",
       "THBS1    2.083215e-06 0.6446813  0.609 0.545 6.650663e-02 THBS1    UP       \n",
       "UBE2S    1.029668e-08 0.6402370  0.467 0.346 3.287216e-04 UBE2S    UP       \n",
       "HAS2     7.175509e-02 0.6091968  0.208 0.181 1.000000e+00 HAS2     UP       \n",
       "VEGFB    2.677766e-14 0.5676470  0.715 0.558 8.548767e-10 VEGFB    UP       \n",
       "GDF15    8.605332e-03 0.5669254  0.148 0.102 1.000000e+00 GDF15    UP       \n",
       "HIF1A    4.195427e-11 0.5615803  0.449 0.293 1.339390e-06 HIF1A    UP       \n",
       "GADD45B  8.520815e-06 0.5584069  0.733 0.688 2.720270e-01 GADD45B  UP       \n",
       "CXCL2    3.592765e-03 0.5441907  0.240 0.181 1.000000e+00 CXCL2    UP       \n",
       "IL1R1    5.771963e-09 0.5359489  0.668 0.586 1.842699e-04 IL1R1    UP       \n",
       "COL3A1   6.759055e-05 0.5142973  0.924 0.924 1.000000e+00 COL3A1   UP       \n",
       "TSC22D1  9.994154e-09 0.5083737  0.628 0.513 3.190634e-04 TSC22D1  UP       \n",
       "COL6A3   8.931812e-11 0.5032797  0.875 0.885 2.851481e-06 COL6A3   UP       \n",
       "SERTAD1  1.619042e-03 0.5027203  0.493 0.450 1.000000e+00 SERTAD1  UP       \n",
       "TMEM158  5.230506e-07 0.5019178  0.223 0.118 1.669839e-02 TMEM158  UP       \n",
       "ZFAND2A  2.761282e-03 0.4972403  0.297 0.236 1.000000e+00 ZFAND2A  UP       \n",
       "MT1X     7.164567e-01 0.4649871  0.469 0.458 1.000000e+00 MT1X     UP       \n",
       "HAS1     1.885460e-03 0.4586302  0.112 0.063 1.000000e+00 HAS1     UP       \n",
       "CTHRC1   9.598120e-10 0.4536415  0.732 0.626 3.064200e-05 CTHRC1   UP       \n",
       "⋮        ⋮            ⋮          ⋮     ⋮     ⋮            ⋮        ⋮        \n",
       "CAVIN2   3.947143e-11 -0.5212855 0.156 0.283 1.260125e-06 CAVIN2   DOWN     \n",
       "DHRS3    1.880850e-09 -0.5312376 0.265 0.393 6.004612e-05 DHRS3    DOWN     \n",
       "PLAC9    4.071941e-11 -0.5321660 0.729 0.801 1.299967e-06 PLAC9    DOWN     \n",
       "COL4A4   6.588656e-19 -0.5341989 0.153 0.327 2.103428e-14 COL4A4   DOWN     \n",
       "TSPAN8   1.348302e-10 -0.5345120 0.095 0.199 4.304454e-06 TSPAN8   DOWN     \n",
       "STMN2    3.183783e-16 -0.5437499 0.044 0.141 1.016423e-11 STMN2    DOWN     \n",
       "IFITM1   2.643055e-11 -0.5614340 0.426 0.565 8.437954e-07 IFITM1   DOWN     \n",
       "IGFBP5   1.477486e-06 -0.5639557 0.533 0.636 4.716874e-02 IGFBP5   DOWN     \n",
       "CRLF1    3.358351e-17 -0.5753393 0.084 0.215 1.072154e-12 CRLF1    DOWN     \n",
       "SCARA5   1.700323e-15 -0.5773304 0.146 0.298 5.428280e-11 SCARA5   DOWN     \n",
       "OGN      1.277838e-08 -0.5788375 0.583 0.641 4.079498e-04 OGN      DOWN     \n",
       "MFAP5    1.213643e-06 -0.5927953 0.307 0.419 3.874556e-02 MFAP5    DOWN     \n",
       "GPX3     5.846586e-07 -0.5980896 0.342 0.442 1.866523e-02 GPX3     DOWN     \n",
       "CCL11    1.701467e-01 -0.6224280 0.269 0.298 1.000000e+00 CCL11    DOWN     \n",
       "IGFBP6   8.007664e-12 -0.6319609 0.632 0.751 2.556447e-07 IGFBP6   DOWN     \n",
       "S100A4   1.948579e-09 -0.6408872 0.432 0.560 6.220839e-05 S100A4   DOWN     \n",
       "PLPP3    6.323884e-09 -0.6547187 0.399 0.505 2.018900e-04 PLPP3    DOWN     \n",
       "ADH1B    1.844618e-11 -0.6682869 0.481 0.599 5.888941e-07 ADH1B    DOWN     \n",
       "DPT      2.817742e-09 -0.6942422 0.367 0.495 8.995642e-05 DPT      DOWN     \n",
       "CCN5     4.883292e-10 -0.7450541 0.126 0.236 1.558991e-05 CCN5     DOWN     \n",
       "TIMP3    1.476836e-16 -0.7603907 0.627 0.793 4.714799e-12 TIMP3    DOWN     \n",
       "MT1G     1.127850e-17 -0.7844910 0.045 0.147 3.600660e-13 MT1G     DOWN     \n",
       "CST1     2.146002e-03 -0.8188795 0.128 0.178 1.000000e+00 CST1     DOWN     \n",
       "IFI27    1.433781e-09 -0.8444811 0.393 0.531 4.577346e-05 IFI27    DOWN     \n",
       "PI16     7.246834e-15 -0.8498883 0.224 0.393 2.313552e-10 PI16     DOWN     \n",
       "CLU      1.155413e-08 -0.8856395 0.652 0.738 3.688657e-04 CLU      DOWN     \n",
       "PENK     9.403797e-14 -0.9876453 0.055 0.149 3.002162e-09 PENK     DOWN     \n",
       "CXCL14   4.974127e-09 -1.1544002 0.168 0.280 1.587990e-04 CXCL14   DOWN     \n",
       "CFD      1.260510e-10 -1.2036548 0.756 0.775 4.024178e-06 CFD      DOWN     \n",
       "SLPI     3.857328e-08 -1.2465048 0.092 0.173 1.231452e-03 SLPI     DOWN     "
      ]
     },
     "metadata": {},
     "output_type": "display_data"
    }
   ],
   "source": [
    "markers_P_metas_plotV2[order(-markers_P_metas_plotV2$avg_log2FC),]"
   ]
  },
  {
   "cell_type": "code",
   "execution_count": 8,
   "id": "e4efbe8a-143b-475e-a61a-b489b648eb24",
   "metadata": {
    "tags": []
   },
   "outputs": [],
   "source": [
    "markers_P_metas_plotV2$threshold = \"Non significant\"\n",
    "markers_P_metas_plotV2$threshold[markers_P_metas_plotV2$avg_log2FC>0] = \"UP\"\n",
    "markers_P_metas_plotV2$threshold[markers_P_metas_plotV2$avg_log2FC<0] = 'DOWN'"
   ]
  },
  {
   "cell_type": "code",
   "execution_count": 266,
   "id": "f68b58b7-6d99-4b90-a2f2-6ae25621f69f",
   "metadata": {},
   "outputs": [],
   "source": [
    "markers_P_metas_plotV2$threshold = factor(markers_P_metas_plotV2$threshold,levels = c(\"UP\",'DOWN',\"Non significant\"))"
   ]
  },
  {
   "cell_type": "code",
   "execution_count": 277,
   "id": "b3f8a5d8-5105-4077-8bd6-54099ee7df61",
   "metadata": {},
   "outputs": [
    {
     "data": {
      "text/plain": [
       "$title\n",
       "[1] \"F_C1_CFD\"\n",
       "\n",
       "attr(,\"class\")\n",
       "[1] \"labels\""
      ]
     },
     "metadata": {},
     "output_type": "display_data"
    },
    {
     "data": {
      "text/html": [
       "<strong>png:</strong> 2"
      ],
      "text/latex": [
       "\\textbf{png:} 2"
      ],
      "text/markdown": [
       "**png:** 2"
      ],
      "text/plain": [
       "png \n",
       "  2 "
      ]
     },
     "metadata": {},
     "output_type": "display_data"
    }
   ],
   "source": [
    "pdf(\"./submit/vocaloplot_P_P_metasV2.pdf\",height = 3,width = 3)\n",
    "library( ggrepel)\n",
    "ggplot(markers_P_metas_plotV2,aes(x=avg_log2FC,y=-log10(p_val_adj),color=threshold))+\n",
    "  geom_point()+\n",
    "  scale_color_manual(values=c(\"#DC143C\",\"#00008B\",\"#808080\"))+\n",
    "  geom_text_repel(\n",
    "    data = markers_P_metas_plotV2[markers_P_metas_plotV2$gene %in% c(\"VEGFB\",'HIF1A'),],\n",
    "    aes(label = gene),\n",
    "    size = 3,\n",
    "    segment.color = \"black\", show.legend = FALSE )+#添加关注的点的基因名\n",
    "  theme_bw()+\n",
    "  theme(\n",
    "    legend.title = element_blank()\n",
    "  )+\n",
    "  ylab('-log10 (p-adj)')+\n",
    "  xlab('log2 (FoldChange)')+\n",
    "  geom_vline(xintercept=c(-1,1),lty=3,col=\"black\",lwd=0.5) +\n",
    "  geom_hline(yintercept = -log10(0.05),lty=3,col=\"black\",lwd=0.5)+theme(legend.position=\"none\")\n",
    "  ggtitle(\"F_C1_CFD\")\n",
    "dev.off()"
   ]
  },
  {
   "cell_type": "markdown",
   "id": "203eadb2-0929-40b2-ae4b-7ae9154f6375",
   "metadata": {},
   "source": [
    "### figureS7I enrichment analysis"
   ]
  },
  {
   "cell_type": "code",
   "execution_count": 9,
   "id": "2af8b04c-0237-4c61-905a-f1cdff37d200",
   "metadata": {},
   "outputs": [
    {
     "name": "stderr",
     "output_type": "stream",
     "text": [
      "\n",
      "\n",
      "clusterProfiler v3.18.1  For help: https://guangchuangyu.github.io/software/clusterProfiler\n",
      "\n",
      "If you use clusterProfiler in published research, please cite:\n",
      "Guangchuang Yu, Li-Gen Wang, Yanyan Han, Qing-Yu He. clusterProfiler: an R package for comparing biological themes among gene clusters. OMICS: A Journal of Integrative Biology. 2012, 16(5):284-287.\n",
      "\n",
      "\n",
      "Attaching package: ‘clusterProfiler’\n",
      "\n",
      "\n",
      "The following object is masked from ‘package:stats’:\n",
      "\n",
      "    filter\n",
      "\n",
      "\n"
     ]
    }
   ],
   "source": [
    "library(clusterProfiler)"
   ]
  },
  {
   "cell_type": "code",
   "execution_count": 10,
   "id": "41e25e92-3705-4758-b9b4-cb739623ea2a",
   "metadata": {
    "collapsed": true,
    "jupyter": {
     "outputs_hidden": true
    },
    "tags": []
   },
   "outputs": [
    {
     "name": "stderr",
     "output_type": "stream",
     "text": [
      "Loading required package: org.Hs.eg.db\n",
      "\n",
      "Loading required package: AnnotationDbi\n",
      "\n",
      "Loading required package: stats4\n",
      "\n",
      "Loading required package: BiocGenerics\n",
      "\n",
      "Loading required package: parallel\n",
      "\n",
      "\n",
      "Attaching package: ‘BiocGenerics’\n",
      "\n",
      "\n",
      "The following objects are masked from ‘package:parallel’:\n",
      "\n",
      "    clusterApply, clusterApplyLB, clusterCall, clusterEvalQ,\n",
      "    clusterExport, clusterMap, parApply, parCapply, parLapply,\n",
      "    parLapplyLB, parRapply, parSapply, parSapplyLB\n",
      "\n",
      "\n",
      "The following objects are masked from ‘package:dplyr’:\n",
      "\n",
      "    combine, intersect, setdiff, union\n",
      "\n",
      "\n",
      "The following objects are masked from ‘package:stats’:\n",
      "\n",
      "    IQR, mad, sd, var, xtabs\n",
      "\n",
      "\n",
      "The following objects are masked from ‘package:base’:\n",
      "\n",
      "    anyDuplicated, append, as.data.frame, basename, cbind, colnames,\n",
      "    dirname, do.call, duplicated, eval, evalq, Filter, Find, get, grep,\n",
      "    grepl, intersect, is.unsorted, lapply, Map, mapply, match, mget,\n",
      "    order, paste, pmax, pmax.int, pmin, pmin.int, Position, rank,\n",
      "    rbind, Reduce, rownames, sapply, setdiff, sort, table, tapply,\n",
      "    union, unique, unsplit, which.max, which.min\n",
      "\n",
      "\n",
      "Loading required package: Biobase\n",
      "\n",
      "Welcome to Bioconductor\n",
      "\n",
      "    Vignettes contain introductory material; view with\n",
      "    'browseVignettes()'. To cite Bioconductor, see\n",
      "    'citation(\"Biobase\")', and for packages 'citation(\"pkgname\")'.\n",
      "\n",
      "\n",
      "Loading required package: IRanges\n",
      "\n",
      "Loading required package: S4Vectors\n",
      "\n",
      "\n",
      "Attaching package: ‘S4Vectors’\n",
      "\n",
      "\n",
      "The following object is masked from ‘package:clusterProfiler’:\n",
      "\n",
      "    rename\n",
      "\n",
      "\n",
      "The following objects are masked from ‘package:data.table’:\n",
      "\n",
      "    first, second\n",
      "\n",
      "\n",
      "The following objects are masked from ‘package:dplyr’:\n",
      "\n",
      "    first, rename\n",
      "\n",
      "\n",
      "The following object is masked from ‘package:base’:\n",
      "\n",
      "    expand.grid\n",
      "\n",
      "\n",
      "\n",
      "Attaching package: ‘IRanges’\n",
      "\n",
      "\n",
      "The following object is masked from ‘package:clusterProfiler’:\n",
      "\n",
      "    slice\n",
      "\n",
      "\n",
      "The following object is masked from ‘package:sp’:\n",
      "\n",
      "    %over%\n",
      "\n",
      "\n",
      "The following object is masked from ‘package:data.table’:\n",
      "\n",
      "    shift\n",
      "\n",
      "\n",
      "The following objects are masked from ‘package:dplyr’:\n",
      "\n",
      "    collapse, desc, slice\n",
      "\n",
      "\n",
      "\n",
      "Attaching package: ‘AnnotationDbi’\n",
      "\n",
      "\n",
      "The following object is masked from ‘package:clusterProfiler’:\n",
      "\n",
      "    select\n",
      "\n",
      "\n",
      "The following object is masked from ‘package:dplyr’:\n",
      "\n",
      "    select\n",
      "\n",
      "\n",
      "\n",
      "\n"
     ]
    }
   ],
   "source": [
    "UP_enrichGO_result = enrichGO(gene = markers_P_metas[markers_P_metas$avg_log2FC>0 & markers_P_metas$p_val_adj<0.05,]$gene,'org.Hs.eg.db', ont=\"BP\", pvalueCutoff=0.01,keyType = \"SYMBOL\")"
   ]
  },
  {
   "cell_type": "code",
   "execution_count": 39,
   "id": "95f991e3-c2f1-4975-9745-2f9bd202703e",
   "metadata": {},
   "outputs": [],
   "source": [
    "result = UP_enrichGO_result@result"
   ]
  },
  {
   "cell_type": "code",
   "execution_count": 37,
   "id": "d7d2dc52-55db-484f-8cef-72066c03f5b8",
   "metadata": {},
   "outputs": [],
   "source": [
    "result['GeneRatio'] = paste0(\"'\",result[,'GeneRatio'])"
   ]
  },
  {
   "cell_type": "code",
   "execution_count": 40,
   "id": "ac9845a8-93fe-4ca2-9ff2-415860ee03b7",
   "metadata": {},
   "outputs": [],
   "source": [
    "write.csv(result,\"./submit/iCAF_P_Metas_VS_P_UP_enrichGO_result.csv\")"
   ]
  },
  {
   "cell_type": "code",
   "execution_count": 1157,
   "id": "56ecadd1-35a2-44c6-8414-d35ec39311cf",
   "metadata": {},
   "outputs": [
    {
     "name": "stderr",
     "output_type": "stream",
     "text": [
      "wrong orderBy parameter; set to default `orderBy = \"x\"`\n",
      "\n"
     ]
    },
    {
     "data": {
      "text/html": [
       "<strong>png:</strong> 2"
      ],
      "text/latex": [
       "\\textbf{png:} 2"
      ],
      "text/markdown": [
       "**png:** 2"
      ],
      "text/plain": [
       "png \n",
       "  2 "
      ]
     },
     "metadata": {},
     "output_type": "display_data"
    }
   ],
   "source": [
    "pdf(\"/home/wyh/scdata/combined_data/fibroblast/submit/markers_P_metas_enrichedV3.pdf\",height = 4,width =7)\n",
    "dotplot(UP_enrichGO_result)\n",
    "dev.off()"
   ]
  },
  {
   "cell_type": "markdown",
   "id": "ab8a0ff3-0d1c-4380-bb54-1c8ff7c3f2df",
   "metadata": {},
   "source": [
    "## Figure S7F difference between normal and tumor"
   ]
  },
  {
   "cell_type": "code",
   "execution_count": 1128,
   "id": "83d50873-668b-4746-914f-fe6b0e7a6396",
   "metadata": {},
   "outputs": [],
   "source": [
    "Fibroblast_iCAFsV2 = Fibroblast_new2[,Fibroblast_new2$subtype3==\"F_C1_CFD\"]"
   ]
  },
  {
   "cell_type": "code",
   "execution_count": 1129,
   "id": "91b91c67-11af-4563-a1cd-cbfef28251d5",
   "metadata": {},
   "outputs": [],
   "source": [
    "Fibroblast_iCAFsV2 = Fibroblast_iCAFsV2[,Fibroblast_iCAFsV2$histological.type.short %in% c(\"CC\",\"XGC\",\"LG\",\"HG\",\"adeno\")]\n",
    "# data_plot = fibroblast_ratio[,c(colnames(fibroblast_ratio)[1:cluster_num],\"sample.type\")]"
   ]
  },
  {
   "cell_type": "code",
   "execution_count": 1132,
   "id": "08eff30e-b147-4c91-954f-137c3fa715a7",
   "metadata": {},
   "outputs": [],
   "source": [
    "Fibroblast_iCAFsV2$sample.type = \"Tumor\"\n",
    "\n",
    "Fibroblast_iCAFsV2$sample.type[Fibroblast_iCAFsV2$Tumors.for.scRNA.seq.short %in% c(\"CC\",\"XGC\")] = \"Normal\"\n",
    "Fibroblast_iCAFsV2$sample.type[Fibroblast_iCAFsV2$histological.type.short %in% c(\"LG\",\"HG\")] = \"Normal\""
   ]
  },
  {
   "cell_type": "code",
   "execution_count": 1133,
   "id": "0d51b5f6-0050-4947-95b0-8cf55f1b26c8",
   "metadata": {},
   "outputs": [],
   "source": [
    "markers_adeno_iCAF = FindMarkers(Fibroblast_iCAFsV2,group.by = \"sample.type\",ident.1 = \"Tumor\",ident.2 = \"Normal\",min.pct = 0.20)"
   ]
  },
  {
   "cell_type": "code",
   "execution_count": 1134,
   "id": "55f04f89-7c42-4eaf-9ffd-e49baad5c3c5",
   "metadata": {},
   "outputs": [],
   "source": [
    "write.csv(markers_adeno_iCAF,\"./group_compare/adeno_iCAF_markers.csv\")"
   ]
  },
  {
   "cell_type": "code",
   "execution_count": 15,
   "id": "06519c25-aab4-411f-b603-94f29a37ba63",
   "metadata": {},
   "outputs": [],
   "source": [
    "markers_adeno_iCAF = read.csv(\"./group_compare/adeno_iCAF_markers.csv\",row.names = 1)"
   ]
  },
  {
   "cell_type": "code",
   "execution_count": 16,
   "id": "52fd4a57-2b81-4cbf-9f0d-8c4602bf1050",
   "metadata": {},
   "outputs": [],
   "source": [
    "markers_adeno_iCAF$gene = rownames(markers_adeno_iCAF)"
   ]
  },
  {
   "cell_type": "code",
   "execution_count": 684,
   "id": "112f3af1-5b27-4f47-a1c2-b5b38d08ce28",
   "metadata": {},
   "outputs": [
    {
     "name": "stderr",
     "output_type": "stream",
     "text": [
      "Warning message:\n",
      "“One or more p-values is 0. Converting to 10^-1 * current lowest non-zero p-value...”\n"
     ]
    },
    {
     "data": {
      "text/html": [
       "<strong>png:</strong> 2"
      ],
      "text/latex": [
       "\\textbf{png:} 2"
      ],
      "text/markdown": [
       "**png:** 2"
      ],
      "text/plain": [
       "png \n",
       "  2 "
      ]
     },
     "metadata": {},
     "output_type": "display_data"
    }
   ],
   "source": [
    "markers_adeno_iCAF_plot = markers_adeno_iCAF\n",
    "colnames(markers_adeno_iCAF_plot) = c(\"Pvalue\",\"logFC\",\"pct.1\",\"pct.2\",\"qvalue\",\"gene\")\n",
    "pdf(\"/home/wyh/scdata/combined_data/fibroblast/submit/markers_adeno_iCAF_plot.pdf\",height = 7,width = 6)\n",
    "EnhancedVolcano::EnhancedVolcano(markers_adeno_iCAF_plot,\n",
    "                title = \"Differential expression\", subtitle = \"\",\n",
    "                selectLab = c(\"COL10A1\",'COL4A2','COL8A1','MMP11','COL5A2','COL12A1','COL18A1','MMP14','CFD','CLU'),\n",
    "                drawConnectors = TRUE, widthConnectors = 0.5, colConnectors = 'black', boxedLabels = TRUE,\n",
    "                lab = markers_adeno_iCAF_plot$gene,\n",
    "                col = c(\"grey30\", \"forestgreen\", '#5956c8', '#dd3e34'),\n",
    "                x = 'logFC',\n",
    "                y = 'qvalue',\n",
    "                xlim = c(-2, 2),\n",
    "                FCcutoff = 0.25,\n",
    "                pCutoff = 10e-2,\n",
    "                legendLabSize = 10)+xlab(expression(paste(\"logFC\",frac(\"tumor\",\"normal\"))))\n",
    "dev.off()"
   ]
  },
  {
   "cell_type": "code",
   "execution_count": 17,
   "id": "6a1691f8-22ef-494c-aae0-75493468e033",
   "metadata": {},
   "outputs": [],
   "source": [
    "markers_adeno_iCAF_plot = markers_adeno_iCAF"
   ]
  },
  {
   "cell_type": "code",
   "execution_count": 18,
   "id": "ca5bf2dc-1c29-4df2-af20-bc3565e33be9",
   "metadata": {
    "tags": []
   },
   "outputs": [],
   "source": [
    "markers_adeno_iCAF_plot$threshold = \"Non significant\"\n",
    "markers_adeno_iCAF_plot$threshold[markers_adeno_iCAF_plot$avg_log2FC>0] = \"UP\"\n",
    "markers_adeno_iCAF_plot$threshold[markers_adeno_iCAF_plot$avg_log2FC<0] = 'DOWN'"
   ]
  },
  {
   "cell_type": "code",
   "execution_count": 19,
   "id": "322b5777-aea6-4886-9759-77c03a34fc16",
   "metadata": {},
   "outputs": [],
   "source": [
    "markers_adeno_iCAF_plot$threshold = factor(markers_adeno_iCAF_plot$threshold,levels = c(\"UP\",'DOWN',\"Non significant\"))"
   ]
  },
  {
   "cell_type": "code",
   "execution_count": 278,
   "id": "3a88f09d-9b55-430d-864f-9b01eabac9f9",
   "metadata": {},
   "outputs": [
    {
     "data": {
      "text/plain": [
       "$title\n",
       "[1] \"F_C1_CFD\"\n",
       "\n",
       "attr(,\"class\")\n",
       "[1] \"labels\""
      ]
     },
     "metadata": {},
     "output_type": "display_data"
    },
    {
     "data": {
      "text/html": [
       "<strong>png:</strong> 2"
      ],
      "text/latex": [
       "\\textbf{png:} 2"
      ],
      "text/markdown": [
       "**png:** 2"
      ],
      "text/plain": [
       "png \n",
       "  2 "
      ]
     },
     "metadata": {},
     "output_type": "display_data"
    }
   ],
   "source": [
    "pdf(\"./submit/vocaloplot_adeno_iCAF_plotV2.pdf\",height = 3,width = 3)\n",
    "library( ggrepel)\n",
    "ggplot(markers_adeno_iCAF_plot,aes(x=avg_log2FC,y=-log10(p_val_adj),color=threshold))+\n",
    "  geom_point()+\n",
    "  scale_color_manual(values=c(\"#DC143C\",\"#00008B\",\"#808080\"))+\n",
    "  geom_text_repel(\n",
    "    data = markers_adeno_iCAF_plot[markers_adeno_iCAF_plot$gene %in% c(\"COL10A1\",'COL4A2','COL8A1','MMP11','COL5A2','COL12A1','COL18A1','MMP14'),],\n",
    "    aes(label = gene),\n",
    "    size = 3,\n",
    "    segment.color = \"black\", show.legend = FALSE )+#添加关注的点的基因名\n",
    "  theme_bw()+\n",
    "  theme(\n",
    "    legend.title = element_blank()\n",
    "  )+\n",
    "  ylab('-log10 (p-adj)')+\n",
    "  xlab('log2 (FoldChange)')+\n",
    "  geom_vline(xintercept=c(-1,1),lty=3,col=\"black\",lwd=0.5) +\n",
    "  geom_hline(yintercept = -log10(0.05),lty=3,col=\"black\",lwd=0.5)+theme(legend.position=\"none\")\n",
    "  ggtitle(\"F_C1_CFD\")\n",
    "dev.off()"
   ]
  },
  {
   "cell_type": "markdown",
   "id": "e92839e2-01e6-4832-b278-465eae462e47",
   "metadata": {},
   "source": [
    "### figureS7G enrichment analysis"
   ]
  },
  {
   "cell_type": "code",
   "execution_count": 20,
   "id": "fa476c07-3738-4950-9907-18f18774a8d1",
   "metadata": {},
   "outputs": [],
   "source": [
    "UP_enrichGO_result_adeno = enrichGO(gene = markers_adeno_iCAF[markers_adeno_iCAF$avg_log2FC>0.25 & markers_adeno_iCAF$p_val_adj<0.05,]$gene,'org.Hs.eg.db', ont=\"BP\", pvalueCutoff=0.01,keyType = \"SYMBOL\")"
   ]
  },
  {
   "cell_type": "code",
   "execution_count": 21,
   "id": "7d23a7dd-e481-4672-a0ca-a3e4d92a90ca",
   "metadata": {},
   "outputs": [
    {
     "data": {
      "text/html": [
       "33"
      ],
      "text/latex": [
       "33"
      ],
      "text/markdown": [
       "33"
      ],
      "text/plain": [
       "[1] 33"
      ]
     },
     "metadata": {},
     "output_type": "display_data"
    }
   ],
   "source": [
    "length(markers_adeno_iCAF[markers_adeno_iCAF$avg_log2FC>0.5 & markers_adeno_iCAF$p_val_adj<0.05,]$gene)"
   ]
  },
  {
   "cell_type": "code",
   "execution_count": 23,
   "id": "28df2679-281d-4841-a5d8-4c4260baad3b",
   "metadata": {},
   "outputs": [],
   "source": [
    "write.csv(UP_enrichGO_result_adeno@result,\"./submit/iCAF_Tumor_VS_normal_UP_enrichGO_result.csv\")"
   ]
  },
  {
   "cell_type": "code",
   "execution_count": 1140,
   "id": "7769f4c1-8379-41a5-90fd-9526c5108a5a",
   "metadata": {},
   "outputs": [
    {
     "name": "stderr",
     "output_type": "stream",
     "text": [
      "wrong orderBy parameter; set to default `orderBy = \"x\"`\n",
      "\n"
     ]
    },
    {
     "data": {
      "text/html": [
       "<strong>png:</strong> 2"
      ],
      "text/latex": [
       "\\textbf{png:} 2"
      ],
      "text/markdown": [
       "**png:** 2"
      ],
      "text/plain": [
       "png \n",
       "  2 "
      ]
     },
     "metadata": {},
     "output_type": "display_data"
    }
   ],
   "source": [
    "pdf(\"/home/wyh/scdata/combined_data/fibroblast/submit/markers_adeno_iCAF_enrichedV2.pdf\",height = 4,width =6)\n",
    "dotplot(UP_enrichGO_result_adeno)   # 这个主要是说明\n",
    "dev.off()"
   ]
  },
  {
   "cell_type": "markdown",
   "id": "7caf9b3c-57a6-4994-8dda-ccaad15830ed",
   "metadata": {},
   "source": [
    "# FigureS7C ratio comparison between normal and tumor"
   ]
  },
  {
   "cell_type": "code",
   "execution_count": 78,
   "id": "748a943f-744b-4292-a41c-b9859b380eca",
   "metadata": {},
   "outputs": [
    {
     "name": "stderr",
     "output_type": "stream",
     "text": [
      "Warning message in melt(data_plot):\n",
      "“The melt generic in data.table has been passed a data.frame and will attempt to redirect to the relevant reshape2 method; please note that reshape2 is deprecated, and this redirection is now deprecated as well. To continue using melt methods from reshape2 while both libraries are attached, e.g. melt.list, you can prepend the namespace like reshape2::melt(data_plot). In the next version, this warning will become an error.”\n",
      "Using sample.type as id variables\n",
      "\n"
     ]
    }
   ],
   "source": [
    "fibroblast_ratio = fibroblast_ratio_all[fibroblast_ratio_all$histological.type.short %in% c(\"CC\",\"XGC\",\"LG\",\"HG\",\"adeno\"),]\n",
    "data_plot = fibroblast_ratio[,c(colnames(fibroblast_ratio)[1:cluster_num],\"sample.type\")]\n",
    "data_plot_melt = melt(data_plot)\n",
    "colnames(data_plot_melt) = c(\"sample.type\",\"variable\",\"Freq\")"
   ]
  },
  {
   "cell_type": "code",
   "execution_count": 80,
   "id": "9181d41f-2bcb-42b4-998e-a6ce56814b08",
   "metadata": {
    "tags": []
   },
   "outputs": [],
   "source": [
    "data_plot_melt$Freq = data_plot_melt$Freq*100"
   ]
  },
  {
   "cell_type": "code",
   "execution_count": 30,
   "id": "0b8a3da7-2e9e-425d-b37e-6781285b7913",
   "metadata": {
    "tags": []
   },
   "outputs": [
    {
     "data": {
      "text/html": [
       "<strong>png:</strong> 2"
      ],
      "text/latex": [
       "\\textbf{png:} 2"
      ],
      "text/markdown": [
       "**png:** 2"
      ],
      "text/plain": [
       "png \n",
       "  2 "
      ]
     },
     "metadata": {},
     "output_type": "display_data"
    }
   ],
   "source": [
    "pdf(\"./figures/tumor_normal_compare0810.pdf\",height = 4,width = 3.5)\n",
    "for(itype in high_entropy_cluster){\n",
    "   p <- ggboxplot(data_plot_melt[data_plot_melt$variable==itype,], x = \"sample.type\", y = \"Freq\",\n",
    "               color = \"sample.type\", palette = \"jco\",add = \"jitter\")\n",
    "   print(p + stat_compare_means(label = \"p.signif\",comparisons = list(c(\"Normal\",\"Tumor\"))) +ggtitle(itype)+ylab(\"Percentage\"))\n",
    "}\n",
    "dev.off()"
   ]
  },
  {
   "cell_type": "code",
   "execution_count": 85,
   "id": "45c689c6-2906-4d29-903c-547a403c6a49",
   "metadata": {},
   "outputs": [],
   "source": [
    "high_entropy_cluster = c('F_C0_MMP11','F_C1_CFD','F_C2_COLEC11','Per_C0_RGS5','Per_C1_MYH11','Per_C3_STEAP4')"
   ]
  },
  {
   "cell_type": "code",
   "execution_count": 108,
   "id": "5faec76a-84cd-40be-8528-cf1e1fbd9b56",
   "metadata": {},
   "outputs": [
    {
     "data": {
      "text/html": [
       "<strong>png:</strong> 2"
      ],
      "text/latex": [
       "\\textbf{png:} 2"
      ],
      "text/markdown": [
       "**png:** 2"
      ],
      "text/plain": [
       "png \n",
       "  2 "
      ]
     },
     "metadata": {},
     "output_type": "display_data"
    }
   ],
   "source": [
    "pdf(\"./figures/tumor_normal_compare0905.pdf\",height = 4,width = 2)\n",
    "for(itype in high_entropy_cluster){\n",
    "   p <- ggboxplot(data_plot_melt[data_plot_melt$variable==itype,], x = \"sample.type\", y = \"Freq\",\n",
    "               color = \"sample.type\", palette = \"jco\",add = \"jitter\")\n",
    "   print(p + stat_compare_means(comparisons = list(c(\"Normal\",\"Tumor\"))) +ggtitle(itype)+ylab(\"Percentage\"))+theme(axis.title.x = element_blank()) +\n",
    "    theme(axis.text.x = element_blank())  \n",
    "}\n",
    "dev.off()"
   ]
  },
  {
   "cell_type": "code",
   "execution_count": 109,
   "id": "28ed5391-2a2b-41e1-be03-e8471916d2ee",
   "metadata": {},
   "outputs": [],
   "source": [
    "ggplot_list = list()\n",
    "cluster_plot = c(\"F_C0_MMP11\",\"Per_C0_RGS5\",\"Per_C3_STEAP4\")\n",
    "for(itype in cluster_plot){\n",
    "   p <- ggboxplot(data_plot_melt[data_plot_melt$variable==itype,], x = \"sample.type\", y = \"Freq\",\n",
    "               color = \"sample.type\", palette = \"jco\",add = \"jitter\")\n",
    "   ggplot_list[[itype]] = p + stat_compare_means(comparisons = list(c(\"Normal\",\"Tumor\")))+ylab(itype)+theme(axis.title.x = element_blank()) +\n",
    "    theme(axis.text.x = element_blank())  \n",
    "}\n"
   ]
  },
  {
   "cell_type": "code",
   "execution_count": 110,
   "id": "c0e6e3bb-a7c1-4e42-8b24-64add809aad1",
   "metadata": {},
   "outputs": [],
   "source": [
    "library(\"patchwork\")\n",
    "library(RColorBrewer)"
   ]
  },
  {
   "cell_type": "code",
   "execution_count": 111,
   "id": "5d111420-54ba-47f9-bae4-060eb61473d9",
   "metadata": {},
   "outputs": [
    {
     "data": {
      "text/html": [
       "<strong>png:</strong> 2"
      ],
      "text/latex": [
       "\\textbf{png:} 2"
      ],
      "text/markdown": [
       "**png:** 2"
      ],
      "text/plain": [
       "png \n",
       "  2 "
      ]
     },
     "metadata": {},
     "output_type": "display_data"
    }
   ],
   "source": [
    "pdf(\"./figures/tumor_normal_compare_combined.pdf\",height = 3,width = 6)\n",
    "ggplot_list[[1]]+ggplot_list[[2]]+ggplot_list[[3]] + plot_layout(guides = 'collect') & theme(legend.position = c(\"top\"))\n",
    "dev.off()"
   ]
  },
  {
   "cell_type": "code",
   "execution_count": 169,
   "id": "2a7ad23e-13ef-4b55-a464-cf65adcc72f2",
   "metadata": {},
   "outputs": [],
   "source": [
    "for(itype in high_entropy_cluster){\n",
    "   pdf(paste0(\"./figures/normal_tumor_compare/\",itype,\".pdf\"),height = 4,width = 3.5)\n",
    "   p <- ggboxplot(data_plot_melt[data_plot_melt$variable==itype,], x = \"sample.type\", y = \"Freq\",\n",
    "               color = \"sample.type\", palette = \"jco\",add = \"jitter\")\n",
    "   print(p + stat_compare_means(label = \"p.signif\",comparisons = list(c(\"Normal\",\"Tumor\"))) +ggtitle(itype)+ylab(\"Percentage\"))\n",
    "   dev.off()\n",
    "}\n"
   ]
  },
  {
   "cell_type": "markdown",
   "id": "b4d086c7-9efe-4b04-8a84-0c478d28ca89",
   "metadata": {},
   "source": [
    "# figure S7D ratio comparison between P_metas and P"
   ]
  },
  {
   "cell_type": "code",
   "execution_count": 1245,
   "id": "d3a122e4-9088-4c43-96b5-a9dc459e5aec",
   "metadata": {},
   "outputs": [],
   "source": [
    "fibroblast_ratio = fibroblast_ratio_all\n",
    "fibroblast_ratio = fibroblast_ratio[fibroblast_ratio$Tumors.for.scRNA.seq.short==\"P\",]\n",
    "fibroblast_ratio = fibroblast_ratio[fibroblast_ratio$histological.type.short %in% \"adeno\",]"
   ]
  },
  {
   "cell_type": "code",
   "execution_count": 1246,
   "id": "13195a9b-2637-4a79-baf1-2d8b24770dae",
   "metadata": {},
   "outputs": [],
   "source": [
    "fibroblast_ratio$metastasis.type = as.character(fibroblast_ratio$metastasis.type)"
   ]
  },
  {
   "cell_type": "code",
   "execution_count": 1247,
   "id": "87b2d6cc-fa4e-49a2-9ac1-47f0bf4f1d3a",
   "metadata": {},
   "outputs": [],
   "source": [
    "fibroblast_ratio$metastasis.type[fibroblast_ratio$metastasis.type %in% c(\"P_LN\",\"P_LM\")] = \"P_Metas\""
   ]
  },
  {
   "cell_type": "code",
   "execution_count": 1248,
   "id": "4444237f-e977-4c78-9b3b-536a516f6581",
   "metadata": {},
   "outputs": [
    {
     "name": "stderr",
     "output_type": "stream",
     "text": [
      "Warning message in melt(data_plot):\n",
      "“The melt generic in data.table has been passed a data.frame and will attempt to redirect to the relevant reshape2 method; please note that reshape2 is deprecated, and this redirection is now deprecated as well. To continue using melt methods from reshape2 while both libraries are attached, e.g. melt.list, you can prepend the namespace like reshape2::melt(data_plot). In the next version, this warning will become an error.”\n",
      "Using metastasis.type as id variables\n",
      "\n"
     ]
    }
   ],
   "source": [
    "data_plot = fibroblast_ratio[,c(colnames(fibroblast_ratio)[1:cluster_num],\"metastasis.type\")]\n",
    "data_plot_melt = melt(data_plot)\n",
    "colnames(data_plot_melt) = c(\"metastasis.type\",\"variable\",\"Freq\")"
   ]
  },
  {
   "cell_type": "code",
   "execution_count": 119,
   "id": "28b2cb47-bf0e-4898-b001-3751abfc8ab6",
   "metadata": {
    "tags": []
   },
   "outputs": [],
   "source": [
    "ggplot_list = list()\n",
    "cluster_plot = c(\"F_C1_CFD\",\"Per_C1_MYH11\",\"Per_C3_STEAP4\")\n",
    "for(itype in cluster_plot){\n",
    "   p <- ggboxplot(data_plot_melt[data_plot_melt$variable==itype,], x = \"metastasis.type\", y = \"Freq\",\n",
    "               color = \"metastasis.type\", palette = \"jco\",add = \"jitter\")\n",
    "   ggplot_list[[itype]] = p + stat_compare_means(comparisons = list(c(\"P\",\"P_Metas\")))+ylab(itype)+theme(axis.title.x = element_blank()) +\n",
    "    theme(axis.text.x = element_blank())  \n",
    "}\n"
   ]
  },
  {
   "cell_type": "code",
   "execution_count": 120,
   "id": "d6987978-427f-41ed-aad6-7420c825184c",
   "metadata": {},
   "outputs": [],
   "source": [
    "library(\"patchwork\")\n",
    "library(RColorBrewer)"
   ]
  },
  {
   "cell_type": "code",
   "execution_count": 122,
   "id": "36188553-5240-4244-a2e3-59473db66eaf",
   "metadata": {},
   "outputs": [
    {
     "data": {
      "text/html": [
       "<strong>png:</strong> 2"
      ],
      "text/latex": [
       "\\textbf{png:} 2"
      ],
      "text/markdown": [
       "**png:** 2"
      ],
      "text/plain": [
       "png \n",
       "  2 "
      ]
     },
     "metadata": {},
     "output_type": "display_data"
    }
   ],
   "source": [
    "pdf(\"./figures/group_copare_metastasistype.pdf\",height = 3,width = 6)\n",
    "ggplot_list[[1]]+ggplot_list[[2]]+ggplot_list[[3]] + plot_layout(guides = 'collect') & theme(legend.position = c(\"top\"))\n",
    "dev.off()"
   ]
  },
  {
   "cell_type": "code",
   "execution_count": 63,
   "id": "790e5cae-12ec-487f-be8e-444bbf129a40",
   "metadata": {
    "tags": []
   },
   "outputs": [
    {
     "data": {
      "text/html": [
       "<strong>png:</strong> 2"
      ],
      "text/latex": [
       "\\textbf{png:} 2"
      ],
      "text/markdown": [
       "**png:** 2"
      ],
      "text/plain": [
       "png \n",
       "  2 "
      ]
     },
     "metadata": {},
     "output_type": "display_data"
    }
   ],
   "source": [
    "pdf(\"./group_compare/group_compare_metastasistype.0816.pdf\",width = 15,height = 5)\n",
    "print(ggplot(data_plot_melt, aes( y=Freq, x=metastasis.type)) + geom_boxplot()+facet_grid(. ~variable)+\n",
    "    theme(axis.text.x = element_text(angle = 45, hjust = 1, vjust = 1,color=\"black\"),\n",
    "         axis.text.y = element_text(color=\"black\"),\n",
    "         axis.title=element_text())+ggtitle(\"\")+\n",
    "           stat_compare_means(comparisons = list(\n",
    "   c(\"P\",\"P_Metas\")\n",
    "  ),method = \"wilcox.test\",label=\"p.signif\"))\n",
    "dev.off()"
   ]
  },
  {
   "cell_type": "code",
   "execution_count": 47,
   "id": "714a15d6-0cd7-426b-bda5-a75fe5ad9f79",
   "metadata": {
    "tags": []
   },
   "outputs": [],
   "source": [
    "cluster_num = 16"
   ]
  },
  {
   "cell_type": "code",
   "execution_count": 245,
   "id": "dd8ab94f-9e99-430d-baf1-a2525a80a59f",
   "metadata": {
    "collapsed": true,
    "jupyter": {
     "outputs_hidden": true
    },
    "tags": []
   },
   "outputs": [
    {
     "name": "stderr",
     "output_type": "stream",
     "text": [
      "Warning message in melt(data_plot):\n",
      "“The melt generic in data.table has been passed a data.frame and will attempt to redirect to the relevant reshape2 method; please note that reshape2 is deprecated, and this redirection is now deprecated as well. To continue using melt methods from reshape2 while both libraries are attached, e.g. melt.list, you can prepend the namespace like reshape2::melt(data_plot). In the next version, this warning will become an error.”\n",
      "Using metastasis.type as id variables\n",
      "\n",
      "Warning message in wilcox.test.default(c(0.616541353383459, 0.392070484581498, 0.00583941605839416, :\n",
      "“cannot compute exact p-value with ties”\n",
      "Warning message in wilcox.test.default(c(0.616541353383459, 0.392070484581498, 0.00583941605839416, :\n",
      "“cannot compute exact p-value with ties”\n",
      "Warning message in wilcox.test.default(c(0.0676691729323308, 0, 0, 0.0326209223847019, :\n",
      "“cannot compute exact p-value with ties”\n",
      "Warning message in wilcox.test.default(c(0.0676691729323308, 0, 0, 0.0326209223847019, :\n",
      "“cannot compute exact p-value with ties”\n",
      "Warning message in wilcox.test.default(c(0.179611650485437, 0.126943005181347, 0.0481927710843374, :\n",
      "“cannot compute exact p-value with ties”\n",
      "Warning message in wilcox.test.default(c(0, 0, 0, 0, 0, 0, 0, 0, 0, 0, 0, 0, 0, :\n",
      "“cannot compute exact p-value with ties”\n",
      "Warning message in wilcox.test.default(c(0, 0, 0, 0, 0, 0, 0, 0, 0, 0, 0, 0, 0, :\n",
      "“cannot compute exact p-value with ties”\n",
      "Warning message in wilcox.test.default(c(0, 0, 0, 0, 0.015, 0.673582995951417, 0, :\n",
      "“cannot compute exact p-value with ties”\n",
      "Warning message in wilcox.test.default(c(0, 0, 0, 0.00224971878515186, 0, 0, 0, :\n",
      "“cannot compute exact p-value with ties”\n",
      "Warning message in wilcox.test.default(c(0, 0, 0, 0.00224971878515186, 0, 0, 0, :\n",
      "“cannot compute exact p-value with ties”\n",
      "Warning message in wilcox.test.default(c(0, 0, 0.00803212851405622, 0, 0.00666666666666667, :\n",
      "“cannot compute exact p-value with ties”\n",
      "Warning message in wilcox.test.default(c(0, 0.00440528634361234, 0, 0, 0, 0, 0.00462962962962963, :\n",
      "“cannot compute exact p-value with ties”\n",
      "Warning message in wilcox.test.default(c(0, 0.00440528634361234, 0, 0, 0, 0, 0.00462962962962963, :\n",
      "“cannot compute exact p-value with ties”\n",
      "Warning message in wilcox.test.default(c(0.00970873786407767, 0.00259067357512953, :\n",
      "“cannot compute exact p-value with ties”\n",
      "Warning message in wilcox.test.default(c(0, 0, 0, 0.00112485939257593, 0, 0, 0, :\n",
      "“cannot compute exact p-value with ties”\n",
      "Warning message in wilcox.test.default(c(0, 0, 0, 0.00112485939257593, 0, 0, 0, :\n",
      "“cannot compute exact p-value with ties”\n",
      "Warning message in wilcox.test.default(c(0, 0, 0, 0, 0.03, 0.0703441295546559, 0, :\n",
      "“cannot compute exact p-value with ties”\n",
      "Warning message in wilcox.test.default(c(0, 0.224669603524229, 0, 0.298087739032621, :\n",
      "“cannot compute exact p-value with ties”\n",
      "Warning message in wilcox.test.default(c(0, 0.224669603524229, 0, 0.298087739032621, :\n",
      "“cannot compute exact p-value with ties”\n",
      "Warning message in wilcox.test.default(c(0, 0.0751295336787565, 0, 0.027027027027027, :\n",
      "“cannot compute exact p-value with ties”\n",
      "Warning message in wilcox.test.default(c(0.0112781954887218, 0, 0, 0.00224971878515186, :\n",
      "“cannot compute exact p-value with ties”\n",
      "Warning message in wilcox.test.default(c(0.0112781954887218, 0, 0, 0.00224971878515186, :\n",
      "“cannot compute exact p-value with ties”\n",
      "Warning message in wilcox.test.default(c(0.0194174757281553, 0.0155440414507772, :\n",
      "“cannot compute exact p-value with ties”\n",
      "Warning message in wilcox.test.default(c(0.0488721804511278, 0.127753303964758, :\n",
      "“cannot compute exact p-value with ties”\n",
      "Warning message in wilcox.test.default(c(0.0488721804511278, 0.127753303964758, :\n",
      "“cannot compute exact p-value with ties”\n",
      "Warning message in wilcox.test.default(c(0.155339805825243, 0.0569948186528497, :\n",
      "“cannot compute exact p-value with ties”\n",
      "Warning message in wilcox.test.default(c(0, 0.110132158590308, 0.0686131386861314, :\n",
      "“cannot compute exact p-value with ties”\n",
      "Warning message in wilcox.test.default(c(0.383495145631068, 0.194300518134715, 0.610441767068273, :\n",
      "“cannot compute exact p-value with ties”\n",
      "Warning message in wilcox.test.default(c(0.233082706766917, 0.114537444933921, 0.00291970802919708, :\n",
      "“cannot compute exact p-value with ties”\n",
      "Warning message in wilcox.test.default(c(0.233082706766917, 0.114537444933921, 0.00291970802919708, :\n",
      "“cannot compute exact p-value with ties”\n",
      "Warning message in wilcox.test.default(c(0.218446601941748, 0.269430051813472, 0.0843373493975904, :\n",
      "“cannot compute exact p-value with ties”\n",
      "Warning message in wilcox.test.default(c(0.0075187969924812, 0.00881057268722467, :\n",
      "“cannot compute exact p-value with ties”\n",
      "Warning message in wilcox.test.default(c(0.0075187969924812, 0.00881057268722467, :\n",
      "“cannot compute exact p-value with ties”\n",
      "Warning message in wilcox.test.default(c(0, 0.0103626943005181, 0, 0, 0.228333333333333, :\n",
      "“cannot compute exact p-value with ties”\n",
      "Warning message in wilcox.test.default(c(0, 0, 0, 0, 0, 0, 0, 0, 0, 0, 0, 0, 0, :\n",
      "“cannot compute exact p-value with ties”\n",
      "Warning message in wilcox.test.default(c(0, 0, 0, 0, 0, 0, 0, 0, 0, 0, 0, 0, 0, :\n",
      "“cannot compute exact p-value with ties”\n",
      "Warning message in wilcox.test.default(c(0, 0, 0, 0, 0, 0.000506072874493927, 0, :\n",
      "“cannot compute exact p-value with ties”\n",
      "Warning message in wilcox.test.default(c(0, 0.00881057268722467, 0, 0.00224971878515186, :\n",
      "“cannot compute exact p-value with ties”\n",
      "Warning message in wilcox.test.default(c(0, 0.00881057268722467, 0, 0.00224971878515186, :\n",
      "“cannot compute exact p-value with ties”\n",
      "Warning message in wilcox.test.default(c(0.00485436893203883, 0.00518134715025907, :\n",
      "“cannot compute exact p-value with ties”\n",
      "Warning message in wilcox.test.default(c(0.0112781954887218, 0, 0, 0, 0, 0, 0, 0, :\n",
      "“cannot compute exact p-value with ties”\n",
      "Warning message in wilcox.test.default(c(0.0112781954887218, 0, 0, 0, 0, 0, 0, 0, :\n",
      "“cannot compute exact p-value with ties”\n",
      "Warning message in wilcox.test.default(c(0, 0.0103626943005181, 0, 0, 0, 0, 0.00245700245700246, :\n",
      "“cannot compute exact p-value with ties”\n",
      "Warning message in wilcox.test.default(c(0.0037593984962406, 0.00881057268722467, :\n",
      "“cannot compute exact p-value with ties”\n",
      "Warning message in wilcox.test.default(c(0.0037593984962406, 0.00881057268722467, :\n",
      "“cannot compute exact p-value with ties”\n",
      "Warning message in wilcox.test.default(c(0.0145631067961165, 0.0129533678756477, :\n",
      "“cannot compute exact p-value with ties”\n"
     ]
    },
    {
     "data": {
      "text/html": [
       "<strong>png:</strong> 2"
      ],
      "text/latex": [
       "\\textbf{png:} 2"
      ],
      "text/markdown": [
       "**png:** 2"
      ],
      "text/plain": [
       "png \n",
       "  2 "
      ]
     },
     "metadata": {},
     "output_type": "display_data"
    }
   ],
   "source": [
    "data_plot = fibroblast_ratio[,c(colnames(fibroblast_ratio)[1:cluster_num],\"metastasis.type\")]\n",
    "data_plot_melt = melt(data_plot)\n",
    "colnames(data_plot_melt) = c(\"metastasis.type\",\"variable\",\"Freq\")\n",
    "\n",
    "pdf(\"/home/wyh/scdata/combined_data//fibroblast/group_compare/fibroblast_metastasis.type1129.pdf\",width = 20,height = 10)\n",
    "print(ggplot(data_plot_melt, aes( y=Freq, x=metastasis.type)) + geom_boxplot()+facet_grid(. ~variable)+\n",
    "    theme(axis.text.x = element_text(angle = 45, hjust = 1, vjust = 1,color=\"black\"),\n",
    "         axis.text.y = element_text(color=\"black\"),\n",
    "         axis.title=element_text())+ggtitle(\"\")+\n",
    "           stat_compare_means(comparisons = list(\n",
    "   c(\"P\",\"P_LN\"),c(\"P\",\"P_LM\"),c(\"P_LN\",\"P_LM\")\n",
    "  ),method = \"wilcox.test\",label=\"p.signif\"))\n",
    "dev.off()"
   ]
  },
  {
   "cell_type": "code",
   "execution_count": 34,
   "id": "61f98e42-920a-41e3-9e7d-d73a3269f3a3",
   "metadata": {
    "collapsed": true,
    "jupyter": {
     "outputs_hidden": true
    },
    "tags": []
   },
   "outputs": [
    {
     "name": "stderr",
     "output_type": "stream",
     "text": [
      "Warning message in melt(data_plot):\n",
      "“The melt generic in data.table has been passed a data.frame and will attempt to redirect to the relevant reshape2 method; please note that reshape2 is deprecated, and this redirection is now deprecated as well. To continue using melt methods from reshape2 while both libraries are attached, e.g. melt.list, you can prepend the namespace like reshape2::melt(data_plot). In the next version, this warning will become an error.”\n",
      "Using metastasis.type as id variables\n",
      "\n",
      "Warning message in wilcox.test.default(c(0.616541353383459, 0.392070484581498, 0.00583941605839416, :\n",
      "“cannot compute exact p-value with ties”\n",
      "Warning message in wilcox.test.default(c(0.616541353383459, 0.392070484581498, 0.00583941605839416, :\n",
      "“cannot compute exact p-value with ties”\n",
      "Warning message in wilcox.test.default(c(0.0676691729323308, 0, 0, 0.0326209223847019, :\n",
      "“cannot compute exact p-value with ties”\n",
      "Warning message in wilcox.test.default(c(0.0676691729323308, 0, 0, 0.0326209223847019, :\n",
      "“cannot compute exact p-value with ties”\n",
      "Warning message in wilcox.test.default(c(0.179611650485437, 0.126943005181347, 0.0481927710843374, :\n",
      "“cannot compute exact p-value with ties”\n",
      "Warning message in wilcox.test.default(c(0, 0.00440528634361234, 0, 0, 0, 0, 0.00462962962962963, :\n",
      "“cannot compute exact p-value with ties”\n",
      "Warning message in wilcox.test.default(c(0, 0.00440528634361234, 0, 0, 0, 0, 0.00462962962962963, :\n",
      "“cannot compute exact p-value with ties”\n",
      "Warning message in wilcox.test.default(c(0.00970873786407767, 0.00259067357512953, :\n",
      "“cannot compute exact p-value with ties”\n",
      "Warning message in wilcox.test.default(c(0, 0, 0, 0.00112485939257593, 0, 0, 0, :\n",
      "“cannot compute exact p-value with ties”\n",
      "Warning message in wilcox.test.default(c(0, 0, 0, 0.00112485939257593, 0, 0, 0, :\n",
      "“cannot compute exact p-value with ties”\n",
      "Warning message in wilcox.test.default(c(0, 0, 0, 0, 0.03, 0.0703441295546559, 0, :\n",
      "“cannot compute exact p-value with ties”\n",
      "Warning message in wilcox.test.default(c(0, 0.110132158590308, 0.0686131386861314, :\n",
      "“cannot compute exact p-value with ties”\n",
      "Warning message in wilcox.test.default(c(0.383495145631068, 0.194300518134715, 0.610441767068273, :\n",
      "“cannot compute exact p-value with ties”\n",
      "Warning message in wilcox.test.default(c(0.0075187969924812, 0.00881057268722467, :\n",
      "“cannot compute exact p-value with ties”\n",
      "Warning message in wilcox.test.default(c(0.0075187969924812, 0.00881057268722467, :\n",
      "“cannot compute exact p-value with ties”\n",
      "Warning message in wilcox.test.default(c(0, 0.0103626943005181, 0, 0, 0.228333333333333, :\n",
      "“cannot compute exact p-value with ties”\n",
      "Warning message in wilcox.test.default(c(0, 0, 0, 0, 0, 0, 0, 0, 0, 0, 0, 0, 0, :\n",
      "“cannot compute exact p-value with ties”\n",
      "Warning message in wilcox.test.default(c(0, 0, 0, 0, 0, 0, 0, 0, 0, 0, 0, 0, 0, :\n",
      "“cannot compute exact p-value with ties”\n",
      "Warning message in wilcox.test.default(c(0, 0, 0, 0, 0, 0.000506072874493927, 0, :\n",
      "“cannot compute exact p-value with ties”\n",
      "Warning message in wilcox.test.default(c(0, 0.00881057268722467, 0, 0.00224971878515186, :\n",
      "“cannot compute exact p-value with ties”\n",
      "Warning message in wilcox.test.default(c(0, 0.00881057268722467, 0, 0.00224971878515186, :\n",
      "“cannot compute exact p-value with ties”\n",
      "Warning message in wilcox.test.default(c(0.00485436893203883, 0.00518134715025907, :\n",
      "“cannot compute exact p-value with ties”\n",
      "Warning message in wilcox.test.default(c(0.0112781954887218, 0, 0, 0, 0, 0, 0, 0, :\n",
      "“cannot compute exact p-value with ties”\n",
      "Warning message in wilcox.test.default(c(0.0112781954887218, 0, 0, 0, 0, 0, 0, 0, :\n",
      "“cannot compute exact p-value with ties”\n",
      "Warning message in wilcox.test.default(c(0, 0.0103626943005181, 0, 0, 0, 0, 0.00245700245700246, :\n",
      "“cannot compute exact p-value with ties”\n",
      "Warning message in wilcox.test.default(c(0.0037593984962406, 0.00881057268722467, :\n",
      "“cannot compute exact p-value with ties”\n",
      "Warning message in wilcox.test.default(c(0.0037593984962406, 0.00881057268722467, :\n",
      "“cannot compute exact p-value with ties”\n",
      "Warning message in wilcox.test.default(c(0.0145631067961165, 0.0129533678756477, :\n",
      "“cannot compute exact p-value with ties”\n",
      "Warning message in wilcox.test.default(c(0, 0, 0, 0, 0, 0, 0, 0, 0, 0, 0, 0, 0, :\n",
      "“cannot compute exact p-value with ties”\n",
      "Warning message in wilcox.test.default(c(0, 0, 0, 0, 0, 0, 0, 0, 0, 0, 0, 0, 0, :\n",
      "“cannot compute exact p-value with ties”\n",
      "Warning message in wilcox.test.default(c(0, 0, 0, 0, 0.015, 0.673582995951417, 0, :\n",
      "“cannot compute exact p-value with ties”\n",
      "Warning message in wilcox.test.default(c(0, 0, 0, 0.00224971878515186, 0, 0, 0, :\n",
      "“cannot compute exact p-value with ties”\n",
      "Warning message in wilcox.test.default(c(0, 0, 0, 0.00224971878515186, 0, 0, 0, :\n",
      "“cannot compute exact p-value with ties”\n",
      "Warning message in wilcox.test.default(c(0, 0, 0.00803212851405622, 0, 0.00666666666666667, :\n",
      "“cannot compute exact p-value with ties”\n",
      "Warning message in wilcox.test.default(c(0.0488721804511278, 0.127753303964758, :\n",
      "“cannot compute exact p-value with ties”\n",
      "Warning message in wilcox.test.default(c(0.0488721804511278, 0.127753303964758, :\n",
      "“cannot compute exact p-value with ties”\n",
      "Warning message in wilcox.test.default(c(0.155339805825243, 0.0569948186528497, :\n",
      "“cannot compute exact p-value with ties”\n",
      "Warning message in wilcox.test.default(c(0.233082706766917, 0.114537444933921, 0.00291970802919708, :\n",
      "“cannot compute exact p-value with ties”\n",
      "Warning message in wilcox.test.default(c(0.233082706766917, 0.114537444933921, 0.00291970802919708, :\n",
      "“cannot compute exact p-value with ties”\n",
      "Warning message in wilcox.test.default(c(0.218446601941748, 0.269430051813472, 0.0843373493975904, :\n",
      "“cannot compute exact p-value with ties”\n",
      "Warning message in wilcox.test.default(c(0, 0.224669603524229, 0, 0.298087739032621, :\n",
      "“cannot compute exact p-value with ties”\n",
      "Warning message in wilcox.test.default(c(0, 0.224669603524229, 0, 0.298087739032621, :\n",
      "“cannot compute exact p-value with ties”\n",
      "Warning message in wilcox.test.default(c(0, 0.0751295336787565, 0, 0.027027027027027, :\n",
      "“cannot compute exact p-value with ties”\n",
      "Warning message in wilcox.test.default(c(0.0112781954887218, 0, 0, 0.00224971878515186, :\n",
      "“cannot compute exact p-value with ties”\n",
      "Warning message in wilcox.test.default(c(0.0112781954887218, 0, 0, 0.00224971878515186, :\n",
      "“cannot compute exact p-value with ties”\n",
      "Warning message in wilcox.test.default(c(0.0194174757281553, 0.0155440414507772, :\n",
      "“cannot compute exact p-value with ties”\n"
     ]
    },
    {
     "data": {
      "text/html": [
       "<strong>png:</strong> 2"
      ],
      "text/latex": [
       "\\textbf{png:} 2"
      ],
      "text/markdown": [
       "**png:** 2"
      ],
      "text/plain": [
       "png \n",
       "  2 "
      ]
     },
     "metadata": {},
     "output_type": "display_data"
    }
   ],
   "source": [
    "data_plot = fibroblast_ratio[,c(colnames(fibroblast_ratio)[1:cluster_num],\"metastasis.type\")]\n",
    "data_plot_melt = melt(data_plot)\n",
    "colnames(data_plot_melt) = c(\"metastasis.type\",\"variable\",\"Freq\")\n",
    "\n",
    "pdf(\"/home/wyh/scdata/combined_data//fibroblast/group_compare/fibroblast_metastasis.type0810.pdf\",width = 20,height = 10)\n",
    "print(ggplot(data_plot_melt, aes( y=Freq, x=metastasis.type)) + geom_boxplot()+facet_grid(. ~variable)+\n",
    "    theme(axis.text.x = element_text(angle = 45, hjust = 1, vjust = 1,color=\"black\"),\n",
    "         axis.text.y = element_text(color=\"black\"),\n",
    "         axis.title=element_text())+ggtitle(\"\")+\n",
    "           stat_compare_means(comparisons = list(\n",
    "   c(\"P\",\"P_LN\"),c(\"P\",\"P_LM\"),c(\"P_LN\",\"P_LM\")\n",
    "  ),method = \"wilcox.test\"))\n",
    "dev.off()"
   ]
  },
  {
   "cell_type": "code",
   "execution_count": 117,
   "id": "d820817c-8412-420d-a0ee-49be7cdf0459",
   "metadata": {
    "collapsed": true,
    "jupyter": {
     "outputs_hidden": true
    },
    "tags": []
   },
   "outputs": [
    {
     "name": "stderr",
     "output_type": "stream",
     "text": [
      "Using progression.type.short as id variables\n",
      "\n",
      "Warning message in wilcox.test.default(c(0.616541353383459, 0.422798552472859, 0.00803212851405622, :\n",
      "“cannot compute exact p-value with ties”\n",
      "Warning message in wilcox.test.default(c(0.616541353383459, 0.422798552472859, 0.00803212851405622, :\n",
      "“cannot compute exact p-value with ties”\n",
      "Warning message in wilcox.test.default(c(0.616541353383459, 0.422798552472859, 0.00803212851405622, :\n",
      "“cannot compute exact p-value with ties”\n",
      "Warning message in wilcox.test.default(c(0.0145631067961165, 0.22020725388601, 0.479115479115479, :\n",
      "“cannot compute exact p-value with ties”\n",
      "Warning message in wilcox.test.default(c(0.0145631067961165, 0.22020725388601, 0.479115479115479, :\n",
      "“cannot compute exact p-value with ties”\n",
      "Warning message in wilcox.test.default(c(0.0676691729323308, 0.00422195416164053, :\n",
      "“cannot compute exact p-value with ties”\n",
      "Warning message in wilcox.test.default(c(0.0676691729323308, 0.00422195416164053, :\n",
      "“cannot compute exact p-value with ties”\n",
      "Warning message in wilcox.test.default(c(0.0676691729323308, 0.00422195416164053, :\n",
      "“cannot compute exact p-value with ties”\n",
      "Warning message in wilcox.test.default(c(0.179611650485437, 0.126943005181347, 0.0147420147420147, :\n",
      "“cannot compute exact p-value with ties”\n",
      "Warning message in wilcox.test.default(c(0.179611650485437, 0.126943005181347, 0.0147420147420147, :\n",
      "“cannot compute exact p-value with ties”\n",
      "Warning message in wilcox.test.default(c(0, 0, 0, 0, 0.015, 0.673582995951417, 0.000401687085760193, :\n",
      "“cannot compute exact p-value with ties”\n",
      "Warning message in wilcox.test.default(c(0, 0, 0, 0, 0.015, 0.673582995951417, 0.000401687085760193, :\n",
      "“cannot compute exact p-value with ties”\n",
      "Warning message in wilcox.test.default(c(0, 0, 0, 0, 0.015, 0.673582995951417, 0.000401687085760193, :\n",
      "“cannot compute exact p-value with ties”\n",
      "Warning message in wilcox.test.default(c(0, 0, 0, 0, 0, 0, 0, 0, 0, 0.00462962962962963, :\n",
      "“cannot compute exact p-value with ties”\n",
      "Warning message in wilcox.test.default(c(0, 0, 0, 0, 0, 0, 0, 0, 0, 0.00462962962962963, :\n",
      "“cannot compute exact p-value with ties”\n",
      "Warning message in wilcox.test.default(c(0, 0, 0.00803212851405622, 0, 0.00666666666666667, :\n",
      "“cannot compute exact p-value with ties”\n",
      "Warning message in wilcox.test.default(c(0, 0, 0.00803212851405622, 0, 0.00666666666666667, :\n",
      "“cannot compute exact p-value with ties”\n",
      "Warning message in wilcox.test.default(c(0, 0, 0.00803212851405622, 0, 0.00666666666666667, :\n",
      "“cannot compute exact p-value with ties”\n",
      "Warning message in wilcox.test.default(c(0, 0, 0, 0, 0, 0.0116959064327485, 0, 0, :\n",
      "“cannot compute exact p-value with ties”\n",
      "Warning message in wilcox.test.default(c(0, 0, 0, 0, 0, 0.0116959064327485, 0, 0, :\n",
      "“cannot compute exact p-value with ties”\n",
      "Warning message in wilcox.test.default(c(0, 0.04583835946924, 0, 0, 0.00166666666666667, :\n",
      "“cannot compute exact p-value with ties”\n",
      "Warning message in wilcox.test.default(c(0, 0.04583835946924, 0, 0, 0.00166666666666667, :\n",
      "“cannot compute exact p-value with ties”\n",
      "Warning message in wilcox.test.default(c(0, 0.04583835946924, 0, 0, 0.00166666666666667, :\n",
      "“cannot compute exact p-value with ties”\n",
      "Warning message in wilcox.test.default(c(0.00970873786407767, 0.00259067357512953, :\n",
      "“cannot compute exact p-value with ties”\n",
      "Warning message in wilcox.test.default(c(0.00970873786407767, 0.00259067357512953, :\n",
      "“cannot compute exact p-value with ties”\n",
      "Warning message in wilcox.test.default(c(0, 0, 0, 0, 0.03, 0.0703441295546559, 0.00140590480016067, :\n",
      "“cannot compute exact p-value with ties”\n",
      "Warning message in wilcox.test.default(c(0, 0, 0, 0, 0.03, 0.0703441295546559, 0.00140590480016067, :\n",
      "“cannot compute exact p-value with ties”\n",
      "Warning message in wilcox.test.default(c(0, 0, 0, 0, 0.03, 0.0703441295546559, 0.00140590480016067, :\n",
      "“cannot compute exact p-value with ties”\n",
      "Warning message in wilcox.test.default(c(0, 0, 0, 0, 0, 0, 0, 0, 0, 0, 0, 0.00359712230215827, :\n",
      "“cannot compute exact p-value with ties”\n",
      "Warning message in wilcox.test.default(c(0, 0, 0, 0, 0, 0, 0, 0, 0, 0, 0, 0.00359712230215827, :\n",
      "“cannot compute exact p-value with ties”\n",
      "Warning message in wilcox.test.default(c(0, 0.445114595898673, 0, 0.027027027027027, :\n",
      "“cannot compute exact p-value with ties”\n",
      "Warning message in wilcox.test.default(c(0, 0.445114595898673, 0, 0.027027027027027, :\n",
      "“cannot compute exact p-value with ties”\n",
      "Warning message in wilcox.test.default(c(0, 0.445114595898673, 0, 0.027027027027027, :\n",
      "“cannot compute exact p-value with ties”\n",
      "Warning message in wilcox.test.default(c(0, 0.0751295336787565, 0.00491400491400491, :\n",
      "“cannot compute exact p-value with ties”\n",
      "Warning message in wilcox.test.default(c(0, 0.0751295336787565, 0.00491400491400491, :\n",
      "“cannot compute exact p-value with ties”\n",
      "Warning message in wilcox.test.default(c(0.0112781954887218, 0, 0.0200803212851406, :\n",
      "“cannot compute exact p-value with ties”\n",
      "Warning message in wilcox.test.default(c(0.0112781954887218, 0, 0.0200803212851406, :\n",
      "“cannot compute exact p-value with ties”\n",
      "Warning message in wilcox.test.default(c(0.0112781954887218, 0, 0.0200803212851406, :\n",
      "“cannot compute exact p-value with ties”\n",
      "Warning message in wilcox.test.default(c(0.0194174757281553, 0.0155440414507772, :\n",
      "“cannot compute exact p-value with ties”\n",
      "Warning message in wilcox.test.default(c(0.0194174757281553, 0.0155440414507772, :\n",
      "“cannot compute exact p-value with ties”\n",
      "Warning message in wilcox.test.default(c(0.0488721804511278, 0.00542822677925211, :\n",
      "“cannot compute exact p-value with ties”\n",
      "Warning message in wilcox.test.default(c(0.0488721804511278, 0.00542822677925211, :\n",
      "“cannot compute exact p-value with ties”\n",
      "Warning message in wilcox.test.default(c(0.0488721804511278, 0.00542822677925211, :\n",
      "“cannot compute exact p-value with ties”\n",
      "Warning message in wilcox.test.default(c(0.155339805825243, 0.0569948186528497, :\n",
      "“cannot compute exact p-value with ties”\n",
      "Warning message in wilcox.test.default(c(0, 0.00542822677925211, 0.610441767068273, :\n",
      "“cannot compute exact p-value with ties”\n",
      "Warning message in wilcox.test.default(c(0, 0.00542822677925211, 0.610441767068273, :\n",
      "“cannot compute exact p-value with ties”\n",
      "Warning message in wilcox.test.default(c(0, 0.00542822677925211, 0.610441767068273, :\n",
      "“cannot compute exact p-value with ties”\n",
      "Warning message in wilcox.test.default(c(0.233082706766917, 0.0579010856453559, :\n",
      "“cannot compute exact p-value with ties”\n",
      "Warning message in wilcox.test.default(c(0.233082706766917, 0.0579010856453559, :\n",
      "“cannot compute exact p-value with ties”\n",
      "Warning message in wilcox.test.default(c(0.233082706766917, 0.0579010856453559, :\n",
      "“cannot compute exact p-value with ties”\n",
      "Warning message in wilcox.test.default(c(0.218446601941748, 0.269430051813472, 0.0221130221130221, :\n",
      "“cannot compute exact p-value with ties”\n",
      "Warning message in wilcox.test.default(c(0.0075187969924812, 0.00542822677925211, :\n",
      "“cannot compute exact p-value with ties”\n",
      "Warning message in wilcox.test.default(c(0.0075187969924812, 0.00542822677925211, :\n",
      "“cannot compute exact p-value with ties”\n",
      "Warning message in wilcox.test.default(c(0.0075187969924812, 0.00542822677925211, :\n",
      "“cannot compute exact p-value with ties”\n",
      "Warning message in wilcox.test.default(c(0, 0.0103626943005181, 0.0147420147420147, :\n",
      "“cannot compute exact p-value with ties”\n",
      "Warning message in wilcox.test.default(c(0, 0.0103626943005181, 0.0147420147420147, :\n",
      "“cannot compute exact p-value with ties”\n",
      "Warning message in wilcox.test.default(c(0, 0, 0, 0, 0, 0.000506072874493927, 0, :\n",
      "“cannot compute exact p-value with ties”\n",
      "Warning message in wilcox.test.default(c(0, 0, 0, 0, 0, 0.000506072874493927, 0, :\n",
      "“cannot compute exact p-value with ties”\n",
      "Warning message in wilcox.test.default(c(0, 0, 0, 0, 0, 0.000506072874493927, 0, :\n",
      "“cannot compute exact p-value with ties”\n",
      "Warning message in wilcox.test.default(c(0, 0, 0, 0, 0, 0, 0, 0, 0, 0, 0, 0, 0, :\n",
      "“cannot compute exact p-value with ties”\n",
      "Warning message in wilcox.test.default(c(0, 0, 0, 0, 0, 0, 0, 0, 0, 0, 0, 0, 0, :\n",
      "“cannot compute exact p-value with ties”\n",
      "Warning message in wilcox.test.default(c(0, 0.00180940892641737, 0, 0, 0.005, 0.013663967611336, :\n",
      "“cannot compute exact p-value with ties”\n",
      "Warning message in wilcox.test.default(c(0, 0.00180940892641737, 0, 0, 0.005, 0.013663967611336, :\n",
      "“cannot compute exact p-value with ties”\n",
      "Warning message in wilcox.test.default(c(0, 0.00180940892641737, 0, 0, 0.005, 0.013663967611336, :\n",
      "“cannot compute exact p-value with ties”\n",
      "Warning message in wilcox.test.default(c(0.00485436893203883, 0.00518134715025907, :\n",
      "“cannot compute exact p-value with ties”\n",
      "Warning message in wilcox.test.default(c(0.00485436893203883, 0.00518134715025907, :\n",
      "“cannot compute exact p-value with ties”\n",
      "Warning message in wilcox.test.default(c(0.0112781954887218, 0.00180940892641737, :\n",
      "“cannot compute exact p-value with ties”\n",
      "Warning message in wilcox.test.default(c(0.0112781954887218, 0.00180940892641737, :\n",
      "“cannot compute exact p-value with ties”\n",
      "Warning message in wilcox.test.default(c(0.0112781954887218, 0.00180940892641737, :\n",
      "“cannot compute exact p-value with ties”\n",
      "Warning message in wilcox.test.default(c(0, 0.0103626943005181, 0.00245700245700246, :\n",
      "“cannot compute exact p-value with ties”\n",
      "Warning message in wilcox.test.default(c(0, 0.0103626943005181, 0.00245700245700246, :\n",
      "“cannot compute exact p-value with ties”\n"
     ]
    },
    {
     "data": {
      "text/html": [
       "<strong>png:</strong> 2"
      ],
      "text/latex": [
       "\\textbf{png:} 2"
      ],
      "text/markdown": [
       "**png:** 2"
      ],
      "text/plain": [
       "png \n",
       "  2 "
      ]
     },
     "metadata": {},
     "output_type": "display_data"
    }
   ],
   "source": [
    "data_plot = fibroblast_ratio[,c(colnames(fibroblast_ratio)[1:cluster_num],\"progression.type.short\")]\n",
    "data_plot_melt = melt(data_plot)\n",
    "colnames(data_plot_melt) = c(\"progression.type.short\",\"variable\",\"Freq\")\n",
    "\n",
    "pdf(\"/home/wyh/scdata/combined_data//fibroblast/group_compare/fibroblast_progression.type.pdf\",width = 20,height = 10)\n",
    "print(ggplot(data_plot_melt, aes( y=Freq, x=progression.type.short)) + geom_boxplot()+facet_grid(. ~variable)+\n",
    "    theme(axis.text.x = element_text(angle = 45, hjust = 1, vjust = 1,color=\"black\"),\n",
    "         axis.text.y = element_text(color=\"black\"),\n",
    "         axis.title=element_text())+ggtitle(\"\")+\n",
    "                  stat_compare_means(comparisons = list(\n",
    "    c(\"Inflam\",\"Proli\"),c(\"Inflam\",\"Mix\"),c(\"Inflam\",\"None\"),\n",
    "    c(\"Proli\",\"Mix\"),c(\"Proli\",\"None\")\n",
    "  ),label=\"p.signif\"))\n",
    "dev.off()"
   ]
  },
  {
   "cell_type": "code",
   "execution_count": null,
   "id": "7508cfa6-2eba-4694-9e6a-6daf27750271",
   "metadata": {},
   "outputs": [],
   "source": [
    " fibroblast_ratio = fibroblast_ratio_all[fibroblast_ratio_all$Tumors.for.scRNA.seq.short==\"P\",]\n",
    "    fibroblast_ratio = fibroblast_ratio[fibroblast_ratio$histological.type.short %in% \"adeno\",]\n",
    "    data_plot = fibroblast_ratio[,c(paste0(\"score_GM\",1),\"metastasis.type\")]\n",
    "    data_plot_melt = reshape2::melt(data_plot)\n",
    "    colnames(data_plot_melt) = c(\"metastasis.type\",\"variable\",\"Freq\")\n",
    "\n",
    "    pdf(paste0(\"/home/wyh/scdata/combined_data//fibroblast/figures/adeno_epithelial_metastasis_icaf.pdf\"),width = 30,height = 5)\n",
    "    print(ggplot(data_plot_melt, aes( y=Freq, x=metastasis.type)) + geom_boxplot()+facet_grid(. ~variable)+\n",
    "        theme(axis.text.x = element_text(angle = 45, hjust = 1, vjust = 1,color=\"black\"),\n",
    "             axis.text.y = element_text(color=\"black\"),\n",
    "             axis.title=element_text())+ggtitle(\"\")+\n",
    "          stat_compare_means(comparisons = list(\n",
    "       c(\"P\",\"P_LN\"),c(\"P\",\"P_LM\"),c(\"P_LN\",\"P_LM\")\n",
    "      ),method = \"wilcox.test\",label=\"p.signif\"))\n",
    "    dev.off()"
   ]
  },
  {
   "cell_type": "code",
   "execution_count": 35,
   "id": "c161e45e-a243-421b-860f-2b330aca520c",
   "metadata": {},
   "outputs": [
    {
     "name": "stderr",
     "output_type": "stream",
     "text": [
      "Warning message in melt(data_plot):\n",
      "“The melt generic in data.table has been passed a data.frame and will attempt to redirect to the relevant reshape2 method; please note that reshape2 is deprecated, and this redirection is now deprecated as well. To continue using melt methods from reshape2 while both libraries are attached, e.g. melt.list, you can prepend the namespace like reshape2::melt(data_plot). In the next version, this warning will become an error.”\n",
      "Using metastasis.type as id variables\n",
      "\n"
     ]
    }
   ],
   "source": [
    "data_plot = fibroblast_ratio[,c(colnames(fibroblast_ratio)[1:cluster_num],\"metastasis.type\")]\n",
    "data_plot_melt = melt(data_plot)\n",
    "colnames(data_plot_melt) = c(\"metastasis.type\",\"variable\",\"Freq\")"
   ]
  },
  {
   "cell_type": "code",
   "execution_count": 36,
   "id": "72e7c42f-f124-4704-8c4f-7ced9c88a17d",
   "metadata": {},
   "outputs": [],
   "source": [
    "data_plot_melt$Freq = data_plot_melt$Freq*100"
   ]
  },
  {
   "cell_type": "code",
   "execution_count": 174,
   "id": "f1e949aa-3924-4484-b385-265fa6366250",
   "metadata": {
    "collapsed": true,
    "jupyter": {
     "outputs_hidden": true
    },
    "tags": []
   },
   "outputs": [
    {
     "name": "stderr",
     "output_type": "stream",
     "text": [
      "Warning message in wilcox.test.default(c(0.616541353383459, 0.392070484581498, 0.00583941605839416, :\n",
      "“cannot compute exact p-value with ties”\n",
      "Warning message in wilcox.test.default(c(0.616541353383459, 0.392070484581498, 0.00583941605839416, :\n",
      "“cannot compute exact p-value with ties”\n",
      "Warning message in wilcox.test.default(c(0.0676691729323308, 0, 0, 0.0326209223847019, :\n",
      "“cannot compute exact p-value with ties”\n",
      "Warning message in wilcox.test.default(c(0.0676691729323308, 0, 0, 0.0326209223847019, :\n",
      "“cannot compute exact p-value with ties”\n",
      "Warning message in wilcox.test.default(c(0.179611650485437, 0.126943005181347, 0.0481927710843374, :\n",
      "“cannot compute exact p-value with ties”\n",
      "Warning message in wilcox.test.default(c(0, 0.110132158590308, 0.0686131386861314, :\n",
      "“cannot compute exact p-value with ties”\n",
      "Warning message in wilcox.test.default(c(0.383495145631068, 0.194300518134715, 0.610441767068273, :\n",
      "“cannot compute exact p-value with ties”\n",
      "Warning message in wilcox.test.default(c(0.0488721804511278, 0.127753303964758, :\n",
      "“cannot compute exact p-value with ties”\n",
      "Warning message in wilcox.test.default(c(0.0488721804511278, 0.127753303964758, :\n",
      "“cannot compute exact p-value with ties”\n",
      "Warning message in wilcox.test.default(c(0.155339805825243, 0.0569948186528497, :\n",
      "“cannot compute exact p-value with ties”\n",
      "Warning message in wilcox.test.default(c(0.233082706766917, 0.114537444933921, 0.00291970802919708, :\n",
      "“cannot compute exact p-value with ties”\n",
      "Warning message in wilcox.test.default(c(0.233082706766917, 0.114537444933921, 0.00291970802919708, :\n",
      "“cannot compute exact p-value with ties”\n",
      "Warning message in wilcox.test.default(c(0.218446601941748, 0.269430051813472, 0.0843373493975904, :\n",
      "“cannot compute exact p-value with ties”\n",
      "Warning message in wilcox.test.default(c(0.0112781954887218, 0, 0, 0.00224971878515186, :\n",
      "“cannot compute exact p-value with ties”\n",
      "Warning message in wilcox.test.default(c(0.0112781954887218, 0, 0, 0.00224971878515186, :\n",
      "“cannot compute exact p-value with ties”\n",
      "Warning message in wilcox.test.default(c(0.0194174757281553, 0.0155440414507772, :\n",
      "“cannot compute exact p-value with ties”\n"
     ]
    }
   ],
   "source": [
    "for(itype in high_entropy_cluster){\n",
    "   pdf(paste0(\"./figures/metastasis.type.compare/\",itype,\".pdf\"),height = 4,width = 3.5)\n",
    "   p <- ggboxplot(data_plot_melt[data_plot_melt$variable==itype,], x = \"metastasis.type\", y = \"Freq\",\n",
    "               color = \"metastasis.type\", palette = \"jco\",add = \"jitter\")\n",
    "   print(p + stat_compare_means(comparisons = list(\n",
    "       c(\"P\",\"P_LN\"),c(\"P\",\"P_LM\"),c(\"P_LN\",\"P_LM\")\n",
    "      ),method = \"wilcox.test\",label=\"p.signif\")+ggtitle(itype)+ylab(\"Percentage\"))\n",
    "   dev.off()\n",
    "}"
   ]
  },
  {
   "cell_type": "code",
   "execution_count": 38,
   "id": "b940119c-07b9-45fb-b73f-4b5c9a4883e8",
   "metadata": {},
   "outputs": [],
   "source": [
    "data_plot_melt$metastasis.type2 = as.character(data_plot_melt$metastasis.type)"
   ]
  },
  {
   "cell_type": "code",
   "execution_count": 39,
   "id": "e30530ab-06a8-45a1-b1d3-b1423d39286c",
   "metadata": {},
   "outputs": [],
   "source": [
    "data_plot_melt$metastasis.type2[data_plot_melt$metastasis.type2 %in% c(\"P_LN\",\"P_LM\")] = \"P_Mets\""
   ]
  },
  {
   "cell_type": "code",
   "execution_count": 193,
   "id": "1771398f-e23f-47c3-990a-4be2f2161223",
   "metadata": {},
   "outputs": [],
   "source": [
    "for(itype in high_entropy_cluster){\n",
    "   pdf(paste0(\"./figures/metastasis.type.compare2/\",itype,\".pdf\"),height = 4,width = 3.5)\n",
    "   p <- ggboxplot(data_plot_melt[data_plot_melt$variable==itype,], x = \"metastasis.type2\", y = \"Freq\",\n",
    "               color = \"metastasis.type2\", palette = \"jco\",add = \"jitter\")\n",
    "   print(p + stat_compare_means(comparisons = list(\n",
    "       c(\"P\",\"P_Mets\")\n",
    "      ),method = \"wilcox.test\",label=\"p.signif\")+ggtitle(itype)+ylab(\"Percentage\"))\n",
    "   dev.off()\n",
    "}"
   ]
  },
  {
   "cell_type": "code",
   "execution_count": 41,
   "id": "4bc948b2-9633-4683-a30b-275a9d146732",
   "metadata": {},
   "outputs": [],
   "source": [
    "for(itype in high_entropy_cluster){\n",
    "   pdf(paste0(\"./figures/metastasis.type.compare2/\",itype,\"0810.pdf\"),height = 4,width = 3.5)\n",
    "   p <- ggboxplot(data_plot_melt[data_plot_melt$variable==itype,], x = \"metastasis.type2\", y = \"Freq\",\n",
    "               color = \"metastasis.type2\", palette = \"jco\",add = \"jitter\")\n",
    "   print(p + stat_compare_means(comparisons = list(\n",
    "       c(\"P\",\"P_Mets\")\n",
    "      ),method = \"wilcox.test\")+ggtitle(itype)+ylab(\"Percentage\"))\n",
    "   dev.off()\n",
    "}"
   ]
  },
  {
   "cell_type": "markdown",
   "id": "df56f444-010f-4e6d-8562-9188f82c9960",
   "metadata": {},
   "source": [
    "# survival "
   ]
  },
  {
   "cell_type": "code",
   "execution_count": 1,
   "id": "95f9c2c8-51b2-4111-8fab-25dfa879e160",
   "metadata": {
    "tags": []
   },
   "outputs": [
    {
     "name": "stderr",
     "output_type": "stream",
     "text": [
      "\n",
      "Attaching package: ‘dplyr’\n",
      "\n",
      "\n",
      "The following objects are masked from ‘package:stats’:\n",
      "\n",
      "    filter, lag\n",
      "\n",
      "\n",
      "The following objects are masked from ‘package:base’:\n",
      "\n",
      "    intersect, setdiff, setequal, union\n",
      "\n",
      "\n",
      "Loading required package: ggplot2\n",
      "\n",
      "Loading required package: ggpubr\n",
      "\n",
      "Warning message:\n",
      "“package ‘survival’ was built under R version 4.0.5”\n",
      "\n",
      "Attaching package: ‘survival’\n",
      "\n",
      "\n",
      "The following object is masked from ‘package:survminer’:\n",
      "\n",
      "    myeloma\n",
      "\n",
      "\n"
     ]
    }
   ],
   "source": [
    "library(dplyr)\n",
    "library(survminer)\n",
    "library(survival)"
   ]
  },
  {
   "cell_type": "code",
   "execution_count": 6,
   "id": "8b79de84-2b1d-46db-94df-2b6efa238001",
   "metadata": {},
   "outputs": [],
   "source": [
    "fibroblast_ratio_all = read.csv(\"./group_compare/fibroblast_ratio_all0816.csv\",row.names = 1)"
   ]
  },
  {
   "cell_type": "code",
   "execution_count": 8,
   "id": "3a1ddc59-a141-44a5-8744-90e6b72d4bb8",
   "metadata": {},
   "outputs": [
    {
     "data": {
      "text/html": [
       "<table class=\"dataframe\">\n",
       "<caption>A data.frame: 6 × 28</caption>\n",
       "<thead>\n",
       "\t<tr><th></th><th scope=col>patient_index</th><th scope=col>DFS_month</th><th scope=col>OS_month</th><th scope=col>event</th><th scope=col>Sample.ID</th><th scope=col>NewSample.ID</th><th scope=col>Tumors.for.scRNA.seq</th><th scope=col>Sex</th><th scope=col>Age</th><th scope=col>TNM</th><th scope=col>⋯</th><th scope=col>T.stage</th><th scope=col>N.stage</th><th scope=col>M.stage</th><th scope=col>Liver.metastasis</th><th scope=col>liver.invasion</th><th scope=col>Lymph.node.metastasis</th><th scope=col>Peritoneal..metastasis</th><th scope=col>Bile.duct.invasion</th><th scope=col>Vascular.invasion</th><th scope=col>Tumor.location.in.GB</th></tr>\n",
       "\t<tr><th></th><th scope=col>&lt;int&gt;</th><th scope=col>&lt;dbl&gt;</th><th scope=col>&lt;dbl&gt;</th><th scope=col>&lt;chr&gt;</th><th scope=col>&lt;chr&gt;</th><th scope=col>&lt;chr&gt;</th><th scope=col>&lt;chr&gt;</th><th scope=col>&lt;chr&gt;</th><th scope=col>&lt;int&gt;</th><th scope=col>&lt;chr&gt;</th><th scope=col>⋯</th><th scope=col>&lt;chr&gt;</th><th scope=col>&lt;chr&gt;</th><th scope=col>&lt;chr&gt;</th><th scope=col>&lt;chr&gt;</th><th scope=col>&lt;chr&gt;</th><th scope=col>&lt;chr&gt;</th><th scope=col>&lt;chr&gt;</th><th scope=col>&lt;chr&gt;</th><th scope=col>&lt;chr&gt;</th><th scope=col>&lt;chr&gt;</th></tr>\n",
       "</thead>\n",
       "<tbody>\n",
       "\t<tr><th scope=row>GBC_001_LI</th><td>237090</td><td>  NA</td><td> 6.0</td><td>dead</td><td>GBC1</td><td>GBC_001_LI</td><td>Liver invasion</td><td>M</td><td>67</td><td>T4NxM1 </td><td>⋯</td><td>T4 </td><td>Nx</td><td>M1</td><td>No </td><td>Yes</td><td>Yes</td><td>No</td><td>Yes</td><td>Yes</td><td> neck        </td></tr>\n",
       "\t<tr><th scope=row>GBC_002_P</th><td>365687</td><td>11.8</td><td>41.5</td><td>live</td><td>GBC2</td><td>GBC_002_P </td><td>Primary       </td><td>F</td><td>85</td><td>T2bN0M0</td><td>⋯</td><td>T2b</td><td>N0</td><td>M0</td><td>No </td><td>No </td><td>No </td><td>No</td><td>No </td><td>No </td><td> fundus      </td></tr>\n",
       "\t<tr><th scope=row>GBC_003_P</th><td>365672</td><td>  NA</td><td> 5.0</td><td>dead</td><td>GBC3</td><td>GBC_003_P </td><td>Primary       </td><td>F</td><td>71</td><td>T4NxM0 </td><td>⋯</td><td>T4 </td><td>Nx</td><td>M0</td><td>No </td><td>Yes</td><td>Yes</td><td>No</td><td>Yes</td><td>No </td><td> fundus      </td></tr>\n",
       "\t<tr><th scope=row>GBC_004_P</th><td>237543</td><td>11.6</td><td>41.1</td><td>live</td><td>GBC4</td><td>GBC_004_P </td><td>Primary       </td><td>M</td><td>71</td><td>T3N1M1 </td><td>⋯</td><td>T3 </td><td>N1</td><td>M1</td><td>Yes</td><td>Yes</td><td>Yes</td><td>No</td><td>No </td><td>No </td><td>  fundus-body</td></tr>\n",
       "\t<tr><th scope=row>GBC_005_P</th><td>237456</td><td> 1.6</td><td> 3.5</td><td>dead</td><td>GBC5</td><td>GBC_005_P </td><td>Primary       </td><td>M</td><td>68</td><td>T4NxM0 </td><td>⋯</td><td>T4 </td><td>Nx</td><td>M0</td><td>No </td><td>Yes</td><td>Yes</td><td>No</td><td>No </td><td>No </td><td>  fundus-body</td></tr>\n",
       "\t<tr><th scope=row>GBC_006_P</th><td>365681</td><td>  NA</td><td> 8.4</td><td>dead</td><td>GBC6</td><td>GBC_006_P </td><td>Primary       </td><td>M</td><td>59</td><td>T4N1M0 </td><td>⋯</td><td>T4 </td><td>N1</td><td>M0</td><td>No </td><td>Yes</td><td>Yes</td><td>No</td><td>Yes</td><td>No </td><td>body-neck    </td></tr>\n",
       "</tbody>\n",
       "</table>\n"
      ],
      "text/latex": [
       "A data.frame: 6 × 28\n",
       "\\begin{tabular}{r|lllllllllllllllllllll}\n",
       "  & patient\\_index & DFS\\_month & OS\\_month & event & Sample.ID & NewSample.ID & Tumors.for.scRNA.seq & Sex & Age & TNM & ⋯ & T.stage & N.stage & M.stage & Liver.metastasis & liver.invasion & Lymph.node.metastasis & Peritoneal..metastasis & Bile.duct.invasion & Vascular.invasion & Tumor.location.in.GB\\\\\n",
       "  & <int> & <dbl> & <dbl> & <chr> & <chr> & <chr> & <chr> & <chr> & <int> & <chr> & ⋯ & <chr> & <chr> & <chr> & <chr> & <chr> & <chr> & <chr> & <chr> & <chr> & <chr>\\\\\n",
       "\\hline\n",
       "\tGBC\\_001\\_LI & 237090 &   NA &  6.0 & dead & GBC1 & GBC\\_001\\_LI & Liver invasion & M & 67 & T4NxM1  & ⋯ & T4  & Nx & M1 & No  & Yes & Yes & No & Yes & Yes &  neck        \\\\\n",
       "\tGBC\\_002\\_P & 365687 & 11.8 & 41.5 & live & GBC2 & GBC\\_002\\_P  & Primary        & F & 85 & T2bN0M0 & ⋯ & T2b & N0 & M0 & No  & No  & No  & No & No  & No  &  fundus      \\\\\n",
       "\tGBC\\_003\\_P & 365672 &   NA &  5.0 & dead & GBC3 & GBC\\_003\\_P  & Primary        & F & 71 & T4NxM0  & ⋯ & T4  & Nx & M0 & No  & Yes & Yes & No & Yes & No  &  fundus      \\\\\n",
       "\tGBC\\_004\\_P & 237543 & 11.6 & 41.1 & live & GBC4 & GBC\\_004\\_P  & Primary        & M & 71 & T3N1M1  & ⋯ & T3  & N1 & M1 & Yes & Yes & Yes & No & No  & No  &   fundus-body\\\\\n",
       "\tGBC\\_005\\_P & 237456 &  1.6 &  3.5 & dead & GBC5 & GBC\\_005\\_P  & Primary        & M & 68 & T4NxM0  & ⋯ & T4  & Nx & M0 & No  & Yes & Yes & No & No  & No  &   fundus-body\\\\\n",
       "\tGBC\\_006\\_P & 365681 &   NA &  8.4 & dead & GBC6 & GBC\\_006\\_P  & Primary        & M & 59 & T4N1M0  & ⋯ & T4  & N1 & M0 & No  & Yes & Yes & No & Yes & No  & body-neck    \\\\\n",
       "\\end{tabular}\n"
      ],
      "text/markdown": [
       "\n",
       "A data.frame: 6 × 28\n",
       "\n",
       "| <!--/--> | patient_index &lt;int&gt; | DFS_month &lt;dbl&gt; | OS_month &lt;dbl&gt; | event &lt;chr&gt; | Sample.ID &lt;chr&gt; | NewSample.ID &lt;chr&gt; | Tumors.for.scRNA.seq &lt;chr&gt; | Sex &lt;chr&gt; | Age &lt;int&gt; | TNM &lt;chr&gt; | ⋯ ⋯ | T.stage &lt;chr&gt; | N.stage &lt;chr&gt; | M.stage &lt;chr&gt; | Liver.metastasis &lt;chr&gt; | liver.invasion &lt;chr&gt; | Lymph.node.metastasis &lt;chr&gt; | Peritoneal..metastasis &lt;chr&gt; | Bile.duct.invasion &lt;chr&gt; | Vascular.invasion &lt;chr&gt; | Tumor.location.in.GB &lt;chr&gt; |\n",
       "|---|---|---|---|---|---|---|---|---|---|---|---|---|---|---|---|---|---|---|---|---|---|\n",
       "| GBC_001_LI | 237090 |   NA |  6.0 | dead | GBC1 | GBC_001_LI | Liver invasion | M | 67 | T4NxM1  | ⋯ | T4  | Nx | M1 | No  | Yes | Yes | No | Yes | Yes |  neck         |\n",
       "| GBC_002_P | 365687 | 11.8 | 41.5 | live | GBC2 | GBC_002_P  | Primary        | F | 85 | T2bN0M0 | ⋯ | T2b | N0 | M0 | No  | No  | No  | No | No  | No  |  fundus       |\n",
       "| GBC_003_P | 365672 |   NA |  5.0 | dead | GBC3 | GBC_003_P  | Primary        | F | 71 | T4NxM0  | ⋯ | T4  | Nx | M0 | No  | Yes | Yes | No | Yes | No  |  fundus       |\n",
       "| GBC_004_P | 237543 | 11.6 | 41.1 | live | GBC4 | GBC_004_P  | Primary        | M | 71 | T3N1M1  | ⋯ | T3  | N1 | M1 | Yes | Yes | Yes | No | No  | No  |   fundus-body |\n",
       "| GBC_005_P | 237456 |  1.6 |  3.5 | dead | GBC5 | GBC_005_P  | Primary        | M | 68 | T4NxM0  | ⋯ | T4  | Nx | M0 | No  | Yes | Yes | No | No  | No  |   fundus-body |\n",
       "| GBC_006_P | 365681 |   NA |  8.4 | dead | GBC6 | GBC_006_P  | Primary        | M | 59 | T4N1M0  | ⋯ | T4  | N1 | M0 | No  | Yes | Yes | No | Yes | No  | body-neck     |\n",
       "\n"
      ],
      "text/plain": [
       "           patient_index DFS_month OS_month event Sample.ID NewSample.ID\n",
       "GBC_001_LI 237090          NA       6.0     dead  GBC1      GBC_001_LI  \n",
       "GBC_002_P  365687        11.8      41.5     live  GBC2      GBC_002_P   \n",
       "GBC_003_P  365672          NA       5.0     dead  GBC3      GBC_003_P   \n",
       "GBC_004_P  237543        11.6      41.1     live  GBC4      GBC_004_P   \n",
       "GBC_005_P  237456         1.6       3.5     dead  GBC5      GBC_005_P   \n",
       "GBC_006_P  365681          NA       8.4     dead  GBC6      GBC_006_P   \n",
       "           Tumors.for.scRNA.seq Sex Age TNM     ⋯ T.stage N.stage M.stage\n",
       "GBC_001_LI Liver invasion       M   67  T4NxM1  ⋯ T4      Nx      M1     \n",
       "GBC_002_P  Primary              F   85  T2bN0M0 ⋯ T2b     N0      M0     \n",
       "GBC_003_P  Primary              F   71  T4NxM0  ⋯ T4      Nx      M0     \n",
       "GBC_004_P  Primary              M   71  T3N1M1  ⋯ T3      N1      M1     \n",
       "GBC_005_P  Primary              M   68  T4NxM0  ⋯ T4      Nx      M0     \n",
       "GBC_006_P  Primary              M   59  T4N1M0  ⋯ T4      N1      M0     \n",
       "           Liver.metastasis liver.invasion Lymph.node.metastasis\n",
       "GBC_001_LI No               Yes            Yes                  \n",
       "GBC_002_P  No               No             No                   \n",
       "GBC_003_P  No               Yes            Yes                  \n",
       "GBC_004_P  Yes              Yes            Yes                  \n",
       "GBC_005_P  No               Yes            Yes                  \n",
       "GBC_006_P  No               Yes            Yes                  \n",
       "           Peritoneal..metastasis Bile.duct.invasion Vascular.invasion\n",
       "GBC_001_LI No                     Yes                Yes              \n",
       "GBC_002_P  No                     No                 No               \n",
       "GBC_003_P  No                     Yes                No               \n",
       "GBC_004_P  No                     No                 No               \n",
       "GBC_005_P  No                     No                 No               \n",
       "GBC_006_P  No                     Yes                No               \n",
       "           Tumor.location.in.GB\n",
       "GBC_001_LI  neck               \n",
       "GBC_002_P   fundus             \n",
       "GBC_003_P   fundus             \n",
       "GBC_004_P    fundus-body       \n",
       "GBC_005_P    fundus-body       \n",
       "GBC_006_P  body-neck           "
      ]
     },
     "metadata": {},
     "output_type": "display_data"
    }
   ],
   "source": [
    "survival_info = read.csv(\"/home/wyh/scdata/patient_info/survival/survival_0916.csv\",row.names = 1)\n",
    "rownames(survival_info) = survival_info$NewSample.ID\n",
    "head(survival_info)"
   ]
  },
  {
   "cell_type": "code",
   "execution_count": 9,
   "id": "2ec23962-967b-4738-bd08-5f2bdc7f7d86",
   "metadata": {
    "tags": []
   },
   "outputs": [
    {
     "data": {
      "text/html": [
       "<table class=\"dataframe\">\n",
       "<caption>A data.frame: 6 × 81</caption>\n",
       "<thead>\n",
       "\t<tr><th></th><th scope=col>F_C0_MMP11</th><th scope=col>F_C1_CFD</th><th scope=col>F_C10_ACTG2</th><th scope=col>F_C11_APOD</th><th scope=col>F_C2_COLEC11</th><th scope=col>F_C3_IGFBP2</th><th scope=col>F_C4_CCN5</th><th scope=col>F_C5_KRT19</th><th scope=col>F_C6_MMP1</th><th scope=col>F_C7_COL4A2</th><th scope=col>⋯</th><th scope=col>N.stage.y</th><th scope=col>M.stage.y</th><th scope=col>Liver.metastasis.y</th><th scope=col>liver.invasion.y</th><th scope=col>Lymph.node.metastasis.y</th><th scope=col>Peritoneal..metastasis.y</th><th scope=col>Bile.duct.invasion.y</th><th scope=col>Vascular.invasion.y</th><th scope=col>Tumor.location.in.GB.y</th><th scope=col>event01</th></tr>\n",
       "\t<tr><th></th><th scope=col>&lt;dbl&gt;</th><th scope=col>&lt;dbl&gt;</th><th scope=col>&lt;dbl&gt;</th><th scope=col>&lt;dbl&gt;</th><th scope=col>&lt;dbl&gt;</th><th scope=col>&lt;dbl&gt;</th><th scope=col>&lt;dbl&gt;</th><th scope=col>&lt;dbl&gt;</th><th scope=col>&lt;dbl&gt;</th><th scope=col>&lt;dbl&gt;</th><th scope=col>⋯</th><th scope=col>&lt;chr&gt;</th><th scope=col>&lt;chr&gt;</th><th scope=col>&lt;chr&gt;</th><th scope=col>&lt;chr&gt;</th><th scope=col>&lt;chr&gt;</th><th scope=col>&lt;chr&gt;</th><th scope=col>&lt;chr&gt;</th><th scope=col>&lt;chr&gt;</th><th scope=col>&lt;chr&gt;</th><th scope=col>&lt;dbl&gt;</th></tr>\n",
       "</thead>\n",
       "<tbody>\n",
       "\t<tr><th scope=row>GBC_002_P</th><td>0.616541353</td><td>0.067669173</td><td>0.000000000</td><td>0</td><td>0.000000000</td><td>0.007518797</td><td>0</td><td>0.000000000</td><td>0.011278195</td><td>0.003759398</td><td>⋯</td><td>N0</td><td>M0</td><td>No </td><td>No </td><td>No </td><td>No</td><td>No </td><td>No </td><td> fundus      </td><td>0</td></tr>\n",
       "\t<tr><th scope=row>GBC_003_P</th><td>0.014563107</td><td>0.179611650</td><td>0.009708738</td><td>0</td><td>0.383495146</td><td>0.000000000</td><td>0</td><td>0.004854369</td><td>0.000000000</td><td>0.014563107</td><td>⋯</td><td>Nx</td><td>M0</td><td>No </td><td>Yes</td><td>Yes</td><td>No</td><td>Yes</td><td>No </td><td> fundus      </td><td>1</td></tr>\n",
       "\t<tr><th scope=row>GBC_004_P</th><td>0.422798552</td><td>0.004221954</td><td>0.045838359</td><td>0</td><td>0.005428227</td><td>0.005428227</td><td>0</td><td>0.001809409</td><td>0.001809409</td><td>0.004221954</td><td>⋯</td><td>N1</td><td>M1</td><td>Yes</td><td>Yes</td><td>Yes</td><td>No</td><td>No </td><td>No </td><td>  fundus-body</td><td>0</td></tr>\n",
       "\t<tr><th scope=row>GBC_006_P</th><td>0.220207254</td><td>0.126943005</td><td>0.002590674</td><td>0</td><td>0.194300518</td><td>0.010362694</td><td>0</td><td>0.005181347</td><td>0.010362694</td><td>0.012953368</td><td>⋯</td><td>N1</td><td>M0</td><td>No </td><td>Yes</td><td>Yes</td><td>No</td><td>Yes</td><td>No </td><td>body-neck    </td><td>1</td></tr>\n",
       "\t<tr><th scope=row>GBC_007_P</th><td>0.008032129</td><td>0.048192771</td><td>0.000000000</td><td>0</td><td>0.610441767</td><td>0.000000000</td><td>0</td><td>0.000000000</td><td>0.000000000</td><td>0.000000000</td><td>⋯</td><td>Nx</td><td>M1</td><td>No </td><td>Yes</td><td>Yes</td><td>No</td><td>Yes</td><td>Yes</td><td> neck        </td><td>1</td></tr>\n",
       "\t<tr><th scope=row>GBC_008_P</th><td>0.392070485</td><td>0.000000000</td><td>0.004405286</td><td>0</td><td>0.110132159</td><td>0.008810573</td><td>0</td><td>0.008810573</td><td>0.000000000</td><td>0.008810573</td><td>⋯</td><td>N0</td><td>M0</td><td>No </td><td>No </td><td>No </td><td>No</td><td>No </td><td>No </td><td> body        </td><td>0</td></tr>\n",
       "</tbody>\n",
       "</table>\n"
      ],
      "text/latex": [
       "A data.frame: 6 × 81\n",
       "\\begin{tabular}{r|lllllllllllllllllllll}\n",
       "  & F\\_C0\\_MMP11 & F\\_C1\\_CFD & F\\_C10\\_ACTG2 & F\\_C11\\_APOD & F\\_C2\\_COLEC11 & F\\_C3\\_IGFBP2 & F\\_C4\\_CCN5 & F\\_C5\\_KRT19 & F\\_C6\\_MMP1 & F\\_C7\\_COL4A2 & ⋯ & N.stage.y & M.stage.y & Liver.metastasis.y & liver.invasion.y & Lymph.node.metastasis.y & Peritoneal..metastasis.y & Bile.duct.invasion.y & Vascular.invasion.y & Tumor.location.in.GB.y & event01\\\\\n",
       "  & <dbl> & <dbl> & <dbl> & <dbl> & <dbl> & <dbl> & <dbl> & <dbl> & <dbl> & <dbl> & ⋯ & <chr> & <chr> & <chr> & <chr> & <chr> & <chr> & <chr> & <chr> & <chr> & <dbl>\\\\\n",
       "\\hline\n",
       "\tGBC\\_002\\_P & 0.616541353 & 0.067669173 & 0.000000000 & 0 & 0.000000000 & 0.007518797 & 0 & 0.000000000 & 0.011278195 & 0.003759398 & ⋯ & N0 & M0 & No  & No  & No  & No & No  & No  &  fundus       & 0\\\\\n",
       "\tGBC\\_003\\_P & 0.014563107 & 0.179611650 & 0.009708738 & 0 & 0.383495146 & 0.000000000 & 0 & 0.004854369 & 0.000000000 & 0.014563107 & ⋯ & Nx & M0 & No  & Yes & Yes & No & Yes & No  &  fundus       & 1\\\\\n",
       "\tGBC\\_004\\_P & 0.422798552 & 0.004221954 & 0.045838359 & 0 & 0.005428227 & 0.005428227 & 0 & 0.001809409 & 0.001809409 & 0.004221954 & ⋯ & N1 & M1 & Yes & Yes & Yes & No & No  & No  &   fundus-body & 0\\\\\n",
       "\tGBC\\_006\\_P & 0.220207254 & 0.126943005 & 0.002590674 & 0 & 0.194300518 & 0.010362694 & 0 & 0.005181347 & 0.010362694 & 0.012953368 & ⋯ & N1 & M0 & No  & Yes & Yes & No & Yes & No  & body-neck     & 1\\\\\n",
       "\tGBC\\_007\\_P & 0.008032129 & 0.048192771 & 0.000000000 & 0 & 0.610441767 & 0.000000000 & 0 & 0.000000000 & 0.000000000 & 0.000000000 & ⋯ & Nx & M1 & No  & Yes & Yes & No & Yes & Yes &  neck         & 1\\\\\n",
       "\tGBC\\_008\\_P & 0.392070485 & 0.000000000 & 0.004405286 & 0 & 0.110132159 & 0.008810573 & 0 & 0.008810573 & 0.000000000 & 0.008810573 & ⋯ & N0 & M0 & No  & No  & No  & No & No  & No  &  body         & 0\\\\\n",
       "\\end{tabular}\n"
      ],
      "text/markdown": [
       "\n",
       "A data.frame: 6 × 81\n",
       "\n",
       "| <!--/--> | F_C0_MMP11 &lt;dbl&gt; | F_C1_CFD &lt;dbl&gt; | F_C10_ACTG2 &lt;dbl&gt; | F_C11_APOD &lt;dbl&gt; | F_C2_COLEC11 &lt;dbl&gt; | F_C3_IGFBP2 &lt;dbl&gt; | F_C4_CCN5 &lt;dbl&gt; | F_C5_KRT19 &lt;dbl&gt; | F_C6_MMP1 &lt;dbl&gt; | F_C7_COL4A2 &lt;dbl&gt; | ⋯ ⋯ | N.stage.y &lt;chr&gt; | M.stage.y &lt;chr&gt; | Liver.metastasis.y &lt;chr&gt; | liver.invasion.y &lt;chr&gt; | Lymph.node.metastasis.y &lt;chr&gt; | Peritoneal..metastasis.y &lt;chr&gt; | Bile.duct.invasion.y &lt;chr&gt; | Vascular.invasion.y &lt;chr&gt; | Tumor.location.in.GB.y &lt;chr&gt; | event01 &lt;dbl&gt; |\n",
       "|---|---|---|---|---|---|---|---|---|---|---|---|---|---|---|---|---|---|---|---|---|---|\n",
       "| GBC_002_P | 0.616541353 | 0.067669173 | 0.000000000 | 0 | 0.000000000 | 0.007518797 | 0 | 0.000000000 | 0.011278195 | 0.003759398 | ⋯ | N0 | M0 | No  | No  | No  | No | No  | No  |  fundus       | 0 |\n",
       "| GBC_003_P | 0.014563107 | 0.179611650 | 0.009708738 | 0 | 0.383495146 | 0.000000000 | 0 | 0.004854369 | 0.000000000 | 0.014563107 | ⋯ | Nx | M0 | No  | Yes | Yes | No | Yes | No  |  fundus       | 1 |\n",
       "| GBC_004_P | 0.422798552 | 0.004221954 | 0.045838359 | 0 | 0.005428227 | 0.005428227 | 0 | 0.001809409 | 0.001809409 | 0.004221954 | ⋯ | N1 | M1 | Yes | Yes | Yes | No | No  | No  |   fundus-body | 0 |\n",
       "| GBC_006_P | 0.220207254 | 0.126943005 | 0.002590674 | 0 | 0.194300518 | 0.010362694 | 0 | 0.005181347 | 0.010362694 | 0.012953368 | ⋯ | N1 | M0 | No  | Yes | Yes | No | Yes | No  | body-neck     | 1 |\n",
       "| GBC_007_P | 0.008032129 | 0.048192771 | 0.000000000 | 0 | 0.610441767 | 0.000000000 | 0 | 0.000000000 | 0.000000000 | 0.000000000 | ⋯ | Nx | M1 | No  | Yes | Yes | No | Yes | Yes |  neck         | 1 |\n",
       "| GBC_008_P | 0.392070485 | 0.000000000 | 0.004405286 | 0 | 0.110132159 | 0.008810573 | 0 | 0.008810573 | 0.000000000 | 0.008810573 | ⋯ | N0 | M0 | No  | No  | No  | No | No  | No  |  body         | 0 |\n",
       "\n"
      ],
      "text/plain": [
       "          F_C0_MMP11  F_C1_CFD    F_C10_ACTG2 F_C11_APOD F_C2_COLEC11\n",
       "GBC_002_P 0.616541353 0.067669173 0.000000000 0          0.000000000 \n",
       "GBC_003_P 0.014563107 0.179611650 0.009708738 0          0.383495146 \n",
       "GBC_004_P 0.422798552 0.004221954 0.045838359 0          0.005428227 \n",
       "GBC_006_P 0.220207254 0.126943005 0.002590674 0          0.194300518 \n",
       "GBC_007_P 0.008032129 0.048192771 0.000000000 0          0.610441767 \n",
       "GBC_008_P 0.392070485 0.000000000 0.004405286 0          0.110132159 \n",
       "          F_C3_IGFBP2 F_C4_CCN5 F_C5_KRT19  F_C6_MMP1   F_C7_COL4A2 ⋯ N.stage.y\n",
       "GBC_002_P 0.007518797 0         0.000000000 0.011278195 0.003759398 ⋯ N0       \n",
       "GBC_003_P 0.000000000 0         0.004854369 0.000000000 0.014563107 ⋯ Nx       \n",
       "GBC_004_P 0.005428227 0         0.001809409 0.001809409 0.004221954 ⋯ N1       \n",
       "GBC_006_P 0.010362694 0         0.005181347 0.010362694 0.012953368 ⋯ N1       \n",
       "GBC_007_P 0.000000000 0         0.000000000 0.000000000 0.000000000 ⋯ Nx       \n",
       "GBC_008_P 0.008810573 0         0.008810573 0.000000000 0.008810573 ⋯ N0       \n",
       "          M.stage.y Liver.metastasis.y liver.invasion.y Lymph.node.metastasis.y\n",
       "GBC_002_P M0        No                 No               No                     \n",
       "GBC_003_P M0        No                 Yes              Yes                    \n",
       "GBC_004_P M1        Yes                Yes              Yes                    \n",
       "GBC_006_P M0        No                 Yes              Yes                    \n",
       "GBC_007_P M1        No                 Yes              Yes                    \n",
       "GBC_008_P M0        No                 No               No                     \n",
       "          Peritoneal..metastasis.y Bile.duct.invasion.y Vascular.invasion.y\n",
       "GBC_002_P No                       No                   No                 \n",
       "GBC_003_P No                       Yes                  No                 \n",
       "GBC_004_P No                       No                   No                 \n",
       "GBC_006_P No                       Yes                  No                 \n",
       "GBC_007_P No                       Yes                  Yes                \n",
       "GBC_008_P No                       No                   No                 \n",
       "          Tumor.location.in.GB.y event01\n",
       "GBC_002_P  fundus                0      \n",
       "GBC_003_P  fundus                1      \n",
       "GBC_004_P   fundus-body          0      \n",
       "GBC_006_P body-neck              1      \n",
       "GBC_007_P  neck                  1      \n",
       "GBC_008_P  body                  0      "
      ]
     },
     "metadata": {},
     "output_type": "display_data"
    }
   ],
   "source": [
    "#\n",
    "fibroblast_ratio = fibroblast_ratio_all\n",
    "fibroblast_ratio = fibroblast_ratio[fibroblast_ratio$Tumors.for.scRNA.seq.short==\"P\",]\n",
    "fibroblast_ratio = fibroblast_ratio[fibroblast_ratio$histological.type.short %in% \"adeno\",]\n",
    "\n",
    "\n",
    "common_patient = intersect(rownames(fibroblast_ratio),rownames(survival_info))\n",
    "fibroblast_ratio = left_join(fibroblast_ratio[common_patient,],survival_info[common_patient,],by = \"NewSample.ID\")\n",
    "rownames(fibroblast_ratio) = fibroblast_ratio$NewSample.ID\n",
    "fibroblast_ratio$event01 = ifelse(fibroblast_ratio$event==\"dead\",1,0)\n",
    "head(fibroblast_ratio)"
   ]
  },
  {
   "cell_type": "code",
   "execution_count": null,
   "id": "8c7d4e34-ac2d-4759-b6bb-0fa876a57d22",
   "metadata": {},
   "outputs": [],
   "source": [
    "## 单个分组的预后"
   ]
  },
  {
   "cell_type": "code",
   "execution_count": 10,
   "id": "da632f60-e2a5-418b-a79f-c6373b84eda1",
   "metadata": {},
   "outputs": [],
   "source": [
    "itype = \"F_C1_CFD\"\n",
    "fibroblast_ratio[paste0(\"Score\")] = ifelse(fibroblast_ratio[itype] > median(fibroblast_ratio[,itype]),'High','Low')"
   ]
  },
  {
   "cell_type": "code",
   "execution_count": 11,
   "id": "f49a364f-f09f-466d-ad6a-478b0235915b",
   "metadata": {
    "tags": []
   },
   "outputs": [],
   "source": [
    "fit<-survfit(Surv(OS_month, event01)~Score, data=fibroblast_ratio)\n",
    " "
   ]
  },
  {
   "cell_type": "code",
   "execution_count": 12,
   "id": "a3931641-359b-47c4-8322-82fe4cd51499",
   "metadata": {},
   "outputs": [
    {
     "data": {
      "image/png": "[encoded data removed]",
      "text/plain": [
       "plot without title"
      ]
     },
     "metadata": {
      "image/png": {
       "height": 420,
       "width": 420
      }
     },
     "output_type": "display_data"
    }
   ],
   "source": [
    "p = ggsurvplot(\n",
    "    fit,                     # survfit object with calculated statistics.\n",
    "    data = fibroblast_ratio,             # data used to fit survival curves.\n",
    "    #risk.table = TRUE,       # show risk table.\n",
    "    pval = TRUE,             # show p-value of log-rank test.\n",
    "    #conf.int = TRUE,         # show confidence intervals for\n",
    "    palette = \"npg\",\n",
    "    xlab = \"Time in months\",   # customize X axis label.\n",
    "    #ggtheme = theme_bw(),\n",
    "    #conf.int.style = \"step\",  # customize style of confidence intervals  \"ribbon\" 'step'\n",
    "    #surv.median.line = \"hv\",  # add the median survival pointer.\n",
    "    # legend.labs = c(\"TP1\", \"TP2\",\"TP3\",\"TP4\",\"TP5\")    # change legend labels.\n",
    "    tables.y.text = T,\n",
    "    risk.table.pos = \"in\",\n",
    "    risk.table.col = \"strata\",\n",
    "    fontsize = 4,\n",
    "    pval.size = 4,\n",
    "    #surv.plot.height = 0.8,\n",
    "    #tables.height = 0.2,\n",
    "    pval.coord = c(9, 0.9),\n",
    "    legend = \"top\",\n",
    "    title = \"F_C1_CFD\"\n",
    "  )\n",
    "p"
   ]
  },
  {
   "cell_type": "code",
   "execution_count": 45,
   "id": "afb759a4-ed0d-4c8d-95eb-cc694cc9c0a4",
   "metadata": {},
   "outputs": [
    {
     "data": {
      "text/html": [
       "<strong>png:</strong> 2"
      ],
      "text/latex": [
       "\\textbf{png:} 2"
      ],
      "text/markdown": [
       "**png:** 2"
      ],
      "text/plain": [
       "png \n",
       "  2 "
      ]
     },
     "metadata": {},
     "output_type": "display_data"
    }
   ],
   "source": [
    "pdf(\"./figures/F_C1_CFD_survivalV3.pdf\",height = 3.5,width = 3.5)\n",
    "print(p,newpage = FALSE)\n",
    "dev.off()"
   ]
  }
 ],
 "metadata": {
  "kernelspec": {
   "display_name": "cnmf_env_R-4.0.3",
   "language": "R",
   "name": "ir403"
  },
  "language_info": {
   "codemirror_mode": "r",
   "file_extension": ".r",
   "mimetype": "text/x-r-source",
   "name": "R",
   "pygments_lexer": "r",
   "version": "4.0.3"
  }
 },
 "nbformat": 4,
 "nbformat_minor": 5
}
