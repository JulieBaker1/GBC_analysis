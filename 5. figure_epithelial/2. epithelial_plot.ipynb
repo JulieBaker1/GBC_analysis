{
 "cells": [
  {
   "cell_type": "code",
   "execution_count": 3,
   "id": "d580924c-8a16-432f-8454-4c1518b3b144",
   "metadata": {
    "tags": []
   },
   "outputs": [
    {
     "name": "stderr",
     "output_type": "stream",
     "text": [
      "Warning message:\n",
      "“package ‘reshape2’ was built under R version 4.0.5”\n",
      "\n",
      "Attaching package: ‘dplyr’\n",
      "\n",
      "\n",
      "The following objects are masked from ‘package:stats’:\n",
      "\n",
      "    filter, lag\n",
      "\n",
      "\n",
      "The following objects are masked from ‘package:base’:\n",
      "\n",
      "    intersect, setdiff, setequal, union\n",
      "\n",
      "\n",
      "\n",
      "Attaching package: ‘data.table’\n",
      "\n",
      "\n",
      "The following objects are masked from ‘package:dplyr’:\n",
      "\n",
      "    between, first, last\n",
      "\n",
      "\n",
      "The following objects are masked from ‘package:reshape2’:\n",
      "\n",
      "    dcast, melt\n",
      "\n",
      "\n",
      "Attaching SeuratObject\n",
      "\n",
      "Attaching sp\n",
      "\n",
      "Registered S3 method overwritten by 'SeuratDisk':\n",
      "  method            from  \n",
      "  as.sparse.H5Group Seurat\n",
      "\n"
     ]
    }
   ],
   "source": [
    "library(ggplot2)\n",
    "library(ggpubr)\n",
    "library(reshape2)\n",
    "library(dplyr)\n",
    "library(data.table)\n",
    "library(Seurat)\n",
    "library(SeuratDisk)\n",
    "setwd('/home/wyh/scdata/combined_data/Epithelial')"
   ]
  },
  {
   "cell_type": "markdown",
   "id": "582955cb-b5ff-445c-a2c4-d0ed7d84c5fe",
   "metadata": {},
   "source": [
    "# calculate pvalue by permutation test "
   ]
  },
  {
   "cell_type": "code",
   "execution_count": 160,
   "id": "25a35c49-413b-4680-aba5-066e57d35eda",
   "metadata": {
    "tags": []
   },
   "outputs": [
    {
     "name": "stderr",
     "output_type": "stream",
     "text": [
      "\u001b[1m\u001b[22mJoining, by = \"NewSample.ID\"\n",
      "Using metastasis.type as id variables\n",
      "\n"
     ]
    }
   ],
   "source": [
    "patient_info = read.csv(\"/home/wyh/scdata/patient_info/xzh_220109_final_wyh_220426.csv\",row.names = 1)\n",
    "patient_info$orig.ident = patient_info$NewSample.ID\n",
    "\n",
    "patient_info$metastasis.type[patient_info$metastasis.type %in% c(\"P\",\"P_LI\")] = \"P\"\n",
    "patient_info$metastasis.type = factor(patient_info$metastasis.type, levels = c(\"P\",\"P_LN\",\"P_LM\"))\n",
    "patient_info$progression.type.short = factor(patient_info$progression.type.short, levels = c(\"Inflam\",\"Proli\",\"Mix\",\"None\"))\n",
    "\n",
    "\n",
    "\n",
    "ngenes = 100\n",
    "# K_range = c(23,26,32,36,44,46)\n",
    "K_range = c(23)\n",
    "\n",
    "premutation_time = 500\n",
    "for(K in K_range){\n",
    "    program_num = K\n",
    "    program_score = matrix(0,nrow = K,ncol = premutation_time+1)\n",
    "    #celltype_info = read.csv(paste0(\"/home/wyh/scdata/combined_data/Epithelial/gene_module/adeno/patient_GM_score_\",program_num,\"GM_100genes.csv\"),row.names = 1)\n",
    "    celltype_info = read.csv(paste0(\"/home/wyh/scdata/combined_data/Epithelial/gene_module/adeno_p/normalize/patient_GM_score_\",program_num,\"GM_\",ngenes,\"genes.csv\"),row.names = 1)\n",
    "    colnames(celltype_info) = paste0(\"score_GM\",1:program_num)\n",
    "    orig.ident = lapply(rownames(celltype_info),\n",
    "        FUN = function(i){\n",
    "        data_split = unlist(strsplit(i,split = \"_\"))\n",
    "        name = paste(data_split[1:(length(data_split)-1)],collapse = '_')\n",
    "        #name = do.call(data_split[paste,args = data_split[1:(length(data_split)-1)]])\n",
    "            return(name)\n",
    "                          })\n",
    "    orig.ident = unlist(orig.ident)\n",
    "    celltype_info$orig.ident = orig.ident\n",
    "    celltype_info = as.data.frame(celltype_info)\n",
    "    celltype_info$barcode = rownames(celltype_info)\n",
    "    for(isample_time in 1:(premutation_time+1)){\n",
    "        if(isample_time==(premutation_time+1)){\n",
    "            celltype_info$orig.ident_new = celltype_info$orig.ident\n",
    "        }else{\n",
    "            celltype_info$orig.ident_new = sample(celltype_info$orig.ident,length(celltype_info$orig.ident))\n",
    "        }\n",
    "       \n",
    "        # 计算得分\n",
    "        GM_index = c(1:program_num)\n",
    "        sample_score = array(0,dim = c(length(unique(celltype_info$orig.ident_new)),ncol(celltype_info)-3),dimnames = list(unique(celltype_info$orig.ident_new),paste0(\"score_GM\",GM_index)))\n",
    "        for(iGM in paste0(\"score_GM\",GM_index)){\n",
    "            data_analysis = celltype_info[,c(iGM,\"orig.ident_new\")]\n",
    "            colnames(data_analysis) = c(\"GM\",\"orig.ident_new\")\n",
    "            score_summary = setDT(data_analysis)[,list(Mean=mean(GM), Max=max(GM), Min=min(GM), Median=as.numeric(median(GM)), Std=sd(GM)), by=orig.ident_new]\n",
    "            score_summary = as.data.frame(score_summary)\n",
    "            rownames(score_summary) = score_summary[,\"orig.ident_new\"]\n",
    "            sample_score[rownames(score_summary),iGM] = score_summary[,\"Mean\"]\n",
    "        }\n",
    "        sample_score = as.data.frame(sample_score)\n",
    "        #colnames(sample_score) = c(\"score_GM1_E2F\",\"score_GM2_G2M\",\"score_GM3_Metal\",\"score_GM4_Glandular\",\"score_GM5_cEMT\",\"score_GM6_Interferon\",\"score_GM7_Hypoxia\",\"score_GM8_P53\")\n",
    "        sample_score$NewSample.ID = rownames(sample_score)\n",
    "\n",
    "        myfun = function(i){\n",
    "            i = (i-min(i))/(max(i)-min(i))\n",
    "        }\n",
    "\n",
    "        for(i in 1:program_num){\n",
    "            sample_score[,i] = myfun(sample_score[,i])\n",
    "        }\n",
    "\n",
    "        program_score[,isample_time] = apply(sample_score[,1:program_num],MARGIN = 2,FUN = IQR)\n",
    "        \n",
    "    }\n",
    "    rownames(program_score) = paste0(\"score_GM\",c(1:K))\n",
    "    program_score = as.data.frame(program_score)\n",
    "    score_pvalue = c()\n",
    "    for(iGM in 1:K){\n",
    "        gene_module = paste0(\"score_GM\",iGM)\n",
    "        score_pvalue[iGM] = sum(program_score[gene_module,1:premutation_time]>program_score[gene_module,(premutation_time+1)])/premutation_time\n",
    "    }\n",
    "    names(score_pvalue) =  paste0(\"score_GM\",1:K)\n",
    "    score_pvalue = sort(score_pvalue)\n",
    "    patient_shares = names(score_pvalue[score_pvalue<=0.05])\n",
    "    patient_shares = gsub(\"score_GM\",\"\",patient_shares)\n",
    "    patient_shares = as.numeric(patient_shares)\n",
    "    write.csv(score_pvalue,paste0(\"/home/wyh/scdata/combined_data/Epithelial/gene_module/adeno_p/share_state/pvalue_score_\",program_num,\"GM_\",ngenes,\"genes.csv\"))  \n",
    "\n",
    "    write.csv(patient_shares,paste0(\"/home/wyh/scdata/combined_data/Epithelial/gene_module/adeno_p/share_state/pvalue_patient_shared_state_\",program_num,\"GM_\",ngenes,\"genes.csv\")) \n",
    "\n",
    "    \n",
    "    sample_score$NewSample.ID = rownames(sample_score)\n",
    "    fibroblast_ratio_all = left_join(sample_score,patient_info[rownames(sample_score),])\n",
    "\n",
    "    #fibroblast_ratio_all = fibroblast_ratio_all[fibroblast_ratio_all$Tumors.for.scRNA.seq.short==\"P\",]\n",
    "    #fibroblast_ratio_all = fibroblast_ratio_all[fibroblast_ratio_all$histological.type.short %in% \"adeno\",]\n",
    "\n",
    "    fibroblast_ratio_all$number =  as.data.frame.array(table(celltype_info$orig.ident))[fibroblast_ratio_all$NewSample.ID,]\n",
    "    fibroblast_ratio_all$orig.ident = fibroblast_ratio_all$NewSample.ID\n",
    "    rownames(fibroblast_ratio_all) = fibroblast_ratio_all$orig.ident\n",
    "    fibroblast_little_patient = rownames(fibroblast_ratio_all)[fibroblast_ratio_all$number<50]\n",
    "\n",
    "    fibroblast_ratio_all = fibroblast_ratio_all[!fibroblast_ratio_all$orig.ident %in% fibroblast_little_patient,]\n",
    "    \n",
    "    \n",
    "    fibroblast_ratio = fibroblast_ratio_all[fibroblast_ratio_all$Tumors.for.scRNA.seq.short==\"P\",]\n",
    "    fibroblast_ratio = fibroblast_ratio[fibroblast_ratio$histological.type.short %in% \"adeno\",]\n",
    "    data_plot = fibroblast_ratio[,c(paste0(\"score_GM\",patient_shares),\"metastasis.type\")]\n",
    "    data_plot_melt = reshape2::melt(data_plot)\n",
    "    colnames(data_plot_melt) = c(\"metastasis.type\",\"variable\",\"Freq\")\n",
    "\n",
    "    pdf(paste0(\"/home/wyh/scdata/combined_data//Epithelial/group_compare/adeno_p/pvalue_adeno_epithelial_metastasis.type_\",program_num,\"_\",ngenes,\"genes.pdf\"),width = 30,height = 5)\n",
    "    print(ggplot(data_plot_melt, aes( y=Freq, x=metastasis.type)) + geom_boxplot()+facet_grid(. ~variable)+\n",
    "        theme(axis.text.x = element_text(angle = 45, hjust = 1, vjust = 1,color=\"black\"),\n",
    "             axis.text.y = element_text(color=\"black\"),\n",
    "             axis.title=element_text())+ggtitle(\"\")+\n",
    "          stat_compare_means(comparisons = list(\n",
    "       c(\"P\",\"P_LN\"),c(\"P\",\"P_LM\"),c(\"P_LN\",\"P_LM\")\n",
    "      ),method = \"wilcox.test\",label=\"p.signif\"))\n",
    "    dev.off()\n",
    "    \n",
    "}\n"
   ]
  },
  {
   "cell_type": "markdown",
   "id": "7004620f-e1c1-4ce2-b5f2-1f43f230f58d",
   "metadata": {
    "tags": []
   },
   "source": [
    "## figure: heatmap of patient scores"
   ]
  },
  {
   "cell_type": "code",
   "execution_count": 6,
   "id": "36d07081-1f11-4c4e-ab9a-fcbaf00bc4f6",
   "metadata": {},
   "outputs": [],
   "source": [
    "patient_info = read.csv(\"/home/wyh/scdata/patient_info/xzh_220109_final_wyh_220426.csv\",row.names = 1)\n",
    "patient_info$orig.ident = patient_info$NewSample.ID\n",
    "\n",
    "patient_info$metastasis.type[patient_info$metastasis.type %in% c(\"P\",\"P_LI\")] = \"P\"\n",
    "patient_info$metastasis.type = factor(patient_info$metastasis.type, levels = c(\"P\",\"P_LN\",\"P_LM\"))\n",
    "patient_info$progression.type.short = factor(patient_info$progression.type.short, levels = c(\"Inflam\",\"Proli\",\"Mix\",\"None\"))"
   ]
  },
  {
   "cell_type": "code",
   "execution_count": 13,
   "id": "e6e35dca-6eda-4a73-b2fc-990b28fb4a45",
   "metadata": {},
   "outputs": [],
   "source": [
    "ngenes = 100\n",
    "K_range = c(23)\n",
    "for(K in K_range){\n",
    "    program_num = K\n",
    "\n",
    "    #celltype_info = read.csv(paste0(\"/home/wyh/scdata/combined_data/Epithelial/gene_module/adeno/patient_GM_score_\",program_num,\"GM_100genes.csv\"),row.names = 1)\n",
    "    celltype_info = read.csv(paste0(\"/home/wyh/scdata/combined_data/Epithelial/gene_module/adeno_p/normalize/patient_GM_score_\",program_num,\"GM_\",ngenes,\"genes.csv\"),row.names = 1)\n",
    "    colnames(celltype_info) = paste0(\"score_GM\",1:program_num)\n",
    "    orig.ident = lapply(rownames(celltype_info),\n",
    "        FUN = function(i){\n",
    "        data_split = unlist(strsplit(i,split = \"_\"))\n",
    "        name = paste(data_split[1:(length(data_split)-1)],collapse = '_')\n",
    "        #name = do.call(data_split[paste,args = data_split[1:(length(data_split)-1)]])\n",
    "            return(name)\n",
    "                          })\n",
    "    orig.ident = unlist(orig.ident)\n",
    "    celltype_info$orig.ident = orig.ident\n",
    "    celltype_info = as.data.frame(celltype_info)\n",
    "    celltype_info$barcode = rownames(celltype_info)\n",
    "\n",
    "\n",
    "    GM_index = c(1:program_num)\n",
    "    sample_score = array(0,dim = c(length(unique(celltype_info$orig.ident)),ncol(celltype_info)-2),dimnames = list(unique(celltype_info$orig.ident),paste0(\"score_GM\",GM_index)))\n",
    "    for(iGM in paste0(\"score_GM\",GM_index)){\n",
    "        data_analysis = celltype_info[,c(iGM,\"orig.ident\")]\n",
    "        colnames(data_analysis) = c(\"GM\",\"orig.ident\")\n",
    "        score_summary = setDT(data_analysis)[,list(Mean=mean(GM), Max=max(GM), Min=min(GM), Median=as.numeric(median(GM)), Std=sd(GM)), by=orig.ident]\n",
    "        score_summary = as.data.frame(score_summary)\n",
    "        rownames(score_summary) = score_summary[,\"orig.ident\"]\n",
    "        sample_score[rownames(score_summary),iGM] = score_summary[,\"Mean\"]\n",
    "    }\n",
    "    sample_score = as.data.frame(sample_score)\n",
    "    #colnames(sample_score) = c(\"score_GM1_E2F\",\"score_GM2_G2M\",\"score_GM3_Metal\",\"score_GM4_Glandular\",\"score_GM5_cEMT\",\"score_GM6_Interferon\",\"score_GM7_Hypoxia\",\"score_GM8_P53\")\n",
    "    sample_score$NewSample.ID = rownames(sample_score)\n",
    "\n",
    "    myfun = function(i){\n",
    "        i = (i-min(i))/(max(i)-min(i))\n",
    "    }\n",
    "\n",
    "    for(i in 1:program_num){\n",
    "        sample_score[,i] = myfun(sample_score[,i])\n",
    "    }\n",
    "}"
   ]
  },
  {
   "cell_type": "code",
   "execution_count": 14,
   "id": "f92f8848-40c0-4c64-82c4-724292b3b511",
   "metadata": {},
   "outputs": [],
   "source": [
    "library(pheatmap)\n",
    "library(data.table)"
   ]
  },
  {
   "cell_type": "code",
   "execution_count": 61,
   "id": "ae2fbf75-9b2b-497f-b1c7-b5fa97baa2ca",
   "metadata": {},
   "outputs": [],
   "source": [
    "write.csv(sample_score,\"../submit/figure_data/heatmap_GM_score.csv\")"
   ]
  },
  {
   "cell_type": "code",
   "execution_count": 5,
   "id": "78bf7fa9-0abb-465a-9e8e-73a33dabe3ac",
   "metadata": {},
   "outputs": [],
   "source": [
    "setwd(\"/home/wyh/scdata/combined_data/Epithelial/group_compare/\")"
   ]
  },
  {
   "cell_type": "code",
   "execution_count": 17,
   "id": "563832e1-21d0-4015-b7c4-49cdef430de2",
   "metadata": {},
   "outputs": [],
   "source": [
    "sample_score = read.csv(\"../submit/figure_data/heatmap_GM_score.csv\",row.names = 1)\n",
    "sample_score = sample_score[,1:23]\n",
    "sample_score$metastasis.type = patient_info[rownames(sample_score),\"metastasis.type\"]\n",
    "sample_score = sample_score[c(which(sample_score$metastasis.type==\"P\"),which(sample_score$metastasis.type==\"P_LN\"),which(sample_score$metastasis.type==\"P_LM\")),]"
   ]
  },
  {
   "cell_type": "code",
   "execution_count": 12,
   "id": "1204c1da-2f8e-47d1-ad24-05f0f9b7012f",
   "metadata": {},
   "outputs": [],
   "source": [
    "library(pheatmap)\n",
    "library(ComplexHeatmap)"
   ]
  },
  {
   "cell_type": "code",
   "execution_count": 20,
   "id": "fe3fd9b0-00ce-426b-8b79-e536a436d54e",
   "metadata": {},
   "outputs": [],
   "source": [
    "sample_score = sample_score[,1:23]\n",
    "shared_state = c(1,3,5,6,7,8,16)\n",
    "row_annotation = rep(\"patient_specific\",23)\n",
    "names(row_annotation) = paste0(\"score_GM\",c(1:23))\n",
    "row_annotation[shared_state] = \"patient_shared\"\n",
    "col_annotation = sample_score$metastasis.type"
   ]
  },
  {
   "cell_type": "code",
   "execution_count": 24,
   "id": "41b608d0-3373-4136-8c96-34e24334cff3",
   "metadata": {},
   "outputs": [],
   "source": [
    "# third version\n",
    "col_annotation = as.character(col_annotation)\n",
    "col_annotation[col_annotation %in% c(\"P_LN\",\"P_LM\")] = \"P_Metas\"\n",
    "\n",
    "annoCol<-list(GM_state=c(patient_shared = \"#CD3333\", patient_specific=\"#2078B5\"),\n",
    "             metastasis.type = c(P = \"#0073C2\",P_Metas = \"#EFC000\"))"
   ]
  },
  {
   "cell_type": "code",
   "execution_count": null,
   "id": "cfa3e8ac-1f74-4ce1-8c99-554913ddb901",
   "metadata": {},
   "outputs": [],
   "source": [
    "# https://jokergoo.github.io/2021/03/05/cluster-groups-in-complexheatmap/"
   ]
  },
  {
   "cell_type": "code",
   "execution_count": 50,
   "id": "327846b9-fa61-4879-8e98-c3b0186d0583",
   "metadata": {},
   "outputs": [],
   "source": [
    "fa = col_annotation\n",
    "fa_col = c(\"P\" = \"#0073C2\", \"P_Metas\" = \"#EFC000\")\n",
    "GM_state_color = c(patient_shared = \"#CD3333\", patient_specific=\"#2078B5\")\n",
    "col_fun = colorRampPalette(c(\"white\",\"firebrick3\"))(50)"
   ]
  },
  {
   "cell_type": "code",
   "execution_count": 65,
   "id": "c9cabd64-7ba6-45e7-b7ec-cf510f6abf72",
   "metadata": {},
   "outputs": [
    {
     "data": {
      "text/html": [
       "<strong>png:</strong> 2"
      ],
      "text/latex": [
       "\\textbf{png:} 2"
      ],
      "text/markdown": [
       "**png:** 2"
      ],
      "text/plain": [
       "png \n",
       "  2 "
      ]
     },
     "metadata": {},
     "output_type": "display_data"
    }
   ],
   "source": [
    "pdf(\"./adeno_p/heatmap_GM_scoreV8.pdf\",height = 8,width = 9)\n",
    "dend2 = cluster_within_group(t(sample_score), fa)\n",
    "Heatmap(t(sample_score), cluster_columns = dend2, column_split = 2,col = col_fun,show_column_names = FALSE,\n",
    "    row_title = \"cluster_within_group\",\n",
    "    top_annotation = HeatmapAnnotation(foo = fa, col = list(foo = fa_col)),\n",
    "       left_annotation = rowAnnotation(GM_state = row_annotation,col = list(GM_state = GM_state_color)))\n",
    "dev.off()"
   ]
  },
  {
   "cell_type": "markdown",
   "id": "fa39f39b-7f4e-44c9-aa2b-476e5a8b1e7f",
   "metadata": {},
   "source": [
    "## figure: overlap between genes of gene modules"
   ]
  },
  {
   "cell_type": "code",
   "execution_count": null,
   "id": "fc11961b-5264-4168-a559-e914f281922b",
   "metadata": {},
   "outputs": [],
   "source": [
    "# https://rdrr.io/bioc/GeneOverlap/man/GeneOverlap.html"
   ]
  },
  {
   "cell_type": "code",
   "execution_count": null,
   "id": "191deed8-0d07-420a-b187-3b0f0a92b554",
   "metadata": {},
   "outputs": [],
   "source": [
    "library(pheatmap)"
   ]
  },
  {
   "cell_type": "code",
   "execution_count": 78,
   "id": "6bcdbc68-857c-4981-91b8-6995fd66e473",
   "metadata": {},
   "outputs": [],
   "source": [
    "K = 23\n",
    "gene_list = read.csv(paste0(\"/home/wyh/scdata/combined_data/Epithelial/NMFV2/top_genes_\",K,\".csv\"),row.names = 1)\n",
    "patient_shared = read.csv(paste0(\"/home/wyh/scdata/combined_data/Epithelial/gene_module/adeno_p/share_state/patient_shared_state_\",K,\"GM_100genes.csv\"),row.names = 1)\n",
    "gene_list = gene_list[1:100,]\n",
    "gene_list = gene_list[,c(1,3,5,6,7,8,16)]"
   ]
  },
  {
   "cell_type": "code",
   "execution_count": 135,
   "id": "3c863616-3aaa-4083-a8bb-018d3a2d9d1d",
   "metadata": {},
   "outputs": [],
   "source": [
    "n = 31906\n",
    "a = 100\n",
    "b = 100\n",
    "\n",
    "gene_overlap = matrix(0,nrow = 7,ncol = 7)\n",
    "colnames(gene_overlap) = paste0(\"GM\",c(1,3,5,6,7,8,16))\n",
    "rownames(gene_overlap) = paste0(\"GM\",c(1,3,5,6,7,8,16))\n",
    "for(i in 1:7){\n",
    "    for(j in 1:7){\n",
    "        t = length(intersect(gene_list[,i],gene_list[,j]))\n",
    "        gene_overlap[i,j] = -log10(sum(dhyper(t, a, n - a, b)))\n",
    "    }\n",
    "}\n",
    "\n",
    "gene_overlap[gene_overlap>10] = 20\n",
    "pheatmap(gene_overlap,filename = \"../overlap.pdf\",cellheight = 25,cellwidth = 25)"
   ]
  },
  {
   "cell_type": "markdown",
   "id": "69d1806f-7791-4872-a69d-b34e3455e6a3",
   "metadata": {},
   "source": [
    "## figure: enrichment analysis"
   ]
  },
  {
   "cell_type": "code",
   "execution_count": 14,
   "id": "54cde0f0-a7a5-4f4d-86b6-93a3f55a5437",
   "metadata": {},
   "outputs": [],
   "source": [
    "library(clusterProfiler)\n",
    "library(ggplot2)\n",
    "\n",
    "# go_bp = read.gmt(\"D:/postgraduate/database/msigdb/c5.go.bp.v2022.1.Hs.symbols.gmt\")\n",
    "for(K in c(23)){\n",
    "  gene_list = read.csv(paste0(\"/home/wyh/scdata/combined_data/Epithelial/NMFV2/top_genes_\",K,\".csv\"),row.names = 1)\n",
    "  \n",
    "  patient_shared = read.csv(paste0(\"/home/wyh/scdata/combined_data/Epithelial/gene_module/adeno_p/share_state/patient_shared_state_\",K,\"GM_100genes.csv\"),row.names = 1)\n",
    "\n",
    "  gene_list = gene_list[1:100,]\n",
    "  gene_list = as.list(gene_list)\n",
    "  #gene_list = gene_list[patient_shared[,1]]\n",
    "  names(gene_list) = gsub(\"X\",\"GM\",names(gene_list))\n",
    "  HALL_marks = read.csv(\"/home/wyh/scdata/knowledge_based/hallmarks.csv\",row.names = 1)\n",
    "  HALL_marks$term = gsub(pattern = \"HALLMARK_\",replacement = \"\",x = HALL_marks$term)\n",
    "  # gene_list = gene_list[c(1,3,5,6,7,8,16)]\n",
    "  \n",
    "  a = compareCluster(geneClusters = gene_list[c(8,1,16,5,3,7,6,18,20,21,10,14,2,12,17,22,19,9,15,11,4,23,13)],fun = enricher,TERM2GENE = HALL_marks)\n",
    "  # ggsave(paste0(\"./epithelial/group_compare/adeno_p/enrich_GM_\",K,'.png'),dotplot(a),width = 15,height = 10) \n",
    "}"
   ]
  },
  {
   "cell_type": "code",
   "execution_count": 61,
   "id": "a5efb5de-9b53-4f78-b43e-63d546484ab0",
   "metadata": {},
   "outputs": [
    {
     "data": {
      "text/html": [
       "<strong>png:</strong> 2"
      ],
      "text/latex": [
       "\\textbf{png:} 2"
      ],
      "text/markdown": [
       "**png:** 2"
      ],
      "text/plain": [
       "png \n",
       "  2 "
      ]
     },
     "metadata": {},
     "output_type": "display_data"
    }
   ],
   "source": [
    "pdf(\"./submit/figure/enrichment_allV5.pdf\",height = 5,width = 10)\n",
    "dotplot(a)+theme(axis.text.x = element_text(angle = 45, hjust = 1, vjust = 1,color=\"black\"))\n",
    "dev.off()"
   ]
  },
  {
   "cell_type": "markdown",
   "id": "8ee32806-28e5-4e63-a5b2-fc70eefd9255",
   "metadata": {},
   "source": [
    "## table: patient-specific gene module and TME "
   ]
  },
  {
   "cell_type": "code",
   "execution_count": 34,
   "id": "88e384bb-6074-4527-aba5-af824274e59b",
   "metadata": {},
   "outputs": [],
   "source": [
    "setwd(\"/home/wyh/scdata/combined_data/Epithelial/group_compare/\")\n",
    "sample_score = read.csv(\"/home/wyh/scdata/combined_data/Epithelial//submit/figure_data/heatmap_GM_score.csv\",row.names = 1)"
   ]
  },
  {
   "cell_type": "code",
   "execution_count": 35,
   "id": "9414598b-a707-4aaa-a1c9-a907a44cb0b2",
   "metadata": {
    "tags": []
   },
   "outputs": [],
   "source": [
    "patient_shares = read.csv(paste0(\"/home/wyh/scdata/combined_data/Epithelial/gene_module/adeno_p/share_state/pvalue_patient_shared_state_\",23,\"GM_\",100,\"genes.csv\"),row.names = 1)"
   ]
  },
  {
   "cell_type": "code",
   "execution_count": 36,
   "id": "8b5ac5db-2992-4617-ab42-19f4d6e0e9d2",
   "metadata": {
    "tags": []
   },
   "outputs": [],
   "source": [
    "patient_specific_GM = apply(sample_score[,1:23],2,\n",
    "                            FUN = function(i){rownames(sample_score)[which(i==max(i))]})[setdiff(c(1:23),patient_shares[,1])]"
   ]
  },
  {
   "cell_type": "code",
   "execution_count": 37,
   "id": "97c8ce8c-561f-4f71-8c06-5f3f1d4d7fb5",
   "metadata": {},
   "outputs": [],
   "source": [
    "subtype_entropy = read.csv(\"/home/wyh/scdata/submit/supplymentary tables/Suppmentary table _Entropy.csv\",row.names = 1)"
   ]
  },
  {
   "cell_type": "code",
   "execution_count": 39,
   "id": "d476dcaf-5973-4e5a-8124-705e9707b3bf",
   "metadata": {},
   "outputs": [],
   "source": [
    "patient_specific_subtype = rownames(subtype_entropy)[subtype_entropy$Entropy.Value<0.625]"
   ]
  },
  {
   "cell_type": "code",
   "execution_count": 3,
   "id": "f651af76-6a3b-4aa0-94e1-2ed088c21f2f",
   "metadata": {},
   "outputs": [],
   "source": [
    "celltype_info = readRDS(\"/home/wyh/scdata/combined_data/meta_data/celltype20230610/combined_celltype_include_normal20230610.RDS\")"
   ]
  },
  {
   "cell_type": "code",
   "execution_count": 5,
   "id": "cf5c2e50-afec-4ee0-a656-465e34fa9aa1",
   "metadata": {},
   "outputs": [],
   "source": [
    "orig.ident = lapply(rownames(celltype_info),\n",
    "    FUN = function(i){\n",
    "    data_split = unlist(strsplit(i,split = \"_\"))\n",
    "    name = paste(data_split[1:(length(data_split)-1)],collapse = '_')\n",
    "    #name = do.call(data_split[paste,args = data_split[1:(length(data_split)-1)]])\n",
    "        return(name)\n",
    "                      })\n",
    "orig.ident = unlist(orig.ident)\n",
    "celltype_info$orig.ident = orig.ident\n",
    "celltype_info = as.data.frame(celltype_info)"
   ]
  },
  {
   "cell_type": "code",
   "execution_count": 9,
   "id": "85b1791e-8906-43d2-9b78-a7ac612ca7f9",
   "metadata": {},
   "outputs": [],
   "source": [
    "celltype_info$subtype = as.character(celltype_info$subtype)"
   ]
  },
  {
   "cell_type": "code",
   "execution_count": 28,
   "id": "1904d81a-8b25-4518-aa43-fd4a2044bbb4",
   "metadata": {},
   "outputs": [],
   "source": [
    "patient_specific_TME_num = as.data.frame.array(table(celltype_info[celltype_info$subtype %in% patient_specific_subtype,][,c('orig.ident',\"subtype\")]))"
   ]
  },
  {
   "cell_type": "code",
   "execution_count": 42,
   "id": "49d07376-4ea6-4a7b-b7cf-db77f8ab35cb",
   "metadata": {
    "tags": []
   },
   "outputs": [],
   "source": [
    "patient_specific_TME = apply(patient_specific_TME_num,2,\n",
    "                            FUN = function(i){rownames(patient_specific_TME_num)[which(i==max(i))]})"
   ]
  },
  {
   "cell_type": "code",
   "execution_count": 44,
   "id": "0ee756e3-9b53-44ce-bf29-6e4402e1d535",
   "metadata": {},
   "outputs": [],
   "source": [
    "write.csv(patient_specific_TME,\"/home/wyh/scdata/combined_data/Epithelial/patient_specific/patient_specific_TME231203.csv\")"
   ]
  },
  {
   "cell_type": "code",
   "execution_count": 45,
   "id": "52cf923a-15d1-4221-9a34-99722503d00f",
   "metadata": {},
   "outputs": [],
   "source": [
    "write.csv(patient_specific_GM,\"/home/wyh/scdata/combined_data/Epithelial/patient_specific/patient_specific_GM231203.csv\")"
   ]
  },
  {
   "cell_type": "code",
   "execution_count": 46,
   "id": "8fb6664d-d63a-41e6-a8e0-dc39bd273aae",
   "metadata": {
    "tags": []
   },
   "outputs": [
    {
     "data": {
      "text/html": [
       "<style>\n",
       ".list-inline {list-style: none; margin:0; padding: 0}\n",
       ".list-inline>li {display: inline-block}\n",
       ".list-inline>li:not(:last-child)::after {content: \"\\00b7\"; padding: 0 .5ex}\n",
       "</style>\n",
       "<ol class=list-inline><li>'GBC_051_P'</li><li>'GBC_028_P'</li><li>'GBC_084_P'</li><li>'GBC_083_P'</li></ol>\n"
      ],
      "text/latex": [
       "\\begin{enumerate*}\n",
       "\\item 'GBC\\_051\\_P'\n",
       "\\item 'GBC\\_028\\_P'\n",
       "\\item 'GBC\\_084\\_P'\n",
       "\\item 'GBC\\_083\\_P'\n",
       "\\end{enumerate*}\n"
      ],
      "text/markdown": [
       "1. 'GBC_051_P'\n",
       "2. 'GBC_028_P'\n",
       "3. 'GBC_084_P'\n",
       "4. 'GBC_083_P'\n",
       "\n",
       "\n"
      ],
      "text/plain": [
       "[1] \"GBC_051_P\" \"GBC_028_P\" \"GBC_084_P\" \"GBC_083_P\""
      ]
     },
     "metadata": {},
     "output_type": "display_data"
    }
   ],
   "source": [
    "patient_intersect = intersect(patient_specific_TME,patient_specific_GM)\n",
    "patient_intersect"
   ]
  },
  {
   "cell_type": "markdown",
   "id": "953e50a6-d1ac-4449-8ba0-4e3c3981f646",
   "metadata": {
    "tags": []
   },
   "source": [
    "## figure: GM16 score trend with clinical stages"
   ]
  },
  {
   "cell_type": "code",
   "execution_count": 4,
   "id": "b740e7d3-ad54-469e-98c7-5be8038f09e8",
   "metadata": {},
   "outputs": [],
   "source": [
    "setwd(\"/home/wyh/scdata/combined_data/Epithelial/group_compare/\")\n",
    "sample_score = read.csv(\"../submit/figure_data/heatmap_GM_score.csv\",row.names = 1)"
   ]
  },
  {
   "cell_type": "code",
   "execution_count": 7,
   "id": "610c3512-511b-4b49-ab9c-58c78ec996d1",
   "metadata": {
    "tags": []
   },
   "outputs": [
    {
     "name": "stderr",
     "output_type": "stream",
     "text": [
      "\u001b[1m\u001b[22mJoining with `by = join_by(NewSample.ID)`\n"
     ]
    }
   ],
   "source": [
    "sample_score = left_join(sample_score,patient_info)"
   ]
  },
  {
   "cell_type": "code",
   "execution_count": 8,
   "id": "76c2c25a-9f28-4ceb-932d-3ddfb6552744",
   "metadata": {},
   "outputs": [],
   "source": [
    "rownames(sample_score) = sample_score$NewSample.ID"
   ]
  },
  {
   "cell_type": "code",
   "execution_count": 9,
   "id": "6f8d5455-4eeb-455b-bad1-31c343f88933",
   "metadata": {},
   "outputs": [],
   "source": [
    "fibroblast_ratio_all = sample_score"
   ]
  },
  {
   "cell_type": "code",
   "execution_count": 10,
   "id": "72005bc9-a816-4d3c-8584-057d5a50a969",
   "metadata": {},
   "outputs": [],
   "source": [
    "fibroblast_ratio = fibroblast_ratio_all\n",
    "fibroblast_ratio$Clinical.stage[fibroblast_ratio$Clinical.stage %in% c(\"IIA\",\"IIB\")] = \"II\"\n",
    "fibroblast_ratio$Clinical.stage = factor(fibroblast_ratio$Clinical.stage,levels = c(\"I\",\"II\",\"IIIA\",\"IIIB\",\"IVA\",\"IVB\"))\n",
    "#fibroblast_ratio = fibroblast_ratio[fibroblast_ratio$Tumors.for.scRNA.seq.short %in% c(\"CC\",\"XGC\",\"P\",\"LI\",\"LN\",\"LM\"),]\n",
    "fibroblast_ratio = fibroblast_ratio[fibroblast_ratio$histological.type.short %in% c(\"adeno\"),]"
   ]
  },
  {
   "cell_type": "code",
   "execution_count": 13,
   "id": "6403b154-1071-4ba4-b338-3c8cc3bfa07f",
   "metadata": {
    "tags": []
   },
   "outputs": [],
   "source": [
    "data_plot = fibroblast_ratio[,c(\"Clinical.stage\",\"score_GM16\")]"
   ]
  },
  {
   "cell_type": "code",
   "execution_count": 14,
   "id": "15fc5c3a-d522-4349-b61f-18275f1c073e",
   "metadata": {
    "tags": []
   },
   "outputs": [],
   "source": [
    "agg_tbl <- data_plot %>% group_by(Clinical.stage) %>% \n",
    "  summarise(score_GM16=median(score_GM16),\n",
    "            .groups = 'drop')"
   ]
  },
  {
   "cell_type": "code",
   "execution_count": 15,
   "id": "b8f31626-a454-4ead-87d0-83c26c1665d3",
   "metadata": {},
   "outputs": [
    {
     "data": {
      "text/html": [
       "<table class=\"dataframe\">\n",
       "<caption>A data.frame: 6 × 2</caption>\n",
       "<thead>\n",
       "\t<tr><th scope=col>Clinical.stage</th><th scope=col>score_GM16</th></tr>\n",
       "\t<tr><th scope=col>&lt;fct&gt;</th><th scope=col>&lt;dbl&gt;</th></tr>\n",
       "</thead>\n",
       "<tbody>\n",
       "\t<tr><td>I   </td><td>0.2006571</td></tr>\n",
       "\t<tr><td>II  </td><td>0.2453503</td></tr>\n",
       "\t<tr><td>IIIA</td><td>0.1795742</td></tr>\n",
       "\t<tr><td>IIIB</td><td>0.3422472</td></tr>\n",
       "\t<tr><td>IVA </td><td>0.2593902</td></tr>\n",
       "\t<tr><td>IVB </td><td>0.2906346</td></tr>\n",
       "</tbody>\n",
       "</table>\n"
      ],
      "text/latex": [
       "A data.frame: 6 × 2\n",
       "\\begin{tabular}{ll}\n",
       " Clinical.stage & score\\_GM16\\\\\n",
       " <fct> & <dbl>\\\\\n",
       "\\hline\n",
       "\t I    & 0.2006571\\\\\n",
       "\t II   & 0.2453503\\\\\n",
       "\t IIIA & 0.1795742\\\\\n",
       "\t IIIB & 0.3422472\\\\\n",
       "\t IVA  & 0.2593902\\\\\n",
       "\t IVB  & 0.2906346\\\\\n",
       "\\end{tabular}\n"
      ],
      "text/markdown": [
       "\n",
       "A data.frame: 6 × 2\n",
       "\n",
       "| Clinical.stage &lt;fct&gt; | score_GM16 &lt;dbl&gt; |\n",
       "|---|---|\n",
       "| I    | 0.2006571 |\n",
       "| II   | 0.2453503 |\n",
       "| IIIA | 0.1795742 |\n",
       "| IIIB | 0.3422472 |\n",
       "| IVA  | 0.2593902 |\n",
       "| IVB  | 0.2906346 |\n",
       "\n"
      ],
      "text/plain": [
       "  Clinical.stage score_GM16\n",
       "1 I              0.2006571 \n",
       "2 II             0.2453503 \n",
       "3 IIIA           0.1795742 \n",
       "4 IIIB           0.3422472 \n",
       "5 IVA            0.2593902 \n",
       "6 IVB            0.2906346 "
      ]
     },
     "metadata": {},
     "output_type": "display_data"
    }
   ],
   "source": [
    "agg_tbl = as.data.frame(agg_tbl)\n",
    "agg_tbl"
   ]
  },
  {
   "cell_type": "code",
   "execution_count": 17,
   "id": "dcda7e15-a049-4512-a84e-c8aa69ffb622",
   "metadata": {},
   "outputs": [],
   "source": [
    "p_compare = ggplot(agg_tbl, aes(x = Clinical.stage, y = score_GM16,group = 1))"
   ]
  },
  {
   "cell_type": "code",
   "execution_count": 237,
   "id": "6f626076-2e70-4a70-bbc3-49300de583bb",
   "metadata": {
    "tags": []
   },
   "outputs": [],
   "source": [
    "# data_plot[data_plot$Clinical.stage==\"I\",\"Clinical.stage\"] = \"II\""
   ]
  },
  {
   "cell_type": "code",
   "execution_count": 18,
   "id": "6b01246c-1f8b-4e7b-9e47-8a3b808df776",
   "metadata": {},
   "outputs": [
    {
     "data": {
      "text/html": [
       "<strong>png:</strong> 2"
      ],
      "text/latex": [
       "\\textbf{png:} 2"
      ],
      "text/markdown": [
       "**png:** 2"
      ],
      "text/plain": [
       "png \n",
       "  2 "
      ]
     },
     "metadata": {},
     "output_type": "display_data"
    }
   ],
   "source": [
    "pdf(\"/home/wyh/scdata/combined_data/Epithelial/submit/figure/GM16_Clinical_stageV6.pdf\",width = 4,height = 4)\n",
    "text_size = 20\n",
    "ggboxplot(data = data_plot,x = \"Clinical.stage\", y = \"score_GM16\",group = \"Clinical.stage\",color = \"Clinical.stage\",add = \"jitter\")+\n",
    "stat_compare_means(comparisons = list(c(\"IIIB\",\"I\")),method = \"wilcox.test\",size= 7,label.y = 0.8)+\n",
    "  stat_summary(fun=median, geom=\"line\", aes(group=1)) +theme_bw()+scale_color_manual(breaks = data_plot$Clinical.stage,\n",
    "                    values = c(\"#51574a\",\"#e9d78e\",\"#1F77B4FF\",\"#FF7F0EFF\",\"#2CA02CFF\",\"#D62728FF\"))+\n",
    "theme_bw()+\n",
    "theme(legend.position = \"none\",panel.grid.major = element_blank(),panel.grid.minor = element_blank(),\n",
    "            panel.background = element_rect(color = \"white\"),\n",
    "                                               axis.text.x = element_text(color=\"black\", size=text_size),\n",
    "                                               axis.text.y = element_text(color=\"black\", size=text_size),\n",
    "                                               axis.title=element_text(size=text_size),\n",
    "                                               strip.text.x = element_text(size = text_size-5),\n",
    "                                               legend.text=element_text(size=text_size),\n",
    "                                               legend.title=element_text(size=text_size),\n",
    "                                               plot.title =element_text(hjust = 0.5, size = 20))\n",
    "dev.off()"
   ]
  },
  {
   "cell_type": "markdown",
   "id": "98311302-c663-4a78-8d05-065bc583900f",
   "metadata": {},
   "source": [
    "# figure: GM16 score difference between different metastasis type"
   ]
  },
  {
   "cell_type": "code",
   "execution_count": 1,
   "id": "96c5b1cf-ab04-4d53-9c92-5c7c13b5a74e",
   "metadata": {},
   "outputs": [],
   "source": [
    "patient_info = read.csv(\"/home/wyh/scdata/patient_info/xzh_220109_final_wyh_220426.csv\",row.names = 1)\n",
    "patient_info$metastasis.type[patient_info$metastasis.type==\"P_LI\"] = \"P\"\n",
    "patient_info$metastasis.type = factor(patient_info$metastasis.type,levels = c(\"P\",\"P_LN\",\"P_LM\"))"
   ]
  },
  {
   "cell_type": "code",
   "execution_count": 23,
   "id": "e1222b46-ef73-47cd-8c5e-e75b8547fa4b",
   "metadata": {},
   "outputs": [],
   "source": [
    "sample_score = read.csv(\"/home/wyh/scdata/combined_data/Epithelial/submit/figure_data/heatmap_GM_score.csv\",row.names = 1)\n",
    "sample_score$NewSample.ID = rownames(sample_score)\n",
    "sample_score = merge(sample_score,patient_info)"
   ]
  },
  {
   "cell_type": "code",
   "execution_count": 24,
   "id": "0163e2ce-8a32-403a-b15c-9429da1e2ccb",
   "metadata": {},
   "outputs": [],
   "source": [
    "shared_state = read.csv(\"/home/wyh/scdata/combined_data/Epithelial/gene_module/adeno_p/share_state/pvalue_patient_shared_state_23GM_100genes.csv\",row.names = 1)[,1]"
   ]
  },
  {
   "cell_type": "code",
   "execution_count": 25,
   "id": "d3a122e4-9088-4c43-96b5-a9dc459e5aec",
   "metadata": {},
   "outputs": [],
   "source": [
    "fibroblast_ratio = sample_score\n",
    "fibroblast_ratio = fibroblast_ratio[fibroblast_ratio$Tumors.for.scRNA.seq.short==\"P\",]\n",
    "fibroblast_ratio = fibroblast_ratio[fibroblast_ratio$histological.type.short %in% \"adeno\",]"
   ]
  },
  {
   "cell_type": "code",
   "execution_count": 26,
   "id": "dd8ab94f-9e99-430d-baf1-a2525a80a59f",
   "metadata": {
    "tags": []
   },
   "outputs": [
    {
     "name": "stderr",
     "output_type": "stream",
     "text": [
      "Using metastasis.type as id variables\n",
      "\n"
     ]
    }
   ],
   "source": [
    "#fibroblast_ratio = fibroblast_ratio_all[fibroblast_ratio$Tumors.for.scRNA.seq.short==\"P\",]\n",
    "data_plot = fibroblast_ratio[,c(colnames(fibroblast_ratio)[17],\"metastasis.type\")]\n",
    "data_plot_melt = reshape2::melt(data_plot)\n",
    "colnames(data_plot_melt) = c(\"metastasis.type\",\"variable\",\"Freq\")\n"
   ]
  },
  {
   "cell_type": "code",
   "execution_count": 24,
   "id": "d61ace96-50a3-4a19-97d4-82265f6a09c4",
   "metadata": {},
   "outputs": [],
   "source": [
    "data_plot_melt$metastasis.type = as.character(data_plot_melt$metastasis.type)\n",
    "data_plot_melt$metastasis.type[data_plot_melt$metastasis.type %in% c(\"P_LN\",\"P_LM\")] = \"P_Mets\""
   ]
  },
  {
   "cell_type": "code",
   "execution_count": 93,
   "id": "982bd00f-2bca-4c5c-85eb-0727f3d1c173",
   "metadata": {},
   "outputs": [
    {
     "data": {
      "text/html": [
       "<strong>png:</strong> 2"
      ],
      "text/latex": [
       "\\textbf{png:} 2"
      ],
      "text/markdown": [
       "**png:** 2"
      ],
      "text/plain": [
       "png \n",
       "  2 "
      ]
     },
     "metadata": {},
     "output_type": "display_data"
    }
   ],
   "source": [
    "pdf(\"/home/wyh/scdata/combined_data/Epithelial/submit/figure/GM16_P_P_MetsV2.pdf\",width = 4,height = 4)\n",
    "text_size = 20\n",
    "print(ggplot(data_plot_melt, aes( y=Freq, x=metastasis.type,fill = metastasis.type)) + geom_violin()+geom_jitter(width = 0.2)+scale_fill_manual(values = c(\"#0073C2\",\"#EFC000\"), guide=FALSE)+\n",
    "    theme(panel.grid.major = element_blank(),panel.grid.minor = element_blank(),panel.background = element_blank(), \n",
    "                                               axis.line = element_line(colour = \"black\"),\n",
    "                                               legend.position = \"none\",\n",
    "                                               axis.text.x = element_text(color=\"black\", size=text_size),\n",
    "                                               axis.text.y = element_text(color=\"black\", size=text_size),\n",
    "                                               axis.title=element_text(size=text_size),\n",
    "                                               legend.text=element_text(size=text_size),\n",
    "                                               legend.title=element_text(size=text_size),\n",
    "                                               plot.title =element_text(hjust = 0.5, size = 20))+\n",
    "      stat_compare_means(comparisons = list(\n",
    "   c(\"P\",\"P_Mets\")\n",
    "  ),method = \"wilcox.test\",label=\"p.signif\",,size = 8,label.y = 0.8)+ylab(\"score\"))\n",
    "dev.off()"
   ]
  },
  {
   "cell_type": "markdown",
   "id": "ab0b239c-b918-4652-8afc-7151a0fc3fdf",
   "metadata": {},
   "source": [
    "## validate in Fu et al. data"
   ]
  },
  {
   "cell_type": "code",
   "execution_count": 19,
   "id": "266fb01c-2633-4def-8a8f-92153a2d6182",
   "metadata": {},
   "outputs": [],
   "source": [
    "library(Seurat)"
   ]
  },
  {
   "cell_type": "code",
   "execution_count": 20,
   "id": "921ced75-a999-46e1-856e-56f1e5d5800c",
   "metadata": {
    "tags": []
   },
   "outputs": [
    {
     "name": "stderr",
     "output_type": "stream",
     "text": [
      "Warning message:\n",
      "“The following features are not present in the object: NECTIN4, TMEM265, TCIM, not searching for symbol synonyms”\n"
     ]
    }
   ],
   "source": [
    "Malignant = readRDS(\"/home/wyh/scdata/Fu/Fig3.Malignant.rds\")\n",
    "gene_list = read.csv(\"/home/wyh/scdata/combined_data/Epithelial/NMFV2/top_genes_23.csv\",row.names = 1)[,16]\n",
    "Malignant = AddModuleScore(Malignant,features = list(c(gene_list)),name = \"GM16\")\n"
   ]
  },
  {
   "cell_type": "code",
   "execution_count": 21,
   "id": "b7024c39-65cc-44eb-90c2-0c91a50f21e9",
   "metadata": {
    "tags": []
   },
   "outputs": [],
   "source": [
    "GM16_score = data.frame(GM16_score = Malignant$GM161,patient = Malignant$Sample)\n",
    "\n",
    "library(data.table)\n",
    "\n",
    "data_analysis = GM16_score\n",
    "colnames(data_analysis) = c(\"GM\",\"orig.ident\")\n",
    "score_summary = setDT(data_analysis)[,list(Mean=mean(GM), Max=max(GM), Min=min(GM), Median=as.numeric(median(GM)), Std=sd(GM)), by=orig.ident]\n",
    "score_summary = as.data.frame(score_summary)\n",
    "rownames(score_summary) = score_summary[,\"orig.ident\"]\n",
    "GM16_patient = score_summary[,c(\"orig.ident\",\"Mean\")]\n",
    "GM16_patient$type = \"P_Mets\"\n",
    "patient_num = as.data.frame.array(table(Malignant$Sample))\n",
    "GM16_patient = GM16_patient[GM16_patient$orig.ident %in% rownames(patient_num)[patient_num$`table(Malignant$Sample)`>50],]\n",
    "GM16_patient[GM16_patient$orig.ident %in% c(\"GBC1\",\"GBC2\"),\"type\"] = \"P\"\n",
    "GM16_patient[grep(\"-\",GM16_patient$orig.ident),\"type\"] = \"Mets\"\n",
    "GM16_patient = GM16_patient[GM16_patient$type!=\"Mets\",]\n"
   ]
  },
  {
   "cell_type": "code",
   "execution_count": 14,
   "id": "da796065-6711-4cbd-86ed-973e2d264951",
   "metadata": {},
   "outputs": [],
   "source": [
    "GM16_patient$Mean = (GM16_patient$Mean-min(GM16_patient$Mean))/(max(GM16_patient$Mean)-min(GM16_patient$Mean))"
   ]
  },
  {
   "cell_type": "code",
   "execution_count": 15,
   "id": "347ff68f-f65e-4824-ae94-b1a0701f1428",
   "metadata": {},
   "outputs": [],
   "source": [
    "GM16_patient$study = \"Wang2022\"\n",
    "data_plot_melt$study = \"This study\""
   ]
  },
  {
   "cell_type": "code",
   "execution_count": 26,
   "id": "f603c451-9ddb-471a-b5b5-19e96cf2bd93",
   "metadata": {},
   "outputs": [],
   "source": [
    "colnames(GM16_patient) = c('orig.ident',\"Freq\",'metastasis.type','study')"
   ]
  },
  {
   "cell_type": "code",
   "execution_count": 29,
   "id": "c5617f58-ea71-4911-961d-8416804fa532",
   "metadata": {},
   "outputs": [],
   "source": [
    "data_plot_melt_final = rbind(GM16_patient[,c(2,3,4)],data_plot_melt[,c(3,1,4)])"
   ]
  },
  {
   "cell_type": "code",
   "execution_count": 163,
   "id": "a2fb2a67-8d80-4aff-9f64-d19403a67e23",
   "metadata": {},
   "outputs": [
    {
     "data": {
      "text/html": [
       "<strong>png:</strong> 2"
      ],
      "text/latex": [
       "\\textbf{png:} 2"
      ],
      "text/markdown": [
       "**png:** 2"
      ],
      "text/plain": [
       "png \n",
       "  2 "
      ]
     },
     "metadata": {},
     "output_type": "display_data"
    }
   ],
   "source": [
    "pdf(\"/home/wyh/scdata/combined_data/Epithelial/submit/figure/GM16_P_P_MetsV4.pdf\",width = 5,height = 3)\n",
    "text_size = 20\n",
    "print(ggplot(data_plot_melt_final, aes( y=Freq, x=metastasis.type,fill = metastasis.type)) + geom_boxplot(outlier.shape = NA)+theme_bw()+\n",
    "      geom_jitter(width = 0.2)+scale_fill_manual(values = c(\"#0073C2\",\"#EFC000\"), guide=FALSE)+facet_grid(. ~study)+\n",
    "      theme(legend.position = \"none\",panel.grid.major = element_blank(),panel.grid.minor = element_blank(),\n",
    "            panel.background = element_rect(color = \"white\"),\n",
    "                                               axis.text.x = element_text(color=\"black\", size=text_size),\n",
    "                                               axis.text.y = element_text(color=\"black\", size=text_size),\n",
    "                                               axis.title=element_text(size=text_size),\n",
    "                                               strip.text.x = element_text(size = text_size-5),\n",
    "                                               legend.text=element_text(size=text_size),\n",
    "                                               legend.title=element_text(size=text_size),\n",
    "                                               plot.title =element_text(hjust = 0.5, size = 20))+\n",
    "      stat_compare_means(comparisons = list(\n",
    "   c(\"P\",\"P_Mets\")\n",
    "  ),method = \"wilcox.test\",label=\"p.signif\",method.args = list(alternative = \"less\"),size = 8,label.y = 0.8)+ylab(\"score\"))\n",
    "dev.off()"
   ]
  },
  {
   "cell_type": "markdown",
   "id": "0871d97a-c2a0-44e3-8d4b-c4faec1d0c52",
   "metadata": {},
   "source": [
    "# figure: survival analysis"
   ]
  },
  {
   "cell_type": "code",
   "execution_count": 1,
   "id": "95f9c2c8-51b2-4111-8fab-25dfa879e160",
   "metadata": {
    "tags": []
   },
   "outputs": [
    {
     "name": "stderr",
     "output_type": "stream",
     "text": [
      "\n",
      "Attaching package: ‘dplyr’\n",
      "\n",
      "\n",
      "The following objects are masked from ‘package:stats’:\n",
      "\n",
      "    filter, lag\n",
      "\n",
      "\n",
      "The following objects are masked from ‘package:base’:\n",
      "\n",
      "    intersect, setdiff, setequal, union\n",
      "\n",
      "\n",
      "Loading required package: ggplot2\n",
      "\n",
      "Loading required package: ggpubr\n",
      "\n",
      "Warning message:\n",
      "“package ‘survival’ was built under R version 4.0.5”\n",
      "\n",
      "Attaching package: ‘survival’\n",
      "\n",
      "\n",
      "The following object is masked from ‘package:survminer’:\n",
      "\n",
      "    myeloma\n",
      "\n",
      "\n"
     ]
    }
   ],
   "source": [
    "library(dplyr)\n",
    "library(survminer)\n",
    "library(survival)"
   ]
  },
  {
   "cell_type": "code",
   "execution_count": 2,
   "id": "613e9b28-5cdb-4787-922f-efacc0b0d6dd",
   "metadata": {},
   "outputs": [],
   "source": [
    "setwd(\"/home/wyh/scdata/combined_data/Epithelial/group_compare\")"
   ]
  },
  {
   "cell_type": "code",
   "execution_count": 3,
   "id": "fd19da2e-d62f-4945-bd1b-48913f54292a",
   "metadata": {},
   "outputs": [],
   "source": [
    "patient_info = read.csv(\"/home/wyh/scdata/patient_info/xzh_220109_final_wyh_220426.csv\",row.names = 1)\n",
    "patient_info$metastasis.type[patient_info$metastasis.type==\"P_LI\"] = \"P\"\n",
    "patient_info$metastasis.type = factor(patient_info$metastasis.type,levels = c(\"P\",\"P_LN\",\"P_LM\"))"
   ]
  },
  {
   "cell_type": "code",
   "execution_count": null,
   "id": "d46677ff-d15e-47d2-b699-98424f0eddf5",
   "metadata": {},
   "outputs": [],
   "source": [
    "### version2"
   ]
  },
  {
   "cell_type": "code",
   "execution_count": 4,
   "id": "75de4c7d-d05d-4a8d-9fa5-13576ca546d4",
   "metadata": {},
   "outputs": [
    {
     "data": {
      "text/html": [
       "<table class=\"dataframe\">\n",
       "<caption>A data.frame: 6 × 28</caption>\n",
       "<thead>\n",
       "\t<tr><th></th><th scope=col>patient_index</th><th scope=col>DFS_month</th><th scope=col>OS_month</th><th scope=col>event</th><th scope=col>Sample.ID</th><th scope=col>NewSample.ID</th><th scope=col>Tumors.for.scRNA.seq</th><th scope=col>Sex</th><th scope=col>Age</th><th scope=col>TNM</th><th scope=col>⋯</th><th scope=col>T.stage</th><th scope=col>N.stage</th><th scope=col>M.stage</th><th scope=col>Liver.metastasis</th><th scope=col>liver.invasion</th><th scope=col>Lymph.node.metastasis</th><th scope=col>Peritoneal..metastasis</th><th scope=col>Bile.duct.invasion</th><th scope=col>Vascular.invasion</th><th scope=col>Tumor.location.in.GB</th></tr>\n",
       "\t<tr><th></th><th scope=col>&lt;int&gt;</th><th scope=col>&lt;dbl&gt;</th><th scope=col>&lt;dbl&gt;</th><th scope=col>&lt;chr&gt;</th><th scope=col>&lt;chr&gt;</th><th scope=col>&lt;chr&gt;</th><th scope=col>&lt;chr&gt;</th><th scope=col>&lt;chr&gt;</th><th scope=col>&lt;int&gt;</th><th scope=col>&lt;chr&gt;</th><th scope=col>⋯</th><th scope=col>&lt;chr&gt;</th><th scope=col>&lt;chr&gt;</th><th scope=col>&lt;chr&gt;</th><th scope=col>&lt;chr&gt;</th><th scope=col>&lt;chr&gt;</th><th scope=col>&lt;chr&gt;</th><th scope=col>&lt;chr&gt;</th><th scope=col>&lt;chr&gt;</th><th scope=col>&lt;chr&gt;</th><th scope=col>&lt;chr&gt;</th></tr>\n",
       "</thead>\n",
       "<tbody>\n",
       "\t<tr><th scope=row>GBC_001_LI</th><td>237090</td><td>  NA</td><td> 6.0</td><td>dead</td><td>GBC1</td><td>GBC_001_LI</td><td>Liver invasion</td><td>M</td><td>67</td><td>T4NxM1 </td><td>⋯</td><td>T4 </td><td>Nx</td><td>M1</td><td>No </td><td>Yes</td><td>Yes</td><td>No</td><td>Yes</td><td>Yes</td><td> neck        </td></tr>\n",
       "\t<tr><th scope=row>GBC_002_P</th><td>365687</td><td>11.8</td><td>41.5</td><td>live</td><td>GBC2</td><td>GBC_002_P </td><td>Primary       </td><td>F</td><td>85</td><td>T2bN0M0</td><td>⋯</td><td>T2b</td><td>N0</td><td>M0</td><td>No </td><td>No </td><td>No </td><td>No</td><td>No </td><td>No </td><td> fundus      </td></tr>\n",
       "\t<tr><th scope=row>GBC_003_P</th><td>365672</td><td>  NA</td><td> 5.0</td><td>dead</td><td>GBC3</td><td>GBC_003_P </td><td>Primary       </td><td>F</td><td>71</td><td>T4NxM0 </td><td>⋯</td><td>T4 </td><td>Nx</td><td>M0</td><td>No </td><td>Yes</td><td>Yes</td><td>No</td><td>Yes</td><td>No </td><td> fundus      </td></tr>\n",
       "\t<tr><th scope=row>GBC_004_P</th><td>237543</td><td>11.6</td><td>41.1</td><td>live</td><td>GBC4</td><td>GBC_004_P </td><td>Primary       </td><td>M</td><td>71</td><td>T3N1M1 </td><td>⋯</td><td>T3 </td><td>N1</td><td>M1</td><td>Yes</td><td>Yes</td><td>Yes</td><td>No</td><td>No </td><td>No </td><td>  fundus-body</td></tr>\n",
       "\t<tr><th scope=row>GBC_005_P</th><td>237456</td><td> 1.6</td><td> 3.5</td><td>dead</td><td>GBC5</td><td>GBC_005_P </td><td>Primary       </td><td>M</td><td>68</td><td>T4NxM0 </td><td>⋯</td><td>T4 </td><td>Nx</td><td>M0</td><td>No </td><td>Yes</td><td>Yes</td><td>No</td><td>No </td><td>No </td><td>  fundus-body</td></tr>\n",
       "\t<tr><th scope=row>GBC_006_P</th><td>365681</td><td>  NA</td><td> 8.4</td><td>dead</td><td>GBC6</td><td>GBC_006_P </td><td>Primary       </td><td>M</td><td>59</td><td>T4N1M0 </td><td>⋯</td><td>T4 </td><td>N1</td><td>M0</td><td>No </td><td>Yes</td><td>Yes</td><td>No</td><td>Yes</td><td>No </td><td>body-neck    </td></tr>\n",
       "</tbody>\n",
       "</table>\n"
      ],
      "text/latex": [
       "A data.frame: 6 × 28\n",
       "\\begin{tabular}{r|lllllllllllllllllllll}\n",
       "  & patient\\_index & DFS\\_month & OS\\_month & event & Sample.ID & NewSample.ID & Tumors.for.scRNA.seq & Sex & Age & TNM & ⋯ & T.stage & N.stage & M.stage & Liver.metastasis & liver.invasion & Lymph.node.metastasis & Peritoneal..metastasis & Bile.duct.invasion & Vascular.invasion & Tumor.location.in.GB\\\\\n",
       "  & <int> & <dbl> & <dbl> & <chr> & <chr> & <chr> & <chr> & <chr> & <int> & <chr> & ⋯ & <chr> & <chr> & <chr> & <chr> & <chr> & <chr> & <chr> & <chr> & <chr> & <chr>\\\\\n",
       "\\hline\n",
       "\tGBC\\_001\\_LI & 237090 &   NA &  6.0 & dead & GBC1 & GBC\\_001\\_LI & Liver invasion & M & 67 & T4NxM1  & ⋯ & T4  & Nx & M1 & No  & Yes & Yes & No & Yes & Yes &  neck        \\\\\n",
       "\tGBC\\_002\\_P & 365687 & 11.8 & 41.5 & live & GBC2 & GBC\\_002\\_P  & Primary        & F & 85 & T2bN0M0 & ⋯ & T2b & N0 & M0 & No  & No  & No  & No & No  & No  &  fundus      \\\\\n",
       "\tGBC\\_003\\_P & 365672 &   NA &  5.0 & dead & GBC3 & GBC\\_003\\_P  & Primary        & F & 71 & T4NxM0  & ⋯ & T4  & Nx & M0 & No  & Yes & Yes & No & Yes & No  &  fundus      \\\\\n",
       "\tGBC\\_004\\_P & 237543 & 11.6 & 41.1 & live & GBC4 & GBC\\_004\\_P  & Primary        & M & 71 & T3N1M1  & ⋯ & T3  & N1 & M1 & Yes & Yes & Yes & No & No  & No  &   fundus-body\\\\\n",
       "\tGBC\\_005\\_P & 237456 &  1.6 &  3.5 & dead & GBC5 & GBC\\_005\\_P  & Primary        & M & 68 & T4NxM0  & ⋯ & T4  & Nx & M0 & No  & Yes & Yes & No & No  & No  &   fundus-body\\\\\n",
       "\tGBC\\_006\\_P & 365681 &   NA &  8.4 & dead & GBC6 & GBC\\_006\\_P  & Primary        & M & 59 & T4N1M0  & ⋯ & T4  & N1 & M0 & No  & Yes & Yes & No & Yes & No  & body-neck    \\\\\n",
       "\\end{tabular}\n"
      ],
      "text/markdown": [
       "\n",
       "A data.frame: 6 × 28\n",
       "\n",
       "| <!--/--> | patient_index &lt;int&gt; | DFS_month &lt;dbl&gt; | OS_month &lt;dbl&gt; | event &lt;chr&gt; | Sample.ID &lt;chr&gt; | NewSample.ID &lt;chr&gt; | Tumors.for.scRNA.seq &lt;chr&gt; | Sex &lt;chr&gt; | Age &lt;int&gt; | TNM &lt;chr&gt; | ⋯ ⋯ | T.stage &lt;chr&gt; | N.stage &lt;chr&gt; | M.stage &lt;chr&gt; | Liver.metastasis &lt;chr&gt; | liver.invasion &lt;chr&gt; | Lymph.node.metastasis &lt;chr&gt; | Peritoneal..metastasis &lt;chr&gt; | Bile.duct.invasion &lt;chr&gt; | Vascular.invasion &lt;chr&gt; | Tumor.location.in.GB &lt;chr&gt; |\n",
       "|---|---|---|---|---|---|---|---|---|---|---|---|---|---|---|---|---|---|---|---|---|---|\n",
       "| GBC_001_LI | 237090 |   NA |  6.0 | dead | GBC1 | GBC_001_LI | Liver invasion | M | 67 | T4NxM1  | ⋯ | T4  | Nx | M1 | No  | Yes | Yes | No | Yes | Yes |  neck         |\n",
       "| GBC_002_P | 365687 | 11.8 | 41.5 | live | GBC2 | GBC_002_P  | Primary        | F | 85 | T2bN0M0 | ⋯ | T2b | N0 | M0 | No  | No  | No  | No | No  | No  |  fundus       |\n",
       "| GBC_003_P | 365672 |   NA |  5.0 | dead | GBC3 | GBC_003_P  | Primary        | F | 71 | T4NxM0  | ⋯ | T4  | Nx | M0 | No  | Yes | Yes | No | Yes | No  |  fundus       |\n",
       "| GBC_004_P | 237543 | 11.6 | 41.1 | live | GBC4 | GBC_004_P  | Primary        | M | 71 | T3N1M1  | ⋯ | T3  | N1 | M1 | Yes | Yes | Yes | No | No  | No  |   fundus-body |\n",
       "| GBC_005_P | 237456 |  1.6 |  3.5 | dead | GBC5 | GBC_005_P  | Primary        | M | 68 | T4NxM0  | ⋯ | T4  | Nx | M0 | No  | Yes | Yes | No | No  | No  |   fundus-body |\n",
       "| GBC_006_P | 365681 |   NA |  8.4 | dead | GBC6 | GBC_006_P  | Primary        | M | 59 | T4N1M0  | ⋯ | T4  | N1 | M0 | No  | Yes | Yes | No | Yes | No  | body-neck     |\n",
       "\n"
      ],
      "text/plain": [
       "           patient_index DFS_month OS_month event Sample.ID NewSample.ID\n",
       "GBC_001_LI 237090          NA       6.0     dead  GBC1      GBC_001_LI  \n",
       "GBC_002_P  365687        11.8      41.5     live  GBC2      GBC_002_P   \n",
       "GBC_003_P  365672          NA       5.0     dead  GBC3      GBC_003_P   \n",
       "GBC_004_P  237543        11.6      41.1     live  GBC4      GBC_004_P   \n",
       "GBC_005_P  237456         1.6       3.5     dead  GBC5      GBC_005_P   \n",
       "GBC_006_P  365681          NA       8.4     dead  GBC6      GBC_006_P   \n",
       "           Tumors.for.scRNA.seq Sex Age TNM     ⋯ T.stage N.stage M.stage\n",
       "GBC_001_LI Liver invasion       M   67  T4NxM1  ⋯ T4      Nx      M1     \n",
       "GBC_002_P  Primary              F   85  T2bN0M0 ⋯ T2b     N0      M0     \n",
       "GBC_003_P  Primary              F   71  T4NxM0  ⋯ T4      Nx      M0     \n",
       "GBC_004_P  Primary              M   71  T3N1M1  ⋯ T3      N1      M1     \n",
       "GBC_005_P  Primary              M   68  T4NxM0  ⋯ T4      Nx      M0     \n",
       "GBC_006_P  Primary              M   59  T4N1M0  ⋯ T4      N1      M0     \n",
       "           Liver.metastasis liver.invasion Lymph.node.metastasis\n",
       "GBC_001_LI No               Yes            Yes                  \n",
       "GBC_002_P  No               No             No                   \n",
       "GBC_003_P  No               Yes            Yes                  \n",
       "GBC_004_P  Yes              Yes            Yes                  \n",
       "GBC_005_P  No               Yes            Yes                  \n",
       "GBC_006_P  No               Yes            Yes                  \n",
       "           Peritoneal..metastasis Bile.duct.invasion Vascular.invasion\n",
       "GBC_001_LI No                     Yes                Yes              \n",
       "GBC_002_P  No                     No                 No               \n",
       "GBC_003_P  No                     Yes                No               \n",
       "GBC_004_P  No                     No                 No               \n",
       "GBC_005_P  No                     No                 No               \n",
       "GBC_006_P  No                     Yes                No               \n",
       "           Tumor.location.in.GB\n",
       "GBC_001_LI  neck               \n",
       "GBC_002_P   fundus             \n",
       "GBC_003_P   fundus             \n",
       "GBC_004_P    fundus-body       \n",
       "GBC_005_P    fundus-body       \n",
       "GBC_006_P  body-neck           "
      ]
     },
     "metadata": {},
     "output_type": "display_data"
    }
   ],
   "source": [
    "survival_info = read.csv(\"/home/wyh/scdata/patient_info/survival/survival_0916.csv\",row.names = 1)\n",
    "rownames(survival_info) = survival_info$NewSample.ID\n",
    "head(survival_info)"
   ]
  },
  {
   "cell_type": "code",
   "execution_count": 5,
   "id": "8290950f-db02-4744-b095-21f592cb9159",
   "metadata": {},
   "outputs": [],
   "source": [
    "sample_score = read.csv(\"/home/wyh/scdata/combined_data/Epithelial/submit/figure_data/heatmap_GM_score.csv\",row.names = 1)\n",
    "sample_score$NewSample.ID = rownames(sample_score)\n",
    "sample_score = merge(sample_score,patient_info)\n",
    "rownames(sample_score) = sample_score$NewSample.ID"
   ]
  },
  {
   "cell_type": "code",
   "execution_count": 6,
   "id": "976eab80-c60c-4e23-9133-0beb2774aaa7",
   "metadata": {},
   "outputs": [],
   "source": [
    "fibroblast_ratio = sample_score\n",
    "fibroblast_ratio = fibroblast_ratio[fibroblast_ratio$Tumors.for.scRNA.seq.short==\"P\",]\n",
    "fibroblast_ratio = fibroblast_ratio[fibroblast_ratio$histological.type.short %in% \"adeno\",]\n",
    "\n",
    "common_patient = intersect(rownames(fibroblast_ratio),rownames(survival_info))\n",
    "fibroblast_ratio = left_join(fibroblast_ratio[common_patient,],survival_info[common_patient,],by = \"NewSample.ID\")\n",
    "fibroblast_ratio$event01 = ifelse(fibroblast_ratio$event==\"dead\",1,0)"
   ]
  },
  {
   "cell_type": "code",
   "execution_count": 7,
   "id": "da632f60-e2a5-418b-a79f-c6373b84eda1",
   "metadata": {},
   "outputs": [],
   "source": [
    "itype = \"score_GM16\"\n",
    "fibroblast_ratio[paste0(\"Score\")] = ifelse(fibroblast_ratio[itype] > median(fibroblast_ratio[,itype]),'High','Low')"
   ]
  },
  {
   "cell_type": "code",
   "execution_count": 8,
   "id": "4c63da47-3cb9-4e79-82ed-1f9e8007b610",
   "metadata": {},
   "outputs": [
    {
     "data": {
      "text/html": [
       "<table class=\"dataframe\">\n",
       "<caption>A data.frame: 6 × 86</caption>\n",
       "<thead>\n",
       "\t<tr><th></th><th scope=col>NewSample.ID</th><th scope=col>score_GM1</th><th scope=col>score_GM2</th><th scope=col>score_GM3</th><th scope=col>score_GM4</th><th scope=col>score_GM5</th><th scope=col>score_GM6</th><th scope=col>score_GM7</th><th scope=col>score_GM8</th><th scope=col>score_GM9</th><th scope=col>⋯</th><th scope=col>M.stage.y</th><th scope=col>Liver.metastasis.y</th><th scope=col>liver.invasion.y</th><th scope=col>Lymph.node.metastasis.y</th><th scope=col>Peritoneal..metastasis.y</th><th scope=col>Bile.duct.invasion.y</th><th scope=col>Vascular.invasion.y</th><th scope=col>Tumor.location.in.GB.y</th><th scope=col>event01</th><th scope=col>Score</th></tr>\n",
       "\t<tr><th></th><th scope=col>&lt;chr&gt;</th><th scope=col>&lt;dbl&gt;</th><th scope=col>&lt;dbl&gt;</th><th scope=col>&lt;dbl&gt;</th><th scope=col>&lt;dbl&gt;</th><th scope=col>&lt;dbl&gt;</th><th scope=col>&lt;dbl&gt;</th><th scope=col>&lt;dbl&gt;</th><th scope=col>&lt;dbl&gt;</th><th scope=col>&lt;dbl&gt;</th><th scope=col>⋯</th><th scope=col>&lt;chr&gt;</th><th scope=col>&lt;chr&gt;</th><th scope=col>&lt;chr&gt;</th><th scope=col>&lt;chr&gt;</th><th scope=col>&lt;chr&gt;</th><th scope=col>&lt;chr&gt;</th><th scope=col>&lt;chr&gt;</th><th scope=col>&lt;chr&gt;</th><th scope=col>&lt;dbl&gt;</th><th scope=col>&lt;chr[,1]&gt;</th></tr>\n",
       "</thead>\n",
       "<tbody>\n",
       "\t<tr><th scope=row>1</th><td>GBC_002_P</td><td>0.4439930</td><td>0.210052092</td><td>0.2377961</td><td>0.08053711</td><td>0.22593249</td><td>0.48503227</td><td>0.79554873</td><td>0.5270190</td><td>0.08546349</td><td>⋯</td><td>M0</td><td>No </td><td>No </td><td>No </td><td>No</td><td>No </td><td>No </td><td> fundus      </td><td>0</td><td>Low </td></tr>\n",
       "\t<tr><th scope=row>2</th><td>GBC_003_P</td><td>0.6760357</td><td>0.097150269</td><td>0.2419711</td><td>0.05181380</td><td>0.48768321</td><td>0.15277906</td><td>0.17441111</td><td>0.3700062</td><td>0.14024670</td><td>⋯</td><td>M0</td><td>No </td><td>Yes</td><td>Yes</td><td>No</td><td>Yes</td><td>No </td><td> fundus      </td><td>1</td><td>High</td></tr>\n",
       "\t<tr><th scope=row>3</th><td>GBC_004_P</td><td>0.4036836</td><td>0.107992654</td><td>0.3348663</td><td>0.05915191</td><td>0.08019213</td><td>1.00000000</td><td>0.57617234</td><td>0.7466978</td><td>0.02737944</td><td>⋯</td><td>M1</td><td>Yes</td><td>Yes</td><td>Yes</td><td>No</td><td>No </td><td>No </td><td>  fundus-body</td><td>0</td><td>High</td></tr>\n",
       "\t<tr><th scope=row>4</th><td>GBC_006_P</td><td>0.3243144</td><td>0.006899182</td><td>0.2248905</td><td>0.04293514</td><td>1.00000000</td><td>0.10337745</td><td>0.08945371</td><td>0.1228056</td><td>0.12853181</td><td>⋯</td><td>M0</td><td>No </td><td>Yes</td><td>Yes</td><td>No</td><td>Yes</td><td>No </td><td>body-neck    </td><td>1</td><td>Low </td></tr>\n",
       "\t<tr><th scope=row>5</th><td>GBC_007_P</td><td>0.3676903</td><td>0.057225855</td><td>0.2275088</td><td>0.05816165</td><td>0.22771026</td><td>0.06541694</td><td>0.08736492</td><td>0.7390488</td><td>0.13685506</td><td>⋯</td><td>M1</td><td>No </td><td>Yes</td><td>Yes</td><td>No</td><td>Yes</td><td>Yes</td><td> neck        </td><td>1</td><td>High</td></tr>\n",
       "\t<tr><th scope=row>6</th><td>GBC_008_P</td><td>0.3146821</td><td>0.045908909</td><td>0.5531317</td><td>0.04295366</td><td>0.18622124</td><td>0.40949197</td><td>0.81299201</td><td>0.7570519</td><td>0.02577466</td><td>⋯</td><td>M0</td><td>No </td><td>No </td><td>No </td><td>No</td><td>No </td><td>No </td><td> body        </td><td>0</td><td>High</td></tr>\n",
       "</tbody>\n",
       "</table>\n"
      ],
      "text/latex": [
       "A data.frame: 6 × 86\n",
       "\\begin{tabular}{r|lllllllllllllllllllll}\n",
       "  & NewSample.ID & score\\_GM1 & score\\_GM2 & score\\_GM3 & score\\_GM4 & score\\_GM5 & score\\_GM6 & score\\_GM7 & score\\_GM8 & score\\_GM9 & ⋯ & M.stage.y & Liver.metastasis.y & liver.invasion.y & Lymph.node.metastasis.y & Peritoneal..metastasis.y & Bile.duct.invasion.y & Vascular.invasion.y & Tumor.location.in.GB.y & event01 & Score\\\\\n",
       "  & <chr> & <dbl> & <dbl> & <dbl> & <dbl> & <dbl> & <dbl> & <dbl> & <dbl> & <dbl> & ⋯ & <chr> & <chr> & <chr> & <chr> & <chr> & <chr> & <chr> & <chr> & <dbl> & <chr{[},1{]}>\\\\\n",
       "\\hline\n",
       "\t1 & GBC\\_002\\_P & 0.4439930 & 0.210052092 & 0.2377961 & 0.08053711 & 0.22593249 & 0.48503227 & 0.79554873 & 0.5270190 & 0.08546349 & ⋯ & M0 & No  & No  & No  & No & No  & No  &  fundus       & 0 & Low \\\\\n",
       "\t2 & GBC\\_003\\_P & 0.6760357 & 0.097150269 & 0.2419711 & 0.05181380 & 0.48768321 & 0.15277906 & 0.17441111 & 0.3700062 & 0.14024670 & ⋯ & M0 & No  & Yes & Yes & No & Yes & No  &  fundus       & 1 & High\\\\\n",
       "\t3 & GBC\\_004\\_P & 0.4036836 & 0.107992654 & 0.3348663 & 0.05915191 & 0.08019213 & 1.00000000 & 0.57617234 & 0.7466978 & 0.02737944 & ⋯ & M1 & Yes & Yes & Yes & No & No  & No  &   fundus-body & 0 & High\\\\\n",
       "\t4 & GBC\\_006\\_P & 0.3243144 & 0.006899182 & 0.2248905 & 0.04293514 & 1.00000000 & 0.10337745 & 0.08945371 & 0.1228056 & 0.12853181 & ⋯ & M0 & No  & Yes & Yes & No & Yes & No  & body-neck     & 1 & Low \\\\\n",
       "\t5 & GBC\\_007\\_P & 0.3676903 & 0.057225855 & 0.2275088 & 0.05816165 & 0.22771026 & 0.06541694 & 0.08736492 & 0.7390488 & 0.13685506 & ⋯ & M1 & No  & Yes & Yes & No & Yes & Yes &  neck         & 1 & High\\\\\n",
       "\t6 & GBC\\_008\\_P & 0.3146821 & 0.045908909 & 0.5531317 & 0.04295366 & 0.18622124 & 0.40949197 & 0.81299201 & 0.7570519 & 0.02577466 & ⋯ & M0 & No  & No  & No  & No & No  & No  &  body         & 0 & High\\\\\n",
       "\\end{tabular}\n"
      ],
      "text/markdown": [
       "\n",
       "A data.frame: 6 × 86\n",
       "\n",
       "| <!--/--> | NewSample.ID &lt;chr&gt; | score_GM1 &lt;dbl&gt; | score_GM2 &lt;dbl&gt; | score_GM3 &lt;dbl&gt; | score_GM4 &lt;dbl&gt; | score_GM5 &lt;dbl&gt; | score_GM6 &lt;dbl&gt; | score_GM7 &lt;dbl&gt; | score_GM8 &lt;dbl&gt; | score_GM9 &lt;dbl&gt; | ⋯ ⋯ | M.stage.y &lt;chr&gt; | Liver.metastasis.y &lt;chr&gt; | liver.invasion.y &lt;chr&gt; | Lymph.node.metastasis.y &lt;chr&gt; | Peritoneal..metastasis.y &lt;chr&gt; | Bile.duct.invasion.y &lt;chr&gt; | Vascular.invasion.y &lt;chr&gt; | Tumor.location.in.GB.y &lt;chr&gt; | event01 &lt;dbl&gt; | Score &lt;chr[,1]&gt; |\n",
       "|---|---|---|---|---|---|---|---|---|---|---|---|---|---|---|---|---|---|---|---|---|---|\n",
       "| 1 | GBC_002_P | 0.4439930 | 0.210052092 | 0.2377961 | 0.08053711 | 0.22593249 | 0.48503227 | 0.79554873 | 0.5270190 | 0.08546349 | ⋯ | M0 | No  | No  | No  | No | No  | No  |  fundus       | 0 | Low  |\n",
       "| 2 | GBC_003_P | 0.6760357 | 0.097150269 | 0.2419711 | 0.05181380 | 0.48768321 | 0.15277906 | 0.17441111 | 0.3700062 | 0.14024670 | ⋯ | M0 | No  | Yes | Yes | No | Yes | No  |  fundus       | 1 | High |\n",
       "| 3 | GBC_004_P | 0.4036836 | 0.107992654 | 0.3348663 | 0.05915191 | 0.08019213 | 1.00000000 | 0.57617234 | 0.7466978 | 0.02737944 | ⋯ | M1 | Yes | Yes | Yes | No | No  | No  |   fundus-body | 0 | High |\n",
       "| 4 | GBC_006_P | 0.3243144 | 0.006899182 | 0.2248905 | 0.04293514 | 1.00000000 | 0.10337745 | 0.08945371 | 0.1228056 | 0.12853181 | ⋯ | M0 | No  | Yes | Yes | No | Yes | No  | body-neck     | 1 | Low  |\n",
       "| 5 | GBC_007_P | 0.3676903 | 0.057225855 | 0.2275088 | 0.05816165 | 0.22771026 | 0.06541694 | 0.08736492 | 0.7390488 | 0.13685506 | ⋯ | M1 | No  | Yes | Yes | No | Yes | Yes |  neck         | 1 | High |\n",
       "| 6 | GBC_008_P | 0.3146821 | 0.045908909 | 0.5531317 | 0.04295366 | 0.18622124 | 0.40949197 | 0.81299201 | 0.7570519 | 0.02577466 | ⋯ | M0 | No  | No  | No  | No | No  | No  |  body         | 0 | High |\n",
       "\n"
      ],
      "text/plain": [
       "  NewSample.ID score_GM1 score_GM2   score_GM3 score_GM4  score_GM5  score_GM6 \n",
       "1 GBC_002_P    0.4439930 0.210052092 0.2377961 0.08053711 0.22593249 0.48503227\n",
       "2 GBC_003_P    0.6760357 0.097150269 0.2419711 0.05181380 0.48768321 0.15277906\n",
       "3 GBC_004_P    0.4036836 0.107992654 0.3348663 0.05915191 0.08019213 1.00000000\n",
       "4 GBC_006_P    0.3243144 0.006899182 0.2248905 0.04293514 1.00000000 0.10337745\n",
       "5 GBC_007_P    0.3676903 0.057225855 0.2275088 0.05816165 0.22771026 0.06541694\n",
       "6 GBC_008_P    0.3146821 0.045908909 0.5531317 0.04295366 0.18622124 0.40949197\n",
       "  score_GM7  score_GM8 score_GM9  ⋯ M.stage.y Liver.metastasis.y\n",
       "1 0.79554873 0.5270190 0.08546349 ⋯ M0        No                \n",
       "2 0.17441111 0.3700062 0.14024670 ⋯ M0        No                \n",
       "3 0.57617234 0.7466978 0.02737944 ⋯ M1        Yes               \n",
       "4 0.08945371 0.1228056 0.12853181 ⋯ M0        No                \n",
       "5 0.08736492 0.7390488 0.13685506 ⋯ M1        No                \n",
       "6 0.81299201 0.7570519 0.02577466 ⋯ M0        No                \n",
       "  liver.invasion.y Lymph.node.metastasis.y Peritoneal..metastasis.y\n",
       "1 No               No                      No                      \n",
       "2 Yes              Yes                     No                      \n",
       "3 Yes              Yes                     No                      \n",
       "4 Yes              Yes                     No                      \n",
       "5 Yes              Yes                     No                      \n",
       "6 No               No                      No                      \n",
       "  Bile.duct.invasion.y Vascular.invasion.y Tumor.location.in.GB.y event01 Score\n",
       "1 No                   No                   fundus                0       Low  \n",
       "2 Yes                  No                   fundus                1       High \n",
       "3 No                   No                    fundus-body          0       High \n",
       "4 Yes                  No                  body-neck              1       Low  \n",
       "5 Yes                  Yes                  neck                  1       High \n",
       "6 No                   No                   body                  0       High "
      ]
     },
     "metadata": {},
     "output_type": "display_data"
    }
   ],
   "source": [
    "head(fibroblast_ratio)"
   ]
  },
  {
   "cell_type": "code",
   "execution_count": 9,
   "id": "f49a364f-f09f-466d-ad6a-478b0235915b",
   "metadata": {
    "tags": []
   },
   "outputs": [],
   "source": [
    "fit<-survfit(Surv(OS_month, event01)~Score, data=fibroblast_ratio)\n",
    " "
   ]
  },
  {
   "cell_type": "code",
   "execution_count": null,
   "id": "f9afec24-6299-44cb-87a5-b5f6857d1846",
   "metadata": {},
   "outputs": [],
   "source": [
    "## version 2.5"
   ]
  },
  {
   "cell_type": "code",
   "execution_count": 16,
   "id": "0042a0ef-7252-467f-9335-ce3e2cd4e193",
   "metadata": {},
   "outputs": [
    {
     "data": {
      "image/png": "[encoded data removed]",
      "text/plain": [
       "plot without title"
      ]
     },
     "metadata": {
      "image/png": {
       "height": 420,
       "width": 420
      }
     },
     "output_type": "display_data"
    }
   ],
   "source": [
    "p = ggsurvplot(\n",
    "    fit,                     # survfit object with calculated statistics.\n",
    "    data = fibroblast_ratio, # data used to fit survival curves.\n",
    "    risk.table = TRUE,       # show risk table.\n",
    "    pval = TRUE,             # show p-value of log-rank test.\n",
    "    #conf.int = TRUE,         # show confidence intervals for\n",
    "    palette = \"npg\",\n",
    "    xlab = \"Time in months\",   # customize X axis label.\n",
    "    #ggtheme = theme_bw(),\n",
    "    #conf.int.style = \"step\",  # customize style of confidence intervals  \"ribbon\" 'step'\n",
    "    #surv.median.line = \"hv\",  # add the median survival pointer.\n",
    "    # legend.labs = c(\"TP1\", \"TP2\",\"TP3\",\"TP4\",\"TP5\")    # change legend labels.\n",
    "    #tables.y.text = T,\n",
    "    risk.table.pos = \"in\",\n",
    "    risk.table.col = \"strata\",\n",
    "    fontsize = 4,\n",
    "    pval.size = 4,\n",
    "    #surv.plot.height = 0.8,\n",
    "    #tables.height = 0.5,\n",
    "    pval.coord = c(9, 0.9),\n",
    "    legend = \"top\",\n",
    "    title = \"GM16\"\n",
    "  )\n",
    "p"
   ]
  },
  {
   "cell_type": "code",
   "execution_count": 20,
   "id": "7c63de66-f2d2-4e04-83e8-4c28c4481823",
   "metadata": {},
   "outputs": [
    {
     "data": {
      "text/html": [
       "<strong>png:</strong> 2"
      ],
      "text/latex": [
       "\\textbf{png:} 2"
      ],
      "text/markdown": [
       "**png:** 2"
      ],
      "text/plain": [
       "png \n",
       "  2 "
      ]
     },
     "metadata": {},
     "output_type": "display_data"
    }
   ],
   "source": [
    "pdf(file = \"../submit/figure/OS_survivalV5.pdf\",width =6, height = 6, onefile = F)\n",
    "print(p)\n",
    "dev.off()"
   ]
  },
  {
   "cell_type": "markdown",
   "id": "06666a3c-0cdb-454d-8269-bd5231ee76ca",
   "metadata": {},
   "source": [
    "# figure: heterogeneity of patient"
   ]
  },
  {
   "cell_type": "code",
   "execution_count": 1,
   "id": "63e6fac4-2b16-4c78-8582-5b5def965756",
   "metadata": {},
   "outputs": [
    {
     "name": "stderr",
     "output_type": "stream",
     "text": [
      "Registered S3 method overwritten by 'SeuratDisk':\n",
      "  method            from  \n",
      "  as.sparse.H5Group Seurat\n",
      "\n",
      "\n",
      "Attaching package: ‘dplyr’\n",
      "\n",
      "\n",
      "The following objects are masked from ‘package:stats’:\n",
      "\n",
      "    filter, lag\n",
      "\n",
      "\n",
      "The following objects are masked from ‘package:base’:\n",
      "\n",
      "    intersect, setdiff, setequal, union\n",
      "\n",
      "\n",
      "\n",
      "Attaching package: ‘sfsmisc’\n",
      "\n",
      "\n",
      "The following object is masked from ‘package:dplyr’:\n",
      "\n",
      "    last\n",
      "\n",
      "\n"
     ]
    }
   ],
   "source": [
    "library(SeuratDisk)\n",
    "library(dplyr)\n",
    "library(\"sfsmisc\")"
   ]
  },
  {
   "cell_type": "code",
   "execution_count": 2,
   "id": "1840dd39-ce79-40c0-aa0e-4f29f0565ed7",
   "metadata": {},
   "outputs": [],
   "source": [
    "sample_score = read.csv(\"/home/wyh/scdata/combined_data/Epithelial/submit/figure_data/heatmap_GM_score.csv\",row.names = 1)\n",
    "sample_score = sample_score[,1:23]\n",
    "diversity_score = read.csv(\"/home/wyh/scdata/combined_data/Epithelial/group_compare/adeno_p/diversity/diversity_score_PC30.csv\",row.names = 1)\n",
    "sample_score['diversity'] = diversity_score[rownames(sample_score),]\n",
    "sample_score = sample_score[rownames(sample_score)[which(sample_score['diversity']!=max(sample_score['diversity']))],]\n",
    "\n",
    "pdf(\"./submit/figure/GM16_diversity.pdf\",height = 4,width = 4)\n",
    "ggplot(sample_score, aes(score_GM16, diversity))+\n",
    "        geom_point(size=1,shape=1)+\n",
    "        geom_smooth(method = \"rlm\")+stat_cor( method = \"spearman\")+ylab(\"diversity\")+xlab(\"score_GM16\")+ggtitle(\"GM16\")+theme_classic()\n",
    "dev.off()"
   ]
  },
  {
   "cell_type": "markdown",
   "id": "50c1367b-fa3c-4097-98a3-4c4817dca6ef",
   "metadata": {},
   "source": [
    "# figure: the robustness of the selection of K"
   ]
  },
  {
   "cell_type": "code",
   "execution_count": 24,
   "id": "30ed5e8a-ef56-43e8-bd50-14d8b9f16dbd",
   "metadata": {},
   "outputs": [],
   "source": [
    "gene_list_23genes = read.csv(\"/home/wyh/scdata/combined_data/Epithelial/NMFV2/top_genes_23.csv\",row.names = 1)\n",
    "gene_list_26genes = read.csv(\"/home/wyh/scdata/combined_data/Epithelial/NMFV2/top_genes_26.csv\",row.names = 1)\n",
    "gene_list_32genes = read.csv(\"/home/wyh/scdata/combined_data/Epithelial/NMFV2/top_genes_32.csv\",row.names = 1)\n",
    "gene_list_36genes = read.csv(\"/home/wyh/scdata/combined_data/Epithelial/NMFV2/top_genes_36.csv\",row.names = 1)"
   ]
  },
  {
   "cell_type": "code",
   "execution_count": 28,
   "id": "3dee6dec-7b6b-4ccb-b65e-27e78371f1c0",
   "metadata": {},
   "outputs": [],
   "source": [
    "GM16_intersect_max = c()\n",
    "for(K in c(20:49)){\n",
    "    intersect_num = c()\n",
    "#    union_num = c()\n",
    "    gene_list = read.csv(paste0(\"/home/wyh/scdata/combined_data/Epithelial/NMFV2/robustness_analysis/top_genes_GM\",K,\".csv\"),row.names = 1)\n",
    "    for(i in 1:ncol(gene_list)){\n",
    "        intersect_num = c(intersect_num,length(intersect(gene_list_23genes[,16],gene_list[,i])))\n",
    "#        union_num = c(union_num,length(union(gene_list_23genes[,16],gene_list[,i])))\n",
    "    }\n",
    "    GM16_intersect_max = c(GM16_intersect_max,max(intersect_num))\n",
    "}\n"
   ]
  },
  {
   "cell_type": "code",
   "execution_count": 29,
   "id": "f45079ee-c650-4df0-bb8c-60dbdd3ffcdb",
   "metadata": {},
   "outputs": [],
   "source": [
    "data_plot = data.frame(K = c(20:49),overlap = GM16_intersect_max/100)"
   ]
  },
  {
   "cell_type": "code",
   "execution_count": 109,
   "id": "4f699a62-bd29-4299-b957-7f469573673f",
   "metadata": {},
   "outputs": [
    {
     "data": {
      "text/html": [
       "<strong>png:</strong> 2"
      ],
      "text/latex": [
       "\\textbf{png:} 2"
      ],
      "text/markdown": [
       "**png:** 2"
      ],
      "text/plain": [
       "png \n",
       "  2 "
      ]
     },
     "metadata": {},
     "output_type": "display_data"
    }
   ],
   "source": [
    "pdf(\"./submit/robustness.pdf\",height = 4,width = 4)\n",
    "ggplot(data_plot,aes(x = K,y = overlap))+geom_point(colour = \"#0000FF\", size = 2)+theme_classic()+\n",
    "geom_line(colour = \"#0000FF\")+geom_vline(aes(xintercept = 23),linetype = \"dashed\")+\n",
    "scale_x_continuous(breaks = seq(20,50,5))+scale_y_continuous(breaks = seq(0,1,0.2),limits = c(0,1))\n",
    "dev.off()"
   ]
  }
 ],
 "metadata": {
  "kernelspec": {
   "display_name": "cnmf_env_R-4.0.3",
   "language": "R",
   "name": "ir403"
  },
  "language_info": {
   "codemirror_mode": "r",
   "file_extension": ".r",
   "mimetype": "text/x-r-source",
   "name": "R",
   "pygments_lexer": "r",
   "version": "4.0.3"
  }
 },
 "nbformat": 4,
 "nbformat_minor": 5
}
