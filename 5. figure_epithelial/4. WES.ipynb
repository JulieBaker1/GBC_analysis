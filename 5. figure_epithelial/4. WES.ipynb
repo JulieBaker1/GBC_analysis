{
 "cells": [
  {
   "cell_type": "code",
   "execution_count": 2,
   "id": "79d9bef0-6964-46a2-b5ec-7ddc8f05a500",
   "metadata": {},
   "outputs": [
    {
     "name": "stderr",
     "output_type": "stream",
     "text": [
      "Attaching SeuratObject\n",
      "\n",
      "Attaching sp\n",
      "\n"
     ]
    }
   ],
   "source": [
    "library(Seurat)\n",
    "library(maftools)\n",
    "options(stringsAsFactors = F)\n",
    "library(ggplot2)\n",
    "library(VariantAnnotation)\n",
    "#setwd('G:/3D2/wes2')\n",
    "setwd('/home/wyh/scdata/WES_V2/')"
   ]
  },
  {
   "cell_type": "markdown",
   "id": "98e737fe-25ac-4d76-99af-1409c5f74c81",
   "metadata": {},
   "source": [
    "# data preparation"
   ]
  },
  {
   "cell_type": "markdown",
   "id": "a5f2d5bd-9c11-40d8-b686-7dde2936648d",
   "metadata": {},
   "source": [
    "## Map the clinical patient name and standardalized name"
   ]
  },
  {
   "cell_type": "code",
   "execution_count": 681,
   "id": "c04d2b8f-e87d-4c41-9d91-89ecf0328663",
   "metadata": {},
   "outputs": [],
   "source": [
    "## rename\n",
    "vcf = read.csv(\"./annovar_merge_20_3_0015_005.vcf\",header = FALSE,sep = \"\\t\")\n",
    "colnames = vcf[1,]\n",
    "vcf = vcf[2:dim(vcf)[1],]\n",
    "colnames[length(colnames)] = \"normal_sample\"\n",
    "colnames(vcf) = c(colnames)\n",
    "sample_name_df = read.csv(\"./file_rename.csv\",row.names = 1)\n",
    "vcf$Tumor_Sample_Barcode = sample_name_df[vcf$Tumor_Sample_Barcode,2]\n",
    "write.table(vcf, file = \"annovar_merge_20_3_0015_005_rename.vcf\", sep = \"\\t\", row.names = FALSE, quote = FALSE)"
   ]
  },
  {
   "cell_type": "code",
   "execution_count": 11,
   "id": "f9238645-855b-4be8-adba-1e33b570b6ab",
   "metadata": {},
   "outputs": [],
   "source": [
    "patient_info = read.csv(\"../patient_info/xzh_220109_final_wyh_220426.csv\",row.names = 1)\n",
    "patient_info$Tumor_Sample_Barcode = rownames(patient_info)"
   ]
  },
  {
   "cell_type": "code",
   "execution_count": 683,
   "id": "a9d1166d-fcbc-482a-b4ca-8924b5f378ab",
   "metadata": {},
   "outputs": [
    {
     "name": "stdout",
     "output_type": "stream",
     "text": [
      "-Reading annovar files\n",
      "-Processing Exonic variants\n",
      "--Adding Variant_Classification\n",
      "--Parsing aa-change\n",
      "-Processing Non-exonic variants\n",
      "--Adding Variant_Classification\n",
      "-Adding Variant_Type\n",
      "Finished in 5.215s elapsed (5.927s cpu) \n"
     ]
    }
   ],
   "source": [
    "## annovar\n",
    "laml <- annovarToMaf(annovar = \"annovar_merge_20_3_0015_005_rename.vcf\", \n",
    "                             refBuild = 'hg38',\n",
    "                             tsbCol = 'Tumor_Sample_Barcode', \n",
    "                             table = 'refGene',\n",
    "                             MAFobj = T,\n",
    "                            sampleAnno = data.table::data.table(patient_info))"
   ]
  },
  {
   "cell_type": "code",
   "execution_count": 684,
   "id": "9a4fd2be-5cf4-481a-bf81-c12506bccf45",
   "metadata": {},
   "outputs": [],
   "source": [
    "variants_number = as.data.frame(laml@variants.per.sample)\n",
    "variants_number[108,] = c(\"GBC_002_P\",0)\n",
    "rownames(variants_number) = variants_number[,1]"
   ]
  },
  {
   "cell_type": "code",
   "execution_count": 685,
   "id": "fe024e9d-2da1-49f1-9c9f-2d8f9112c162",
   "metadata": {},
   "outputs": [],
   "source": [
    "write.csv(variants_number,'./variants_number.csv')"
   ]
  },
  {
   "cell_type": "code",
   "execution_count": 686,
   "id": "848cb92a-2767-4cc3-9dfc-c034d870c7f3",
   "metadata": {},
   "outputs": [
    {
     "data": {
      "text/html": [
       "<style>\n",
       ".list-inline {list-style: none; margin:0; padding: 0}\n",
       ".list-inline>li {display: inline-block}\n",
       ".list-inline>li:not(:last-child)::after {content: \"\\00b7\"; padding: 0 .5ex}\n",
       "</style>\n",
       "<ol class=list-inline><li>GBC_026_P</li><li>GBC_037_P</li><li>GBC_071_LI</li></ol>\n",
       "\n",
       "<details>\n",
       "\t<summary style=display:list-item;cursor:pointer>\n",
       "\t\t<strong>Levels</strong>:\n",
       "\t</summary>\n",
       "\t<style>\n",
       "\t.list-inline {list-style: none; margin:0; padding: 0}\n",
       "\t.list-inline>li {display: inline-block}\n",
       "\t.list-inline>li:not(:last-child)::after {content: \"\\00b7\"; padding: 0 .5ex}\n",
       "\t</style>\n",
       "\t<ol class=list-inline><li>'GBC_002_P'</li><li>'GBC_003_P'</li><li>'GBC_004_P'</li><li>'GBC_005_P'</li><li>'GBC_006_P'</li><li>'GBC_007_P'</li><li>'GBC_008_P'</li><li>'GBC_008_PO'</li><li>'GBC_009_P'</li><li>'GBC_010_LI'</li><li>'GBC_010_P'</li><li>'GBC_011_P'</li><li>'GBC_012_LI'</li><li>'GBC_012_P'</li><li>'GBC_013_P'</li><li>'GBC_014_P'</li><li>'GBC_015_P'</li><li>'GBC_016_P'</li><li>'GBC_017_LI'</li><li>'GBC_017_P'</li><li>'GBC_018_P'</li><li>'GBC_019_P'</li><li>'GBC_020_P'</li><li>'GBC_021_P'</li><li>'GBC_022_P'</li><li>'GBC_023_P'</li><li>'GBC_024_LM'</li><li>'GBC_024_P'</li><li>'GBC_025_LI'</li><li>'GBC_025_P'</li><li>'GBC_026_P'</li><li>'GBC_027_P'</li><li>'GBC_028_OM'</li><li>'GBC_028_P'</li><li>'GBC_029_P'</li><li>'GBC_030_P'</li><li>'GBC_031_P'</li><li>'GBC_032_P'</li><li>'GBC_033_P'</li><li>'GBC_034_P'</li><li>'GBC_035_P'</li><li>'GBC_036_LI'</li><li>'GBC_036_P'</li><li>'GBC_037_P'</li><li>'GBC_038_P'</li><li>'GBC_039_P'</li><li>'GBC_040_LN'</li><li>'GBC_040_P'</li><li>'GBC_041_P'</li><li>'GBC_042_LI'</li><li>'GBC_042_LM'</li><li>'GBC_042_P'</li><li>'GBC_043_P'</li><li>'GBC_044_P'</li><li>'GBC_045_P'</li><li>'GBC_046_LN'</li><li>'GBC_046_P'</li><li>'GBC_047_P'</li><li>'GBC_047_PO'</li><li>'GBC_048_P'</li><li>'GBC_049_P'</li><li>'GBC_050_P'</li><li>'GBC_051_P'</li><li>'GBC_052_P'</li><li>'GBC_055_P'</li><li>'GBC_056_LN'</li><li>'GBC_056_P'</li><li>'GBC_057_P'</li><li>'GBC_058_LI'</li><li>'GBC_058_LN'</li><li>'GBC_058_P'</li><li>'GBC_059_P'</li><li>'GBC_061_P'</li><li>'GBC_062_LN'</li><li>'GBC_063_LN'</li><li>'GBC_063_P'</li><li>'GBC_064_LM'</li><li>'GBC_064_P'</li><li>'GBC_065_P'</li><li>'GBC_066_P'</li><li>'GBC_067_OM'</li><li>'GBC_067_P'</li><li>'GBC_068_P'</li><li>'GBC_069_LI'</li><li>'GBC_069_LM'</li><li>'GBC_069_P'</li><li>'GBC_070_P'</li><li>'GBC_071_LI'</li><li>'GBC_071_LN'</li><li>'GBC_071_P'</li><li>'GBC_072_P'</li><li>'GBC_073_P'</li><li>'GBC_074_LI'</li><li>'GBC_074_LN'</li><li>'GBC_074_P'</li><li>'GBC_075_P'</li><li>'GBC_076_P'</li><li>'GBC_077_LM'</li><li>'GBC_077_P'</li><li>'GBC_078_LN'</li><li>'GBC_078_P'</li><li>'GBC_080_P'</li><li>'GBC_081_P'</li><li>'GBC_082_P'</li><li>'GBC_084_LM'</li><li>'GBC_085_P'</li><li>'GBC_086_P'</li><li>'GBC_087_P'</li></ol>\n",
       "</details>"
      ],
      "text/latex": [
       "\\begin{enumerate*}\n",
       "\\item GBC\\_026\\_P\n",
       "\\item GBC\\_037\\_P\n",
       "\\item GBC\\_071\\_LI\n",
       "\\end{enumerate*}\n",
       "\n",
       "\\emph{Levels}: \\begin{enumerate*}\n",
       "\\item 'GBC\\_002\\_P'\n",
       "\\item 'GBC\\_003\\_P'\n",
       "\\item 'GBC\\_004\\_P'\n",
       "\\item 'GBC\\_005\\_P'\n",
       "\\item 'GBC\\_006\\_P'\n",
       "\\item 'GBC\\_007\\_P'\n",
       "\\item 'GBC\\_008\\_P'\n",
       "\\item 'GBC\\_008\\_PO'\n",
       "\\item 'GBC\\_009\\_P'\n",
       "\\item 'GBC\\_010\\_LI'\n",
       "\\item 'GBC\\_010\\_P'\n",
       "\\item 'GBC\\_011\\_P'\n",
       "\\item 'GBC\\_012\\_LI'\n",
       "\\item 'GBC\\_012\\_P'\n",
       "\\item 'GBC\\_013\\_P'\n",
       "\\item 'GBC\\_014\\_P'\n",
       "\\item 'GBC\\_015\\_P'\n",
       "\\item 'GBC\\_016\\_P'\n",
       "\\item 'GBC\\_017\\_LI'\n",
       "\\item 'GBC\\_017\\_P'\n",
       "\\item 'GBC\\_018\\_P'\n",
       "\\item 'GBC\\_019\\_P'\n",
       "\\item 'GBC\\_020\\_P'\n",
       "\\item 'GBC\\_021\\_P'\n",
       "\\item 'GBC\\_022\\_P'\n",
       "\\item 'GBC\\_023\\_P'\n",
       "\\item 'GBC\\_024\\_LM'\n",
       "\\item 'GBC\\_024\\_P'\n",
       "\\item 'GBC\\_025\\_LI'\n",
       "\\item 'GBC\\_025\\_P'\n",
       "\\item 'GBC\\_026\\_P'\n",
       "\\item 'GBC\\_027\\_P'\n",
       "\\item 'GBC\\_028\\_OM'\n",
       "\\item 'GBC\\_028\\_P'\n",
       "\\item 'GBC\\_029\\_P'\n",
       "\\item 'GBC\\_030\\_P'\n",
       "\\item 'GBC\\_031\\_P'\n",
       "\\item 'GBC\\_032\\_P'\n",
       "\\item 'GBC\\_033\\_P'\n",
       "\\item 'GBC\\_034\\_P'\n",
       "\\item 'GBC\\_035\\_P'\n",
       "\\item 'GBC\\_036\\_LI'\n",
       "\\item 'GBC\\_036\\_P'\n",
       "\\item 'GBC\\_037\\_P'\n",
       "\\item 'GBC\\_038\\_P'\n",
       "\\item 'GBC\\_039\\_P'\n",
       "\\item 'GBC\\_040\\_LN'\n",
       "\\item 'GBC\\_040\\_P'\n",
       "\\item 'GBC\\_041\\_P'\n",
       "\\item 'GBC\\_042\\_LI'\n",
       "\\item 'GBC\\_042\\_LM'\n",
       "\\item 'GBC\\_042\\_P'\n",
       "\\item 'GBC\\_043\\_P'\n",
       "\\item 'GBC\\_044\\_P'\n",
       "\\item 'GBC\\_045\\_P'\n",
       "\\item 'GBC\\_046\\_LN'\n",
       "\\item 'GBC\\_046\\_P'\n",
       "\\item 'GBC\\_047\\_P'\n",
       "\\item 'GBC\\_047\\_PO'\n",
       "\\item 'GBC\\_048\\_P'\n",
       "\\item 'GBC\\_049\\_P'\n",
       "\\item 'GBC\\_050\\_P'\n",
       "\\item 'GBC\\_051\\_P'\n",
       "\\item 'GBC\\_052\\_P'\n",
       "\\item 'GBC\\_055\\_P'\n",
       "\\item 'GBC\\_056\\_LN'\n",
       "\\item 'GBC\\_056\\_P'\n",
       "\\item 'GBC\\_057\\_P'\n",
       "\\item 'GBC\\_058\\_LI'\n",
       "\\item 'GBC\\_058\\_LN'\n",
       "\\item 'GBC\\_058\\_P'\n",
       "\\item 'GBC\\_059\\_P'\n",
       "\\item 'GBC\\_061\\_P'\n",
       "\\item 'GBC\\_062\\_LN'\n",
       "\\item 'GBC\\_063\\_LN'\n",
       "\\item 'GBC\\_063\\_P'\n",
       "\\item 'GBC\\_064\\_LM'\n",
       "\\item 'GBC\\_064\\_P'\n",
       "\\item 'GBC\\_065\\_P'\n",
       "\\item 'GBC\\_066\\_P'\n",
       "\\item 'GBC\\_067\\_OM'\n",
       "\\item 'GBC\\_067\\_P'\n",
       "\\item 'GBC\\_068\\_P'\n",
       "\\item 'GBC\\_069\\_LI'\n",
       "\\item 'GBC\\_069\\_LM'\n",
       "\\item 'GBC\\_069\\_P'\n",
       "\\item 'GBC\\_070\\_P'\n",
       "\\item 'GBC\\_071\\_LI'\n",
       "\\item 'GBC\\_071\\_LN'\n",
       "\\item 'GBC\\_071\\_P'\n",
       "\\item 'GBC\\_072\\_P'\n",
       "\\item 'GBC\\_073\\_P'\n",
       "\\item 'GBC\\_074\\_LI'\n",
       "\\item 'GBC\\_074\\_LN'\n",
       "\\item 'GBC\\_074\\_P'\n",
       "\\item 'GBC\\_075\\_P'\n",
       "\\item 'GBC\\_076\\_P'\n",
       "\\item 'GBC\\_077\\_LM'\n",
       "\\item 'GBC\\_077\\_P'\n",
       "\\item 'GBC\\_078\\_LN'\n",
       "\\item 'GBC\\_078\\_P'\n",
       "\\item 'GBC\\_080\\_P'\n",
       "\\item 'GBC\\_081\\_P'\n",
       "\\item 'GBC\\_082\\_P'\n",
       "\\item 'GBC\\_084\\_LM'\n",
       "\\item 'GBC\\_085\\_P'\n",
       "\\item 'GBC\\_086\\_P'\n",
       "\\item 'GBC\\_087\\_P'\n",
       "\\end{enumerate*}\n"
      ],
      "text/markdown": [
       "1. GBC_026_P\n",
       "2. GBC_037_P\n",
       "3. GBC_071_LI\n",
       "\n",
       "\n",
       "\n",
       "**Levels**: 1. 'GBC_002_P'\n",
       "2. 'GBC_003_P'\n",
       "3. 'GBC_004_P'\n",
       "4. 'GBC_005_P'\n",
       "5. 'GBC_006_P'\n",
       "6. 'GBC_007_P'\n",
       "7. 'GBC_008_P'\n",
       "8. 'GBC_008_PO'\n",
       "9. 'GBC_009_P'\n",
       "10. 'GBC_010_LI'\n",
       "11. 'GBC_010_P'\n",
       "12. 'GBC_011_P'\n",
       "13. 'GBC_012_LI'\n",
       "14. 'GBC_012_P'\n",
       "15. 'GBC_013_P'\n",
       "16. 'GBC_014_P'\n",
       "17. 'GBC_015_P'\n",
       "18. 'GBC_016_P'\n",
       "19. 'GBC_017_LI'\n",
       "20. 'GBC_017_P'\n",
       "21. 'GBC_018_P'\n",
       "22. 'GBC_019_P'\n",
       "23. 'GBC_020_P'\n",
       "24. 'GBC_021_P'\n",
       "25. 'GBC_022_P'\n",
       "26. 'GBC_023_P'\n",
       "27. 'GBC_024_LM'\n",
       "28. 'GBC_024_P'\n",
       "29. 'GBC_025_LI'\n",
       "30. 'GBC_025_P'\n",
       "31. 'GBC_026_P'\n",
       "32. 'GBC_027_P'\n",
       "33. 'GBC_028_OM'\n",
       "34. 'GBC_028_P'\n",
       "35. 'GBC_029_P'\n",
       "36. 'GBC_030_P'\n",
       "37. 'GBC_031_P'\n",
       "38. 'GBC_032_P'\n",
       "39. 'GBC_033_P'\n",
       "40. 'GBC_034_P'\n",
       "41. 'GBC_035_P'\n",
       "42. 'GBC_036_LI'\n",
       "43. 'GBC_036_P'\n",
       "44. 'GBC_037_P'\n",
       "45. 'GBC_038_P'\n",
       "46. 'GBC_039_P'\n",
       "47. 'GBC_040_LN'\n",
       "48. 'GBC_040_P'\n",
       "49. 'GBC_041_P'\n",
       "50. 'GBC_042_LI'\n",
       "51. 'GBC_042_LM'\n",
       "52. 'GBC_042_P'\n",
       "53. 'GBC_043_P'\n",
       "54. 'GBC_044_P'\n",
       "55. 'GBC_045_P'\n",
       "56. 'GBC_046_LN'\n",
       "57. 'GBC_046_P'\n",
       "58. 'GBC_047_P'\n",
       "59. 'GBC_047_PO'\n",
       "60. 'GBC_048_P'\n",
       "61. 'GBC_049_P'\n",
       "62. 'GBC_050_P'\n",
       "63. 'GBC_051_P'\n",
       "64. 'GBC_052_P'\n",
       "65. 'GBC_055_P'\n",
       "66. 'GBC_056_LN'\n",
       "67. 'GBC_056_P'\n",
       "68. 'GBC_057_P'\n",
       "69. 'GBC_058_LI'\n",
       "70. 'GBC_058_LN'\n",
       "71. 'GBC_058_P'\n",
       "72. 'GBC_059_P'\n",
       "73. 'GBC_061_P'\n",
       "74. 'GBC_062_LN'\n",
       "75. 'GBC_063_LN'\n",
       "76. 'GBC_063_P'\n",
       "77. 'GBC_064_LM'\n",
       "78. 'GBC_064_P'\n",
       "79. 'GBC_065_P'\n",
       "80. 'GBC_066_P'\n",
       "81. 'GBC_067_OM'\n",
       "82. 'GBC_067_P'\n",
       "83. 'GBC_068_P'\n",
       "84. 'GBC_069_LI'\n",
       "85. 'GBC_069_LM'\n",
       "86. 'GBC_069_P'\n",
       "87. 'GBC_070_P'\n",
       "88. 'GBC_071_LI'\n",
       "89. 'GBC_071_LN'\n",
       "90. 'GBC_071_P'\n",
       "91. 'GBC_072_P'\n",
       "92. 'GBC_073_P'\n",
       "93. 'GBC_074_LI'\n",
       "94. 'GBC_074_LN'\n",
       "95. 'GBC_074_P'\n",
       "96. 'GBC_075_P'\n",
       "97. 'GBC_076_P'\n",
       "98. 'GBC_077_LM'\n",
       "99. 'GBC_077_P'\n",
       "100. 'GBC_078_LN'\n",
       "101. 'GBC_078_P'\n",
       "102. 'GBC_080_P'\n",
       "103. 'GBC_081_P'\n",
       "104. 'GBC_082_P'\n",
       "105. 'GBC_084_LM'\n",
       "106. 'GBC_085_P'\n",
       "107. 'GBC_086_P'\n",
       "108. 'GBC_087_P'\n",
       "\n",
       "\n"
      ],
      "text/plain": [
       "[1] GBC_026_P  GBC_037_P  GBC_071_LI\n",
       "108 Levels: GBC_002_P GBC_003_P GBC_004_P GBC_005_P GBC_006_P ... GBC_087_P"
      ]
     },
     "metadata": {},
     "output_type": "display_data"
    }
   ],
   "source": [
    "hyper_sample = as.data.frame(laml@variants.per.sample)\n",
    "hyper_sample = hyper_sample[,1][hyper_sample[,2]>1000]\n",
    "hyper_sample"
   ]
  },
  {
   "cell_type": "code",
   "execution_count": 687,
   "id": "ac3fda58-33d6-4133-b058-c564e7257154",
   "metadata": {},
   "outputs": [],
   "source": [
    "laml_filter = subsetMaf(laml,mafObj = TRUE,\n",
    "                 tsb = laml@clinical.data$NewSample.ID[!(laml@clinical.data$NewSample.ID %in% hyper_sample)])"
   ]
  },
  {
   "cell_type": "code",
   "execution_count": 688,
   "id": "cc28fa40-4d64-4db0-b7d0-3b402072ac47",
   "metadata": {},
   "outputs": [
    {
     "data": {
      "text/html": [
       "'GBC_002_P'"
      ],
      "text/latex": [
       "'GBC\\_002\\_P'"
      ],
      "text/markdown": [
       "'GBC_002_P'"
      ],
      "text/plain": [
       "[1] \"GBC_002_P\""
      ]
     },
     "metadata": {},
     "output_type": "display_data"
    }
   ],
   "source": [
    "setdiff(laml@clinical.data$NewSample.ID[!(laml@clinical.data$NewSample.ID %in% hyper_sample)],laml_filter@clinical.data$NewSample.ID)"
   ]
  },
  {
   "cell_type": "code",
   "execution_count": 689,
   "id": "80b37435-5793-42bc-9a21-b5ce0df1abfb",
   "metadata": {},
   "outputs": [],
   "source": [
    "for(i in 1:nrow(laml_filter@data)){\n",
    "    if(strsplit(as.character(laml_filter@data[i,'Otherinfo13']),\":\")[[1]][1] %in% c(\"0|0\",\"0/0\")){\n",
    "        # print(i)\n",
    "        temp = laml_filter@data[i,'Otherinfo13']\n",
    "        laml_filter@data[i,'Otherinfo13'] = laml_filter@data[i,'Otherinfo12']\n",
    "        laml_filter@data[i,'Otherinfo12'] = temp\n",
    "        # print(laml_filter@data[i,'Otherinfo12'])\n",
    "    }\n",
    "}"
   ]
  },
  {
   "cell_type": "code",
   "execution_count": 690,
   "id": "644be54d-7617-4771-a48f-55fcaa2f5c56",
   "metadata": {},
   "outputs": [],
   "source": [
    "for(i in 1:nrow(laml_filter@maf.silent)){\n",
    "    if(strsplit(as.character(laml_filter@maf.silent[i,'Otherinfo13']),\":\")[[1]][1] %in% c(\"0|0\",\"0/0\")){\n",
    "        # print(i)\n",
    "        temp = laml_filter@maf.silent[i,'Otherinfo13']\n",
    "        laml_filter@maf.silent[i,'Otherinfo13'] = laml_filter@maf.silent[i,'Otherinfo12']\n",
    "        laml_filter@maf.silent[i,'Otherinfo12'] = temp\n",
    "        # print(laml_filter@data[i,'Otherinfo12'])\n",
    "    }\n",
    "}"
   ]
  },
  {
   "cell_type": "code",
   "execution_count": 691,
   "id": "86c34f45-4092-4e54-9fbe-1d8bdc4b2bd7",
   "metadata": {},
   "outputs": [],
   "source": [
    "saveRDS(laml_filter,\"laml_filter_20_3_0015_005.RDS\")"
   ]
  },
  {
   "cell_type": "code",
   "execution_count": 692,
   "id": "6b26c004-410d-468e-b223-c76a3212e037",
   "metadata": {},
   "outputs": [],
   "source": [
    "write.csv(rbind(laml_filter@data,laml_filter@maf.silent),\"./pair_sample_wes/pairtree/wes_all.csv\")"
   ]
  },
  {
   "cell_type": "code",
   "execution_count": 1258,
   "id": "ae49cc60-fed8-447a-a002-65dbca44e7c9",
   "metadata": {
    "tags": []
   },
   "outputs": [],
   "source": [
    "wes_info = laml_filter@variant.classification.summary\n",
    "wes_info = as.data.frame(wes_info)\n",
    "rownames(wes_info) = wes_info$Tumor_Sample_Barcode"
   ]
  },
  {
   "cell_type": "code",
   "execution_count": 1259,
   "id": "74d3ad90-2e07-4d2b-8e0f-638002d77283",
   "metadata": {},
   "outputs": [
    {
     "data": {
      "image/png": "[encoded data removed]",
      "text/plain": [
       "Plot with title “Mutation Burden”"
      ]
     },
     "metadata": {
      "image/png": {
       "height": 360,
       "width": 600
      }
     },
     "output_type": "display_data"
    }
   ],
   "source": [
    "variants_number = tmb(maf = laml_filter)\n",
    "variants_number = as.data.frame(variants_number)"
   ]
  },
  {
   "cell_type": "code",
   "execution_count": 1260,
   "id": "c28e6389-9edf-4e5c-8314-a586986b6c27",
   "metadata": {},
   "outputs": [],
   "source": [
    "wes_info$TMB = wes_info$total/50"
   ]
  },
  {
   "cell_type": "code",
   "execution_count": 1265,
   "id": "c0cd19d7-515d-44bf-97cf-9229b1c27638",
   "metadata": {},
   "outputs": [],
   "source": [
    "wes_info$Tumor_Sample_Barcode = as.character(wes_info$Tumor_Sample_Barcode)"
   ]
  },
  {
   "cell_type": "code",
   "execution_count": 1266,
   "id": "c80ff9df-30a2-4fa4-afb6-5e2e29c0c39d",
   "metadata": {},
   "outputs": [],
   "source": [
    "wes_info['GBC_002_P',] = 0\n",
    "wes_info[\"GBC_002_P\",\"Tumor_Sample_Barcode\"] = \"GBC_002_P\""
   ]
  },
  {
   "cell_type": "code",
   "execution_count": 1268,
   "id": "67bec33a-8bbe-4e9b-8192-6be5696a2839",
   "metadata": {},
   "outputs": [],
   "source": [
    "write.csv(wes_info,\"./summary/wes_info.csv\")"
   ]
  },
  {
   "cell_type": "markdown",
   "id": "541ba595-44de-4c07-8841-21396a8caca3",
   "metadata": {},
   "source": [
    "## MutsigCV"
   ]
  },
  {
   "cell_type": "code",
   "execution_count": 189,
   "id": "b92aa63f-ad6c-471e-8b3c-8f85b23f7f63",
   "metadata": {},
   "outputs": [],
   "source": [
    "library(maftools)"
   ]
  },
  {
   "cell_type": "code",
   "execution_count": 121,
   "id": "4af6b74b-07f3-4595-9af8-69eea8b94ab4",
   "metadata": {},
   "outputs": [],
   "source": [
    "laml_filter = readRDS(\"laml_filter_20_3_0015_005.RDS\")"
   ]
  },
  {
   "cell_type": "code",
   "execution_count": 151,
   "id": "b06f2079-ac11-4bcd-a9f2-bc2296817c4a",
   "metadata": {},
   "outputs": [],
   "source": [
    "laml_filter@data[,'Tumor_Seq_Allele1'] = laml_filter@data[,'Tumor_Seq_Allele2']\n",
    "laml_filter@data[,'Tumor_Seq_Allele2'] = laml_filter@data[,'Reference_Allele']"
   ]
  },
  {
   "cell_type": "code",
   "execution_count": 152,
   "id": "feda918d-376a-499c-931f-bcb484d94e2e",
   "metadata": {
    "tags": []
   },
   "outputs": [
    {
     "name": "stderr",
     "output_type": "stream",
     "text": [
      "Converting gene names for 485 variants from 282 genes\n",
      "\n"
     ]
    },
    {
     "name": "stdout",
     "output_type": "stream",
     "text": [
      "     Hugo_Symbol MutSig_Synonym  N\n",
      "  1:       DISP3         PTCHD2 10\n",
      "  2:       KMT2D           MLL2  9\n",
      "  3:      PRRC2B         BAT2L1  8\n",
      "  4:       KMT2C           MLL3  7\n",
      "  5:      BRINP1           DBC1  5\n",
      " ---                              \n",
      "278:        DPH7          WDR85  1\n",
      "279:      ZNF106         ZFP106  1\n",
      "280:      ZBTB14         ZFP161  1\n",
      "281:        RBSN        ZFYVE20  1\n",
      "282:     ZSCAN30       ZNF397OS  1\n"
     ]
    },
    {
     "name": "stderr",
     "output_type": "stream",
     "text": [
      "Original symbols are preserved under column OG_Hugo_Symbol.\n",
      "\n"
     ]
    }
   ],
   "source": [
    "laml_filter.corrected = prepareMutSig(maf = laml_filter,\"./MutSig/laml_filter.corrected.maf\")\n",
    "# laml_filter@data = laml_filter.corrected\n",
    "# laml_filter@data = laml_filter@data[,c(\"Hugo_Symbol\",\"Tumor_Sample_Barcode\")]"
   ]
  },
  {
   "cell_type": "code",
   "execution_count": 153,
   "id": "fc045a63-2136-4bb9-a5e0-06e829b93c2d",
   "metadata": {},
   "outputs": [
    {
     "name": "stdout",
     "output_type": "stream",
     "text": [
      "-Reading\n",
      "-Validating\n",
      "--Non MAF specific values in Variant_Classification column:\n",
      "  Unknown\n",
      "--Non MAF specific values in Variant_Type column:\n",
      "  MNP\n",
      "-Silent variants: 2633 \n",
      "-Summarizing\n",
      "--Possible FLAGS among top ten genes:\n",
      "  MUC5B\n",
      "  TTN\n",
      "  MUC16\n",
      "  FLG\n",
      "  PLEC\n",
      "-Processing clinical data\n",
      "--Missing clinical data\n",
      "-Finished in 0.580s elapsed (2.884s cpu) \n"
     ]
    }
   ],
   "source": [
    "laml_filter.corrected = read.maf(\"./MutSig/laml_filter.corrected.maf.mutSig.maf\")"
   ]
  },
  {
   "cell_type": "code",
   "execution_count": 154,
   "id": "c946a1a3-1223-4b7a-960d-f2f6b26b8c63",
   "metadata": {},
   "outputs": [],
   "source": [
    "laml_filter.corrected@maf.silent = laml_filter.corrected@maf.silent[laml_filter.corrected@maf.silent$Variant_Classification!=\"RNA\",]"
   ]
  },
  {
   "cell_type": "code",
   "execution_count": 430,
   "id": "f33c5924-27c7-466d-9400-edf40253485d",
   "metadata": {},
   "outputs": [],
   "source": [
    "write.mafSummary(laml_filter.corrected,\"./MutSig/GBC_Mutsig.maf\")"
   ]
  },
  {
   "cell_type": "code",
   "execution_count": 1064,
   "id": "43395b58-d8d6-4f45-a392-6e879a53de0c",
   "metadata": {},
   "outputs": [],
   "source": [
    "## Hugo_Symbol"
   ]
  },
  {
   "cell_type": "code",
   "execution_count": 1056,
   "id": "08b1293d-d84c-43c1-a705-997cf9a772cc",
   "metadata": {},
   "outputs": [],
   "source": [
    "MutsigCV = read.csv(\"./MutSig/ans/GBC_MutSig.sig_genes.txt\",sep = \"\\t\")\n",
    "rownames(MutsigCV) = MutsigCV$gene\n",
    "correctedSymbols = read.csv(\"./MutSig/laml_filter.corrected.maf.correctedSymbols.tsv\",sep = \"\\t\")\n",
    "rownames(correctedSymbols) = correctedSymbols$MutSig_Synonym"
   ]
  },
  {
   "cell_type": "code",
   "execution_count": 1057,
   "id": "66b8b47c-d8a5-4dc0-aea8-4d16b0f983f6",
   "metadata": {},
   "outputs": [],
   "source": [
    "MutsigCV = MutsigCV[MutsigCV$gene[MutsigCV$gene %in% c(unique(laml_filter.corrected@data$Hugo_Symbol),unique(laml_filter.corrected@maf.silent$Hugo_Symbol))],]"
   ]
  },
  {
   "cell_type": "code",
   "execution_count": 1059,
   "id": "f7ffc072-b2f2-4cca-ac6f-9112450c56d1",
   "metadata": {},
   "outputs": [],
   "source": [
    "MutsigCV[MutsigCV$gene[MutsigCV$gene %in% correctedSymbols$MutSig_Synonym],\"gene\"] = correctedSymbols[MutsigCV$gene[MutsigCV$gene %in% correctedSymbols$MutSig_Synonym],\"Hugo_Symbol\"]"
   ]
  },
  {
   "cell_type": "code",
   "execution_count": 1063,
   "id": "2fdf3937-e346-4a32-9edc-71b2c0b47aad",
   "metadata": {},
   "outputs": [],
   "source": [
    "write.table(MutsigCV,\"./MutSig/ans/GBC_MutSig.sig_genes_Hugo_Symbol.txt\",sep = \"\\t\")"
   ]
  },
  {
   "cell_type": "markdown",
   "id": "8809ac77-c705-490c-9b9d-b0e0617c9905",
   "metadata": {
    "tags": []
   },
   "source": [
    "# mutation analysis"
   ]
  },
  {
   "cell_type": "markdown",
   "id": "b776c6b6-fa3e-4391-a131-8fad0e5ed194",
   "metadata": {},
   "source": [
    "## 1.acquire mutation matrix"
   ]
  },
  {
   "cell_type": "code",
   "execution_count": 341,
   "id": "1f6ff563-41b3-4aad-b04b-a9e0984009a6",
   "metadata": {},
   "outputs": [],
   "source": [
    "laml_filter = readRDS(\"laml_filter_20_3_0015_005.RDS\")"
   ]
  },
  {
   "cell_type": "code",
   "execution_count": null,
   "id": "d9319d03-baa6-4522-af61-0815e591ea77",
   "metadata": {},
   "outputs": [],
   "source": [
    "oncoplot(maf = laml_filter,\n",
    "         fontSize = 1,\n",
    "         removeNonMutated = FALSE,\n",
    "         top = length(unique(laml_filter@data$Hugo_Symbol)),\n",
    "         cohortSize = length(unique(laml_filter@data$Tumor_Sample_Barcode)),\n",
    "         #genes = unique(c(gene28,gene51,gene52)),\n",
    "         #genes = lung,\n",
    "         #sampleOrder =  c(\"LC28-Tumor\" ,\"LC28-LCA\",\"LC51-Tumor\" ,\"LC51-LCA\",\"LC52-Tumor\" ,\"LC52-LCA\"),\n",
    "         # sampleOrder = laml@clinical.data$Tumor_Sample_Barcode,\n",
    "         showTumorSampleBarcodes = T,\n",
    "         borderCol = \"white\",\n",
    "         #colors = color_maf,\n",
    "         \n",
    "         gene_mar = 10,\n",
    "         bgCol  = \"white\",\n",
    "         barcodeSrt=45,\n",
    "         writeMatrix = TRUE)"
   ]
  },
  {
   "cell_type": "code",
   "execution_count": 165,
   "id": "aaf312c2-438d-46aa-8f09-0851858051b5",
   "metadata": {},
   "outputs": [],
   "source": [
    "onco_matrix_all = read.csv(\"./onco_matrix.txt\",header = T, check.names = F, sep = \"\\t\")"
   ]
  },
  {
   "cell_type": "code",
   "execution_count": 698,
   "id": "33ab62d1-0395-47ad-ad5a-8feac44e3f8a",
   "metadata": {},
   "outputs": [],
   "source": [
    "onco_matrix_all$GBC_002_P = ''\n",
    "write.csv(onco_matrix_all,\"./onco_matrix_105_patient.csv\")"
   ]
  },
  {
   "cell_type": "markdown",
   "id": "d2bafc5c-80ac-4226-b13b-221af9335570",
   "metadata": {},
   "source": [
    "###  top mutation in other article"
   ]
  },
  {
   "cell_type": "code",
   "execution_count": null,
   "id": "3324566d-44c4-4419-9322-0e6ff684510e",
   "metadata": {},
   "outputs": [],
   "source": [
    "### Genomic ERBB2/ ERBB3 mutations promote PD-L1-mediated immune escape in gallbladder cancer: a whole-exome sequencing analysis mutation_gene_Li2018，里面包含2014年的数据\n",
    "### Integrative molecular characterisation of gallbladder cancer reveals micro-environment-associated subtypes Nepal2021\n",
    "## Li2018 are curated manually"
   ]
  },
  {
   "cell_type": "code",
   "execution_count": 15,
   "id": "989b3a00-0a71-4938-9cd6-588456190620",
   "metadata": {},
   "outputs": [],
   "source": [
    "wes = read.csv(\"../WES/public/Nepal2021.txt\",header = TRUE,sep = \"\\t\")"
   ]
  },
  {
   "cell_type": "code",
   "execution_count": 12,
   "id": "b96e0fc3-80c4-4876-a494-4bb8c7608221",
   "metadata": {
    "collapsed": true,
    "jupyter": {
     "outputs_hidden": true
    },
    "tags": []
   },
   "outputs": [
    {
     "name": "stdout",
     "output_type": "stream",
     "text": [
      "[1] \"GBC_0315Tumor\"\n",
      "[1] \"GBC_0448Tumor\"\n",
      "[1] \"GBC_0551Tumor\"\n",
      "[1] \"GBC_0584Tumor\"\n",
      "[1] \"GBC_0687Tumor\"\n",
      "[1] \"GBC_0719Tumor\"\n",
      "[1] \"GBC_0824Tumor\"\n",
      "[1] \"GBC_0859Tumor\"\n",
      "[1] \"GBC_0899Tumor\"\n",
      "[1] \"GBC_0973Tumor\"\n",
      "[1] \"GBC_1040Tumor\"\n",
      "[1] \"GBC_1070Tumor\"\n",
      "[1] \"GBC_1166Tumor\"\n",
      "[1] \"GBC_1341Tumor\"\n",
      "[1] \"GBC_1404Tumor\"\n",
      "[1] \"GBC_1456Tumor\"\n",
      "[1] \"GBC_1483Tumor\"\n",
      "[1] \"GBC_1609Tumor\"\n",
      "[1] \"GBC_1740Tumor\"\n",
      "[1] \"GBC_1785Tumor\"\n",
      "[1] \"GBC_1829Tumor\"\n",
      "[1] \"GBC_1916Tumor\"\n",
      "[1] \"GBC_3120Tumor\"\n",
      "[1] \"GBC_A000024Tumor\"\n",
      "[1] \"GBC_A000033Tumor\"\n",
      "[1] \"GBC_A000034Tumor\"\n",
      "[1] \"GBC_A000076Tumor\"\n",
      "[1] \"GBC_A000156Tumor\"\n",
      "[1] \"GBC_A000186Tumor\"\n",
      "[1] \"GBC_A000191Tumor\"\n",
      "[1] \"HDG01Tumor\"\n",
      "[1] \"HDG02Tumor\"\n",
      "[1] \"HDG04Tumor\"\n",
      "[1] \"HDG05Tumor\"\n",
      "[1] \"HDG06Tumor\"\n",
      "[1] \"HDG07Tumor\"\n",
      "[1] \"HDG08Tumor\"\n",
      "[1] \"HDG10Tumor\"\n",
      "[1] \"HDG16Tumor\"\n",
      "[1] \"HDG17Tumor\"\n",
      "[1] \"HDG22Tumor\"\n",
      "[1] \"HDG23Tumor\"\n",
      "[1] \"HDG27Tumor\"\n",
      "[1] \"HDG29Tumor\"\n",
      "[1] \"HDG34Tumor\"\n",
      "[1] \"HDG35Tumor\"\n",
      "[1] \"HDG38Tumor\"\n"
     ]
    },
    {
     "data": {
      "text/html": [
       "<table class=\"dataframe\">\n",
       "<caption>A data.frame: 3245 × 2</caption>\n",
       "<thead>\n",
       "\t<tr><th></th><th scope=col>table(gene_list1)</th><th scope=col>name</th></tr>\n",
       "\t<tr><th></th><th scope=col>&lt;int&gt;</th><th scope=col>&lt;chr&gt;</th></tr>\n",
       "</thead>\n",
       "<tbody>\n",
       "\t<tr><th scope=row>TP53</th><td>27</td><td>TP53    </td></tr>\n",
       "\t<tr><th scope=row>CTBP2</th><td> 7</td><td>CTBP2   </td></tr>\n",
       "\t<tr><th scope=row>MYO15A</th><td> 7</td><td>MYO15A  </td></tr>\n",
       "\t<tr><th scope=row>CRIPAK</th><td> 6</td><td>CRIPAK  </td></tr>\n",
       "\t<tr><th scope=row>DNAH17</th><td> 6</td><td>DNAH17  </td></tr>\n",
       "\t<tr><th scope=row>ELF3</th><td> 6</td><td>ELF3    </td></tr>\n",
       "\t<tr><th scope=row>XIRP2</th><td> 6</td><td>XIRP2   </td></tr>\n",
       "\t<tr><th scope=row>AATK</th><td> 5</td><td>AATK    </td></tr>\n",
       "\t<tr><th scope=row>ARID2</th><td> 5</td><td>ARID2   </td></tr>\n",
       "\t<tr><th scope=row>DNAH7</th><td> 5</td><td>DNAH7   </td></tr>\n",
       "\t<tr><th scope=row>ERBB2</th><td> 5</td><td>ERBB2   </td></tr>\n",
       "\t<tr><th scope=row>FAM230A</th><td> 5</td><td>FAM230A </td></tr>\n",
       "\t<tr><th scope=row>KIAA1109</th><td> 5</td><td>KIAA1109</td></tr>\n",
       "\t<tr><th scope=row>NCOR1</th><td> 5</td><td>NCOR1   </td></tr>\n",
       "\t<tr><th scope=row>PDE4DIP</th><td> 5</td><td>PDE4DIP </td></tr>\n",
       "\t<tr><th scope=row>ZNF717</th><td> 5</td><td>ZNF717  </td></tr>\n",
       "\t<tr><th scope=row>AKAP11</th><td> 4</td><td>AKAP11  </td></tr>\n",
       "\t<tr><th scope=row>ANKRD36C</th><td> 4</td><td>ANKRD36C</td></tr>\n",
       "\t<tr><th scope=row>CDC27</th><td> 4</td><td>CDC27   </td></tr>\n",
       "\t<tr><th scope=row>COL11A1</th><td> 4</td><td>COL11A1 </td></tr>\n",
       "\t<tr><th scope=row>COL6A6</th><td> 4</td><td>COL6A6  </td></tr>\n",
       "\t<tr><th scope=row>DNAH5</th><td> 4</td><td>DNAH5   </td></tr>\n",
       "\t<tr><th scope=row>FCGBP</th><td> 4</td><td>FCGBP   </td></tr>\n",
       "\t<tr><th scope=row>GPATCH8</th><td> 4</td><td>GPATCH8 </td></tr>\n",
       "\t<tr><th scope=row>GRID2</th><td> 4</td><td>GRID2   </td></tr>\n",
       "\t<tr><th scope=row>IRS4</th><td> 4</td><td>IRS4    </td></tr>\n",
       "\t<tr><th scope=row>ITGA2B</th><td> 4</td><td>ITGA2B  </td></tr>\n",
       "\t<tr><th scope=row>JUP</th><td> 4</td><td>JUP     </td></tr>\n",
       "\t<tr><th scope=row>KIR2DL4</th><td> 4</td><td>KIR2DL4 </td></tr>\n",
       "\t<tr><th scope=row>LRP1B</th><td> 4</td><td>LRP1B   </td></tr>\n",
       "\t<tr><th scope=row>⋮</th><td>⋮</td><td>⋮</td></tr>\n",
       "\t<tr><th scope=row>ZNF614</th><td>1</td><td>ZNF614 </td></tr>\n",
       "\t<tr><th scope=row>ZNF615</th><td>1</td><td>ZNF615 </td></tr>\n",
       "\t<tr><th scope=row>ZNF620</th><td>1</td><td>ZNF620 </td></tr>\n",
       "\t<tr><th scope=row>ZNF624</th><td>1</td><td>ZNF624 </td></tr>\n",
       "\t<tr><th scope=row>ZNF626</th><td>1</td><td>ZNF626 </td></tr>\n",
       "\t<tr><th scope=row>ZNF641</th><td>1</td><td>ZNF641 </td></tr>\n",
       "\t<tr><th scope=row>ZNF645</th><td>1</td><td>ZNF645 </td></tr>\n",
       "\t<tr><th scope=row>ZNF670</th><td>1</td><td>ZNF670 </td></tr>\n",
       "\t<tr><th scope=row>ZNF680</th><td>1</td><td>ZNF680 </td></tr>\n",
       "\t<tr><th scope=row>ZNF681</th><td>1</td><td>ZNF681 </td></tr>\n",
       "\t<tr><th scope=row>ZNF710</th><td>1</td><td>ZNF710 </td></tr>\n",
       "\t<tr><th scope=row>ZNF716</th><td>1</td><td>ZNF716 </td></tr>\n",
       "\t<tr><th scope=row>ZNF737</th><td>1</td><td>ZNF737 </td></tr>\n",
       "\t<tr><th scope=row>ZNF740</th><td>1</td><td>ZNF740 </td></tr>\n",
       "\t<tr><th scope=row>ZNF750</th><td>1</td><td>ZNF750 </td></tr>\n",
       "\t<tr><th scope=row>ZNF775</th><td>1</td><td>ZNF775 </td></tr>\n",
       "\t<tr><th scope=row>ZNF785</th><td>1</td><td>ZNF785 </td></tr>\n",
       "\t<tr><th scope=row>ZNF790</th><td>1</td><td>ZNF790 </td></tr>\n",
       "\t<tr><th scope=row>ZNF804B</th><td>1</td><td>ZNF804B</td></tr>\n",
       "\t<tr><th scope=row>ZNF835</th><td>1</td><td>ZNF835 </td></tr>\n",
       "\t<tr><th scope=row>ZNF836</th><td>1</td><td>ZNF836 </td></tr>\n",
       "\t<tr><th scope=row>ZNF84</th><td>1</td><td>ZNF84  </td></tr>\n",
       "\t<tr><th scope=row>ZNRF4</th><td>1</td><td>ZNRF4  </td></tr>\n",
       "\t<tr><th scope=row>ZRSR2</th><td>1</td><td>ZRSR2  </td></tr>\n",
       "\t<tr><th scope=row>ZSCAN1</th><td>1</td><td>ZSCAN1 </td></tr>\n",
       "\t<tr><th scope=row>ZSCAN16</th><td>1</td><td>ZSCAN16</td></tr>\n",
       "\t<tr><th scope=row>ZSCAN18</th><td>1</td><td>ZSCAN18</td></tr>\n",
       "\t<tr><th scope=row>ZSCAN32</th><td>1</td><td>ZSCAN32</td></tr>\n",
       "\t<tr><th scope=row>ZSWIM5</th><td>1</td><td>ZSWIM5 </td></tr>\n",
       "\t<tr><th scope=row>ZWILCH</th><td>1</td><td>ZWILCH </td></tr>\n",
       "</tbody>\n",
       "</table>\n"
      ],
      "text/latex": [
       "A data.frame: 3245 × 2\n",
       "\\begin{tabular}{r|ll}\n",
       "  & table(gene\\_list1) & name\\\\\n",
       "  & <int> & <chr>\\\\\n",
       "\\hline\n",
       "\tTP53 & 27 & TP53    \\\\\n",
       "\tCTBP2 &  7 & CTBP2   \\\\\n",
       "\tMYO15A &  7 & MYO15A  \\\\\n",
       "\tCRIPAK &  6 & CRIPAK  \\\\\n",
       "\tDNAH17 &  6 & DNAH17  \\\\\n",
       "\tELF3 &  6 & ELF3    \\\\\n",
       "\tXIRP2 &  6 & XIRP2   \\\\\n",
       "\tAATK &  5 & AATK    \\\\\n",
       "\tARID2 &  5 & ARID2   \\\\\n",
       "\tDNAH7 &  5 & DNAH7   \\\\\n",
       "\tERBB2 &  5 & ERBB2   \\\\\n",
       "\tFAM230A &  5 & FAM230A \\\\\n",
       "\tKIAA1109 &  5 & KIAA1109\\\\\n",
       "\tNCOR1 &  5 & NCOR1   \\\\\n",
       "\tPDE4DIP &  5 & PDE4DIP \\\\\n",
       "\tZNF717 &  5 & ZNF717  \\\\\n",
       "\tAKAP11 &  4 & AKAP11  \\\\\n",
       "\tANKRD36C &  4 & ANKRD36C\\\\\n",
       "\tCDC27 &  4 & CDC27   \\\\\n",
       "\tCOL11A1 &  4 & COL11A1 \\\\\n",
       "\tCOL6A6 &  4 & COL6A6  \\\\\n",
       "\tDNAH5 &  4 & DNAH5   \\\\\n",
       "\tFCGBP &  4 & FCGBP   \\\\\n",
       "\tGPATCH8 &  4 & GPATCH8 \\\\\n",
       "\tGRID2 &  4 & GRID2   \\\\\n",
       "\tIRS4 &  4 & IRS4    \\\\\n",
       "\tITGA2B &  4 & ITGA2B  \\\\\n",
       "\tJUP &  4 & JUP     \\\\\n",
       "\tKIR2DL4 &  4 & KIR2DL4 \\\\\n",
       "\tLRP1B &  4 & LRP1B   \\\\\n",
       "\t⋮ & ⋮ & ⋮\\\\\n",
       "\tZNF614 & 1 & ZNF614 \\\\\n",
       "\tZNF615 & 1 & ZNF615 \\\\\n",
       "\tZNF620 & 1 & ZNF620 \\\\\n",
       "\tZNF624 & 1 & ZNF624 \\\\\n",
       "\tZNF626 & 1 & ZNF626 \\\\\n",
       "\tZNF641 & 1 & ZNF641 \\\\\n",
       "\tZNF645 & 1 & ZNF645 \\\\\n",
       "\tZNF670 & 1 & ZNF670 \\\\\n",
       "\tZNF680 & 1 & ZNF680 \\\\\n",
       "\tZNF681 & 1 & ZNF681 \\\\\n",
       "\tZNF710 & 1 & ZNF710 \\\\\n",
       "\tZNF716 & 1 & ZNF716 \\\\\n",
       "\tZNF737 & 1 & ZNF737 \\\\\n",
       "\tZNF740 & 1 & ZNF740 \\\\\n",
       "\tZNF750 & 1 & ZNF750 \\\\\n",
       "\tZNF775 & 1 & ZNF775 \\\\\n",
       "\tZNF785 & 1 & ZNF785 \\\\\n",
       "\tZNF790 & 1 & ZNF790 \\\\\n",
       "\tZNF804B & 1 & ZNF804B\\\\\n",
       "\tZNF835 & 1 & ZNF835 \\\\\n",
       "\tZNF836 & 1 & ZNF836 \\\\\n",
       "\tZNF84 & 1 & ZNF84  \\\\\n",
       "\tZNRF4 & 1 & ZNRF4  \\\\\n",
       "\tZRSR2 & 1 & ZRSR2  \\\\\n",
       "\tZSCAN1 & 1 & ZSCAN1 \\\\\n",
       "\tZSCAN16 & 1 & ZSCAN16\\\\\n",
       "\tZSCAN18 & 1 & ZSCAN18\\\\\n",
       "\tZSCAN32 & 1 & ZSCAN32\\\\\n",
       "\tZSWIM5 & 1 & ZSWIM5 \\\\\n",
       "\tZWILCH & 1 & ZWILCH \\\\\n",
       "\\end{tabular}\n"
      ],
      "text/markdown": [
       "\n",
       "A data.frame: 3245 × 2\n",
       "\n",
       "| <!--/--> | table(gene_list1) &lt;int&gt; | name &lt;chr&gt; |\n",
       "|---|---|---|\n",
       "| TP53 | 27 | TP53     |\n",
       "| CTBP2 |  7 | CTBP2    |\n",
       "| MYO15A |  7 | MYO15A   |\n",
       "| CRIPAK |  6 | CRIPAK   |\n",
       "| DNAH17 |  6 | DNAH17   |\n",
       "| ELF3 |  6 | ELF3     |\n",
       "| XIRP2 |  6 | XIRP2    |\n",
       "| AATK |  5 | AATK     |\n",
       "| ARID2 |  5 | ARID2    |\n",
       "| DNAH7 |  5 | DNAH7    |\n",
       "| ERBB2 |  5 | ERBB2    |\n",
       "| FAM230A |  5 | FAM230A  |\n",
       "| KIAA1109 |  5 | KIAA1109 |\n",
       "| NCOR1 |  5 | NCOR1    |\n",
       "| PDE4DIP |  5 | PDE4DIP  |\n",
       "| ZNF717 |  5 | ZNF717   |\n",
       "| AKAP11 |  4 | AKAP11   |\n",
       "| ANKRD36C |  4 | ANKRD36C |\n",
       "| CDC27 |  4 | CDC27    |\n",
       "| COL11A1 |  4 | COL11A1  |\n",
       "| COL6A6 |  4 | COL6A6   |\n",
       "| DNAH5 |  4 | DNAH5    |\n",
       "| FCGBP |  4 | FCGBP    |\n",
       "| GPATCH8 |  4 | GPATCH8  |\n",
       "| GRID2 |  4 | GRID2    |\n",
       "| IRS4 |  4 | IRS4     |\n",
       "| ITGA2B |  4 | ITGA2B   |\n",
       "| JUP |  4 | JUP      |\n",
       "| KIR2DL4 |  4 | KIR2DL4  |\n",
       "| LRP1B |  4 | LRP1B    |\n",
       "| ⋮ | ⋮ | ⋮ |\n",
       "| ZNF614 | 1 | ZNF614  |\n",
       "| ZNF615 | 1 | ZNF615  |\n",
       "| ZNF620 | 1 | ZNF620  |\n",
       "| ZNF624 | 1 | ZNF624  |\n",
       "| ZNF626 | 1 | ZNF626  |\n",
       "| ZNF641 | 1 | ZNF641  |\n",
       "| ZNF645 | 1 | ZNF645  |\n",
       "| ZNF670 | 1 | ZNF670  |\n",
       "| ZNF680 | 1 | ZNF680  |\n",
       "| ZNF681 | 1 | ZNF681  |\n",
       "| ZNF710 | 1 | ZNF710  |\n",
       "| ZNF716 | 1 | ZNF716  |\n",
       "| ZNF737 | 1 | ZNF737  |\n",
       "| ZNF740 | 1 | ZNF740  |\n",
       "| ZNF750 | 1 | ZNF750  |\n",
       "| ZNF775 | 1 | ZNF775  |\n",
       "| ZNF785 | 1 | ZNF785  |\n",
       "| ZNF790 | 1 | ZNF790  |\n",
       "| ZNF804B | 1 | ZNF804B |\n",
       "| ZNF835 | 1 | ZNF835  |\n",
       "| ZNF836 | 1 | ZNF836  |\n",
       "| ZNF84 | 1 | ZNF84   |\n",
       "| ZNRF4 | 1 | ZNRF4   |\n",
       "| ZRSR2 | 1 | ZRSR2   |\n",
       "| ZSCAN1 | 1 | ZSCAN1  |\n",
       "| ZSCAN16 | 1 | ZSCAN16 |\n",
       "| ZSCAN18 | 1 | ZSCAN18 |\n",
       "| ZSCAN32 | 1 | ZSCAN32 |\n",
       "| ZSWIM5 | 1 | ZSWIM5  |\n",
       "| ZWILCH | 1 | ZWILCH  |\n",
       "\n"
      ],
      "text/plain": [
       "         table(gene_list1) name    \n",
       "TP53     27                TP53    \n",
       "CTBP2     7                CTBP2   \n",
       "MYO15A    7                MYO15A  \n",
       "CRIPAK    6                CRIPAK  \n",
       "DNAH17    6                DNAH17  \n",
       "ELF3      6                ELF3    \n",
       "XIRP2     6                XIRP2   \n",
       "AATK      5                AATK    \n",
       "ARID2     5                ARID2   \n",
       "DNAH7     5                DNAH7   \n",
       "ERBB2     5                ERBB2   \n",
       "FAM230A   5                FAM230A \n",
       "KIAA1109  5                KIAA1109\n",
       "NCOR1     5                NCOR1   \n",
       "PDE4DIP   5                PDE4DIP \n",
       "ZNF717    5                ZNF717  \n",
       "AKAP11    4                AKAP11  \n",
       "ANKRD36C  4                ANKRD36C\n",
       "CDC27     4                CDC27   \n",
       "COL11A1   4                COL11A1 \n",
       "COL6A6    4                COL6A6  \n",
       "DNAH5     4                DNAH5   \n",
       "FCGBP     4                FCGBP   \n",
       "GPATCH8   4                GPATCH8 \n",
       "GRID2     4                GRID2   \n",
       "IRS4      4                IRS4    \n",
       "ITGA2B    4                ITGA2B  \n",
       "JUP       4                JUP     \n",
       "KIR2DL4   4                KIR2DL4 \n",
       "LRP1B     4                LRP1B   \n",
       "⋮        ⋮                 ⋮       \n",
       "ZNF614   1                 ZNF614  \n",
       "ZNF615   1                 ZNF615  \n",
       "ZNF620   1                 ZNF620  \n",
       "ZNF624   1                 ZNF624  \n",
       "ZNF626   1                 ZNF626  \n",
       "ZNF641   1                 ZNF641  \n",
       "ZNF645   1                 ZNF645  \n",
       "ZNF670   1                 ZNF670  \n",
       "ZNF680   1                 ZNF680  \n",
       "ZNF681   1                 ZNF681  \n",
       "ZNF710   1                 ZNF710  \n",
       "ZNF716   1                 ZNF716  \n",
       "ZNF737   1                 ZNF737  \n",
       "ZNF740   1                 ZNF740  \n",
       "ZNF750   1                 ZNF750  \n",
       "ZNF775   1                 ZNF775  \n",
       "ZNF785   1                 ZNF785  \n",
       "ZNF790   1                 ZNF790  \n",
       "ZNF804B  1                 ZNF804B \n",
       "ZNF835   1                 ZNF835  \n",
       "ZNF836   1                 ZNF836  \n",
       "ZNF84    1                 ZNF84   \n",
       "ZNRF4    1                 ZNRF4   \n",
       "ZRSR2    1                 ZRSR2   \n",
       "ZSCAN1   1                 ZSCAN1  \n",
       "ZSCAN16  1                 ZSCAN16 \n",
       "ZSCAN18  1                 ZSCAN18 \n",
       "ZSCAN32  1                 ZSCAN32 \n",
       "ZSWIM5   1                 ZSWIM5  \n",
       "ZWILCH   1                 ZWILCH  "
      ]
     },
     "metadata": {},
     "output_type": "display_data"
    }
   ],
   "source": [
    "wes = read.csv(\"../WES/public/Nepal2021.txt\",header = TRUE,sep = \"\\t\")\n",
    "gene_list = list()\n",
    "for(ipatient in unique(wes$Tumor.ID)){\n",
    "  gene_list[[ipatient]] = unique(wes[wes$Tumor.ID==ipatient,'HUGO.symbol'])\n",
    "  if(sum(duplicated(wes[wes$Tumor.ID==ipatient,'HUGO.symbol']))!=0){\n",
    "    print(ipatient)\n",
    "  }\n",
    "}\n",
    "\n",
    "gene_list1 = unlist(gene_list)\n",
    "gene_list1 = as.data.frame.array(table(gene_list1))\n",
    "gene_list1$name = rownames(gene_list1)\n",
    "gene_list1 = gene_list1[order(-gene_list1$`table(gene_list1)`),]\n",
    "gene_list1"
   ]
  },
  {
   "cell_type": "code",
   "execution_count": 17,
   "id": "b2946ba6-7674-445f-b930-c0606e036b55",
   "metadata": {},
   "outputs": [],
   "source": [
    "mutation_gene_Zhou2023 = row.names(read.csv(\"./onco_matrix_filter.csv\",row.names = 1))[1:30]"
   ]
  },
  {
   "cell_type": "code",
   "execution_count": 15,
   "id": "af7f6400-9e68-4d76-aa00-16607d32751d",
   "metadata": {},
   "outputs": [],
   "source": [
    "top_gene_mutation_rate = data.frame(row.names = mutation_gene_Zhou2023,Nepal2021 = gene_list1[mutation_gene_Zhou2023,1]/92)"
   ]
  },
  {
   "cell_type": "code",
   "execution_count": 16,
   "id": "f9d4694e-7524-48c3-b872-ceecbc75a205",
   "metadata": {},
   "outputs": [],
   "source": [
    "write.csv(top_gene_mutation_rate,\"../WES/public/top_gene_mutation_rateV3.csv\")"
   ]
  },
  {
   "cell_type": "markdown",
   "id": "21ba46a9-9658-4dbe-a8b9-14ea951f3698",
   "metadata": {},
   "source": [
    "#### Giraldo et al."
   ]
  },
  {
   "cell_type": "code",
   "execution_count": 26,
   "id": "ccc734a8-e23b-45ef-ae53-6a7266d51d5c",
   "metadata": {},
   "outputs": [],
   "source": [
    "mutation_gene_Giraldo2022 = c(\"TP53\",\"MDM2\",\"CDKN2A\",\"CDKN2B\",\"CCNE1\",\"CDK4\",\"CDK6\",\"RB1\",\"ERBB2\",\"ERBB3\",\"KRAS\",\"ARID1A\",\"ARID2\",\"KMT2C\",\"PIK3CA\"\n",
    ",'STK11','PTEN','SMAD4','CTNNB1',\"MYC\",\"ELF3\",\"TERT\")"
   ]
  },
  {
   "cell_type": "code",
   "execution_count": 28,
   "id": "9dd4066e-5027-4ed7-ae73-45e613015b15",
   "metadata": {},
   "outputs": [],
   "source": [
    "top_gene_mutation_rate = data.frame(row.names = mutation_gene_Giraldo2022,Nepal2021 = gene_list1[mutation_gene_Giraldo2022,1]/92)\n",
    "write.csv(top_gene_mutation_rate,\"./public/Nepal2021_top_gene_mutation_rate_Giraldo2022.csv\")"
   ]
  },
  {
   "cell_type": "code",
   "execution_count": 47,
   "id": "f16b9ba7-61a0-44ad-8286-7da0f44a9cee",
   "metadata": {},
   "outputs": [],
   "source": [
    "onco_matrix_all = read.csv(\"./onco_matrix_105_patient.csv\",row.names = 1)\n",
    "# onco_matrix_filter = read.csv(\"./onco_matrix_filter.csv\",row.names = 1)"
   ]
  },
  {
   "cell_type": "code",
   "execution_count": 70,
   "id": "512aafdb-0ab6-4144-8eb3-7784b2cf27c7",
   "metadata": {},
   "outputs": [],
   "source": [
    "onco_matrix_all[,'GBC_049_P'] = ''"
   ]
  },
  {
   "cell_type": "code",
   "execution_count": 74,
   "id": "e469e3af-b318-434c-977c-9f6878279e21",
   "metadata": {},
   "outputs": [],
   "source": [
    "gene_list_Zhou = rowSums(onco_matrix_all!='')/105\n",
    "top_gene_mutation_rate = data.frame(row.names = mutation_gene_Giraldo2022,Nepal2021 = gene_list_Zhou[mutation_gene_Giraldo2022])\n",
    "write.csv(top_gene_mutation_rate,\"./public/Zhou2024_top_gene_mutation_rate_Giraldo2022.csv\")"
   ]
  },
  {
   "cell_type": "code",
   "execution_count": 76,
   "id": "6e497ba9-99d9-4fe2-810c-b5f0d0aa669b",
   "metadata": {},
   "outputs": [],
   "source": [
    "write.csv(top_gene_mutation_rate,\"./public/public_finalV4.csv\")"
   ]
  },
  {
   "cell_type": "code",
   "execution_count": null,
   "id": "25082cbe-8716-4610-88ea-1c6016c5d572",
   "metadata": {},
   "outputs": [],
   "source": [
    "##plot"
   ]
  },
  {
   "cell_type": "code",
   "execution_count": 80,
   "id": "38cfcd26-eb26-4393-90b2-2a1a9980759b",
   "metadata": {},
   "outputs": [
    {
     "name": "stderr",
     "output_type": "stream",
     "text": [
      "Warning message:\n",
      "“package ‘reshape2’ was built under R version 4.0.5”\n"
     ]
    }
   ],
   "source": [
    "library(reshape2)"
   ]
  },
  {
   "cell_type": "code",
   "execution_count": 1205,
   "id": "5dc457c6-72c8-494c-a94d-161b2151c379",
   "metadata": {},
   "outputs": [],
   "source": [
    "data = read.csv(\"./public/public_finalV4.csv\",row.names = 1)"
   ]
  },
  {
   "cell_type": "code",
   "execution_count": 1217,
   "id": "92468f6e-f444-4759-b509-5ae3cbfa8d3f",
   "metadata": {},
   "outputs": [
    {
     "name": "stderr",
     "output_type": "stream",
     "text": [
      "Warning message in melt(data, id.vars = \"Gene\"):\n",
      "“The melt generic in data.table has been passed a data.frame and will attempt to redirect to the relevant reshape2 method; please note that reshape2 is deprecated, and this redirection is now deprecated as well. To continue using melt methods from reshape2 while both libraries are attached, e.g. melt.list, you can prepend the namespace like reshape2::melt(data). In the next version, this warning will become an error.”\n"
     ]
    }
   ],
   "source": [
    "data_plot = melt(data,id.vars = \"Gene\")\n",
    "colnames(data_plot) = c(\"Gene\",\"Cohort\",\"Pertentage\")\n",
    "data_plot$Cohort = factor(data_plot$Cohort,levels = c(\"Our.cohort\",\"Li2018\",\"Nepal2021\",\"Giraldo2022\"))"
   ]
  },
  {
   "cell_type": "code",
   "execution_count": 1223,
   "id": "1c2776b2-9000-4f15-af7b-6d6980601bc3",
   "metadata": {},
   "outputs": [],
   "source": [
    "data_plot$Gene = factor(data_plot$Gene,levels = unique(data_plot$Gene))"
   ]
  },
  {
   "cell_type": "code",
   "execution_count": 1226,
   "id": "0154b2f4-fc8f-4f33-b793-d8ac79d98173",
   "metadata": {},
   "outputs": [
    {
     "data": {
      "text/html": [
       "<strong>png:</strong> 2"
      ],
      "text/latex": [
       "\\textbf{png:} 2"
      ],
      "text/markdown": [
       "**png:** 2"
      ],
      "text/plain": [
       "png \n",
       "  2 "
      ]
     },
     "metadata": {},
     "output_type": "display_data"
    }
   ],
   "source": [
    "library(ggplot2)\n",
    "pdf(\"./public/mutation_compareV2.pdf\",height = 3,width = 9)\n",
    "ggplot(data_plot,aes(x = Cohort,y = Pertentage))+geom_col(aes(fill = Cohort),position = \n",
    "                                                  position_dodge())+facet_wrap(.~Gene,nrow = 2)+\n",
    "theme_bw()+\n",
    "  theme(axis.title.x=element_blank(),\n",
    "        axis.text.x=element_blank(),\n",
    "        axis.ticks.x=element_blank())\n",
    "dev.off()"
   ]
  },
  {
   "cell_type": "markdown",
   "id": "0542b8dd-4dbf-488d-8e34-4042103a74b7",
   "metadata": {},
   "source": [
    "### oncoplot \n",
    "https://blog.csdn.net/weixin_41368414/article/details/125174493"
   ]
  },
  {
   "cell_type": "code",
   "execution_count": 4,
   "id": "bbffeb50-6bfc-4a7c-a6e0-41533cb83243",
   "metadata": {},
   "outputs": [
    {
     "name": "stderr",
     "output_type": "stream",
     "text": [
      "Loading required package: grid\n",
      "\n",
      "========================================\n",
      "ComplexHeatmap version 2.13.1\n",
      "Bioconductor page: http://bioconductor.org/packages/ComplexHeatmap/\n",
      "Github page: https://github.com/jokergoo/ComplexHeatmap\n",
      "Documentation: http://jokergoo.github.io/ComplexHeatmap-reference\n",
      "\n",
      "If you use it in published research, please cite either one:\n",
      "- Gu, Z. Complex heatmaps reveal patterns and correlations in multidimensional \n",
      "    genomic data. Bioinformatics 2016.\n",
      "- Gu, Z. Complex Heatmap Visualization. iMeta 2022.\n",
      "\n",
      "\n",
      "The new InteractiveComplexHeatmap package can directly export static \n",
      "complex heatmaps into an interactive Shiny app with zero effort. Have a try!\n",
      "\n",
      "This message can be suppressed by:\n",
      "  suppressPackageStartupMessages(library(ComplexHeatmap))\n",
      "========================================\n",
      "\n",
      "\n",
      "Warning message:\n",
      "“package ‘reshape2’ was built under R version 4.0.5”\n"
     ]
    }
   ],
   "source": [
    "library(maftools)\n",
    "library(ComplexHeatmap)\n",
    "library(reshape2)"
   ]
  },
  {
   "cell_type": "markdown",
   "id": "1b2dae5a-4a68-41a7-a434-f53728ee58aa",
   "metadata": {},
   "source": [
    "#### version 1, mutsigcv"
   ]
  },
  {
   "cell_type": "code",
   "execution_count": 5,
   "id": "ca38b0ee-c4a9-4a32-a835-ea4bb24e9cdf",
   "metadata": {},
   "outputs": [
    {
     "name": "stderr",
     "output_type": "stream",
     "text": [
      "\n",
      "Attaching package: ‘formattable’\n",
      "\n",
      "\n",
      "The following object is masked from ‘package:BiocGenerics’:\n",
      "\n",
      "    normalize\n",
      "\n",
      "\n",
      "\n",
      "Attaching package: ‘scales’\n",
      "\n",
      "\n",
      "The following objects are masked from ‘package:formattable’:\n",
      "\n",
      "    comma, percent, scientific\n",
      "\n",
      "\n",
      "========================================\n",
      "circlize version 0.4.15\n",
      "CRAN page: https://cran.r-project.org/package=circlize\n",
      "Github page: https://github.com/jokergoo/circlize\n",
      "Documentation: https://jokergoo.github.io/circlize_book/book/\n",
      "\n",
      "If you use it in published research, please cite:\n",
      "Gu, Z. circlize implements and enhances circular visualization\n",
      "  in R. Bioinformatics 2014.\n",
      "\n",
      "This message can be suppressed by:\n",
      "  suppressPackageStartupMessages(library(circlize))\n",
      "========================================\n",
      "\n",
      "\n"
     ]
    }
   ],
   "source": [
    "library(\"formattable\")\n",
    "library(scales)\n",
    "library(circlize)\n",
    "color = read.csv(\"../figures/palette_celltype_outputV2.csv\",row.names = 1)\n",
    "mycol = c(\"#51574a\",\"#e9d78e\",ggsci::pal_d3(\"category20\")(20)[1:20])"
   ]
  },
  {
   "cell_type": "code",
   "execution_count": 7,
   "id": "975d72d8-e0cc-406d-b43a-322967532e7d",
   "metadata": {},
   "outputs": [],
   "source": [
    "### 1.1 data prepare\n",
    "matMut = read.csv(\"./onco_matrix_105_patient.csv\",row.names = 1)\n",
    "matMut['GBC_002_P'] = ''\n",
    "MutsigCV = read.csv(\"./MutSig/ans/GBC_MutSig.sig_genes_Hugo_Symbol.txt\",sep = \"\\t\")\n",
    "matMut = matMut[MutsigCV$gene[1:20],]"
   ]
  },
  {
   "cell_type": "code",
   "execution_count": 8,
   "id": "095b0ee8-9e85-4d25-9df3-1ee91e522299",
   "metadata": {},
   "outputs": [
    {
     "data": {
      "text/html": [
       "<style>\n",
       ".list-inline {list-style: none; margin:0; padding: 0}\n",
       ".list-inline>li {display: inline-block}\n",
       ".list-inline>li:not(:last-child)::after {content: \"\\00b7\"; padding: 0 .5ex}\n",
       "</style>\n",
       "<ol class=list-inline><li>''</li><li>'Frame_Shift_Del'</li><li>'Frame_Shift_Ins'</li><li>'In_Frame_Del'</li><li>'In_Frame_Ins'</li><li>'Missense_Mutation'</li><li>'Multi_Hit'</li><li>'Nonsense_Mutation'</li><li>'Translation_Start_Site'</li></ol>\n"
      ],
      "text/latex": [
       "\\begin{enumerate*}\n",
       "\\item ''\n",
       "\\item 'Frame\\_Shift\\_Del'\n",
       "\\item 'Frame\\_Shift\\_Ins'\n",
       "\\item 'In\\_Frame\\_Del'\n",
       "\\item 'In\\_Frame\\_Ins'\n",
       "\\item 'Missense\\_Mutation'\n",
       "\\item 'Multi\\_Hit'\n",
       "\\item 'Nonsense\\_Mutation'\n",
       "\\item 'Translation\\_Start\\_Site'\n",
       "\\end{enumerate*}\n"
      ],
      "text/markdown": [
       "1. ''\n",
       "2. 'Frame_Shift_Del'\n",
       "3. 'Frame_Shift_Ins'\n",
       "4. 'In_Frame_Del'\n",
       "5. 'In_Frame_Ins'\n",
       "6. 'Missense_Mutation'\n",
       "7. 'Multi_Hit'\n",
       "8. 'Nonsense_Mutation'\n",
       "9. 'Translation_Start_Site'\n",
       "\n",
       "\n"
      ],
      "text/plain": [
       "[1] \"\"                       \"Frame_Shift_Del\"        \"Frame_Shift_Ins\"       \n",
       "[4] \"In_Frame_Del\"           \"In_Frame_Ins\"           \"Missense_Mutation\"     \n",
       "[7] \"Multi_Hit\"              \"Nonsense_Mutation\"      \"Translation_Start_Site\""
      ]
     },
     "metadata": {},
     "output_type": "display_data"
    },
    {
     "data": {
      "text/html": [
       "<style>\n",
       ".dl-inline {width: auto; margin:0; padding: 0}\n",
       ".dl-inline>dt, .dl-inline>dd {float: none; width: auto; display: inline-block}\n",
       ".dl-inline>dt::after {content: \":\\0020\"; padding-right: .5ex}\n",
       ".dl-inline>dt:not(:first-of-type) {padding-left: .5ex}\n",
       "</style><dl class=dl-inline><dt>Missense_Mutation</dt><dd>52</dd><dt>Nonsense_Mutation</dt><dd>34</dd><dt>Frame_Shift_Del</dt><dd>20</dd><dt>Multi_Hit</dt><dd>13</dd><dt>Frame_Shift_Ins</dt><dd>6</dd><dt>In_Frame_Ins</dt><dd>4</dd><dt>In_Frame_Del</dt><dd>2</dd></dl>\n"
      ],
      "text/latex": [
       "\\begin{description*}\n",
       "\\item[Missense\\textbackslash{}\\_Mutation] 52\n",
       "\\item[Nonsense\\textbackslash{}\\_Mutation] 34\n",
       "\\item[Frame\\textbackslash{}\\_Shift\\textbackslash{}\\_Del] 20\n",
       "\\item[Multi\\textbackslash{}\\_Hit] 13\n",
       "\\item[Frame\\textbackslash{}\\_Shift\\textbackslash{}\\_Ins] 6\n",
       "\\item[In\\textbackslash{}\\_Frame\\textbackslash{}\\_Ins] 4\n",
       "\\item[In\\textbackslash{}\\_Frame\\textbackslash{}\\_Del] 2\n",
       "\\end{description*}\n"
      ],
      "text/markdown": [
       "Missense_Mutation\n",
       ":   52Nonsense_Mutation\n",
       ":   34Frame_Shift_Del\n",
       ":   20Multi_Hit\n",
       ":   13Frame_Shift_Ins\n",
       ":   6In_Frame_Ins\n",
       ":   4In_Frame_Del\n",
       ":   2\n",
       "\n"
      ],
      "text/plain": [
       "Missense_Mutation Nonsense_Mutation   Frame_Shift_Del         Multi_Hit \n",
       "               52                34                20                13 \n",
       "  Frame_Shift_Ins      In_Frame_Ins      In_Frame_Del \n",
       "                6                 4                 2 "
      ]
     },
     "metadata": {},
     "output_type": "display_data"
    }
   ],
   "source": [
    "matMut[matMut == \"In-frame\"] = \"In_frame\"\n",
    "matMuttmp = matMut\n",
    "matMuttmp$gene = row.names(matMuttmp)\n",
    "mat_long <- melt(matMuttmp, id.vars = \"gene\", value.name = \"Variant_Classification\")\n",
    "levels(factor(mat_long$Variant_Classification))\n",
    "## [1] \"\"           \"In_frame\"   \"Missense\"   \"Multi_Hit\"  \"Truncating\"\n",
    "freq_mut = as.data.frame.array(table(mat_long$Variant_Classification))\n",
    "freq = freq_mut[2:8,]\n",
    "names(freq) = rownames(freq_mut)[2:8]\n",
    "freq = sort(freq,decreasing = TRUE)\n",
    "freq"
   ]
  },
  {
   "cell_type": "code",
   "execution_count": 9,
   "id": "02892066-3760-479a-8c9b-9de8b8227c99",
   "metadata": {},
   "outputs": [],
   "source": [
    "### 1.2. alter_fun plot\n",
    "#col_metastasis.type = c(P = \"red\",P_LN = \"blue\",P_LM = \"yellow\")\n",
    "col <- c(Frame_Shift_Del = \"purple\", Frame_Shift_Ins = \"orange\", In_Frame_Del = \"black\", In_Frame_Ins = \"blue\",\n",
    "         Missense_Mutation = \"red\",Multi_Hit = \"yellow\",Nonsense_Mutation = \"blue\")\n",
    "## \n",
    "col <- c(Missense_Mutation = \"#d62728\",Multi_Hit = \"#17becf\",In_Frame_Del = \"#e377c2\",Nonsense_Mutation = \"#aa40fc\",Frame_Shift_Del = \"#aec7e8\",\n",
    "         Frame_Shift_Ins = \"#279e68\",  In_Frame_Ins = \"#1f77b4\",Translation_Start_Site = \"#ff7f0e\",Nonstop_Mutation = \"#98df8a\")\n",
    "\n",
    "# col <- color[1:7]\n",
    "\n",
    "# col = col1[1:7]\n",
    "names(col) = c(\"Missense_Mutation\", \"Multi_Hit\"  , \"In_Frame_Del\",     \n",
    "               \"Nonsense_Mutation\",\"Frame_Shift_Del\", \"Frame_Shift_Ins\" , \"In_Frame_Ins\",\"Translation_Start_Site\",\"Nonstop_Mutation\")\n",
    "alter_fun <- list(\n",
    "  background = function(x, y, w, h) {\n",
    "    grid.rect(x, y, w-unit(0.5, \"mm\"), h-unit(0.5, \"mm\"), \n",
    "              gp = gpar(fill = \"white\", col = NA))\n",
    "  },\n",
    "  Frame_Shift_Del = function(x, y, w, h) {\n",
    "    grid.rect(x, y, w-unit(0.5, \"mm\"), h-unit(0.5, \"mm\"), \n",
    "              gp = gpar(fill = col[\"Frame_Shift_Del\"], col = NA))\n",
    "  },\n",
    "  Frame_Shift_Ins = function(x, y, w, h) {\n",
    "    grid.rect(x, y, w-unit(0.5, \"mm\"), h-unit(0.5, \"mm\"),  \n",
    "              gp = gpar(fill = col[\"Frame_Shift_Ins\"], col = NA))\n",
    "  },\n",
    "  In_Frame_Del = function(x, y, w, h) {\n",
    "    grid.rect(x, y, w-unit(0.5, \"mm\"), h-unit(0.5, \"mm\"), \n",
    "              gp = gpar(fill = col[\"In_Frame_Del\"], col = NA))\n",
    "  },\n",
    "  In_Frame_Ins = function(x, y, w, h) {\n",
    "    grid.rect(x, y, w-unit(0.5, \"mm\"), h-unit(0.5, \"mm\"), \n",
    "              gp = gpar(fill = col[\"In_Frame_Ins\"], col = NA))\n",
    "  },\n",
    "  Missense_Mutation = function(x, y, w, h) {\n",
    "    grid.rect(x, y, w-unit(0.5, \"mm\"), h-unit(0.5, \"mm\"), \n",
    "              gp = gpar(fill = col[\"Missense_Mutation\"], col = NA))\n",
    "  },\n",
    "  Multi_Hit = function(x, y, w, h) {\n",
    "    grid.rect(x, y, w-unit(0.5, \"mm\"), h-unit(0.5, \"mm\"), \n",
    "              gp = gpar(fill = col[\"Multi_Hit\"], col = NA))\n",
    "  },\n",
    "  Nonsense_Mutation = function(x, y, w, h) {\n",
    "    grid.rect(x, y, w-unit(0.5, \"mm\"), h-unit(0.5, \"mm\"), \n",
    "              gp = gpar(fill = col[\"Nonsense_Mutation\"], col = NA))\n",
    "  },\n",
    "  Translation_Start_Site = function(x, y, w, h) {\n",
    "    grid.rect(x, y, w-unit(0.5, \"mm\"), h-unit(0.5, \"mm\"), \n",
    "              gp = gpar(fill = col[\"Translation_Start_Site\"], col = NA))\n",
    "  },\n",
    "  Nonstop_Mutation = function(x, y, w, h) {\n",
    "    grid.rect(x, y, w-unit(0.5, \"mm\"), h-unit(0.5, \"mm\"), \n",
    "              gp = gpar(fill = col[\"Nonstop_Mutation\"], col = NA))\n",
    "  }\n",
    ")\n",
    "\n",
    "heatmap_legend_param <- list(title = \"Alternations\", at = c(\"Frame_Shift_Del\"  , \"Frame_Shift_Ins\"  , \"In_Frame_Del\",     \n",
    "                             \"In_Frame_Ins\",\"Missense_Mutation\", \"Multi_Hit\" , \"Nonsense_Mutation\",\"Translation_Start_Site\",\"Nonstop_Mutation\"), labels = c(\"Frame_Shift_Del\"  , \"Frame_Shift_Ins\"  , \"In_Frame_Del\",     \n",
    "                                                                                                                \"In_Frame_Ins\",\"Missense_Mutation\", \"Multi_Hit\" , \"Nonsense_Mutation\",\"Translation_Start_Site\",\"Nonstop_Mutation\"))\n"
   ]
  },
  {
   "cell_type": "code",
   "execution_count": 12,
   "id": "052e1587-424c-492b-ae55-87c802e68d5e",
   "metadata": {
    "tags": []
   },
   "outputs": [],
   "source": [
    "### 2.1 clinical data prepare\n",
    "pdata = read.csv(\"../patient_info/xzh_220109_final_wyh_220426.csv\",row.names = 1)\n",
    "pdata$Tumor_Sample_Barcode = rownames(pdata)\n",
    "pdata$metastasis.type[pdata$metastasis.type==\"P_LI\"] = \"P\"\n",
    "pdata$metastasis.type = factor(pdata$metastasis.type,levels = c(\"P\",\"P_LN\",\"P_LM\",\"NA\"))\n",
    "# pdata <- subset(pdata, pdata$Tumor_Sample_Barcode %in% colnames(matMut))\n",
    "pdata = as.data.frame(pdata)\n",
    "rownames(pdata) = pdata$NewSample.ID\n",
    "pdata <- pdata[colnames(matMut),]\n",
    "variant_number = read.csv(\"./variants_number.csv\",row.names = 1)\n",
    "PatientInfo = pdata\n",
    "\n",
    "annotation_row = subset(PatientInfo, select = c(\"NewSample.ID\",\n",
    "                                                \"histological.type.short\",\n",
    "                                                \"Tumors.for.scRNA.seq.short\",\n",
    "                                                \"Sex\",\n",
    "                                                \"Age\",\n",
    "                                                \"Polyps\",\n",
    "                                                \"Gallstones\",\n",
    "                                                \"PBM\",\n",
    "                                                \"Atrophic.cholecystitis\",\n",
    "                                                \"Clinical.stage\",\n",
    "                                                \"TNM\",\n",
    "                                                \"Differentiation\",\n",
    "                                                \"liver.invasion\",\n",
    "                                                \"Bile.duct.invasion\",\n",
    "                                                \"Vascular.invasion\",\n",
    "                                                \"Lymph.node.metastasis\",\n",
    "                                                \"Liver.metastasis\",\n",
    "                                                \"Peritoneal..metastasis\"\n",
    "))\n",
    "\n",
    "\n",
    "annotation_row$Tumors.for.scRNA.seq.short = ifelse(annotation_row$Tumors.for.scRNA.seq.short %in% c(\"CC\",\"P\",\"XGC\"), \"P\", annotation_row$Tumors.for.scRNA.seq.short)\n",
    "annotation_row$Clinical.stage = ifelse(annotation_row$Clinical.stage %in% c(\"I\",\"IIIA\",\"IIIB\",\"IVA\",\"IVB\"), annotation_row$Clinical.stage,\n",
    "                                       ifelse(annotation_row$Clinical.stage %in% c(\"IIA\",\"IIB\"), \"II\", NA))\n",
    "annotation_row$TNM = ifelse(annotation_row$TNM %in% as.character(unique(annotation_row$TNM)[grep(\"T1|T2|T3|T4\",unique(annotation_row$TNM))]), annotation_row$TNM, NA)\n",
    "annotation_row$liver.invasion = ifelse(annotation_row$histological.type.short %in% c(\"adeno\", \"adeno squa\", \"neuro\", \"squa\", \"undiff\"), annotation_row$liver.invasion, NA)\n",
    "annotation_row$Bile.duct.invasion = ifelse(annotation_row$histological.type.short %in% c(\"adeno\", \"adeno squa\", \"neuro\", \"squa\", \"undiff\"), annotation_row$Bile.duct.invasion, NA)\n",
    "annotation_row$Vascular.invasion = ifelse(annotation_row$histological.type.short %in% c(\"adeno\", \"adeno squa\", \"neuro\", \"squa\", \"undiff\"), annotation_row$Vascular.invasion, NA)\n",
    "annotation_row$Lymph.node.metastasis = ifelse(annotation_row$histological.type.short %in% c(\"adeno\", \"adeno squa\", \"neuro\", \"squa\", \"undiff\"), annotation_row$Lymph.node.metastasis, NA)\n",
    "annotation_row$Liver.metastasis = ifelse(annotation_row$histological.type.short %in% c(\"adeno\", \"adeno squa\", \"neuro\", \"squa\", \"undiff\"), annotation_row$Liver.metastasis, NA)\n",
    "annotation_row$Peritoneal..metastasis = ifelse(annotation_row$histological.type.short %in% c(\"adeno\", \"adeno squa\", \"neuro\", \"squa\", \"undiff\"), annotation_row$Peritoneal..metastasis, NA)\n",
    "annotation_row$Differentiation = ifelse(annotation_row$histological.type.short %in% c(\"adeno\", \"adeno squa\", \"neuro\", \"squa\", \"undiff\"), annotation_row$Differentiation, NA)\n",
    "annotation_row$Age = ifelse(annotation_row$Age < 50, \"<50\", ifelse(annotation_row$Age > 65, \">65\", \"50~65\"))\n",
    "\n",
    "\n",
    "annotation_row$histological.type.short = factor(annotation_row$histological.type.short, levels = c(\"CC\", \"XGC\", \"LG\", \"HG\", \"adeno\", \"adeno squa\", \"squa\", \"neuro\", \"undiff\"))\n",
    "annotation_row$Tumors.for.scRNA.seq.short = factor(annotation_row$Tumors.for.scRNA.seq.short, levels = c(\"P\", \"PO\", \"LN\", \"LI\", \"LM\", \"OM\"))\n",
    "annotation_row$Clinical.stage = factor(annotation_row$Clinical.stage, levels = c(\"I\",\"II\",\"IIIA\",\"IIIB\",\"IVA\",\"IVB\"))\n",
    "annotation_row$TNM = factor(annotation_row$TNM, levels = sort(unique(annotation_row$TNM)))\n",
    "annotation_row$Sex = factor(annotation_row$Sex, levels = c(\"M\",\"F\"))\n",
    "annotation_row$Age = factor(annotation_row$Age, levels = c(\"<50\",\"50~65\",\">65\"))\n",
    "\n",
    "\n",
    "rownames(annotation_row) = annotation_row$NewSample.ID\n",
    "annotation_row = annotation_row[,-1]\n",
    "\n",
    "\n",
    "\n"
   ]
  },
  {
   "cell_type": "code",
   "execution_count": 14,
   "id": "b40c6318-1233-40ea-9d31-a7309d9f1759",
   "metadata": {
    "tags": []
   },
   "outputs": [],
   "source": [
    "### 2.2 clinical data plot:top annotation\n",
    "annotation_col_ha = ComplexHeatmap::HeatmapAnnotation(`mutation_number` = anno_barplot(variant_number[rownames(annotation_row),2]),\n",
    "                                                      `Type` = annotation_row$histological.type.short,\n",
    "                                                      `Site` = annotation_row$Tumors.for.scRNA.seq.short,\n",
    "                                                      `Gender` = annotation_row$Sex,\n",
    "                                                      `Age` = annotation_row$Age,\n",
    "                                                      `Polyps` = annotation_row$Polyps,\n",
    "                                                      `Gallstones` = annotation_row$Gallstones,\n",
    "                                                      `PBM` = annotation_row$PBM,\n",
    "                                                      `Atrophic cholecystitis` = annotation_row$Atrophic.cholecystitis,\n",
    "                                                      `Clinical stage` = annotation_row$Clinical.stage,\n",
    "                                                      `TNM` = annotation_row$TNM,\n",
    "                                                      `Differentiation` = annotation_row$Differentiation,\n",
    "                                                      `Liver invasion` = annotation_row$liver.invasion,\n",
    "                                                      `Bile duct invasion` = annotation_row$Bile.duct.invasion,\n",
    "                                                      `Vascular invasion` = annotation_row$Vascular.invasion,\n",
    "                                                      `Lymph node metastasis` = annotation_row$Lymph.node.metastasis,\n",
    "                                                      `Liver metastasis` = annotation_row$Liver.metastasis,\n",
    "                                                      `Peritoneal metastasis` = annotation_row$Peritoneal..metastasis,\n",
    "                                                      \n",
    "                                                      na_col = \"white\",\n",
    "                                                      annotation_name_side = \"left\",\n",
    "                                                      \n",
    "                                                      col = list(`Type` = c(\"adeno\" = mycol[2],\n",
    "                                                                            \"adeno squa\" = mycol[3],\n",
    "                                                                            \"CC\" = mycol[4],\n",
    "                                                                            \"HG\" = mycol[5],\n",
    "                                                                            \"LG\" = mycol[6],\n",
    "                                                                            \"neuro\" = mycol[7],\n",
    "                                                                            \"squa\" = mycol[8],\n",
    "                                                                            \"undiff\" = mycol[9],\n",
    "                                                                            \"XGC\" = mycol[10]),\n",
    "                                                                 `Site` = c(\"LI\" = mycol[12],\n",
    "                                                                            \"LM\" = mycol[13],\n",
    "                                                                            \"LN\" = mycol[11],\n",
    "                                                                            \"OM\" = mycol[15],\n",
    "                                                                            \"P\" = mycol[16],\n",
    "                                                                            \"PO\" = mycol[18]),\n",
    "                                                                 `Gender` = c(\"F\" = mycol[19],\n",
    "                                                                              \"M\" = mycol[12]),\n",
    "                                                                 `Age` = c(\"<50\" = mycol[2], \n",
    "                                                                           \"50~65\" = mycol[18], \n",
    "                                                                           \">65\" = mycol[8]),\n",
    "                                                                 `Polyps` = c(\"Yes\" = mycol[10],\n",
    "                                                                              \"No\" = mycol[20]),\n",
    "                                                                 `Gallstones` = c(\"Yes\" = mycol[10],\n",
    "                                                                                  \"No\" = mycol[20]),\n",
    "                                                                 `PBM` = c(\"Yes\" = mycol[10],\n",
    "                                                                           \"No\" = mycol[20]),\n",
    "                                                                 `Atrophic cholecystitis` = c(\"Yes\" = mycol[10],\n",
    "                                                                                              \"No\" = mycol[20]),\n",
    "                                                                 `Clinical stage` = c(\"I\" = mycol[15],\n",
    "                                                                                      \"II\" = mycol[22],\n",
    "                                                                                      \"IIIA\" = mycol[3],\n",
    "                                                                                      \"IIIB\" = mycol[7],\n",
    "                                                                                      \"IVA\" = mycol[9],\n",
    "                                                                                      \"IVB\" = mycol[16]),\n",
    "                                                                 `TNM` = c(\"T1bN0M0\" = mycol[22],\n",
    "                                                                           \"T2aN0M0\" = mycol[21],\n",
    "                                                                           \"T2aN1M0\" = mycol[20],\n",
    "                                                                           \"T2bN0M0\" = mycol[19],\n",
    "                                                                           \"T2bN1M0\" = mycol[18],\n",
    "                                                                           \"T2bNxM0\" = mycol[17],\n",
    "                                                                           \"T3N0M0\" = mycol[16],\n",
    "                                                                           \"T3N0M1\" = mycol[15],\n",
    "                                                                           \"T3N1M0\" = mycol[14],\n",
    "                                                                           \"T3N1M1\" = mycol[13],\n",
    "                                                                           \"T3N2M0\" = mycol[12],\n",
    "                                                                           \"T3N2M1\" = mycol[11],\n",
    "                                                                           \"T3NxM0\" = mycol[10],\n",
    "                                                                           \"T3NxM1\" = mycol[9],\n",
    "                                                                           \"T4N0M0\" = mycol[8],\n",
    "                                                                           \"T4N1M0\" = mycol[7],\n",
    "                                                                           \"T4N1M1\" = mycol[6],\n",
    "                                                                           \"T4N2M0\" = mycol[5],\n",
    "                                                                           \"T4N2M1\" = mycol[4],\n",
    "                                                                           \"T4NxM0\" = mycol[3],\n",
    "                                                                           \"T4NxM1\" = mycol[2]),\n",
    "                                                                 `Differentiation` = c(\"Good\" = mycol[15],\n",
    "                                                                                       \"Moderate\" = mycol[22],\n",
    "                                                                                       \"Moderate & poor\" = mycol[7],\n",
    "                                                                                       \"Poor\" = mycol[16]),\n",
    "                                                                 `Liver invasion` = c(\"Yes\" = mycol[10],\n",
    "                                                                                      \"No\" = mycol[20]),\n",
    "                                                                 `Bile duct invasion` = c(\"Yes\" = mycol[10],\n",
    "                                                                                          \"No\" = mycol[20]),\n",
    "                                                                 `Vascular invasion` = c(\"Yes\" = mycol[10],\n",
    "                                                                                         \"No\" = mycol[20]),\n",
    "                                                                 `Lymph node metastasis` = c(\"Yes\" = mycol[10],\n",
    "                                                                                             \"No\" = mycol[20]),\n",
    "                                                                 `Liver metastasis` = c(\"Yes\" = mycol[10],\n",
    "                                                                                        \"No\" = mycol[20]),\n",
    "                                                                 `Peritoneal metastasis` = c(\"Yes\" = mycol[10],\n",
    "                                                                                             \"No\" = mycol[20]))\n",
    ")\n",
    "\n"
   ]
  },
  {
   "cell_type": "code",
   "execution_count": 15,
   "id": "2b477d47-78c3-485e-8aec-34c2a8204ad3",
   "metadata": {},
   "outputs": [
    {
     "name": "stderr",
     "output_type": "stream",
     "text": [
      "Warning message:\n",
      "“`offset` is deprecated, use `location` instead.”\n",
      "Warning message:\n",
      "“`offset` is deprecated, use `location` instead.”\n"
     ]
    }
   ],
   "source": [
    "## 3.1 right annotation\n",
    "mutation = read.csv(\"./public/public_final.txt\",sep = \"\\t\")\n",
    "row_ha = rowAnnotation(Nepal2021 = mutation[,1], Li2018 = mutation[,2])\n",
    "row_ha = rowAnnotation(Nepal2021 = anno_text(as.character(percent(mutation[,2],0)), rot = 0, just = \"left\", offset = unit(2, \"mm\")),\n",
    "                      Li2018 = anno_text(as.character(percent(mutation[,3],0)), rot = 0, just = \"left\", offset = unit(2, \"mm\")))"
   ]
  },
  {
   "cell_type": "code",
   "execution_count": null,
   "id": "69c45f90-5199-4e98-843a-1c3c046d5fa9",
   "metadata": {},
   "outputs": [],
   "source": [
    "barplot_anno <- anno_barplot(cbind(bar_data$value1, bar_data$value2),\n",
    "                              gp = gpar(fill = c(\"blue\", \"red\")),\n",
    "                              border = TRUE,\n",
    "                              width = unit(3, \"cm\"),\n",
    "                              axis = TRUE,\n",
    "                              axis_param = list(at = 1:length(bar_data$gene), \n",
    "                                               labels = bar_data$gene))\n"
   ]
  },
  {
   "cell_type": "code",
   "execution_count": 113,
   "id": "a37d93c7-2fb1-4b99-a43e-8db47fabbe21",
   "metadata": {},
   "outputs": [],
   "source": [
    "bar_data_1 = -log10(MutsigCV$p[1:20])\n",
    "bar_data_2 = -log10(MutsigCV$q[1:20])\n",
    "# bar_data_2[MutsigCV$q[1:20]>0.05] = 0\n",
    "# anno_barplot1 = anno_barplot(bar_data_1,rotate = 180,boder = FALSE,gp = gpar(fill = c(\"#b4b4b4\")),axis = TRUE)\n",
    "# anno_barplot2 = anno_barplot(bar_data_2,rotate = 180,boder = FALSE,gp = gpar(fill = c(\"#f0f0f0\")),axis = FALSE)"
   ]
  },
  {
   "cell_type": "code",
   "execution_count": 119,
   "id": "a7a14777-1119-4dc3-988b-35b8082daa45",
   "metadata": {},
   "outputs": [
    {
     "name": "stderr",
     "output_type": "stream",
     "text": [
      "All mutation types: Nonsense_Mutation, Missense_Mutation,\n",
      "Frame_Shift_Del, Translation_Start_Site, Frame_Shift_Ins, Multi_Hit,\n",
      "In_Frame_Ins, In_Frame_Del.\n",
      "\n",
      "Warning message:\n",
      "“You defined `cell_fun` for a heatmap with more than 100 rows or\n",
      "columns, which might be very slow to draw. Consider to use the\n",
      "vectorized version `layer_fun`.”\n",
      "Following `at` are removed: Nonstop_Mutation, because no color was\n",
      "defined for them.\n",
      "\n",
      "Following `at` are removed: Nonstop_Mutation, because no color was\n",
      "defined for them.\n",
      "\n",
      "Following `at` are removed: Nonstop_Mutation, because no color was\n",
      "defined for them.\n",
      "\n"
     ]
    },
    {
     "data": {
      "text/html": [
       "<strong>png:</strong> 2"
      ],
      "text/latex": [
       "\\textbf{png:} 2"
      ],
      "text/markdown": [
       "**png:** 2"
      ],
      "text/plain": [
       "png \n",
       "  2 "
      ]
     },
     "metadata": {},
     "output_type": "display_data"
    }
   ],
   "source": [
    "# ha <- HeatmapAnnotation(metastasis.type = pdata$metastasis.type,col = list(metastasis.type = col_metastasis.type))\n",
    "# column_split = annotation_row$histological.type.short\n",
    "pdf(\"./figures/oncoprint_anno_AllV3.pdf\",width = 16,height = 8)\n",
    "oncoPrint(matMut,alter_fun = alter_fun,alter_fun_is_vectorized = FALSE,row_names_side = \"left\",\n",
    "          pct_side = \"right\",col = col,top_annotation = annotation_col_ha,\n",
    "          heatmap_legend_param = heatmap_legend_param,show_column_names = FALSE,row_order = rownames(matMut),\n",
    "          left_annotation = rowAnnotation(log10pvalue = anno_barplot(bar_data_1,rotate = 180,boder = FALSE,gp = gpar(fill = c(\"#f0f0f0\")),axis = TRUE,ylim = c(0,15),width = unit(3, \"cm\"),bar_width = 0.8),\n",
    "                                         \"-log adj p-value\" = anno_barplot(bar_data_2,rotate = 180,boder = FALSE,gp = gpar(fill = c(\"#b4b4b4\")),axis = TRUE,ylim = c(0,15),width = unit(3, \"cm\"),bar_width = 0.8)\n",
    "                                        )\n",
    "         )\n",
    "decorate_annotation(\"-log adj p-value\", {\n",
    "  grid.lines(c(-log10(0.05), -log10(0.05)), c(0.5, 22), gp = gpar(lty = 2, col = \"red\"),\n",
    "             default.units = \"native\")\n",
    "})\n",
    "dev.off()"
   ]
  },
  {
   "cell_type": "code",
   "execution_count": 1270,
   "id": "7aee4c03-c66c-40ce-9fde-764e63f2cd02",
   "metadata": {},
   "outputs": [],
   "source": [
    "patient_info = read.csv(\"../patient_info/xzh_220109_final_wyh_220426.csv\",row.names = 1)\n",
    "patient_info$metastasis.type[patient_info$metastasis.type==\"P_LI\"] = \"P\"\n",
    "patient_info$metastasis.type[patient_info$metastasis.type %in% c(\"P_LN\",\"P_LM\")] = \"P_Metas\"\n",
    "patient_info$metastasis.type = as.character(patient_info$metastasis.type)\n",
    "# patient_info$metastasis.type = factor(patient_info$metastasis.type,levels = c(\"P\",\"P_LN\",\"P_LM\"))\n",
    "\n",
    "patient_info$Clinical.stage[patient_info$Clinical.stage %in% c(\"IIA\",\"IIB\")] = \"II\"\n",
    "patient_info$Clinical.stage = factor(patient_info$Clinical.stage,levels = c(\"I\",\"II\",\"IIIA\",\"IIIB\",\"IVA\",\"IVB\"))\n",
    "\n",
    "patient_info$Tumors.for.scRNA.seq.short = factor(patient_info$Tumors.for.scRNA.seq.short,levels = c(\"P\",\"PO\",\"LN\",\"LI\",\"LM\",\"OM\"))"
   ]
  },
  {
   "cell_type": "code",
   "execution_count": 1271,
   "id": "e866dab0-929b-4830-b362-a1756217007b",
   "metadata": {},
   "outputs": [],
   "source": [
    "maf_all$NewSample.ID = maf_all$Tumor_Sample_Barcode\n",
    "maf_all = merge(maf_all,patient_info)"
   ]
  },
  {
   "cell_type": "code",
   "execution_count": 293,
   "id": "6e77659f",
   "metadata": {},
   "outputs": [
    {
     "name": "stderr",
     "output_type": "stream",
     "text": [
      "Warning message in wilcox.test.default(c(1.42, 2.1, 0.56, 1, 2.56, 0.86, 0.58, 0.6, :\n",
      "“cannot compute exact p-value with ties”\n"
     ]
    },
    {
     "data": {
      "image/png": "[encoded data removed]",
      "text/plain": [
       "plot without title"
      ]
     },
     "metadata": {
      "image/png": {
       "height": 420,
       "width": 420
      }
     },
     "output_type": "display_data"
    }
   ],
   "source": [
    "\n",
    "maf_P = maf_all[maf_all$Tumors.for.scRNA.seq.short==\"P\" & maf_all$histological.type.short==\"adeno\",]\n",
    "maf_P = maf_P[maf_P$total<1000,]\n",
    "# maf_P$metastasis.type[maf_P$metastasis.type==\"P_LI\"] = \"P\"\n",
    "# maf_P$metastasis.type = factor(maf_P$metastasis.type,levels = c(\"P\",\"P_LN\",\"P_LM\"))\n",
    "library(ggpubr)\n",
    "text_size = 20\n",
    "# png(\"./summary/figures/TMB.png\")\n",
    "ggplot(maf_P,aes(x = metastasis.type,y = TMB))+geom_boxplot(color = c(\"red\",\"green\"))+ stat_compare_means(comparisons = list(\n",
    "  c(\"P\",\"P_Metas\")\n",
    "),method = \"wilcox.test\",bracket.size = 1,size = 6)+ggtitle(\"TMB\")+geom_jitter(width=0.2)+\n",
    "  theme(panel.grid.major = element_blank(),panel.grid.minor = element_blank(),panel.background = element_blank(), \n",
    "                                               axis.line = element_line(colour = \"black\"),\n",
    "                                               legend.position = \"none\",\n",
    "                                               axis.text.x = element_text(color=\"black\", size=text_size),\n",
    "                                               axis.text.y = element_text(color=\"black\", size=text_size),\n",
    "                                               axis.title=element_text(size=text_size),\n",
    "                                               legend.text=element_text(size=text_size),\n",
    "                                               legend.title=element_text(size=text_size),\n",
    "                                               plot.title =element_text(hjust = 0.5, size = 20))\n",
    "# dev.off()\n",
    "\n"
   ]
  },
  {
   "cell_type": "code",
   "execution_count": 294,
   "id": "a0127aa5",
   "metadata": {},
   "outputs": [],
   "source": [
    "maf = maf_all[maf_all$total<1000,]"
   ]
  },
  {
   "cell_type": "code",
   "execution_count": 1274,
   "id": "32c5076d-e9f6-43d7-83b1-ed314aecf514",
   "metadata": {},
   "outputs": [],
   "source": [
    "ggplot_list = list()"
   ]
  },
  {
   "cell_type": "code",
   "execution_count": 1275,
   "id": "9d10c6d4-0ca4-4e60-8514-c91989d07c74",
   "metadata": {},
   "outputs": [],
   "source": [
    "# maf$Clinical.stage = factor(maf$Clinical.stage,c(\"I\",\"II\",\"IIIA\",\"IIIB\",\"IVA\",\"IVB\"))\n",
    "ggplot_list[[1]] = ggboxplot(maf_all, x = \"Clinical.stage\", y = \"TMB\",\n",
    "               color = \"Clinical.stage\", palette = \"jco\",add = \"jitter\")+\n",
    "stat_compare_means(method = \"anova\")+theme(axis.title.x = element_blank())+theme(legend.position=\"none\")\n"
   ]
  },
  {
   "cell_type": "code",
   "execution_count": 1276,
   "id": "80437d8d-b064-46ea-a0af-bc14e1625cde",
   "metadata": {},
   "outputs": [],
   "source": [
    "\n",
    "ggplot_list[[2]] = ggboxplot(maf_all, x = \"Tumors.for.scRNA.seq.short\", y = \"TMB\",\n",
    "               color = \"Tumors.for.scRNA.seq.short\", palette = \"jco\",add = \"jitter\")+\n",
    "stat_compare_means(method = \"anova\")+theme(axis.title.x = element_blank())+theme(legend.position=\"none\")\n"
   ]
  },
  {
   "cell_type": "code",
   "execution_count": 307,
   "id": "5d6d2c04-7e8f-4352-ac5b-f1275c739a96",
   "metadata": {},
   "outputs": [],
   "source": [
    "ggplot_list[[3]] = ggboxplot(maf_all, x = \"Clinical.stage\", y = \"cnv_count\",\n",
    "               color = \"Clinical.stage\", palette = \"jco\",add = \"jitter\")+\n",
    "stat_compare_means(method = \"anova\")+theme(axis.title.x = element_blank())+theme(legend.position=\"none\")\n"
   ]
  },
  {
   "cell_type": "code",
   "execution_count": 308,
   "id": "0f70cd3e-3165-4259-9585-eb8f51395799",
   "metadata": {},
   "outputs": [],
   "source": [
    "ggplot_list[[4]] = ggboxplot(maf_all, x = \"Tumors.for.scRNA.seq.short\", y = \"cnv_count\",\n",
    "               color = \"Tumors.for.scRNA.seq.short\", palette = \"jco\",add = \"jitter\")+\n",
    "stat_compare_means(method = \"anova\")+theme(axis.title.x = element_blank())+theme(legend.position=\"none\")\n"
   ]
  },
  {
   "cell_type": "code",
   "execution_count": 1279,
   "id": "d703e4e6-5653-435a-9af6-b29d7139ae5a",
   "metadata": {},
   "outputs": [
    {
     "data": {
      "text/html": [
       "<strong>png:</strong> 2"
      ],
      "text/latex": [
       "\\textbf{png:} 2"
      ],
      "text/markdown": [
       "**png:** 2"
      ],
      "text/plain": [
       "png \n",
       "  2 "
      ]
     },
     "metadata": {},
     "output_type": "display_data"
    }
   ],
   "source": [
    "pdf(\"./figures/TMB_cnv_count.pdf\",height = 4,width = 8)\n",
    "ggplot_list[[1]]+ggplot_list[[2]]\n",
    "dev.off()"
   ]
  },
  {
   "cell_type": "markdown",
   "id": "cdde068a-bd59-4a99-a02b-aafd94e84b12",
   "metadata": {},
   "source": [
    "## 2.compare pair sample mutation"
   ]
  },
  {
   "cell_type": "code",
   "execution_count": 12,
   "id": "9054cefb-3589-4576-8777-22b3292f010e",
   "metadata": {},
   "outputs": [],
   "source": [
    "onco_matrix_all = read.csv(\"./onco_matrix_105_patient.csv\",row.names = 1)\n",
    "# onco_matrix_filter = read.csv(\"./onco_matrix_filter.csv\",row.names = 1)"
   ]
  },
  {
   "cell_type": "code",
   "execution_count": 13,
   "id": "557745a7-573b-49be-8009-33712e5d732f",
   "metadata": {},
   "outputs": [],
   "source": [
    "patient_LI_info = data.frame(\"Pair\" = colnames(onco_matrix_all)[grepl(pattern = \"LI\",colnames(onco_matrix_all))])\n",
    "patient_LI_info$Primary = apply(patient_LI_info,FUN = function(i){paste0(substr(i, 1, nchar(i) - 2), \"P\")},MARGIN = 1)\n",
    "\n",
    "patient_LM_info = data.frame(\"Pair\" = colnames(onco_matrix_all)[grepl(pattern = \"LM\",colnames(onco_matrix_all))])\n",
    "patient_LM_info$Primary = apply(patient_LM_info,FUN = function(i){paste0(substr(i, 1, nchar(i) - 2), \"P\")},MARGIN = 1)\n",
    "\n",
    "patient_LN_info = data.frame(\"Pair\" = colnames(onco_matrix_all)[grepl(pattern = \"LN\",colnames(onco_matrix_all))])\n",
    "patient_LN_info$Primary = apply(patient_LN_info,FUN = function(i){paste0(substr(i, 1, nchar(i) - 2), \"P\")},MARGIN = 1)\n",
    "\n",
    "patient_OM_info = data.frame(\"Pair\" = colnames(onco_matrix_all)[grepl(pattern = \"OM\",colnames(onco_matrix_all))])\n",
    "patient_OM_info$Primary = apply(patient_OM_info,FUN = function(i){paste0(substr(i, 1, nchar(i) - 2), \"P\")},MARGIN = 1)\n",
    "\n",
    "patient_PO_info = data.frame(\"Pair\" = colnames(onco_matrix_all)[grepl(pattern = \"PO\",colnames(onco_matrix_all))])\n",
    "patient_PO_info$Primary = apply(patient_PO_info,FUN = function(i){paste0(substr(i, 1, nchar(i) - 2), \"P\")},MARGIN = 1)"
   ]
  },
  {
   "cell_type": "code",
   "execution_count": 14,
   "id": "86d73fb2-e1c5-4ce8-ac74-93981d8c4f18",
   "metadata": {
    "tags": []
   },
   "outputs": [],
   "source": [
    "all_pair_sample = rbind(patient_LI_info,patient_LM_info,patient_LN_info,patient_OM_info,patient_PO_info)\n",
    "all_pair_sample = all_pair_sample[all_pair_sample[,1] %in% colnames(onco_matrix_all) & all_pair_sample[,2] %in% colnames(onco_matrix_all),]"
   ]
  },
  {
   "cell_type": "code",
   "execution_count": 15,
   "id": "162d578f-61b7-4642-86fc-0dab488c62d9",
   "metadata": {},
   "outputs": [],
   "source": [
    "patient_list = list()\n",
    "for(ipatient in all_pair_sample$Primary){\n",
    "    patient_list[[ipatient]] = all_pair_sample[all_pair_sample$Primary==ipatient,\"Pair\"]\n",
    "}"
   ]
  },
  {
   "cell_type": "code",
   "execution_count": 18,
   "id": "4d31f431-0da1-40bd-b191-7a2d2cbd6b12",
   "metadata": {},
   "outputs": [
    {
     "data": {
      "text/html": [
       "<style>\n",
       ".list-inline {list-style: none; margin:0; padding: 0}\n",
       ".list-inline>li {display: inline-block}\n",
       ".list-inline>li:not(:last-child)::after {content: \"\\00b7\"; padding: 0 .5ex}\n",
       "</style>\n",
       "<ol class=list-inline><li>3554</li><li>48</li></ol>\n"
      ],
      "text/latex": [
       "\\begin{enumerate*}\n",
       "\\item 3554\n",
       "\\item 48\n",
       "\\end{enumerate*}\n"
      ],
      "text/markdown": [
       "1. 3554\n",
       "2. 48\n",
       "\n",
       "\n"
      ],
      "text/plain": [
       "[1] 3554   48"
      ]
     },
     "metadata": {},
     "output_type": "display_data"
    }
   ],
   "source": [
    "onco_matrix_all_pair = onco_matrix_all[,unique(c(all_pair_sample[,1],all_pair_sample[,2]))]\n",
    "dim(onco_matrix_all_pair)"
   ]
  },
  {
   "cell_type": "code",
   "execution_count": 19,
   "id": "614b93ed-d64b-4d0f-814f-e4c33c2533a1",
   "metadata": {
    "tags": []
   },
   "outputs": [
    {
     "data": {
      "text/html": [
       "<table class=\"dataframe\">\n",
       "<caption>A data.frame: 6 × 48</caption>\n",
       "<thead>\n",
       "\t<tr><th></th><th scope=col>GBC_074_LI</th><th scope=col>GBC_069_LI</th><th scope=col>GBC_010_LI</th><th scope=col>GBC_025_LI</th><th scope=col>GBC_012_LI</th><th scope=col>GBC_058_LI</th><th scope=col>GBC_036_LI</th><th scope=col>GBC_017_LI</th><th scope=col>GBC_042_LI</th><th scope=col>GBC_077_LM</th><th scope=col>⋯</th><th scope=col>GBC_040_P</th><th scope=col>GBC_078_P</th><th scope=col>GBC_071_P</th><th scope=col>GBC_063_P</th><th scope=col>GBC_046_P</th><th scope=col>GBC_056_P</th><th scope=col>GBC_067_P</th><th scope=col>GBC_028_P</th><th scope=col>GBC_008_P</th><th scope=col>GBC_047_P</th></tr>\n",
       "\t<tr><th></th><th scope=col>&lt;dbl&gt;</th><th scope=col>&lt;dbl&gt;</th><th scope=col>&lt;dbl&gt;</th><th scope=col>&lt;dbl&gt;</th><th scope=col>&lt;dbl&gt;</th><th scope=col>&lt;dbl&gt;</th><th scope=col>&lt;dbl&gt;</th><th scope=col>&lt;dbl&gt;</th><th scope=col>&lt;dbl&gt;</th><th scope=col>&lt;dbl&gt;</th><th scope=col>⋯</th><th scope=col>&lt;dbl&gt;</th><th scope=col>&lt;dbl&gt;</th><th scope=col>&lt;dbl&gt;</th><th scope=col>&lt;dbl&gt;</th><th scope=col>&lt;dbl&gt;</th><th scope=col>&lt;dbl&gt;</th><th scope=col>&lt;dbl&gt;</th><th scope=col>&lt;dbl&gt;</th><th scope=col>&lt;dbl&gt;</th><th scope=col>&lt;dbl&gt;</th></tr>\n",
       "</thead>\n",
       "<tbody>\n",
       "\t<tr><th scope=row>GBC_074_LI</th><td>        NA</td><td>0.01111111</td><td>0.01315789</td><td>0.02666667</td><td>0.01587302</td><td> 0</td><td>0.000000000</td><td>0</td><td>0.000000000</td><td>0.02564103</td><td>⋯</td><td>0.02816901</td><td>0.005333333</td><td>0.02597403</td><td>0.012987013</td><td>0.014084507</td><td>0.007692308</td><td>0.01369863</td><td>0.00000000</td><td>0</td><td>0</td></tr>\n",
       "\t<tr><th scope=row>GBC_069_LI</th><td>0.01111111</td><td>        NA</td><td>0.04109589</td><td>0.01333333</td><td>0.05000000</td><td> 0</td><td>0.000000000</td><td>0</td><td>0.000000000</td><td>0.02597403</td><td>⋯</td><td>0.01408451</td><td>0.005347594</td><td>0.01298701</td><td>0.000000000</td><td>0.000000000</td><td>0.000000000</td><td>0.00000000</td><td>0.01190476</td><td>0</td><td>0</td></tr>\n",
       "\t<tr><th scope=row>GBC_010_LI</th><td>0.01315789</td><td>0.04109589</td><td>        NA</td><td>0.03333333</td><td>0.04255319</td><td> 0</td><td>0.034482759</td><td>0</td><td>0.014705882</td><td>0.03174603</td><td>⋯</td><td>0.01754386</td><td>0.005555556</td><td>0.01587302</td><td>0.000000000</td><td>0.017857143</td><td>0.000000000</td><td>0.00000000</td><td>0.00000000</td><td>0</td><td>0</td></tr>\n",
       "\t<tr><th scope=row>GBC_025_LI</th><td>0.02666667</td><td>0.01333333</td><td>0.03333333</td><td>        NA</td><td>0.02083333</td><td> 0</td><td>0.000000000</td><td>0</td><td>0.014705882</td><td>0.01562500</td><td>⋯</td><td>0.01754386</td><td>0.008356546</td><td>0.03225806</td><td>0.000000000</td><td>0.000000000</td><td>0.000000000</td><td>0.00000000</td><td>0.00000000</td><td>0</td><td>0</td></tr>\n",
       "\t<tr><th scope=row>GBC_012_LI</th><td>0.01587302</td><td>0.05000000</td><td>0.04255319</td><td>0.02083333</td><td>        NA</td><td> 0</td><td>0.000000000</td><td>0</td><td>0.000000000</td><td>0.04000000</td><td>⋯</td><td>0.02272727</td><td>0.002873563</td><td>0.02000000</td><td>0.000000000</td><td>0.000000000</td><td>0.000000000</td><td>0.02222222</td><td>0.00000000</td><td>0</td><td>0</td></tr>\n",
       "\t<tr><th scope=row>GBC_058_LI</th><td>0.00000000</td><td>0.00000000</td><td>0.00000000</td><td>0.00000000</td><td>0.00000000</td><td>NA</td><td>0.007751938</td><td>0</td><td>0.007246377</td><td>0.00000000</td><td>⋯</td><td>0.00000000</td><td>0.014084507</td><td>0.00000000</td><td>0.007575758</td><td>0.007936508</td><td>0.010869565</td><td>0.01574803</td><td>0.00000000</td><td>0</td><td>0</td></tr>\n",
       "</tbody>\n",
       "</table>\n"
      ],
      "text/latex": [
       "A data.frame: 6 × 48\n",
       "\\begin{tabular}{r|lllllllllllllllllllll}\n",
       "  & GBC\\_074\\_LI & GBC\\_069\\_LI & GBC\\_010\\_LI & GBC\\_025\\_LI & GBC\\_012\\_LI & GBC\\_058\\_LI & GBC\\_036\\_LI & GBC\\_017\\_LI & GBC\\_042\\_LI & GBC\\_077\\_LM & ⋯ & GBC\\_040\\_P & GBC\\_078\\_P & GBC\\_071\\_P & GBC\\_063\\_P & GBC\\_046\\_P & GBC\\_056\\_P & GBC\\_067\\_P & GBC\\_028\\_P & GBC\\_008\\_P & GBC\\_047\\_P\\\\\n",
       "  & <dbl> & <dbl> & <dbl> & <dbl> & <dbl> & <dbl> & <dbl> & <dbl> & <dbl> & <dbl> & ⋯ & <dbl> & <dbl> & <dbl> & <dbl> & <dbl> & <dbl> & <dbl> & <dbl> & <dbl> & <dbl>\\\\\n",
       "\\hline\n",
       "\tGBC\\_074\\_LI &         NA & 0.01111111 & 0.01315789 & 0.02666667 & 0.01587302 &  0 & 0.000000000 & 0 & 0.000000000 & 0.02564103 & ⋯ & 0.02816901 & 0.005333333 & 0.02597403 & 0.012987013 & 0.014084507 & 0.007692308 & 0.01369863 & 0.00000000 & 0 & 0\\\\\n",
       "\tGBC\\_069\\_LI & 0.01111111 &         NA & 0.04109589 & 0.01333333 & 0.05000000 &  0 & 0.000000000 & 0 & 0.000000000 & 0.02597403 & ⋯ & 0.01408451 & 0.005347594 & 0.01298701 & 0.000000000 & 0.000000000 & 0.000000000 & 0.00000000 & 0.01190476 & 0 & 0\\\\\n",
       "\tGBC\\_010\\_LI & 0.01315789 & 0.04109589 &         NA & 0.03333333 & 0.04255319 &  0 & 0.034482759 & 0 & 0.014705882 & 0.03174603 & ⋯ & 0.01754386 & 0.005555556 & 0.01587302 & 0.000000000 & 0.017857143 & 0.000000000 & 0.00000000 & 0.00000000 & 0 & 0\\\\\n",
       "\tGBC\\_025\\_LI & 0.02666667 & 0.01333333 & 0.03333333 &         NA & 0.02083333 &  0 & 0.000000000 & 0 & 0.014705882 & 0.01562500 & ⋯ & 0.01754386 & 0.008356546 & 0.03225806 & 0.000000000 & 0.000000000 & 0.000000000 & 0.00000000 & 0.00000000 & 0 & 0\\\\\n",
       "\tGBC\\_012\\_LI & 0.01587302 & 0.05000000 & 0.04255319 & 0.02083333 &         NA &  0 & 0.000000000 & 0 & 0.000000000 & 0.04000000 & ⋯ & 0.02272727 & 0.002873563 & 0.02000000 & 0.000000000 & 0.000000000 & 0.000000000 & 0.02222222 & 0.00000000 & 0 & 0\\\\\n",
       "\tGBC\\_058\\_LI & 0.00000000 & 0.00000000 & 0.00000000 & 0.00000000 & 0.00000000 & NA & 0.007751938 & 0 & 0.007246377 & 0.00000000 & ⋯ & 0.00000000 & 0.014084507 & 0.00000000 & 0.007575758 & 0.007936508 & 0.010869565 & 0.01574803 & 0.00000000 & 0 & 0\\\\\n",
       "\\end{tabular}\n"
      ],
      "text/markdown": [
       "\n",
       "A data.frame: 6 × 48\n",
       "\n",
       "| <!--/--> | GBC_074_LI &lt;dbl&gt; | GBC_069_LI &lt;dbl&gt; | GBC_010_LI &lt;dbl&gt; | GBC_025_LI &lt;dbl&gt; | GBC_012_LI &lt;dbl&gt; | GBC_058_LI &lt;dbl&gt; | GBC_036_LI &lt;dbl&gt; | GBC_017_LI &lt;dbl&gt; | GBC_042_LI &lt;dbl&gt; | GBC_077_LM &lt;dbl&gt; | ⋯ ⋯ | GBC_040_P &lt;dbl&gt; | GBC_078_P &lt;dbl&gt; | GBC_071_P &lt;dbl&gt; | GBC_063_P &lt;dbl&gt; | GBC_046_P &lt;dbl&gt; | GBC_056_P &lt;dbl&gt; | GBC_067_P &lt;dbl&gt; | GBC_028_P &lt;dbl&gt; | GBC_008_P &lt;dbl&gt; | GBC_047_P &lt;dbl&gt; |\n",
       "|---|---|---|---|---|---|---|---|---|---|---|---|---|---|---|---|---|---|---|---|---|---|\n",
       "| GBC_074_LI |         NA | 0.01111111 | 0.01315789 | 0.02666667 | 0.01587302 |  0 | 0.000000000 | 0 | 0.000000000 | 0.02564103 | ⋯ | 0.02816901 | 0.005333333 | 0.02597403 | 0.012987013 | 0.014084507 | 0.007692308 | 0.01369863 | 0.00000000 | 0 | 0 |\n",
       "| GBC_069_LI | 0.01111111 |         NA | 0.04109589 | 0.01333333 | 0.05000000 |  0 | 0.000000000 | 0 | 0.000000000 | 0.02597403 | ⋯ | 0.01408451 | 0.005347594 | 0.01298701 | 0.000000000 | 0.000000000 | 0.000000000 | 0.00000000 | 0.01190476 | 0 | 0 |\n",
       "| GBC_010_LI | 0.01315789 | 0.04109589 |         NA | 0.03333333 | 0.04255319 |  0 | 0.034482759 | 0 | 0.014705882 | 0.03174603 | ⋯ | 0.01754386 | 0.005555556 | 0.01587302 | 0.000000000 | 0.017857143 | 0.000000000 | 0.00000000 | 0.00000000 | 0 | 0 |\n",
       "| GBC_025_LI | 0.02666667 | 0.01333333 | 0.03333333 |         NA | 0.02083333 |  0 | 0.000000000 | 0 | 0.014705882 | 0.01562500 | ⋯ | 0.01754386 | 0.008356546 | 0.03225806 | 0.000000000 | 0.000000000 | 0.000000000 | 0.00000000 | 0.00000000 | 0 | 0 |\n",
       "| GBC_012_LI | 0.01587302 | 0.05000000 | 0.04255319 | 0.02083333 |         NA |  0 | 0.000000000 | 0 | 0.000000000 | 0.04000000 | ⋯ | 0.02272727 | 0.002873563 | 0.02000000 | 0.000000000 | 0.000000000 | 0.000000000 | 0.02222222 | 0.00000000 | 0 | 0 |\n",
       "| GBC_058_LI | 0.00000000 | 0.00000000 | 0.00000000 | 0.00000000 | 0.00000000 | NA | 0.007751938 | 0 | 0.007246377 | 0.00000000 | ⋯ | 0.00000000 | 0.014084507 | 0.00000000 | 0.007575758 | 0.007936508 | 0.010869565 | 0.01574803 | 0.00000000 | 0 | 0 |\n",
       "\n"
      ],
      "text/plain": [
       "           GBC_074_LI GBC_069_LI GBC_010_LI GBC_025_LI GBC_012_LI GBC_058_LI\n",
       "GBC_074_LI         NA 0.01111111 0.01315789 0.02666667 0.01587302  0        \n",
       "GBC_069_LI 0.01111111         NA 0.04109589 0.01333333 0.05000000  0        \n",
       "GBC_010_LI 0.01315789 0.04109589         NA 0.03333333 0.04255319  0        \n",
       "GBC_025_LI 0.02666667 0.01333333 0.03333333         NA 0.02083333  0        \n",
       "GBC_012_LI 0.01587302 0.05000000 0.04255319 0.02083333         NA  0        \n",
       "GBC_058_LI 0.00000000 0.00000000 0.00000000 0.00000000 0.00000000 NA        \n",
       "           GBC_036_LI  GBC_017_LI GBC_042_LI  GBC_077_LM ⋯ GBC_040_P \n",
       "GBC_074_LI 0.000000000 0          0.000000000 0.02564103 ⋯ 0.02816901\n",
       "GBC_069_LI 0.000000000 0          0.000000000 0.02597403 ⋯ 0.01408451\n",
       "GBC_010_LI 0.034482759 0          0.014705882 0.03174603 ⋯ 0.01754386\n",
       "GBC_025_LI 0.000000000 0          0.014705882 0.01562500 ⋯ 0.01754386\n",
       "GBC_012_LI 0.000000000 0          0.000000000 0.04000000 ⋯ 0.02272727\n",
       "GBC_058_LI 0.007751938 0          0.007246377 0.00000000 ⋯ 0.00000000\n",
       "           GBC_078_P   GBC_071_P  GBC_063_P   GBC_046_P   GBC_056_P  \n",
       "GBC_074_LI 0.005333333 0.02597403 0.012987013 0.014084507 0.007692308\n",
       "GBC_069_LI 0.005347594 0.01298701 0.000000000 0.000000000 0.000000000\n",
       "GBC_010_LI 0.005555556 0.01587302 0.000000000 0.017857143 0.000000000\n",
       "GBC_025_LI 0.008356546 0.03225806 0.000000000 0.000000000 0.000000000\n",
       "GBC_012_LI 0.002873563 0.02000000 0.000000000 0.000000000 0.000000000\n",
       "GBC_058_LI 0.014084507 0.00000000 0.007575758 0.007936508 0.010869565\n",
       "           GBC_067_P  GBC_028_P  GBC_008_P GBC_047_P\n",
       "GBC_074_LI 0.01369863 0.00000000 0         0        \n",
       "GBC_069_LI 0.00000000 0.01190476 0         0        \n",
       "GBC_010_LI 0.00000000 0.00000000 0         0        \n",
       "GBC_025_LI 0.00000000 0.00000000 0         0        \n",
       "GBC_012_LI 0.02222222 0.00000000 0         0        \n",
       "GBC_058_LI 0.01574803 0.00000000 0         0        "
      ]
     },
     "metadata": {},
     "output_type": "display_data"
    }
   ],
   "source": [
    "\n",
    "library(dplyr)\n",
    "\n",
    "df <- onco_matrix_all_pair\n",
    "\n",
    "column_combinations <- combn(colnames(df), 2) \n",
    "\n",
    "combinations_df <- data.frame(t(column_combinations))\n",
    "\n",
    "jaccard_matrix <- matrix(nrow = ncol(df), ncol = ncol(df))\n",
    "colnames(jaccard_matrix) <- rownames(jaccard_matrix) <- colnames(df)\n",
    "\n",
    "for (i in 1:ncol(column_combinations)) {\n",
    "  col1 <- column_combinations[1, i]\n",
    "  gene1 = rownames(df)[df[, col1]!=\"\"]\n",
    "  col2 <- column_combinations[2, i]\n",
    "  gene2 = rownames(df)[df[, col2]!=\"\"]\n",
    "  jaccard_matrix[col1, col2] <- length(intersect(gene1,gene2)) / length(union(gene1,gene2))\n",
    "  jaccard_matrix[col2, col1] <- jaccard_matrix[col1, col2]\n",
    "}\n",
    "\n",
    "jaccard_matrix = as.data.frame(jaccard_matrix)\n",
    "head(jaccard_matrix)"
   ]
  },
  {
   "cell_type": "code",
   "execution_count": 20,
   "id": "47a00ca9-f2e0-4b49-99a2-c1f2d54a9d40",
   "metadata": {},
   "outputs": [
    {
     "name": "stderr",
     "output_type": "stream",
     "text": [
      "Loading required package: grid\n",
      "\n",
      "Loading required package: futile.logger\n",
      "\n"
     ]
    }
   ],
   "source": [
    "library(VennDiagram)"
   ]
  },
  {
   "cell_type": "code",
   "execution_count": 21,
   "id": "b1473fd8-ed41-46fc-b591-619706eac11f",
   "metadata": {},
   "outputs": [],
   "source": [
    "samples = c(\"GBC_042_P\",\"GBC_058_P\",\"GBC_069_P\",\"GBC_074_P\")"
   ]
  },
  {
   "cell_type": "code",
   "execution_count": 22,
   "id": "00e30123-5425-44f3-bf5d-8adbd0c76eb0",
   "metadata": {},
   "outputs": [
    {
     "name": "stdout",
     "output_type": "stream",
     "text": [
      "[1] \"GBC_042_P\"\n",
      "[1] FALSE\n",
      "[1] FALSE\n",
      "[1] \"GBC_058_P\"\n",
      "[1] FALSE\n",
      "[1] FALSE\n",
      "[1] \"GBC_069_P\"\n",
      "[1] TRUE\n",
      "[1] TRUE\n",
      "[1] \"GBC_074_P\"\n",
      "[1] TRUE\n",
      "[1] TRUE\n"
     ]
    }
   ],
   "source": [
    "library(VennDiagram)\n",
    "for(isample in samples){\n",
    "    print(isample)\n",
    "    gene_1 = rownames(onco_matrix_all)[onco_matrix_all[,patient_list[[isample]][1]]!=\"\"]\n",
    "    print(\"TP53\" %in% gene_1)\n",
    "    gene_2 = rownames(onco_matrix_all)[onco_matrix_all[,patient_list[[isample]][2]]!=\"\"]\n",
    "    print(\"TP53\" %in% gene_2)\n",
    "    \n",
    "}"
   ]
  },
  {
   "cell_type": "code",
   "execution_count": 552,
   "id": "6c5b9373-b28c-4567-9734-d9c3c591d778",
   "metadata": {},
   "outputs": [],
   "source": [
    "library(VennDiagram)\n",
    "for(isample in samples){\n",
    "    gene_1 = rownames(onco_matrix_all)[onco_matrix_all[,patient_list[[isample]][1]]!=\"\"]\n",
    "    # print(gene_1)\n",
    "    gene_2 = rownames(onco_matrix_all)[onco_matrix_all[,patient_list[[isample]][2]]!=\"\"]\n",
    "    gene_3 = rownames(onco_matrix_all)[onco_matrix_all[,isample]!=\"\"]\n",
    "    # print(gene_2)\n",
    "    venn.diagram(x=list(HRG=gene_1,HVG = gene_2,HRG2 = gene_3), category.names = c(patient_list[[isample]][1],patient_list[[isample]][2],isample),fill=c(\"#FC8D62\", \"#8DA0CB\",\"red\"),\n",
    "             filename = paste0('./figures/pair_sample/venn_',isample,'.tiff'),cat.cex = 2,cex = 2,cat.pos = c(-20,20,180))\n",
    "}"
   ]
  },
  {
   "cell_type": "code",
   "execution_count": 25,
   "id": "91766f65-082f-4903-8743-5f732d8b2e57",
   "metadata": {},
   "outputs": [
    {
     "name": "stdout",
     "output_type": "stream",
     "text": [
      "           GBC_042_LI GBC_042_LM GBC_042_P\n",
      "GBC_042_LI         NA  0.4909091 0.3026316\n",
      "GBC_042_LM  0.4909091         NA 0.3815789\n",
      "GBC_042_P   0.3026316  0.3815789        NA\n",
      "           GBC_058_LI GBC_058_LN  GBC_058_P\n",
      "GBC_058_LI         NA 0.01869159 0.67924528\n",
      "GBC_058_LN 0.01869159         NA 0.02409639\n",
      "GBC_058_P  0.67924528 0.02409639         NA\n",
      "           GBC_069_LI GBC_069_LM GBC_069_P\n",
      "GBC_069_LI         NA  0.3750000 0.3977273\n",
      "GBC_069_LM  0.3750000         NA 0.5714286\n",
      "GBC_069_P   0.3977273  0.5714286        NA\n",
      "           GBC_074_LI GBC_074_LN GBC_074_P\n",
      "GBC_074_LI         NA  0.6000000 0.6111111\n",
      "GBC_074_LN  0.6000000         NA 0.5961538\n",
      "GBC_074_P   0.6111111  0.5961538        NA\n"
     ]
    }
   ],
   "source": [
    "data_plot = as.data.frame(t(as.data.frame(patient_list[samples])))\n",
    "data_plot$jaccard = 0\n",
    "for(isample in samples){\n",
    "    data_plot[isample,\"jaccard\"] = jaccard_matrix[patient_list[[isample]][1],patient_list[[isample]][2]]\n",
    "    print(jaccard_matrix[c(patient_list[[isample]],isample),c(patient_list[[isample]],isample)])\n",
    "}"
   ]
  },
  {
   "cell_type": "code",
   "execution_count": 554,
   "id": "4f2cb253-6490-46df-820f-7ffa4e632581",
   "metadata": {},
   "outputs": [
    {
     "data": {
      "text/html": [
       "<strong>png:</strong> 2"
      ],
      "text/latex": [
       "\\textbf{png:} 2"
      ],
      "text/markdown": [
       "**png:** 2"
      ],
      "text/plain": [
       "png \n",
       "  2 "
      ]
     },
     "metadata": {},
     "output_type": "display_data"
    }
   ],
   "source": [
    "data_plot$group = \"GBC cancer\"\n",
    "pdf(\"./figures/pair_sample/jaccard_index.pdf\",height = 4,width = 3)\n",
    "ggplot(data_plot,aes(x = group,y = jaccard,fill = group))+geom_boxplot()+geom_jitter()+theme_bw()+ylab(\"Jaccard similarity coefficient\")+\n",
    "theme(legend.position = \"none\")+scale_fill_manual(values = c(\"#FC8D62\"))\n",
    "dev.off()"
   ]
  },
  {
   "cell_type": "code",
   "execution_count": 555,
   "id": "cf76c9c1-316c-4008-9985-f0f3f34bae43",
   "metadata": {},
   "outputs": [
    {
     "data": {
      "text/html": [
       "<strong>png:</strong> 2"
      ],
      "text/latex": [
       "\\textbf{png:} 2"
      ],
      "text/markdown": [
       "**png:** 2"
      ],
      "text/plain": [
       "png \n",
       "  2 "
      ]
     },
     "metadata": {},
     "output_type": "display_data"
    }
   ],
   "source": [
    "data_plot$group = \"GBC cancer\"\n",
    "pdf(\"./figures/pair_sample/jaccard_indexV2.pdf\",height = 3,width = 4)\n",
    "ggplot(data_plot,aes(y = group,x = jaccard,fill = group))+geom_boxplot()+geom_jitter()+theme_bw()+xlab(\"Jaccard similarity coefficient\")+\n",
    "theme(legend.position = \"none\")+scale_fill_manual(values = c(\"#FC8D62\"))\n",
    "dev.off()"
   ]
  },
  {
   "cell_type": "code",
   "execution_count": 28,
   "id": "4b3836ff-854d-426e-a002-1ecea820aa77",
   "metadata": {},
   "outputs": [],
   "source": [
    "all_pair_sample$jaccard = 0\n",
    "for(i in 1:nrow(all_pair_sample)){\n",
    "    # print(i)\n",
    "    all_pair_sample[i,\"jaccard\"] = jaccard_matrix[all_pair_sample[i,1],all_pair_sample[i,2]]\n",
    "}\n",
    "all_pair_sample$type = \"Pair\""
   ]
  },
  {
   "cell_type": "code",
   "execution_count": 29,
   "id": "c1a36749-9d40-4af2-ae1d-157f225bac89",
   "metadata": {},
   "outputs": [],
   "source": [
    "data_plot = rbind(all_pair_sample)"
   ]
  },
  {
   "cell_type": "code",
   "execution_count": 41,
   "id": "c84cb1c1-4ae9-4258-a894-a537ad054f1d",
   "metadata": {},
   "outputs": [
    {
     "data": {
      "text/html": [
       "0.522770398481973"
      ],
      "text/latex": [
       "0.522770398481973"
      ],
      "text/markdown": [
       "0.522770398481973"
      ],
      "text/plain": [
       "[1] 0.5227704"
      ]
     },
     "metadata": {},
     "output_type": "display_data"
    }
   ],
   "source": [
    "median(data_plot[1:24,\"jaccard\"])"
   ]
  },
  {
   "cell_type": "code",
   "execution_count": 60,
   "id": "91279062-d04a-4cf0-aab4-303d4aba94c2",
   "metadata": {},
   "outputs": [
    {
     "data": {
      "text/html": [
       "<strong>png:</strong> 2"
      ],
      "text/latex": [
       "\\textbf{png:} 2"
      ],
      "text/markdown": [
       "**png:** 2"
      ],
      "text/plain": [
       "png \n",
       "  2 "
      ]
     },
     "metadata": {},
     "output_type": "display_data"
    }
   ],
   "source": [
    "library(ggplot2)\n",
    "library(ggpubr)\n",
    "pdf(\"./figures/pair_sample_similarity20250318.pdf\",height = 4,width = 4)\n",
    "# options(repr.plot.width = 6, repr.plot.height =5)\n",
    "ggplot(data_plot[1:24,],aes(x = type,y = jaccard,fill = type))+geom_boxplot()+geom_point()+theme_bw()+theme(legend.position = \"none\")+ylab(\"Jaccard similarity\n",
    " coefficient\")+xlab(\"Paired sample\")\n",
    "dev.off()"
   ]
  },
  {
   "cell_type": "markdown",
   "id": "63d5c995-e993-49d6-ba4c-4e4fa4bea6e0",
   "metadata": {},
   "source": [
    "### driver gene"
   ]
  },
  {
   "cell_type": "code",
   "execution_count": 1280,
   "id": "ad96b4c4-9ac8-4411-b43d-58f9b2367cd6",
   "metadata": {},
   "outputs": [],
   "source": [
    "mutSigCV = read.csv(\"/home/wyh/scdata/WES_V2/MutSig/ans/GBC_MutSig.sig_genes_Hugo_Symbol.txt\",sep = \"\")"
   ]
  },
  {
   "cell_type": "code",
   "execution_count": 1282,
   "id": "a019de07-0a06-4205-a9f3-09f796f07d45",
   "metadata": {},
   "outputs": [],
   "source": [
    "driver_gene = mutSigCV$gene[mutSigCV$p<0.05]"
   ]
  },
  {
   "cell_type": "code",
   "execution_count": 1284,
   "id": "6cc36249-8ea5-4a96-850a-d3d94a1f52df",
   "metadata": {},
   "outputs": [
    {
     "data": {
      "text/html": [
       "<table class=\"dataframe\">\n",
       "<caption>A data.frame: 6 × 48</caption>\n",
       "<thead>\n",
       "\t<tr><th></th><th scope=col>GBC_074_LI</th><th scope=col>GBC_069_LI</th><th scope=col>GBC_010_LI</th><th scope=col>GBC_025_LI</th><th scope=col>GBC_012_LI</th><th scope=col>GBC_058_LI</th><th scope=col>GBC_036_LI</th><th scope=col>GBC_017_LI</th><th scope=col>GBC_042_LI</th><th scope=col>GBC_077_LM</th><th scope=col>⋯</th><th scope=col>GBC_040_P</th><th scope=col>GBC_078_P</th><th scope=col>GBC_071_P</th><th scope=col>GBC_063_P</th><th scope=col>GBC_046_P</th><th scope=col>GBC_056_P</th><th scope=col>GBC_067_P</th><th scope=col>GBC_028_P</th><th scope=col>GBC_008_P</th><th scope=col>GBC_047_P</th></tr>\n",
       "\t<tr><th></th><th scope=col>&lt;dbl&gt;</th><th scope=col>&lt;dbl&gt;</th><th scope=col>&lt;dbl&gt;</th><th scope=col>&lt;dbl&gt;</th><th scope=col>&lt;dbl&gt;</th><th scope=col>&lt;dbl&gt;</th><th scope=col>&lt;dbl&gt;</th><th scope=col>&lt;dbl&gt;</th><th scope=col>&lt;dbl&gt;</th><th scope=col>&lt;dbl&gt;</th><th scope=col>⋯</th><th scope=col>&lt;dbl&gt;</th><th scope=col>&lt;dbl&gt;</th><th scope=col>&lt;dbl&gt;</th><th scope=col>&lt;dbl&gt;</th><th scope=col>&lt;dbl&gt;</th><th scope=col>&lt;dbl&gt;</th><th scope=col>&lt;dbl&gt;</th><th scope=col>&lt;dbl&gt;</th><th scope=col>&lt;dbl&gt;</th><th scope=col>&lt;dbl&gt;</th></tr>\n",
       "</thead>\n",
       "<tbody>\n",
       "\t<tr><th scope=row>GBC_074_LI</th><td>        NA</td><td>0.0500000</td><td>0.06666667</td><td>0.14285714</td><td>0.06666667</td><td> 0</td><td>0.0000000</td><td>0</td><td>0.00000000</td><td>0.07692308</td><td>⋯</td><td>0.07142857</td><td>0.04761905</td><td>0.10000000</td><td>0</td><td>0</td><td>0</td><td>0.0000000</td><td>0</td><td>0</td><td>0</td></tr>\n",
       "\t<tr><th scope=row>GBC_069_LI</th><td>0.05000000</td><td>       NA</td><td>0.21428571</td><td>0.06250000</td><td>0.13333333</td><td> 0</td><td>0.0000000</td><td>0</td><td>0.00000000</td><td>0.15384615</td><td>⋯</td><td>0.06666667</td><td>0.02272727</td><td>0.04545455</td><td>0</td><td>0</td><td>0</td><td>0.0000000</td><td>0</td><td>0</td><td>0</td></tr>\n",
       "\t<tr><th scope=row>GBC_010_LI</th><td>0.06666667</td><td>0.2142857</td><td>        NA</td><td>0.20000000</td><td>0.20000000</td><td> 0</td><td>0.1428571</td><td>0</td><td>0.06666667</td><td>0.25000000</td><td>⋯</td><td>0.10000000</td><td>0.02564103</td><td>0.05882353</td><td>0</td><td>0</td><td>0</td><td>0.0000000</td><td>0</td><td>0</td><td>0</td></tr>\n",
       "\t<tr><th scope=row>GBC_025_LI</th><td>0.14285714</td><td>0.0625000</td><td>0.20000000</td><td>        NA</td><td>0.09090909</td><td> 0</td><td>0.0000000</td><td>0</td><td>0.06666667</td><td>0.11111111</td><td>⋯</td><td>0.10000000</td><td>0.02564103</td><td>0.12500000</td><td>0</td><td>0</td><td>0</td><td>0.0000000</td><td>0</td><td>0</td><td>0</td></tr>\n",
       "\t<tr><th scope=row>GBC_012_LI</th><td>0.06666667</td><td>0.1333333</td><td>0.20000000</td><td>0.09090909</td><td>        NA</td><td> 0</td><td>0.0000000</td><td>0</td><td>0.00000000</td><td>0.25000000</td><td>⋯</td><td>0.10000000</td><td>0.02564103</td><td>0.05882353</td><td>0</td><td>0</td><td>0</td><td>0.1111111</td><td>0</td><td>0</td><td>0</td></tr>\n",
       "\t<tr><th scope=row>GBC_058_LI</th><td>0.00000000</td><td>0.0000000</td><td>0.00000000</td><td>0.00000000</td><td>0.00000000</td><td>NA</td><td>0.0000000</td><td>0</td><td>0.00000000</td><td>0.00000000</td><td>⋯</td><td>0.00000000</td><td>0.00000000</td><td>0.00000000</td><td>0</td><td>0</td><td>0</td><td>0.0000000</td><td>0</td><td>0</td><td>0</td></tr>\n",
       "</tbody>\n",
       "</table>\n"
      ],
      "text/latex": [
       "A data.frame: 6 × 48\n",
       "\\begin{tabular}{r|lllllllllllllllllllll}\n",
       "  & GBC\\_074\\_LI & GBC\\_069\\_LI & GBC\\_010\\_LI & GBC\\_025\\_LI & GBC\\_012\\_LI & GBC\\_058\\_LI & GBC\\_036\\_LI & GBC\\_017\\_LI & GBC\\_042\\_LI & GBC\\_077\\_LM & ⋯ & GBC\\_040\\_P & GBC\\_078\\_P & GBC\\_071\\_P & GBC\\_063\\_P & GBC\\_046\\_P & GBC\\_056\\_P & GBC\\_067\\_P & GBC\\_028\\_P & GBC\\_008\\_P & GBC\\_047\\_P\\\\\n",
       "  & <dbl> & <dbl> & <dbl> & <dbl> & <dbl> & <dbl> & <dbl> & <dbl> & <dbl> & <dbl> & ⋯ & <dbl> & <dbl> & <dbl> & <dbl> & <dbl> & <dbl> & <dbl> & <dbl> & <dbl> & <dbl>\\\\\n",
       "\\hline\n",
       "\tGBC\\_074\\_LI &         NA & 0.0500000 & 0.06666667 & 0.14285714 & 0.06666667 &  0 & 0.0000000 & 0 & 0.00000000 & 0.07692308 & ⋯ & 0.07142857 & 0.04761905 & 0.10000000 & 0 & 0 & 0 & 0.0000000 & 0 & 0 & 0\\\\\n",
       "\tGBC\\_069\\_LI & 0.05000000 &        NA & 0.21428571 & 0.06250000 & 0.13333333 &  0 & 0.0000000 & 0 & 0.00000000 & 0.15384615 & ⋯ & 0.06666667 & 0.02272727 & 0.04545455 & 0 & 0 & 0 & 0.0000000 & 0 & 0 & 0\\\\\n",
       "\tGBC\\_010\\_LI & 0.06666667 & 0.2142857 &         NA & 0.20000000 & 0.20000000 &  0 & 0.1428571 & 0 & 0.06666667 & 0.25000000 & ⋯ & 0.10000000 & 0.02564103 & 0.05882353 & 0 & 0 & 0 & 0.0000000 & 0 & 0 & 0\\\\\n",
       "\tGBC\\_025\\_LI & 0.14285714 & 0.0625000 & 0.20000000 &         NA & 0.09090909 &  0 & 0.0000000 & 0 & 0.06666667 & 0.11111111 & ⋯ & 0.10000000 & 0.02564103 & 0.12500000 & 0 & 0 & 0 & 0.0000000 & 0 & 0 & 0\\\\\n",
       "\tGBC\\_012\\_LI & 0.06666667 & 0.1333333 & 0.20000000 & 0.09090909 &         NA &  0 & 0.0000000 & 0 & 0.00000000 & 0.25000000 & ⋯ & 0.10000000 & 0.02564103 & 0.05882353 & 0 & 0 & 0 & 0.1111111 & 0 & 0 & 0\\\\\n",
       "\tGBC\\_058\\_LI & 0.00000000 & 0.0000000 & 0.00000000 & 0.00000000 & 0.00000000 & NA & 0.0000000 & 0 & 0.00000000 & 0.00000000 & ⋯ & 0.00000000 & 0.00000000 & 0.00000000 & 0 & 0 & 0 & 0.0000000 & 0 & 0 & 0\\\\\n",
       "\\end{tabular}\n"
      ],
      "text/markdown": [
       "\n",
       "A data.frame: 6 × 48\n",
       "\n",
       "| <!--/--> | GBC_074_LI &lt;dbl&gt; | GBC_069_LI &lt;dbl&gt; | GBC_010_LI &lt;dbl&gt; | GBC_025_LI &lt;dbl&gt; | GBC_012_LI &lt;dbl&gt; | GBC_058_LI &lt;dbl&gt; | GBC_036_LI &lt;dbl&gt; | GBC_017_LI &lt;dbl&gt; | GBC_042_LI &lt;dbl&gt; | GBC_077_LM &lt;dbl&gt; | ⋯ ⋯ | GBC_040_P &lt;dbl&gt; | GBC_078_P &lt;dbl&gt; | GBC_071_P &lt;dbl&gt; | GBC_063_P &lt;dbl&gt; | GBC_046_P &lt;dbl&gt; | GBC_056_P &lt;dbl&gt; | GBC_067_P &lt;dbl&gt; | GBC_028_P &lt;dbl&gt; | GBC_008_P &lt;dbl&gt; | GBC_047_P &lt;dbl&gt; |\n",
       "|---|---|---|---|---|---|---|---|---|---|---|---|---|---|---|---|---|---|---|---|---|---|\n",
       "| GBC_074_LI |         NA | 0.0500000 | 0.06666667 | 0.14285714 | 0.06666667 |  0 | 0.0000000 | 0 | 0.00000000 | 0.07692308 | ⋯ | 0.07142857 | 0.04761905 | 0.10000000 | 0 | 0 | 0 | 0.0000000 | 0 | 0 | 0 |\n",
       "| GBC_069_LI | 0.05000000 |        NA | 0.21428571 | 0.06250000 | 0.13333333 |  0 | 0.0000000 | 0 | 0.00000000 | 0.15384615 | ⋯ | 0.06666667 | 0.02272727 | 0.04545455 | 0 | 0 | 0 | 0.0000000 | 0 | 0 | 0 |\n",
       "| GBC_010_LI | 0.06666667 | 0.2142857 |         NA | 0.20000000 | 0.20000000 |  0 | 0.1428571 | 0 | 0.06666667 | 0.25000000 | ⋯ | 0.10000000 | 0.02564103 | 0.05882353 | 0 | 0 | 0 | 0.0000000 | 0 | 0 | 0 |\n",
       "| GBC_025_LI | 0.14285714 | 0.0625000 | 0.20000000 |         NA | 0.09090909 |  0 | 0.0000000 | 0 | 0.06666667 | 0.11111111 | ⋯ | 0.10000000 | 0.02564103 | 0.12500000 | 0 | 0 | 0 | 0.0000000 | 0 | 0 | 0 |\n",
       "| GBC_012_LI | 0.06666667 | 0.1333333 | 0.20000000 | 0.09090909 |         NA |  0 | 0.0000000 | 0 | 0.00000000 | 0.25000000 | ⋯ | 0.10000000 | 0.02564103 | 0.05882353 | 0 | 0 | 0 | 0.1111111 | 0 | 0 | 0 |\n",
       "| GBC_058_LI | 0.00000000 | 0.0000000 | 0.00000000 | 0.00000000 | 0.00000000 | NA | 0.0000000 | 0 | 0.00000000 | 0.00000000 | ⋯ | 0.00000000 | 0.00000000 | 0.00000000 | 0 | 0 | 0 | 0.0000000 | 0 | 0 | 0 |\n",
       "\n"
      ],
      "text/plain": [
       "           GBC_074_LI GBC_069_LI GBC_010_LI GBC_025_LI GBC_012_LI GBC_058_LI\n",
       "GBC_074_LI         NA 0.0500000  0.06666667 0.14285714 0.06666667  0        \n",
       "GBC_069_LI 0.05000000        NA  0.21428571 0.06250000 0.13333333  0        \n",
       "GBC_010_LI 0.06666667 0.2142857          NA 0.20000000 0.20000000  0        \n",
       "GBC_025_LI 0.14285714 0.0625000  0.20000000         NA 0.09090909  0        \n",
       "GBC_012_LI 0.06666667 0.1333333  0.20000000 0.09090909         NA  0        \n",
       "GBC_058_LI 0.00000000 0.0000000  0.00000000 0.00000000 0.00000000 NA        \n",
       "           GBC_036_LI GBC_017_LI GBC_042_LI GBC_077_LM ⋯ GBC_040_P  GBC_078_P \n",
       "GBC_074_LI 0.0000000  0          0.00000000 0.07692308 ⋯ 0.07142857 0.04761905\n",
       "GBC_069_LI 0.0000000  0          0.00000000 0.15384615 ⋯ 0.06666667 0.02272727\n",
       "GBC_010_LI 0.1428571  0          0.06666667 0.25000000 ⋯ 0.10000000 0.02564103\n",
       "GBC_025_LI 0.0000000  0          0.06666667 0.11111111 ⋯ 0.10000000 0.02564103\n",
       "GBC_012_LI 0.0000000  0          0.00000000 0.25000000 ⋯ 0.10000000 0.02564103\n",
       "GBC_058_LI 0.0000000  0          0.00000000 0.00000000 ⋯ 0.00000000 0.00000000\n",
       "           GBC_071_P  GBC_063_P GBC_046_P GBC_056_P GBC_067_P GBC_028_P\n",
       "GBC_074_LI 0.10000000 0         0         0         0.0000000 0        \n",
       "GBC_069_LI 0.04545455 0         0         0         0.0000000 0        \n",
       "GBC_010_LI 0.05882353 0         0         0         0.0000000 0        \n",
       "GBC_025_LI 0.12500000 0         0         0         0.0000000 0        \n",
       "GBC_012_LI 0.05882353 0         0         0         0.1111111 0        \n",
       "GBC_058_LI 0.00000000 0         0         0         0.0000000 0        \n",
       "           GBC_008_P GBC_047_P\n",
       "GBC_074_LI 0         0        \n",
       "GBC_069_LI 0         0        \n",
       "GBC_010_LI 0         0        \n",
       "GBC_025_LI 0         0        \n",
       "GBC_012_LI 0         0        \n",
       "GBC_058_LI 0         0        "
      ]
     },
     "metadata": {},
     "output_type": "display_data"
    }
   ],
   "source": [
    "library(dplyr)\n",
    "df <- onco_matrix_all_pair\n",
    "\n",
    "jaccard_matrix <- matrix(nrow = ncol(df), ncol = ncol(df))\n",
    "colnames(jaccard_matrix) <- rownames(jaccard_matrix) <- colnames(df)\n",
    "\n",
    "for (i in 1:ncol(column_combinations)) {\n",
    "  col1 <- column_combinations[1, i]\n",
    "  gene1 = rownames(df)[df[, col1]!=\"\"]\n",
    "  gene1 = gene1[gene1 %in% driver_gene]\n",
    "  col2 <- column_combinations[2, i]\n",
    "  gene2 = rownames(df)[df[, col2]!=\"\"]\n",
    "  gene2 = gene2[gene2 %in% driver_gene]  \n",
    "  jaccard_matrix[col1, col2] <- length(intersect(gene1,gene2)) / length(union(gene1,gene2))\n",
    "  jaccard_matrix[col2, col1] <- jaccard_matrix[col1, col2]\n",
    "}\n",
    "\n",
    "jaccard_matrix = as.data.frame(jaccard_matrix)\n",
    "head(jaccard_matrix)"
   ]
  },
  {
   "cell_type": "code",
   "execution_count": 1290,
   "id": "a39bfabb-d72b-42b9-8eb1-f767777b5219",
   "metadata": {},
   "outputs": [
    {
     "data": {
      "text/html": [
       "<style>\n",
       ".list-inline {list-style: none; margin:0; padding: 0}\n",
       ".list-inline>li {display: inline-block}\n",
       ".list-inline>li:not(:last-child)::after {content: \"\\00b7\"; padding: 0 .5ex}\n",
       "</style>\n",
       "<ol class=list-inline><li>3554</li><li>48</li></ol>\n"
      ],
      "text/latex": [
       "\\begin{enumerate*}\n",
       "\\item 3554\n",
       "\\item 48\n",
       "\\end{enumerate*}\n"
      ],
      "text/markdown": [
       "1. 3554\n",
       "2. 48\n",
       "\n",
       "\n"
      ],
      "text/plain": [
       "[1] 3554   48"
      ]
     },
     "metadata": {},
     "output_type": "display_data"
    }
   ],
   "source": [
    "onco_matrix_all_pair = onco_matrix_all[,unique(c(all_pair_sample[,1],all_pair_sample[,2]))]\n",
    "dim(onco_matrix_all_pair)"
   ]
  },
  {
   "cell_type": "code",
   "execution_count": 1291,
   "id": "99c41523-efed-47d4-9cb1-128f6d6182ba",
   "metadata": {},
   "outputs": [],
   "source": [
    "library(VennDiagram)"
   ]
  },
  {
   "cell_type": "code",
   "execution_count": 1292,
   "id": "5056e572-8bb9-44f9-9ee7-53f7bf1e7aaf",
   "metadata": {},
   "outputs": [],
   "source": [
    "samples = c(\"GBC_042_P\",\"GBC_058_P\",\"GBC_069_P\",\"GBC_074_P\")"
   ]
  },
  {
   "cell_type": "code",
   "execution_count": 1293,
   "id": "fa7b9d09-cba8-4d2d-b1fa-615ef11f4111",
   "metadata": {},
   "outputs": [],
   "source": [
    "library(VennDiagram)\n",
    "for(isample in samples){\n",
    "    gene_1 = rownames(onco_matrix_all)[onco_matrix_all[,patient_list[[isample]][1]]!=\"\"]\n",
    "    gene_1 = gene_1[gene_1 %in% driver_gene]\n",
    "    # print(gene_1)\n",
    "    gene_2 = rownames(onco_matrix_all)[onco_matrix_all[,patient_list[[isample]][2]]!=\"\"]\n",
    "    gene_2 = gene_2[gene_2 %in% driver_gene]\n",
    "    gene_3 = rownames(onco_matrix_all)[onco_matrix_all[,isample]!=\"\"]\n",
    "    gene_3 = gene_3[gene_3 %in% driver_gene]\n",
    "    # print(gene_2)\n",
    "    venn.diagram(x=list(HRG=gene_1,HVG = gene_2,HRG2 = gene_3), category.names = c(patient_list[[isample]][1],patient_list[[isample]][2],isample),fill=c(\"#FC8D62\", \"#8DA0CB\",\"red\"),\n",
    "             filename = paste0('./figures/pair_sample/venn_',isample,'V2.tiff'),cat.cex = 2,cex = 2,cat.pos = c(-20,20,180))\n",
    "}"
   ]
  },
  {
   "cell_type": "code",
   "execution_count": 1294,
   "id": "8d1941de-f890-4ed3-a97c-3a166cc96b2c",
   "metadata": {},
   "outputs": [
    {
     "name": "stdout",
     "output_type": "stream",
     "text": [
      "           GBC_042_LI GBC_042_LM GBC_042_P\n",
      "GBC_042_LI         NA  0.8181818 0.3333333\n",
      "GBC_042_LM  0.8181818         NA 0.4000000\n",
      "GBC_042_P   0.3333333  0.4000000        NA\n",
      "           GBC_058_LI GBC_058_LN GBC_058_P\n",
      "GBC_058_LI         NA          0 0.9166667\n",
      "GBC_058_LN  0.0000000         NA 0.0000000\n",
      "GBC_058_P   0.9166667          0        NA\n",
      "           GBC_069_LI GBC_069_LM GBC_069_P\n",
      "GBC_069_LI         NA  0.5789474 0.6111111\n",
      "GBC_069_LM  0.5789474         NA 0.9473684\n",
      "GBC_069_P   0.6111111  0.9473684        NA\n",
      "           GBC_074_LI GBC_074_LN GBC_074_P\n",
      "GBC_074_LI         NA  0.6666667 0.9000000\n",
      "GBC_074_LN  0.6666667         NA 0.7272727\n",
      "GBC_074_P   0.9000000  0.7272727        NA\n"
     ]
    }
   ],
   "source": [
    "data_plot = as.data.frame(t(as.data.frame(patient_list[samples])))\n",
    "data_plot$jaccard = 0\n",
    "for(isample in samples){\n",
    "    data_plot[isample,\"jaccard\"] = jaccard_matrix[patient_list[[isample]][1],patient_list[[isample]][2]]\n",
    "    print(jaccard_matrix[c(patient_list[[isample]],isample),c(patient_list[[isample]],isample)])\n",
    "}"
   ]
  },
  {
   "cell_type": "code",
   "execution_count": 1295,
   "id": "0cb71846-7b7d-4671-a29f-bd08cf4dc20a",
   "metadata": {},
   "outputs": [
    {
     "data": {
      "text/html": [
       "<strong>png:</strong> 2"
      ],
      "text/latex": [
       "\\textbf{png:} 2"
      ],
      "text/markdown": [
       "**png:** 2"
      ],
      "text/plain": [
       "png \n",
       "  2 "
      ]
     },
     "metadata": {},
     "output_type": "display_data"
    }
   ],
   "source": [
    "data_plot$group = \"GBC cancer\"\n",
    "pdf(\"./figures/pair_sample/jaccard_index_driver_mutation.pdf\",height = 3,width = 4)\n",
    "ggplot(data_plot,aes(y = group,x = jaccard,fill = group))+geom_boxplot()+geom_jitter()+theme_bw()+xlab(\"Jaccard similarity coefficient\")+\n",
    "theme(legend.position = \"none\")+scale_fill_manual(values = c(\"#FC8D62\"))\n",
    "dev.off()"
   ]
  },
  {
   "cell_type": "code",
   "execution_count": 1296,
   "id": "f1a5dd9b-6fe3-4614-9813-4d73dd537df7",
   "metadata": {},
   "outputs": [],
   "source": [
    "all_pair_sample$jaccard_driver_gene = 0\n",
    "for(i in 1:nrow(all_pair_sample)){\n",
    "    # print(i)\n",
    "    all_pair_sample[i,\"jaccard_driver_gene\"] = jaccard_matrix[all_pair_sample[i,1],all_pair_sample[i,2]]\n",
    "}\n",
    "all_pair_sample$type = \"Pair\""
   ]
  },
  {
   "cell_type": "code",
   "execution_count": 1297,
   "id": "27472195-0731-424c-b05c-66535a708c99",
   "metadata": {},
   "outputs": [],
   "source": [
    "data_plot = rbind(all_pair_sample)"
   ]
  },
  {
   "cell_type": "code",
   "execution_count": 1298,
   "id": "41c0fa66-b468-4681-ba01-e99c2b60f4e4",
   "metadata": {},
   "outputs": [
    {
     "name": "stderr",
     "output_type": "stream",
     "text": [
      "Warning message:\n",
      "“\u001b[1m\u001b[22mRemoved 1 rows containing non-finite values (`stat_boxplot()`).”\n"
     ]
    },
    {
     "data": {
      "text/html": [
       "<strong>png:</strong> 2"
      ],
      "text/latex": [
       "\\textbf{png:} 2"
      ],
      "text/markdown": [
       "**png:** 2"
      ],
      "text/plain": [
       "png \n",
       "  2 "
      ]
     },
     "metadata": {},
     "output_type": "display_data"
    }
   ],
   "source": [
    "library(ggplot2)\n",
    "library(ggpubr)\n",
    "pdf(\"./figures/pair_sample_similarity_driver_mutation.pdf\",height = 4,width = 4)\n",
    "# options(repr.plot.width = 6, repr.plot.height =5)\n",
    "ggplot(data_plot,aes(x = type,y = jaccard_driver_gene,fill = type))+geom_boxplot()+theme_bw()+theme(legend.position = \"none\")\n",
    "dev.off()"
   ]
  },
  {
   "cell_type": "markdown",
   "id": "6013a782-8d6b-49fd-9a4e-c5dd1587537c",
   "metadata": {},
   "source": [
    "### cancer discovery"
   ]
  },
  {
   "cell_type": "code",
   "execution_count": 266,
   "id": "d8848222-44e2-4071-a8f3-88a8812d0ea9",
   "metadata": {},
   "outputs": [],
   "source": [
    "laml_filter = readRDS(\"laml_filter_20_3_0015_005.RDS\")"
   ]
  },
  {
   "cell_type": "code",
   "execution_count": 576,
   "id": "efdb8510-7451-4178-a3a1-e0a129762441",
   "metadata": {},
   "outputs": [],
   "source": [
    "## analyze VAF shift"
   ]
  },
  {
   "cell_type": "code",
   "execution_count": 283,
   "id": "71780eb2-24d5-4377-a8d3-7d4b42c60add",
   "metadata": {},
   "outputs": [],
   "source": [
    "laml_filter@data$AF = apply(as.data.frame(laml_filter@data[,'Otherinfo13']),FUN = function(i){strsplit(as.character(i),\":\")[[1]][3]},MARGIN = 1)"
   ]
  },
  {
   "cell_type": "code",
   "execution_count": 1,
   "id": "2a7b912b-0974-4def-8f28-92654f9b33c9",
   "metadata": {},
   "outputs": [],
   "source": [
    "mutSigCV = read.csv(\"/home/wyh/scdata/WES_V2/MutSig/ans/GBC_MutSig.sig_genes.txt\",sep = \"\")"
   ]
  },
  {
   "cell_type": "code",
   "execution_count": 2,
   "id": "231908c8-8732-4627-9df8-7f728c389549",
   "metadata": {
    "tags": []
   },
   "outputs": [
    {
     "data": {
      "text/html": [
       "238"
      ],
      "text/latex": [
       "238"
      ],
      "text/markdown": [
       "238"
      ],
      "text/plain": [
       "[1] 238"
      ]
     },
     "metadata": {},
     "output_type": "display_data"
    }
   ],
   "source": [
    "driver_gene_P = mutSigCV$gene[mutSigCV$p<0.05]\n",
    "length(driver_gene_P)"
   ]
  },
  {
   "cell_type": "code",
   "execution_count": 580,
   "id": "f01ea317-a6b8-4e6b-8288-2d0a09a4f9ef",
   "metadata": {
    "tags": []
   },
   "outputs": [],
   "source": [
    "## laml_filter@maf.silent\n",
    "mut_table = rbind(laml_filter@data)"
   ]
  },
  {
   "cell_type": "code",
   "execution_count": 581,
   "id": "75f2a24b-99b7-404b-b2ec-264d14f2ccad",
   "metadata": {},
   "outputs": [],
   "source": [
    "mut_table =as.data.frame(mut_table)"
   ]
  },
  {
   "cell_type": "code",
   "execution_count": 582,
   "id": "237c9a31-2bfb-4cc0-a294-294d1edc89ea",
   "metadata": {},
   "outputs": [],
   "source": [
    "all_pair_sample$compare_all_gene = \"NA\"\n",
    "all_pair_sample$common_gene_num = \"NA\"\n",
    "all_pair_sample$pvalue_all_gene = \"NA\""
   ]
  },
  {
   "cell_type": "code",
   "execution_count": 583,
   "id": "9130bae9-fd29-4379-af3d-130d1190100c",
   "metadata": {
    "tags": []
   },
   "outputs": [],
   "source": [
    "for(i in 1:nrow(all_pair_sample)){\n",
    "    Primary = mut_table[mut_table[,'Tumor_Sample_Barcode']==all_pair_sample[i,2],c(\"Chromosome\",\"Start_Position\",\"End_Position\",\"Reference_Allele\",\"Hugo_Symbol\",'AF')]\n",
    "    rownames(Primary) = apply(Primary[, 1:5], 1, paste0, collapse = \"_\")\n",
    "    # print(all_pair_sample[i,2])\n",
    "    Mets = mut_table[mut_table[,'Tumor_Sample_Barcode']==all_pair_sample[i,1],c(\"Chromosome\",\"Start_Position\",\"End_Position\",\"Reference_Allele\",\"Hugo_Symbol\",'AF')]\n",
    "    rownames(Mets) = apply(Mets[, 1:5], 1, paste0, collapse = \"_\")\n",
    "    # print(Mets)\n",
    "    common_genes = intersect(rownames(Primary),rownames(Mets))\n",
    "    # print(length(common_genes))\n",
    "    if(length(common_genes)>0){\n",
    "        all_pair_sample[i,\"common_gene_num\"] = length(common_genes)\n",
    "        combined = Primary[common_genes,]\n",
    "        combined$Met_AF = Mets[common_genes,\"AF\"]\n",
    "        # print(combined)\n",
    "        # print(length(common_genes))\n",
    "        data_plot = combined[,5:ncol(combined)]\n",
    "        data_plot = melt(data_plot,id.vars = \"Hugo_Symbol\")\n",
    "        data_plot$value = as.numeric(data_plot$value)\n",
    "        results <- compare_means(value ~ variable, data = data_plot, method = \"t.test\", paired = TRUE)\n",
    "        # t test\n",
    "        test_result <- t.test(value ~ variable, data = data_plot, paired = TRUE)\n",
    "\n",
    "\n",
    "        # mean and pvalue\n",
    "        mean_cancer <- mean(data_plot$value[data_plot$variable == \"Met_AF\"])\n",
    "        mean_control <- mean(data_plot$value[data_plot$variable == \"AF\"])\n",
    "        p_value <- test_result$p.value\n",
    "        all_pair_sample[i,\"pvalue_all_gene\"] = p_value\n",
    "\n",
    "        \n",
    "        if (p_value < 0.05) { \n",
    "          if (mean_cancer > mean_control) {\n",
    "            result <- \"higher\"\n",
    "          } else {\n",
    "            result <- \"lower\"\n",
    "          }\n",
    "        } else {\n",
    "          result <- \"equal\"\n",
    "        }\n",
    "        all_pair_sample[i,\"compare_all_gene\"] = result  \n",
    "    }\n",
    "    \n",
    "}"
   ]
  },
  {
   "cell_type": "code",
   "execution_count": 616,
   "id": "0843701a-7906-4fa3-9154-e9c00f73619f",
   "metadata": {
    "tags": []
   },
   "outputs": [],
   "source": [
    "write.csv(all_pair_sample,\"./pair_sample_wes/all_pair_sample.csv\")"
   ]
  },
  {
   "cell_type": "markdown",
   "id": "d7c82720-3a29-4fa8-9cbf-b9afb7f4b166",
   "metadata": {},
   "source": [
    "## 3.CADD"
   ]
  },
  {
   "cell_type": "code",
   "execution_count": 1194,
   "id": "b05583b1-07d4-4364-a5f2-9ae35dc04099",
   "metadata": {
    "tags": []
   },
   "outputs": [],
   "source": [
    "library(data.table)\n",
    "\n",
    "\n",
    "vcf_file <- \"/home/wyh/scdata/WES_V2/annovar_merge_20_3_0015_005_rename.vcf\"\n",
    "vcf_data_all <- fread(vcf_file)\n",
    "\n",
    "vcf_data = vcf_data_all[,c(1:5)]\n",
    "colnames(vcf_data) = c(\"CHROM\",\"POS\",\"End\",\"Ref\",\"Alt\")\n",
    "fwrite(vcf_data, \"/home/wyh/scdata/WES_V2/CADD/annovar_merge_20_3_0015_005_CADD.vcf\", sep = \"\\t\")"
   ]
  },
  {
   "cell_type": "markdown",
   "id": "23a06b50-1ce4-4cc6-ae1f-d88f026a6712",
   "metadata": {},
   "source": [
    "annovar_merge_20_3_0015_005_CADD.vcf input to ：https://cadd.bihealth.org/score"
   ]
  },
  {
   "cell_type": "code",
   "execution_count": 1196,
   "id": "f891f7bc-7804-445a-9d6e-c137f3fbc311",
   "metadata": {},
   "outputs": [],
   "source": [
    "CADD_df = read.table(\"./CADD/GRCh38-v1.7.tsv\",sep = \"\\t\")\n",
    "colnames(CADD_df) = c(\"CHROM\",\"POS\",\"Ref\",\"Alt\",\"RawScore\",\"PHRED\")"
   ]
  },
  {
   "cell_type": "code",
   "execution_count": 1197,
   "id": "2a44fdc6-9486-4491-9c3f-99c16677592a",
   "metadata": {},
   "outputs": [],
   "source": [
    "CADD_df = CADD_df[!duplicated(CADD_df),]"
   ]
  },
  {
   "cell_type": "code",
   "execution_count": 1198,
   "id": "abd48776-69cc-4c05-8a52-9829a2396d7d",
   "metadata": {},
   "outputs": [],
   "source": [
    "names = c()\n",
    "for(i in c(1:nrow(CADD_df))){\n",
    "    names = c(names,paste0(\"chr\",CADD_df[i,1],\"_\",CADD_df[i,2],\"_\",CADD_df[i,3],\"_\",CADD_df[i,4]))\n",
    "}\n",
    "CADD_df$names = names\n",
    "rownames(CADD_df) = CADD_df$names"
   ]
  },
  {
   "cell_type": "code",
   "execution_count": 1413,
   "id": "c4ae25f5-8678-49eb-92b3-09e0c91e0670",
   "metadata": {},
   "outputs": [],
   "source": [
    "laml_filter = readRDS(\"laml_filter_20_3_0015_005.RDS\")\n",
    "vcf_data_all = rbind(laml_filter@data,laml_filter@maf.silent)"
   ]
  },
  {
   "cell_type": "code",
   "execution_count": 1414,
   "id": "03f43ddd-5441-4a41-9f83-b37509a3448a",
   "metadata": {},
   "outputs": [],
   "source": [
    "names = c()\n",
    "for(i in c(1:nrow(vcf_data_all))){\n",
    "    names = c(names,paste0(vcf_data_all[i,1],\"_\",vcf_data_all[i,2],\"_\",vcf_data_all[i,4],\"_\",vcf_data_all[i,5]))\n",
    "}\n",
    "vcf_data_all$names = names"
   ]
  },
  {
   "cell_type": "code",
   "execution_count": 1415,
   "id": "8c0add93-2554-4b36-ba5a-4feb4338dbe6",
   "metadata": {},
   "outputs": [],
   "source": [
    "vcf_data_all$RawScore = CADD_df[vcf_data_all$names,\"RawScore\"]\n",
    "vcf_data_all$PHRED = CADD_df[vcf_data_all$names,\"PHRED\"]"
   ]
  },
  {
   "cell_type": "code",
   "execution_count": 1203,
   "id": "9659e7ce-e0f9-4b83-8de5-539dc81aa6e5",
   "metadata": {},
   "outputs": [],
   "source": [
    "fwrite(vcf_data_all, paste0(\"/home/wyh/scdata/WES_V2/CADD/Wes_20_3_0015_005_CADD_result.vcf\"), sep = \"\\t\")"
   ]
  },
  {
   "cell_type": "code",
   "execution_count": 1416,
   "id": "f04be889-fe43-47c1-94c7-bcf5803ce6af",
   "metadata": {},
   "outputs": [],
   "source": [
    "vcf_data_all_temp = vcf_data_all[!vcf_data_all$Tumor_Sample_Barcode %in% hyper_sample,]"
   ]
  },
  {
   "cell_type": "code",
   "execution_count": 1418,
   "id": "0ea57e31-a36a-4889-a2bf-f37688112ada",
   "metadata": {},
   "outputs": [],
   "source": [
    "fwrite(vcf_data_all_temp, paste0(\"/home/wyh/scdata/WES_V2/CADD/Wes_20_3_0015_005_CADD_result_remove_hyper_samples.vcf\"), sep = \"\\t\")"
   ]
  },
  {
   "cell_type": "markdown",
   "id": "1907132e-117a-4477-9080-d7e378fd6831",
   "metadata": {},
   "source": [
    "# TMB and cnv count comparison"
   ]
  },
  {
   "cell_type": "code",
   "execution_count": 1269,
   "id": "f9d6ef44-aa12-4c6f-a872-01bacdd8dda6",
   "metadata": {},
   "outputs": [],
   "source": [
    "maf_all = read.csv(\"./summary/wes_info.csv\",row.names = 1)"
   ]
  },
  {
   "cell_type": "code",
   "execution_count": 1270,
   "id": "05156589",
   "metadata": {},
   "outputs": [],
   "source": [
    "patient_info = read.csv(\"../patient_info/xzh_220109_final_wyh_220426.csv\",row.names = 1)\n",
    "patient_info$metastasis.type[patient_info$metastasis.type==\"P_LI\"] = \"P\"\n",
    "patient_info$metastasis.type[patient_info$metastasis.type %in% c(\"P_LN\",\"P_LM\")] = \"P_Metas\"\n",
    "patient_info$metastasis.type = as.character(patient_info$metastasis.type)\n",
    "# patient_info$metastasis.type = factor(patient_info$metastasis.type,levels = c(\"P\",\"P_LN\",\"P_LM\"))\n",
    "\n",
    "patient_info$Clinical.stage[patient_info$Clinical.stage %in% c(\"IIA\",\"IIB\")] = \"II\"\n",
    "patient_info$Clinical.stage = factor(patient_info$Clinical.stage,levels = c(\"I\",\"II\",\"IIIA\",\"IIIB\",\"IVA\",\"IVB\"))\n",
    "\n",
    "patient_info$Tumors.for.scRNA.seq.short = factor(patient_info$Tumors.for.scRNA.seq.short,levels = c(\"P\",\"PO\",\"LN\",\"LI\",\"LM\",\"OM\"))"
   ]
  },
  {
   "cell_type": "code",
   "execution_count": 1271,
   "id": "71017d3c",
   "metadata": {},
   "outputs": [],
   "source": [
    "maf_all$NewSample.ID = maf_all$Tumor_Sample_Barcode\n",
    "maf_all = merge(maf_all,patient_info)"
   ]
  },
  {
   "cell_type": "code",
   "execution_count": 1274,
   "id": "caa6662b",
   "metadata": {},
   "outputs": [],
   "source": [
    "ggplot_list = list()"
   ]
  },
  {
   "cell_type": "code",
   "execution_count": 1275,
   "id": "0c7935f2",
   "metadata": {},
   "outputs": [],
   "source": [
    "\n",
    "# maf$Clinical.stage = factor(maf$Clinical.stage,c(\"I\",\"II\",\"IIIA\",\"IIIB\",\"IVA\",\"IVB\"))\n",
    "ggplot_list[[1]] = ggboxplot(maf_all, x = \"Clinical.stage\", y = \"TMB\",\n",
    "               color = \"Clinical.stage\", palette = \"jco\",add = \"jitter\")+\n",
    "stat_compare_means(method = \"anova\")+theme(axis.title.x = element_blank())+theme(legend.position=\"none\")\n"
   ]
  },
  {
   "cell_type": "code",
   "execution_count": 1276,
   "id": "0a656064",
   "metadata": {},
   "outputs": [],
   "source": [
    "\n",
    "ggplot_list[[2]] = ggboxplot(maf_all, x = \"Tumors.for.scRNA.seq.short\", y = \"TMB\",\n",
    "               color = \"Tumors.for.scRNA.seq.short\", palette = \"jco\",add = \"jitter\")+\n",
    "stat_compare_means(method = \"anova\")+theme(axis.title.x = element_blank())+theme(legend.position=\"none\")\n"
   ]
  },
  {
   "cell_type": "code",
   "execution_count": 307,
   "id": "32b54be0",
   "metadata": {},
   "outputs": [],
   "source": [
    "ggplot_list[[3]] = ggboxplot(maf_all, x = \"Clinical.stage\", y = \"cnv_count\",\n",
    "               color = \"Clinical.stage\", palette = \"jco\",add = \"jitter\")+\n",
    "stat_compare_means(method = \"anova\")+theme(axis.title.x = element_blank())+theme(legend.position=\"none\")\n"
   ]
  },
  {
   "cell_type": "code",
   "execution_count": 308,
   "id": "2bda0781",
   "metadata": {},
   "outputs": [],
   "source": [
    "ggplot_list[[4]] = ggboxplot(maf_all, x = \"Tumors.for.scRNA.seq.short\", y = \"cnv_count\",\n",
    "               color = \"Tumors.for.scRNA.seq.short\", palette = \"jco\",add = \"jitter\")+\n",
    "stat_compare_means(method = \"anova\")+theme(axis.title.x = element_blank())+theme(legend.position=\"none\")\n"
   ]
  },
  {
   "cell_type": "code",
   "execution_count": 1279,
   "id": "0e3f5f38",
   "metadata": {},
   "outputs": [
    {
     "data": {
      "text/html": [
       "<strong>png:</strong> 2"
      ],
      "text/latex": [
       "\\textbf{png:} 2"
      ],
      "text/markdown": [
       "**png:** 2"
      ],
      "text/plain": [
       "png \n",
       "  2 "
      ]
     },
     "metadata": {},
     "output_type": "display_data"
    }
   ],
   "source": [
    "pdf(\"./figures/TMB_cnv_count.pdf\",height = 4,width = 8)\n",
    "ggplot_list[[1]]+ggplot_list[[2]]\n",
    "dev.off()"
   ]
  },
  {
   "cell_type": "markdown",
   "id": "b03ad1c9-f672-4204-b677-cd8464bb68eb",
   "metadata": {},
   "source": [
    "### mutation rate between samples with different GM ratios"
   ]
  },
  {
   "cell_type": "code",
   "execution_count": 1304,
   "id": "bbc02fc5-9e4b-42d8-9040-72fb023474c9",
   "metadata": {},
   "outputs": [],
   "source": [
    "library(ggplot2)"
   ]
  },
  {
   "cell_type": "code",
   "execution_count": 191,
   "id": "cf8e9b16-f8f0-4ddc-b534-f3def049df28",
   "metadata": {},
   "outputs": [],
   "source": [
    "# matMut <- read.table(\"onco_matrix_P0725.txt\", header = T, check.names = F, sep = \"\\t\")"
   ]
  },
  {
   "cell_type": "code",
   "execution_count": 1350,
   "id": "ea0bfdaf-83a5-4d85-9bee-83bf726b860b",
   "metadata": {},
   "outputs": [],
   "source": [
    "matMut = read.csv(\"./onco_matrix_105_patient.csv\",row.names = 1)\n",
    "matMut[,'GBC_002_P'] = ''"
   ]
  },
  {
   "cell_type": "code",
   "execution_count": 1352,
   "id": "1d2c7f80-b53c-4086-b98a-57178fe41f8f",
   "metadata": {},
   "outputs": [],
   "source": [
    "patient_intersect = intersect(colnames(matMut),rownames(sample_data))\n",
    "matMut = matMut[,patient_intersect]"
   ]
  },
  {
   "cell_type": "code",
   "execution_count": 1354,
   "id": "fe5f2a87-b343-4171-9c52-dc60ed28a824",
   "metadata": {},
   "outputs": [],
   "source": [
    "sample_data = read.csv(\"/home/wyh/scdata/combined_data/Epithelial//submit/figure_data/heatmap_GM_score.csv\",row.names = 1)\n",
    "sample_info =  data.frame(sample_name = colnames(matMut),row.names = colnames(matMut))"
   ]
  },
  {
   "cell_type": "code",
   "execution_count": 1322,
   "id": "f605d9c7-df30-4297-8c90-783b81ddd1b5",
   "metadata": {},
   "outputs": [],
   "source": [
    "# matMut <- read.table(\"onco_matrix_P0725.txt\", header = T, check.names = F, sep = \"\\t\")\n",
    "# matMut$GBC_032_P = \"\"\n",
    "matMut[matMut!=\"\"] = 1\n",
    "matMut[matMut==\"\"] = 0\n",
    "\n",
    "matMut_df = data.frame(matrix(ncol = 4, nrow = 0))\n",
    "colnames(matMut_df) = c(\"gene\",\"sample\",\"value\",\"metastasis.type\")\n",
    "iindex = 1\n",
    "for(i in 1:nrow(matMut)){\n",
    "  for(j in 1:ncol(matMut)){\n",
    "    matMut_df[iindex,] = c(rownames(matMut)[i],colnames(matMut)[j],matMut[i,j],as.character(patient_info[colnames(matMut)[j],\"metastasis.type\"]))\n",
    "    iindex = iindex + 1\n",
    "  }\n",
    "}\n",
    "patient_num = as.data.frame.array(table(patient_info[colnames(matMut),\"metastasis.type\"]))[,1]\n",
    "matMut_df = matMut_df[matMut_df$value==1,]"
   ]
  },
  {
   "cell_type": "code",
   "execution_count": 1358,
   "id": "2a95aa7c-f70d-4775-ae7b-932e4d1acac5",
   "metadata": {},
   "outputs": [],
   "source": [
    "matMut[matMut!=\"\"] = 1\n",
    "matMut[matMut==\"\"] = 0\n",
    "matMut$gene = rownames(matMut)\n",
    "matMut_df = melt(matMut,id.vars = \"gene\",variable.name = \"sample\")\n",
    "matMut_df['metastasis.type'] = patient_info[matMut_df[,\"sample\"],\"metastasis.type\"]"
   ]
  },
  {
   "cell_type": "code",
   "execution_count": 1369,
   "id": "676a471b-f3d7-43c0-b0f1-1f8571fd762b",
   "metadata": {},
   "outputs": [],
   "source": [
    "matMut_df = matMut_df[matMut_df$value==1,]"
   ]
  },
  {
   "cell_type": "code",
   "execution_count": 353,
   "id": "6d6ceee3-1ffb-43f2-9004-0e4cb0d28b41",
   "metadata": {},
   "outputs": [],
   "source": [
    "# Italics P \n",
    "# https://www.r-bloggers.com/2018/03/math-notation-for-r-plot-titles-expression-and-bquote/\\\n",
    "# https://www.statology.org/italics-in-r/"
   ]
  },
  {
   "cell_type": "code",
   "execution_count": 1370,
   "id": "7c172aa9-0f7d-4032-be4a-97d9b29db730",
   "metadata": {
    "tags": []
   },
   "outputs": [
    {
     "name": "stdout",
     "output_type": "stream",
     "text": [
      "[1] 0\n",
      "[1] 0\n",
      "[1] 0\n",
      "[1] 0\n",
      "[1] 0\n",
      "[1] 0\n",
      "[1] 1\n"
     ]
    }
   ],
   "source": [
    "for(iGM in c(1,3,5,6,7,8,16)){\n",
    "    sample_info['GM16_score'] = sample_data[sample_info$sample_name,paste0('score_GM',iGM)]\n",
    "    sample_info['GM16_ratio'] = ifelse(sample_info[,\"GM16_score\"] >= median(sample_info[,\"GM16_score\"]),'High','Low')\n",
    "    #sample_info['GM16_ratio'] = ifelse(sample_info[,\"GM16_score\"] >= quantile(sample_info[,\"GM16_score\"],2/3),'High','Median')\n",
    "    #sample_info[sample_info[,\"GM16_score\"] <= quantile(sample_info[,\"GM16_score\"],1/3),'GM16_ratio'] = 'Low'\n",
    "    patient_num = as.data.frame.array(table(sample_info$GM16_ratio))\n",
    "\n",
    "    matMut_df = matMut_df[matMut_df$value==1,]\n",
    "    matMut_df$GM16_ratio = sample_info[matMut_df$sample,\"GM16_ratio\"]\n",
    "    #matMut_df = matMut_df[matMut_df$GM16_ratio!=\"Median\",]\n",
    "    GM16_mutation = as.data.frame.array(table(matMut_df[,c(\"gene\",\"GM16_ratio\")]))\n",
    "    GM16_mutation$Low_ratio = round(GM16_mutation$Low/(patient_num[2,1]),3)\n",
    "    GM16_mutation$Low_ratio_text = paste0(GM16_mutation$Low,\"/\",patient_num[2,1])\n",
    "    GM16_mutation$High_ratio = round(GM16_mutation$High/patient_num[1,1],3)\n",
    "    GM16_mutation$High_ratio_text = paste0(GM16_mutation$High,\"/\",patient_num[1,1])\n",
    "\n",
    "    GM16_mutation$pvalue_greater = 0\n",
    "    GM16_mutation$pvalue_less = 0\n",
    "    GM16_mutation$pvalue = 0\n",
    "    # patient_num = as.data.frame.array(table(sample_info$GM16_ratio))\n",
    "    for(igene in rownames(GM16_mutation)){\n",
    "      gene_matrix = matrix(c(GM16_mutation[igene,1],GM16_mutation[igene,2],patient_num[1,1]-GM16_mutation[igene,1],patient_num[2,1]-GM16_mutation[igene,2]),nrow = 2,\n",
    "                           dimnames = list(c(\"High\",\"Low\"),c(\"mutate\",\"Non-mutate\")))\n",
    "      gene_matrix = t(gene_matrix)\n",
    "      GM16_mutation[igene,\"pvalue_greater\"] = round(fisher.test(gene_matrix,alternative = \"greater\")$p.value,3)\n",
    "      GM16_mutation[igene,\"pvalue_less\"] = round(fisher.test(gene_matrix,alternative = \"less\")$p.value,3)\n",
    "      GM16_mutation[igene,\"pvalue\"] = round(fisher.test(gene_matrix)$p.value,3)\n",
    "    }\n",
    "\n",
    "    gene_plot = rownames(GM16_mutation[order(GM16_mutation$pvalue),])[GM16_mutation[order(GM16_mutation$pvalue),]$pvalue<0.05]\n",
    "    print(length(gene_plot))\n",
    "    if(length(gene_plot)>0){\n",
    "     pdf(paste0(\"./figures/GM\",iGM,\"_mutation.pdf\"),height = 3.7,width = 2)\n",
    "    for(igene in gene_plot){\n",
    "        data_plot = data.frame(freq = t(GM16_mutation[igene,c('Low_ratio',\"High_ratio\")]),name = c(\"Low\",\"High\"))\n",
    "        data_plot$por = t(GM16_mutation[igene,c(\"Low_ratio_text\",\"High_ratio_text\")])\n",
    "        colnames(data_plot) = c(\"ratio\",\"name\",\"por_text\")\n",
    "        data_plot$name = factor(data_plot$name,levels = c(\"Low\",\"High\"))\n",
    "        p<-ggplot(data=data_plot, aes(x=name, y=ratio)) +\n",
    "        geom_bar(stat=\"identity\", fill=\"steelblue\")+\n",
    "        theme_minimal()+geom_text(aes(label=por_text), vjust=-0.3, size=3.5)+theme_classic()+\n",
    "        ggtitle(igene,subtitle = paste('P' , \"= \", GM16_mutation[igene,\"pvalue\"]))+xlab(paste0(\"GM\",iGM,\"_score\"))+ylab(\"Mutational Frequency\")+\n",
    "        theme(plot.title = element_text(hjust = 0.5))\n",
    "    print(p)\n",
    "    }\n",
    "    dev.off()   \n",
    "    }\n",
    "  \n",
    "}"
   ]
  },
  {
   "cell_type": "code",
   "execution_count": 1378,
   "id": "5b4cd50f-ba36-4954-8141-83e1f5276aff",
   "metadata": {},
   "outputs": [],
   "source": [
    "sample_wes = read.csv(\"./summary/wes_info.csv\",row.names = 1)"
   ]
  },
  {
   "cell_type": "code",
   "execution_count": 1379,
   "id": "d58f422f-379e-438f-b375-22c0d984c589",
   "metadata": {},
   "outputs": [],
   "source": [
    "sample_data = read.csv(\"/home/wyh/scdata/combined_data/Epithelial/submit/figure_data/heatmap_GM_score.csv\",row.names = 1)"
   ]
  },
  {
   "cell_type": "code",
   "execution_count": 1380,
   "id": "9e3adb91-0bad-4815-87a6-9f274fc6781e",
   "metadata": {},
   "outputs": [],
   "source": [
    "common_patient = intersect(rownames(sample_data),rownames(sample_wes))"
   ]
  },
  {
   "cell_type": "code",
   "execution_count": 1381,
   "id": "2d6e8179-7ef1-4a20-84a9-5840f6e99f26",
   "metadata": {
    "tags": []
   },
   "outputs": [],
   "source": [
    "sample_info =  data.frame(sample_name = rownames(sample_data),row.names = rownames(sample_data))\n",
    "\n",
    "sample_info['GM16_score'] = sample_data[sample_info$sample_name,'score_GM16']\n",
    "sample_info = sample_info[common_patient,]\n",
    "# sample_info['GM16_ratio'] = ifelse(sample_info[,\"GM16_score\"] >= median(sample_info[,\"GM16_score\"]),'High','Low')"
   ]
  },
  {
   "cell_type": "code",
   "execution_count": 1382,
   "id": "935f35b6-55ac-4570-92d7-e5d692224fdb",
   "metadata": {},
   "outputs": [],
   "source": [
    "sample_info$TMB = sample_wes[rownames(sample_info),\"TMB\"]\n",
    "sample_info$metastasis.type = patient_info[rownames(sample_info),\"metastasis.type\"]\n",
    "sample_info$progression.type.short = patient_info[rownames(sample_info),\"progression.type.short\"]"
   ]
  },
  {
   "cell_type": "code",
   "execution_count": 1383,
   "id": "ba7716b7-75b5-4a73-8aa4-2a74c84c4840",
   "metadata": {},
   "outputs": [],
   "source": [
    "sample_info$metastasis.type[sample_info$metastasis.type==\"P_LI\"] = \"P\"\n",
    "sample_info$metastasis.type[sample_info$metastasis.type %in% c(\"P_LN\",\"P_LM\")] = \"P_Metas\""
   ]
  },
  {
   "cell_type": "code",
   "execution_count": null,
   "id": "49df38a5-a6b7-41ad-88f7-2edabc46c105",
   "metadata": {},
   "outputs": [
    {
     "name": "stderr",
     "output_type": "stream",
     "text": [
      "Warning message in wilcox.test.default(c(0.66, 0.06, 0.4, 0.4, 3.28, 0.32, 0.38, :\n",
      "“cannot compute exact p-value with ties”\n"
     ]
    },
    {
     "data": {
      "image/png": "[encoded data removed]",
      "text/plain": [
       "plot without title"
      ]
     },
     "metadata": {
      "image/png": {
       "height": 360,
       "width": 600
      }
     },
     "output_type": "display_data"
    }
   ],
   "source": [
    "text_size = 20\n",
    "ggplot(sample_info,aes(x = metastasis.type,y = TMB))+geom_boxplot()+ stat_compare_means(comparisons = list(\n",
    "  c(\"P\",'P_Metas')\n",
    "),method = \"wilcox.test\",bracket.size = 1,size = 6)+ggtitle(\"TMB\")+geom_jitter(width=0.2)+\n",
    "  theme(panel.grid.major = element_blank(),panel.grid.minor = element_blank(),panel.background = element_blank(), \n",
    "                                               axis.line = element_line(colour = \"black\"),\n",
    "                                               legend.position = \"none\",\n",
    "                                               axis.text.x = element_text(color=\"black\", size=text_size),\n",
    "                                               axis.text.y = element_text(color=\"black\", size=text_size),\n",
    "                                               axis.title=element_text(size=text_size),\n",
    "                                               legend.text=element_text(size=text_size),\n",
    "                                               legend.title=element_text(size=text_size),\n",
    "                                               plot.title =element_text(hjust = 0.5, size = 20))"
   ]
  },
  {
   "cell_type": "code",
   "execution_count": null,
   "id": "f157c921-e663-4a61-b565-497fa85c2d6b",
   "metadata": {
    "tags": []
   },
   "outputs": [
    {
     "data": {
      "image/png": "[encoded data removed]",
      "text/plain": [
       "plot without title"
      ]
     },
     "metadata": {
      "image/png": {
       "height": 360,
       "width": 600
      }
     },
     "output_type": "display_data"
    }
   ],
   "source": [
    "text_size = 20\n",
    "ggplot(sample_info,aes(x = progression.type.short,y = TMB))+geom_boxplot()+ stat_compare_means()+ggtitle(\"TMB\")+geom_jitter(width=0.2)+\n",
    "  theme(panel.grid.major = element_blank(),panel.grid.minor = element_blank(),panel.background = element_blank(), \n",
    "                                               axis.line = element_line(colour = \"black\"),\n",
    "                                               legend.position = \"none\",\n",
    "                                               axis.text.x = element_text(color=\"black\", size=text_size),\n",
    "                                               axis.text.y = element_text(color=\"black\", size=text_size),\n",
    "                                               axis.title=element_text(size=text_size),\n",
    "                                               legend.text=element_text(size=text_size),\n",
    "                                               legend.title=element_text(size=text_size),\n",
    "                                               plot.title =element_text(hjust = 0.5, size = 20))"
   ]
  }
 ],
 "metadata": {
  "kernelspec": {
   "display_name": "cnmf_env_R-4.0.3",
   "language": "R",
   "name": "ir403"
  },
  "language_info": {
   "codemirror_mode": "r",
   "file_extension": ".r",
   "mimetype": "text/x-r-source",
   "name": "R",
   "pygments_lexer": "r",
   "version": "4.0.3"
  }
 },
 "nbformat": 4,
 "nbformat_minor": 5
}
